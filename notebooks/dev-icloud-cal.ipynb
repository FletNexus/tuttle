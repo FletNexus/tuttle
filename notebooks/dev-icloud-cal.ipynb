{
 "cells": [
  {
   "cell_type": "markdown",
   "id": "12c3c3bb-01dc-4f1a-88f6-efe4c5893474",
   "metadata": {},
   "source": [
    "# Dev: iCloud Calendar Connection"
   ]
  },
  {
   "cell_type": "markdown",
   "id": "3d56b654-e80d-4a0f-b955-9a49541355db",
   "metadata": {},
   "source": [
    "## Preamble"
   ]
  },
  {
   "cell_type": "code",
   "execution_count": 1,
   "id": "f4c51323-8e78-422b-bc24-6e699e665512",
   "metadata": {},
   "outputs": [],
   "source": [
    "%load_ext autoreload\n",
    "%autoreload 2"
   ]
  },
  {
   "cell_type": "code",
   "execution_count": 2,
   "id": "5954f6c1-4cc3-4249-96e5-23a9a3e0a184",
   "metadata": {},
   "outputs": [],
   "source": [
    "import pyicloud\n",
    "import ipywidgets as widgets\n",
    "import getpass\n",
    "import pandas\n",
    "import datetime"
   ]
  },
  {
   "cell_type": "code",
   "execution_count": 3,
   "id": "be39e69f-9d6c-4017-aeb4-750b42a37b3b",
   "metadata": {},
   "outputs": [],
   "source": [
    "pandas.set_option(\"display.max_columns\", None)"
   ]
  },
  {
   "cell_type": "markdown",
   "id": "47c80797-42af-4833-86f1-d0cc95bca139",
   "metadata": {},
   "source": [
    "## Workflow"
   ]
  },
  {
   "cell_type": "code",
   "execution_count": 4,
   "id": "13f2a029-39e7-46cc-b7cd-dc3d97bb269e",
   "metadata": {},
   "outputs": [
    {
     "ename": "KeyboardInterrupt",
     "evalue": "Interrupted by user",
     "output_type": "error",
     "traceback": [
      "\u001b[0;31m---------------------------------------------------------------------------\u001b[0m",
      "\u001b[0;31mKeyboardInterrupt\u001b[0m                         Traceback (most recent call last)",
      "\u001b[0;32m/var/folders/pl/9s2ysv_92pn6_2w7j2t40mh00000gn/T/ipykernel_45435/1511738191.py\u001b[0m in \u001b[0;36m<module>\u001b[0;34m\u001b[0m\n\u001b[0;32m----> 1\u001b[0;31m \u001b[0muser_name\u001b[0m \u001b[0;34m=\u001b[0m \u001b[0mgetpass\u001b[0m\u001b[0;34m.\u001b[0m\u001b[0mgetpass\u001b[0m\u001b[0;34m(\u001b[0m\u001b[0mprompt\u001b[0m\u001b[0;34m=\u001b[0m\u001b[0;34m\"iCloud user: \"\u001b[0m\u001b[0;34m)\u001b[0m\u001b[0;34m\u001b[0m\u001b[0;34m\u001b[0m\u001b[0m\n\u001b[0m",
      "\u001b[0;32m~/miniforge3/envs/tuttle/lib/python3.9/site-packages/ipykernel/kernelbase.py\u001b[0m in \u001b[0;36mgetpass\u001b[0;34m(self, prompt, stream)\u001b[0m\n\u001b[1;32m    987\u001b[0m                 \u001b[0mstacklevel\u001b[0m\u001b[0;34m=\u001b[0m\u001b[0;36m2\u001b[0m\u001b[0;34m,\u001b[0m\u001b[0;34m\u001b[0m\u001b[0;34m\u001b[0m\u001b[0m\n\u001b[1;32m    988\u001b[0m             )\n\u001b[0;32m--> 989\u001b[0;31m         return self._input_request(\n\u001b[0m\u001b[1;32m    990\u001b[0m             \u001b[0mprompt\u001b[0m\u001b[0;34m,\u001b[0m\u001b[0;34m\u001b[0m\u001b[0;34m\u001b[0m\u001b[0m\n\u001b[1;32m    991\u001b[0m             \u001b[0mself\u001b[0m\u001b[0;34m.\u001b[0m\u001b[0m_parent_ident\u001b[0m\u001b[0;34m[\u001b[0m\u001b[0;34m\"shell\"\u001b[0m\u001b[0;34m]\u001b[0m\u001b[0;34m,\u001b[0m\u001b[0;34m\u001b[0m\u001b[0;34m\u001b[0m\u001b[0m\n",
      "\u001b[0;32m~/miniforge3/envs/tuttle/lib/python3.9/site-packages/ipykernel/kernelbase.py\u001b[0m in \u001b[0;36m_input_request\u001b[0;34m(self, prompt, ident, parent, password)\u001b[0m\n\u001b[1;32m   1050\u001b[0m             \u001b[0;32mexcept\u001b[0m \u001b[0mKeyboardInterrupt\u001b[0m\u001b[0;34m:\u001b[0m\u001b[0;34m\u001b[0m\u001b[0;34m\u001b[0m\u001b[0m\n\u001b[1;32m   1051\u001b[0m                 \u001b[0;31m# re-raise KeyboardInterrupt, to truncate traceback\u001b[0m\u001b[0;34m\u001b[0m\u001b[0;34m\u001b[0m\u001b[0m\n\u001b[0;32m-> 1052\u001b[0;31m                 \u001b[0;32mraise\u001b[0m \u001b[0mKeyboardInterrupt\u001b[0m\u001b[0;34m(\u001b[0m\u001b[0;34m\"Interrupted by user\"\u001b[0m\u001b[0;34m)\u001b[0m \u001b[0;32mfrom\u001b[0m \u001b[0;32mNone\u001b[0m\u001b[0;34m\u001b[0m\u001b[0;34m\u001b[0m\u001b[0m\n\u001b[0m\u001b[1;32m   1053\u001b[0m             \u001b[0;32mexcept\u001b[0m \u001b[0mException\u001b[0m\u001b[0;34m:\u001b[0m\u001b[0;34m\u001b[0m\u001b[0;34m\u001b[0m\u001b[0m\n\u001b[1;32m   1054\u001b[0m                 \u001b[0mself\u001b[0m\u001b[0;34m.\u001b[0m\u001b[0mlog\u001b[0m\u001b[0;34m.\u001b[0m\u001b[0mwarning\u001b[0m\u001b[0;34m(\u001b[0m\u001b[0;34m\"Invalid Message:\"\u001b[0m\u001b[0;34m,\u001b[0m \u001b[0mexc_info\u001b[0m\u001b[0;34m=\u001b[0m\u001b[0;32mTrue\u001b[0m\u001b[0;34m)\u001b[0m\u001b[0;34m\u001b[0m\u001b[0;34m\u001b[0m\u001b[0m\n",
      "\u001b[0;31mKeyboardInterrupt\u001b[0m: Interrupted by user"
     ]
    }
   ],
   "source": [
    "user_name = getpass.getpass(prompt=\"iCloud user: \")"
   ]
  },
  {
   "cell_type": "code",
   "execution_count": null,
   "id": "3bab5159-71d3-4e31-aa26-4dc21bf26b68",
   "metadata": {},
   "outputs": [],
   "source": [
    "password = getpass.getpass(prompt=\"iCloud password: \")"
   ]
  },
  {
   "cell_type": "code",
   "execution_count": null,
   "id": "d07ddf5f-4b97-4bca-a8ed-accd2dedad48",
   "metadata": {},
   "outputs": [],
   "source": [
    "icloud = pyicloud.PyiCloudService(user_name, password)"
   ]
  },
  {
   "cell_type": "code",
   "execution_count": null,
   "id": "2dae8319-38b1-49f4-b938-b99c33c41428",
   "metadata": {},
   "outputs": [],
   "source": [
    "if not icloud.is_trusted_session:\n",
    "    result = icloud.validate_2fa_code(getpass.getpass(prompt=\"verification code: \"))"
   ]
  },
  {
   "cell_type": "code",
   "execution_count": null,
   "id": "9cb495a7-aeb2-463b-81ab-319671b9164e",
   "metadata": {},
   "outputs": [],
   "source": [
    "icloud.is_trusted_session"
   ]
  },
  {
   "cell_type": "code",
   "execution_count": null,
   "id": "a34d1dad-9c42-4021-9f21-8b3b2b3c7e78",
   "metadata": {},
   "outputs": [],
   "source": [
    "icloud.requires_2sa"
   ]
  },
  {
   "cell_type": "code",
   "execution_count": null,
   "id": "9dfd96a1-ab69-49cf-959a-781740fcba4e",
   "metadata": {},
   "outputs": [],
   "source": [
    "icloud.requires_2fa"
   ]
  },
  {
   "cell_type": "markdown",
   "id": "e4d57914-d646-47ad-ad9e-784d0eedad33",
   "metadata": {},
   "source": [
    "## Test"
   ]
  },
  {
   "cell_type": "code",
   "execution_count": null,
   "id": "c9e81f80-7525-4d76-8561-5f6fb07f64e6",
   "metadata": {},
   "outputs": [],
   "source": [
    "events = icloud.calendar.events(\n",
    "    from_dt=datetime.date(2021,1,1), \n",
    "    to_dt=datetime.date(2021,12,31),\n",
    ")"
   ]
  },
  {
   "cell_type": "code",
   "execution_count": null,
   "id": "a151ef1e-a821-4804-83b0-3f8880248f93",
   "metadata": {},
   "outputs": [],
   "source": [
    "events[:10]"
   ]
  },
  {
   "cell_type": "code",
   "execution_count": null,
   "id": "a03f949f-5a7f-48bc-8a9d-cdf9383200e6",
   "metadata": {},
   "outputs": [],
   "source": [
    "calendars = icloud.calendar.calendars()"
   ]
  },
  {
   "cell_type": "code",
   "execution_count": null,
   "id": "929b0e68-77ff-4483-b05e-d7617779f2b6",
   "metadata": {},
   "outputs": [],
   "source": [
    "calendars_df = pandas.DataFrame(calendars)\n",
    "calendars_df"
   ]
  },
  {
   "cell_type": "code",
   "execution_count": null,
   "id": "93e38ff7-60fb-467b-a37e-8c2571367fdb",
   "metadata": {},
   "outputs": [],
   "source": []
  },
  {
   "cell_type": "code",
   "execution_count": null,
   "id": "6019a562-4dc8-494c-be45-335457026e88",
   "metadata": {},
   "outputs": [],
   "source": [
    "cal_to_guid = dict((cal_name, guid) for (cal_name, guid) in zip(calendars_df[\"title\"], calendars_df[\"guid\"]))"
   ]
  },
  {
   "cell_type": "code",
   "execution_count": null,
   "id": "99c77637-9dbf-4e4b-8713-8a5d10cb1d5f",
   "metadata": {},
   "outputs": [],
   "source": [
    "cal_to_guid "
   ]
  },
  {
   "cell_type": "code",
   "execution_count": null,
   "id": "8812a1c6-0300-4b62-8a9e-ff69d57c2ac4",
   "metadata": {},
   "outputs": [],
   "source": [
    "events_df = pandas.DataFrame(events)\n",
    "events_df"
   ]
  },
  {
   "cell_type": "code",
   "execution_count": null,
   "id": "09fe98db-89d5-459a-8bf0-66503e0064b5",
   "metadata": {},
   "outputs": [],
   "source": [
    "events_df[events_df[\"pGuid\"] == cal_to_guid[\"TimeTracking\"]]"
   ]
  },
  {
   "cell_type": "code",
   "execution_count": null,
   "id": "9ceceb84-017d-4098-a5bf-8cd7b4762ff8",
   "metadata": {},
   "outputs": [],
   "source": [
    "events_df[events_df[\"pGuid\"] == cal_to_guid[\"Point 8 Trainings\"]]"
   ]
  },
  {
   "cell_type": "code",
   "execution_count": null,
   "id": "ea94253d-56b3-41f3-9ebc-1ab6120eaa43",
   "metadata": {},
   "outputs": [],
   "source": [
    "events_df[\"pGuid\"].unique()"
   ]
  },
  {
   "cell_type": "code",
   "execution_count": null,
   "id": "63617aee-6fba-4947-8ea6-bee7a0b99a5f",
   "metadata": {},
   "outputs": [],
   "source": [
    "calendars_df"
   ]
  },
  {
   "cell_type": "code",
   "execution_count": null,
   "id": "ffbda04a-056f-462a-ac98-39e80ef186c5",
   "metadata": {},
   "outputs": [],
   "source": [
    "events = icloud.calendar.events(\n",
    "    from_dt=datetime.datetime(1,1,1),\n",
    "    to_dt=datetime.date.today()\n",
    ")"
   ]
  },
  {
   "cell_type": "code",
   "execution_count": null,
   "id": "6c7bb5a9-ed0b-4094-98da-ba347949baa7",
   "metadata": {},
   "outputs": [],
   "source": [
    "len(events)"
   ]
  },
  {
   "cell_type": "markdown",
   "id": "7bac2be9-63b6-4d7a-bad8-350a52e81690",
   "metadata": {},
   "source": [
    "## Test tuttle.calendar.CloudCalendar"
   ]
  },
  {
   "cell_type": "code",
   "execution_count": null,
   "id": "94832575-d216-4f1c-ae93-cde8014db81d",
   "metadata": {},
   "outputs": [],
   "source": [
    "from tuttle import calendar"
   ]
  },
  {
   "cell_type": "code",
   "execution_count": null,
   "id": "53dbf73b-35dc-4c04-a67e-59c7e7c3596b",
   "metadata": {},
   "outputs": [],
   "source": [
    "cloud_cal = calendar.CloudCalendar(\n",
    "    icloud=icloud,\n",
    "    name=\"TimeTracking\"\n",
    ")"
   ]
  },
  {
   "cell_type": "code",
   "execution_count": null,
   "id": "78a629d7-3ad7-473b-bac8-ee8715fb3591",
   "metadata": {},
   "outputs": [],
   "source": [
    "event_data = cloud_cal.to_data()\n",
    "event_data"
   ]
  },
  {
   "cell_type": "code",
   "execution_count": null,
   "id": "18400f69-28cd-40c9-bf79-49f58adaaf25",
   "metadata": {},
   "outputs": [],
   "source": [
    "cloud_cal.guid"
   ]
  },
  {
   "cell_type": "code",
   "execution_count": null,
   "id": "5e957416-0351-489b-b9b1-fe6c76f915ac",
   "metadata": {},
   "outputs": [],
   "source": []
  },
  {
   "cell_type": "code",
   "execution_count": null,
   "id": "86ff0e25-2927-44f2-92f7-6530c6c0a09c",
   "metadata": {},
   "outputs": [],
   "source": []
  }
 ],
 "metadata": {
  "kernelspec": {
   "display_name": "tuttle",
   "language": "python",
   "name": "ex"
  },
  "language_info": {
   "codemirror_mode": {
    "name": "ipython",
    "version": 3
   },
   "file_extension": ".py",
   "mimetype": "text/x-python",
   "name": "python",
   "nbconvert_exporter": "python",
   "pygments_lexer": "ipython3",
   "version": "3.9.7"
  }
 },
 "nbformat": 4,
 "nbformat_minor": 5
}
