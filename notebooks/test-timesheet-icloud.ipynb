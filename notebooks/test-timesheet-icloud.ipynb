{
 "cells": [
  {
   "cell_type": "markdown",
   "id": "f0e242b8-31e7-48ee-83cc-07e9e4a38808",
   "metadata": {},
   "source": [
    "# Test: Timesheet from iCloud"
   ]
  },
  {
   "cell_type": "markdown",
   "id": "d052f71d-b238-4012-b0fb-335077d5786b",
   "metadata": {},
   "source": [
    "## Preamble"
   ]
  },
  {
   "cell_type": "code",
   "execution_count": 1,
   "id": "e9ec1bc5-83f7-43b5-aa16-b7641a70a825",
   "metadata": {},
   "outputs": [],
   "source": [
    "%load_ext autoreload\n",
    "%autoreload 2"
   ]
  },
  {
   "cell_type": "code",
   "execution_count": 2,
   "id": "ad3a7e3e-a757-4379-b0d4-6f511109a2f8",
   "metadata": {},
   "outputs": [],
   "source": [
    "from tuttle import cloud"
   ]
  },
  {
   "cell_type": "code",
   "execution_count": 3,
   "id": "2d4ea7db-13fd-4c2e-bdb6-7d89883edc3f",
   "metadata": {},
   "outputs": [],
   "source": [
    "from tuttle import calendar"
   ]
  },
  {
   "cell_type": "code",
   "execution_count": 4,
   "id": "1ccf1148-224a-42f4-83d6-51b3a10f9638",
   "metadata": {},
   "outputs": [],
   "source": [
    "from tuttle import timetracking"
   ]
  },
  {
   "cell_type": "markdown",
   "id": "114d58a1-4fc5-4efd-a91b-f7819bbeb748",
   "metadata": {},
   "source": [
    "## Workflow"
   ]
  },
  {
   "cell_type": "code",
   "execution_count": 5,
   "id": "35e12cb6-5006-46dc-ac0c-47fe3349d727",
   "metadata": {},
   "outputs": [
    {
     "name": "stdin",
     "output_type": "stream",
     "text": [
      "iCloud user:  ················\n",
      "iCloud password:  ········\n"
     ]
    }
   ],
   "source": [
    "iCloud = cloud.login_iCloud()"
   ]
  },
  {
   "cell_type": "code",
   "execution_count": 6,
   "id": "6329fd28-d124-40c2-884c-d122aa99020a",
   "metadata": {},
   "outputs": [
    {
     "name": "stderr",
     "output_type": "stream",
     "text": [
      "/Users/cls/miniforge3/envs/tuttle/lib/python3.9/site-packages/pyicloud/services/calendar.py:81: PytzUsageWarning: The zone attribute is specific to pytz's interface; please migrate to a new time zone provider. For more details on how to do so, see https://pytz-deprecation-shim.readthedocs.io/en/latest/migration.html\n",
      "  \"usertz\": get_localzone().zone,\n"
     ]
    }
   ],
   "source": [
    "time_tracking_cal = calendar.CloudCalendar(\n",
    "    name=\"TimeTracking\",\n",
    "    icloud=iCloud\n",
    ")"
   ]
  },
  {
   "cell_type": "code",
   "execution_count": 7,
   "id": "02299bfb-124e-48d5-a435-176c28c300ef",
   "metadata": {},
   "outputs": [
    {
     "name": "stderr",
     "output_type": "stream",
     "text": [
      "/Users/cls/miniforge3/envs/tuttle/lib/python3.9/site-packages/pyicloud/services/calendar.py:53: PytzUsageWarning: The zone attribute is specific to pytz's interface; please migrate to a new time zone provider. For more details on how to do so, see https://pytz-deprecation-shim.readthedocs.io/en/latest/migration.html\n",
      "  \"usertz\": get_localzone().zone,\n"
     ]
    },
    {
     "data": {
      "text/html": [
       "<div>\n",
       "<style scoped>\n",
       "    .dataframe tbody tr th:only-of-type {\n",
       "        vertical-align: middle;\n",
       "    }\n",
       "\n",
       "    .dataframe tbody tr th {\n",
       "        vertical-align: top;\n",
       "    }\n",
       "\n",
       "    .dataframe thead th {\n",
       "        text-align: right;\n",
       "    }\n",
       "</style>\n",
       "<table border=\"1\" class=\"dataframe\">\n",
       "  <thead>\n",
       "    <tr style=\"text-align: right;\">\n",
       "      <th></th>\n",
       "      <th>hours</th>\n",
       "      <th>comment</th>\n",
       "    </tr>\n",
       "    <tr>\n",
       "      <th>date</th>\n",
       "      <th></th>\n",
       "      <th></th>\n",
       "    </tr>\n",
       "  </thead>\n",
       "  <tbody>\n",
       "    <tr>\n",
       "      <th>2022-01-03</th>\n",
       "      <td>3</td>\n",
       "      <td>yay</td>\n",
       "    </tr>\n",
       "    <tr>\n",
       "      <th>2022-01-04</th>\n",
       "      <td>5</td>\n",
       "      <td>yay</td>\n",
       "    </tr>\n",
       "  </tbody>\n",
       "</table>\n",
       "</div>"
      ],
      "text/plain": [
       "            hours comment\n",
       "date                     \n",
       "2022-01-03      3     yay\n",
       "2022-01-04      5     yay"
      ]
     },
     "execution_count": 7,
     "metadata": {},
     "output_type": "execute_result"
    }
   ],
   "source": [
    "timetracking.generate_timesheet(\n",
    "    time_tracking_cal,\n",
    "    period=\"Jan 2022\",\n",
    "    client=\"Prototype Fund\",\n",
    "    comment=\"yay\"\n",
    ")"
   ]
  },
  {
   "cell_type": "code",
   "execution_count": null,
   "id": "f4b4adb8-1561-4bd3-ba35-6b5c7203516a",
   "metadata": {},
   "outputs": [],
   "source": []
  }
 ],
 "metadata": {
  "kernelspec": {
   "display_name": "tuttle",
   "language": "python",
   "name": "ex"
  },
  "language_info": {
   "codemirror_mode": {
    "name": "ipython",
    "version": 3
   },
   "file_extension": ".py",
   "mimetype": "text/x-python",
   "name": "python",
   "nbconvert_exporter": "python",
   "pygments_lexer": "ipython3",
   "version": "3.9.7"
  }
 },
 "nbformat": 4,
 "nbformat_minor": 5
}
