{
 "cells": [
  {
   "cell_type": "markdown",
   "id": "34e7af00-cf40-44c8-a278-5d04eb53e3a4",
   "metadata": {},
   "source": [
    "# Dev: Model to Form"
   ]
  },
  {
   "cell_type": "markdown",
   "id": "e22f46bb-66b6-4402-83d1-2b0edc7b15aa",
   "metadata": {},
   "source": [
    "## Preamble"
   ]
  },
  {
   "cell_type": "code",
   "execution_count": 1,
   "id": "ae7ee3d7-fdaa-4b83-b154-e04fd1bf24d2",
   "metadata": {},
   "outputs": [],
   "source": [
    "import ipywidgets as widgets"
   ]
  },
  {
   "cell_type": "code",
   "execution_count": 2,
   "id": "5143da1d-8c21-4b5d-b895-e3713d7734e7",
   "metadata": {},
   "outputs": [],
   "source": [
    "from pathlib import Path\n",
    "from typing import Type"
   ]
  },
  {
   "cell_type": "code",
   "execution_count": 3,
   "id": "53454f66-8299-4fa4-b3d9-06abf0996e4f",
   "metadata": {},
   "outputs": [],
   "source": [
    "import sqlmodel"
   ]
  },
  {
   "cell_type": "code",
   "execution_count": 4,
   "id": "6b3b1e45-b493-4b3d-8c9b-01fa01c8ccb8",
   "metadata": {},
   "outputs": [],
   "source": [
    "import tuttle"
   ]
  },
  {
   "cell_type": "code",
   "execution_count": 5,
   "id": "d2c5ed9d-1226-4d79-9c74-7a9ef861bc67",
   "metadata": {},
   "outputs": [],
   "source": [
    "from tuttle import model"
   ]
  },
  {
   "cell_type": "code",
   "execution_count": 6,
   "id": "c044796e-2634-42fd-b59a-70173a9f6002",
   "metadata": {},
   "outputs": [],
   "source": [
    "import collections"
   ]
  },
  {
   "cell_type": "code",
   "execution_count": 7,
   "id": "008460d1-23c0-45fd-947e-2b97d4e33121",
   "metadata": {},
   "outputs": [],
   "source": [
    "import beepy"
   ]
  },
  {
   "cell_type": "markdown",
   "id": "8d4e7652-99d7-4404-8582-2be7fee1f222",
   "metadata": {},
   "source": [
    "## Setup"
   ]
  },
  {
   "cell_type": "code",
   "execution_count": 8,
   "id": "6b545c1c-c2b0-45f0-9d1e-d24a32a3ac1e",
   "metadata": {},
   "outputs": [
    {
     "name": "stdout",
     "output_type": "stream",
     "text": [
      "2022-01-04 12:17:59,731 INFO sqlalchemy.engine.Engine BEGIN (implicit)\n",
      "2022-01-04 12:17:59,732 INFO sqlalchemy.engine.Engine PRAGMA main.table_info(\"user\")\n",
      "2022-01-04 12:17:59,732 INFO sqlalchemy.engine.Engine [raw sql] ()\n",
      "2022-01-04 12:17:59,733 INFO sqlalchemy.engine.Engine PRAGMA main.table_info(\"bankaccount\")\n",
      "2022-01-04 12:17:59,733 INFO sqlalchemy.engine.Engine [raw sql] ()\n",
      "2022-01-04 12:17:59,733 INFO sqlalchemy.engine.Engine PRAGMA main.table_info(\"contact\")\n",
      "2022-01-04 12:17:59,733 INFO sqlalchemy.engine.Engine [raw sql] ()\n",
      "2022-01-04 12:17:59,734 INFO sqlalchemy.engine.Engine PRAGMA main.table_info(\"contract\")\n",
      "2022-01-04 12:17:59,734 INFO sqlalchemy.engine.Engine [raw sql] ()\n",
      "2022-01-04 12:17:59,734 INFO sqlalchemy.engine.Engine PRAGMA main.table_info(\"project\")\n",
      "2022-01-04 12:17:59,734 INFO sqlalchemy.engine.Engine [raw sql] ()\n",
      "2022-01-04 12:17:59,735 INFO sqlalchemy.engine.Engine PRAGMA main.table_info(\"timesheet\")\n",
      "2022-01-04 12:17:59,735 INFO sqlalchemy.engine.Engine [raw sql] ()\n",
      "2022-01-04 12:17:59,735 INFO sqlalchemy.engine.Engine PRAGMA main.table_info(\"invoice\")\n",
      "2022-01-04 12:17:59,735 INFO sqlalchemy.engine.Engine [raw sql] ()\n",
      "2022-01-04 12:17:59,736 INFO sqlalchemy.engine.Engine PRAGMA main.table_info(\"payment\")\n",
      "2022-01-04 12:17:59,736 INFO sqlalchemy.engine.Engine [raw sql] ()\n",
      "2022-01-04 12:17:59,736 INFO sqlalchemy.engine.Engine COMMIT\n"
     ]
    }
   ],
   "source": [
    "test_home = Path(\"tmp\")\n",
    "db_path = test_home / \"tuttle_test.db\"\n",
    "db_url = f\"sqlite:///{db_path}\"\n",
    "db_engine = sqlmodel.create_engine(db_url, echo=True)\n",
    "sqlmodel.SQLModel.metadata.create_all(db_engine)"
   ]
  },
  {
   "cell_type": "markdown",
   "id": "040ee098-fe6e-4257-95e6-22731e23777e",
   "metadata": {},
   "source": [
    "## Workflows"
   ]
  },
  {
   "cell_type": "markdown",
   "id": "e3c538d2-3d1b-44ec-aa30-cedfe1975725",
   "metadata": {},
   "source": [
    "### Get User Name and E-Mail"
   ]
  },
  {
   "cell_type": "code",
   "execution_count": 9,
   "id": "f73427ac-7ed2-47cc-9a73-0a5286912f87",
   "metadata": {},
   "outputs": [
    {
     "data": {
      "text/plain": [
       "\u001b[0;31mInit signature:\u001b[0m \u001b[0mmodel\u001b[0m\u001b[0;34m.\u001b[0m\u001b[0mUser\u001b[0m\u001b[0;34m(\u001b[0m\u001b[0;34m*\u001b[0m\u001b[0;34m,\u001b[0m \u001b[0mid\u001b[0m\u001b[0;34m:\u001b[0m \u001b[0mint\u001b[0m \u001b[0;34m=\u001b[0m \u001b[0;32mNone\u001b[0m\u001b[0;34m,\u001b[0m \u001b[0mname\u001b[0m\u001b[0;34m:\u001b[0m \u001b[0mstr\u001b[0m\u001b[0;34m,\u001b[0m \u001b[0memail\u001b[0m\u001b[0;34m:\u001b[0m \u001b[0mpydantic\u001b[0m\u001b[0;34m.\u001b[0m\u001b[0mnetworks\u001b[0m\u001b[0;34m.\u001b[0m\u001b[0mEmailStr\u001b[0m\u001b[0;34m)\u001b[0m \u001b[0;34m->\u001b[0m \u001b[0;32mNone\u001b[0m\u001b[0;34m\u001b[0m\u001b[0;34m\u001b[0m\u001b[0m\n",
       "\u001b[0;31mFile:\u001b[0m           ~/Documents/Work/Projects/PrototypeFund/Dev/tuttle/tuttle/model.py\n",
       "\u001b[0;31mType:\u001b[0m           SQLModelMetaclass\n",
       "\u001b[0;31mSubclasses:\u001b[0m     \n"
      ]
     },
     "metadata": {},
     "output_type": "display_data"
    }
   ],
   "source": [
    "model.User?"
   ]
  },
  {
   "cell_type": "code",
   "execution_count": 10,
   "id": "a3b3cc43-7b5f-4cd3-81ac-2af2d959edfd",
   "metadata": {},
   "outputs": [
    {
     "data": {
      "text/plain": [
       "User(id=None, name='John Doe', email='john@doe.com')"
      ]
     },
     "execution_count": 10,
     "metadata": {},
     "output_type": "execute_result"
    }
   ],
   "source": [
    "model.User(\n",
    "    name=\"John Doe\",\n",
    "    email=\"john@doe.com\"\n",
    ")"
   ]
  },
  {
   "cell_type": "code",
   "execution_count": 11,
   "id": "daa98bc4-2a22-477c-b204-288b2111ae91",
   "metadata": {},
   "outputs": [
    {
     "data": {
      "text/plain": [
       "{'id': {'title': 'Id', 'type': 'integer'},\n",
       " 'name': {'title': 'Name', 'type': 'string'},\n",
       " 'email': {'title': 'Email', 'type': 'string', 'format': 'email'}}"
      ]
     },
     "execution_count": 11,
     "metadata": {},
     "output_type": "execute_result"
    }
   ],
   "source": [
    "model.User.schema()[\"properties\"]"
   ]
  },
  {
   "cell_type": "code",
   "execution_count": 12,
   "id": "eb84ee70-8ffa-41fd-9eeb-27a28f3bd73a",
   "metadata": {},
   "outputs": [],
   "source": [
    "def model_form(\n",
    "    model_class: Type[sqlmodel.SQLModel]\n",
    "):\n",
    "    properties = model_class.schema()[\"properties\"]\n",
    "    form_header = [\n",
    "        widgets.HTML(\n",
    "            value=f\"<b>Create {model_class.__name__}</b>\",\n",
    "        )\n",
    "    ]\n",
    "    form_elements = collections.OrderedDict()\n",
    "    for (prop_name, prop_meta) in properties.items():\n",
    "        if prop_name == \"id\":\n",
    "            # ignore id\n",
    "            pass\n",
    "        if prop_meta[\"type\"] == \"string\":\n",
    "            text_field = widgets.Text(\n",
    "                placeholder='...',\n",
    "                description=prop_meta[\"title\"],\n",
    "                disabled=False\n",
    "            )\n",
    "            form_elements[prop_name] = text_field\n",
    "    # assemble form\n",
    "\n",
    "    create_button = widgets.Button(\n",
    "        description='Create',\n",
    "        disabled=False,\n",
    "        button_style='success', # 'success', 'info', 'warning', 'danger' or ''\n",
    "        tooltip='Create model object',\n",
    "        icon=\"hammer\" # (FontAwesome names without the `fa-` prefix)\n",
    "    )\n",
    "    \n",
    "    def factory_function():\n",
    "        instance = model_class(\n",
    "            **dict(\n",
    "                (prop_name, form_elements[prop_name].value) \n",
    "                for prop_name in form_elements.keys()\n",
    "            )\n",
    "        )\n",
    "        beepy.beep()\n",
    "        return instance\n",
    "   \n",
    "\n",
    "    create_button.on_click(factory_function)\n",
    "    \n",
    "    form = widgets.VBox(\n",
    "        children=(\n",
    "            form_header\n",
    "            + list(form_elements.values())\n",
    "            + [create_button]\n",
    "        )\n",
    "    )\n",
    "    return form"
   ]
  },
  {
   "cell_type": "code",
   "execution_count": 13,
   "id": "dcb3a4d9-689c-4c74-84b9-b91c5c58d13f",
   "metadata": {},
   "outputs": [
    {
     "data": {
      "application/vnd.jupyter.widget-view+json": {
       "model_id": "0c521a0d022b4787bef7a688ab1c7be1",
       "version_major": 2,
       "version_minor": 0
      },
      "text/plain": [
       "VBox(children=(HTML(value='<b>Create BankAccount</b>'), Text(value='', description='Name', placeholder='...'),…"
      ]
     },
     "metadata": {},
     "output_type": "display_data"
    }
   ],
   "source": [
    "model_form(model.BankAccount)"
   ]
  },
  {
   "cell_type": "code",
   "execution_count": null,
   "id": "0d5c2406-2f04-4005-a440-a8a72da9f81e",
   "metadata": {},
   "outputs": [],
   "source": []
  }
 ],
 "metadata": {
  "kernelspec": {
   "display_name": "tuttle",
   "language": "python",
   "name": "ex"
  },
  "language_info": {
   "codemirror_mode": {
    "name": "ipython",
    "version": 3
   },
   "file_extension": ".py",
   "mimetype": "text/x-python",
   "name": "python",
   "nbconvert_exporter": "python",
   "pygments_lexer": "ipython3",
   "version": "3.9.7"
  }
 },
 "nbformat": 4,
 "nbformat_minor": 5
}
