{
 "cells": [
  {
   "cell_type": "markdown",
   "metadata": {},
   "source": [
    "# Dev: Invoice Number"
   ]
  },
  {
   "cell_type": "markdown",
   "metadata": {},
   "source": [
    "## Preamble"
   ]
  },
  {
   "cell_type": "code",
   "execution_count": 1,
   "metadata": {},
   "outputs": [],
   "source": [
    "import datetime"
   ]
  },
  {
   "cell_type": "code",
   "execution_count": 2,
   "metadata": {},
   "outputs": [
    {
     "name": "stdout",
     "output_type": "stream",
     "text": [
      "2022-01-20 15:28:30,803 INFO sqlalchemy.engine.Engine BEGIN (implicit)\n",
      "2022-01-20 15:28:30,804 INFO sqlalchemy.engine.Engine PRAGMA main.table_info(\"address\")\n",
      "2022-01-20 15:28:30,804 INFO sqlalchemy.engine.Engine [raw sql] ()\n",
      "2022-01-20 15:28:30,804 INFO sqlalchemy.engine.Engine PRAGMA main.table_info(\"user\")\n",
      "2022-01-20 15:28:30,805 INFO sqlalchemy.engine.Engine [raw sql] ()\n",
      "2022-01-20 15:28:30,805 INFO sqlalchemy.engine.Engine PRAGMA main.table_info(\"icloudaccount\")\n",
      "2022-01-20 15:28:30,805 INFO sqlalchemy.engine.Engine [raw sql] ()\n",
      "2022-01-20 15:28:30,805 INFO sqlalchemy.engine.Engine PRAGMA main.table_info(\"bank\")\n",
      "2022-01-20 15:28:30,806 INFO sqlalchemy.engine.Engine [raw sql] ()\n",
      "2022-01-20 15:28:30,806 INFO sqlalchemy.engine.Engine PRAGMA main.table_info(\"bankaccount\")\n",
      "2022-01-20 15:28:30,806 INFO sqlalchemy.engine.Engine [raw sql] ()\n",
      "2022-01-20 15:28:30,807 INFO sqlalchemy.engine.Engine PRAGMA main.table_info(\"contact\")\n",
      "2022-01-20 15:28:30,807 INFO sqlalchemy.engine.Engine [raw sql] ()\n",
      "2022-01-20 15:28:30,808 INFO sqlalchemy.engine.Engine PRAGMA main.table_info(\"client\")\n",
      "2022-01-20 15:28:30,808 INFO sqlalchemy.engine.Engine [raw sql] ()\n",
      "2022-01-20 15:28:30,808 INFO sqlalchemy.engine.Engine PRAGMA main.table_info(\"rate\")\n",
      "2022-01-20 15:28:30,808 INFO sqlalchemy.engine.Engine [raw sql] ()\n",
      "2022-01-20 15:28:30,809 INFO sqlalchemy.engine.Engine PRAGMA main.table_info(\"contract\")\n",
      "2022-01-20 15:28:30,809 INFO sqlalchemy.engine.Engine [raw sql] ()\n",
      "2022-01-20 15:28:30,809 INFO sqlalchemy.engine.Engine PRAGMA main.table_info(\"project\")\n",
      "2022-01-20 15:28:30,809 INFO sqlalchemy.engine.Engine [raw sql] ()\n",
      "2022-01-20 15:28:30,810 INFO sqlalchemy.engine.Engine PRAGMA main.table_info(\"timesheet\")\n",
      "2022-01-20 15:28:30,810 INFO sqlalchemy.engine.Engine [raw sql] ()\n",
      "2022-01-20 15:28:30,810 INFO sqlalchemy.engine.Engine PRAGMA main.table_info(\"invoice\")\n",
      "2022-01-20 15:28:30,810 INFO sqlalchemy.engine.Engine [raw sql] ()\n",
      "2022-01-20 15:28:30,811 INFO sqlalchemy.engine.Engine PRAGMA main.table_info(\"invoiceitem\")\n",
      "2022-01-20 15:28:30,811 INFO sqlalchemy.engine.Engine [raw sql] ()\n",
      "2022-01-20 15:28:30,811 INFO sqlalchemy.engine.Engine PRAGMA main.table_info(\"timelineitem\")\n",
      "2022-01-20 15:28:30,811 INFO sqlalchemy.engine.Engine [raw sql] ()\n",
      "2022-01-20 15:28:30,812 INFO sqlalchemy.engine.Engine COMMIT\n"
     ]
    }
   ],
   "source": [
    "from tuttle.model import Invoice"
   ]
  },
  {
   "cell_type": "code",
   "execution_count": 3,
   "metadata": {},
   "outputs": [],
   "source": [
    "the_invoice = Invoice(\n",
    "    date=datetime.date.today()\n",
    ")"
   ]
  },
  {
   "cell_type": "code",
   "execution_count": 16,
   "metadata": {},
   "outputs": [],
   "source": [
    "the_invoice.generate_number()"
   ]
  },
  {
   "cell_type": "code",
   "execution_count": 17,
   "metadata": {},
   "outputs": [
    {
     "data": {
      "text/plain": [
       "'2022-01-20-d974'"
      ]
     },
     "execution_count": 17,
     "metadata": {},
     "output_type": "execute_result"
    }
   ],
   "source": [
    "the_invoice.number"
   ]
  },
  {
   "cell_type": "markdown",
   "metadata": {},
   "source": []
  },
  {
   "cell_type": "code",
   "execution_count": null,
   "metadata": {},
   "outputs": [],
   "source": []
  },
  {
   "cell_type": "code",
   "execution_count": null,
   "metadata": {},
   "outputs": [],
   "source": []
  }
 ],
 "metadata": {
  "interpreter": {
   "hash": "1b2a14e316f8528313aca7083ad4a819e30957812d4a6b2b5fed00540ac717aa"
  },
  "kernelspec": {
   "display_name": "Python 3.9.7 64-bit ('tuttle': conda)",
   "language": "python",
   "name": "python3"
  },
  "language_info": {
   "codemirror_mode": {
    "name": "ipython",
    "version": 3
   },
   "file_extension": ".py",
   "mimetype": "text/x-python",
   "name": "python",
   "nbconvert_exporter": "python",
   "pygments_lexer": "ipython3",
   "version": "3.9.7"
  },
  "orig_nbformat": 4
 },
 "nbformat": 4,
 "nbformat_minor": 2
}
