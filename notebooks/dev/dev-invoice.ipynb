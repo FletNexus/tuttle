{
 "cells": [
  {
   "cell_type": "markdown",
   "id": "2c74e364-19ac-49de-ab58-d94beaca29c5",
   "metadata": {},
   "source": [
    "# Dev: Invoice"
   ]
  },
  {
   "cell_type": "markdown",
   "id": "585b771b-c36c-478a-ba51-d37fb838afcf",
   "metadata": {},
   "source": [
    "## Preamble"
   ]
  },
  {
   "cell_type": "code",
   "execution_count": 1,
   "id": "edaede19-cba3-40d4-8c03-cbd40ed3ffa8",
   "metadata": {},
   "outputs": [],
   "source": [
    "%load_ext autoreload\n",
    "%autoreload 2"
   ]
  },
  {
   "cell_type": "code",
   "execution_count": 2,
   "id": "61a129e8-f5b5-4bae-894a-dba3aa09f1fa",
   "metadata": {},
   "outputs": [],
   "source": [
    "import datetime"
   ]
  },
  {
   "cell_type": "markdown",
   "id": "e6dece89-1317-4bc7-b002-76e5679f997d",
   "metadata": {},
   "source": [
    "## Workflow"
   ]
  },
  {
   "cell_type": "code",
   "execution_count": 3,
   "id": "9720f472-3efe-4fa9-b1ca-0478e71b35f5",
   "metadata": {},
   "outputs": [
    {
     "name": "stdout",
     "output_type": "stream",
     "text": [
      "2022-01-18 21:43:26,740 INFO sqlalchemy.engine.Engine BEGIN (implicit)\n",
      "2022-01-18 21:43:26,741 INFO sqlalchemy.engine.Engine PRAGMA main.table_info(\"address\")\n",
      "2022-01-18 21:43:26,741 INFO sqlalchemy.engine.Engine [raw sql] ()\n",
      "2022-01-18 21:43:26,742 INFO sqlalchemy.engine.Engine PRAGMA main.table_info(\"user\")\n",
      "2022-01-18 21:43:26,742 INFO sqlalchemy.engine.Engine [raw sql] ()\n",
      "2022-01-18 21:43:26,742 INFO sqlalchemy.engine.Engine PRAGMA main.table_info(\"icloudaccount\")\n",
      "2022-01-18 21:43:26,742 INFO sqlalchemy.engine.Engine [raw sql] ()\n",
      "2022-01-18 21:43:26,743 INFO sqlalchemy.engine.Engine PRAGMA main.table_info(\"bank\")\n",
      "2022-01-18 21:43:26,743 INFO sqlalchemy.engine.Engine [raw sql] ()\n",
      "2022-01-18 21:43:26,744 INFO sqlalchemy.engine.Engine PRAGMA main.table_info(\"bankaccount\")\n",
      "2022-01-18 21:43:26,744 INFO sqlalchemy.engine.Engine [raw sql] ()\n",
      "2022-01-18 21:43:26,745 INFO sqlalchemy.engine.Engine PRAGMA main.table_info(\"contact\")\n",
      "2022-01-18 21:43:26,745 INFO sqlalchemy.engine.Engine [raw sql] ()\n",
      "2022-01-18 21:43:26,745 INFO sqlalchemy.engine.Engine PRAGMA main.table_info(\"client\")\n",
      "2022-01-18 21:43:26,746 INFO sqlalchemy.engine.Engine [raw sql] ()\n",
      "2022-01-18 21:43:26,746 INFO sqlalchemy.engine.Engine PRAGMA main.table_info(\"rate\")\n",
      "2022-01-18 21:43:26,746 INFO sqlalchemy.engine.Engine [raw sql] ()\n",
      "2022-01-18 21:43:26,747 INFO sqlalchemy.engine.Engine PRAGMA main.table_info(\"contract\")\n",
      "2022-01-18 21:43:26,747 INFO sqlalchemy.engine.Engine [raw sql] ()\n",
      "2022-01-18 21:43:26,748 INFO sqlalchemy.engine.Engine PRAGMA main.table_info(\"project\")\n",
      "2022-01-18 21:43:26,748 INFO sqlalchemy.engine.Engine [raw sql] ()\n",
      "2022-01-18 21:43:26,748 INFO sqlalchemy.engine.Engine PRAGMA main.table_info(\"timesheet\")\n",
      "2022-01-18 21:43:26,748 INFO sqlalchemy.engine.Engine [raw sql] ()\n",
      "2022-01-18 21:43:26,749 INFO sqlalchemy.engine.Engine PRAGMA main.table_info(\"invoice\")\n",
      "2022-01-18 21:43:26,749 INFO sqlalchemy.engine.Engine [raw sql] ()\n",
      "2022-01-18 21:43:26,749 INFO sqlalchemy.engine.Engine PRAGMA main.table_info(\"invoiceitem\")\n",
      "2022-01-18 21:43:26,750 INFO sqlalchemy.engine.Engine [raw sql] ()\n",
      "2022-01-18 21:43:26,750 INFO sqlalchemy.engine.Engine PRAGMA main.table_info(\"timelineitem\")\n",
      "2022-01-18 21:43:26,750 INFO sqlalchemy.engine.Engine [raw sql] ()\n",
      "2022-01-18 21:43:26,751 INFO sqlalchemy.engine.Engine COMMIT\n"
     ]
    }
   ],
   "source": [
    "from tuttle.model import Invoice, InvoiceItem"
   ]
  },
  {
   "cell_type": "code",
   "execution_count": 4,
   "id": "31e1e159-6a53-406f-be65-ce2552607738",
   "metadata": {},
   "outputs": [],
   "source": [
    "my_invoice = Invoice(\n",
    "    number=\"27B-6\",\n",
    "    date=datetime.date.today(),\n",
    "    due_date=datetime.date.today() + datetime.timedelta(days=14),\n",
    "    sent_date=datetime.date.today(),\n",
    "    sent=True,\n",
    "    paid=\"foo\",\n",
    "    cancelled=False,\n",
    ")"
   ]
  },
  {
   "cell_type": "code",
   "execution_count": 5,
   "id": "b416949f-358a-4ca6-b60a-86cdfafd1971",
   "metadata": {},
   "outputs": [
    {
     "data": {
      "text/plain": [
       "Invoice(id=None, number='27B-6', date=datetime.date(2022, 1, 18), due_date=datetime.date(2022, 2, 1), sent_date=datetime.date(2022, 1, 18), timesheet_id=None, contract_id=None, sent=True, paid=False, cancelled=False)"
      ]
     },
     "execution_count": 5,
     "metadata": {},
     "output_type": "execute_result"
    }
   ],
   "source": [
    "Invoice.validate(\n",
    "    dict(\n",
    "        number=\"27B-6\",\n",
    "        date=datetime.date.today(),\n",
    "        due_date=datetime.date.today() + datetime.timedelta(days=14),\n",
    "        sent_date=datetime.date.today(),\n",
    "        sent=True,\n",
    "        paid=False,\n",
    "        cancelled=False,\n",
    "    )\n",
    ")"
   ]
  },
  {
   "cell_type": "code",
   "execution_count": 6,
   "id": "d99f88bf-77b7-452e-a817-b2362da928cb",
   "metadata": {},
   "outputs": [
    {
     "data": {
      "text/plain": [
       "InvoiceItem(id=None, date=datetime.date(2022, 1, 18), amount=128, unit='hours', unit_price=Decimal('60'), description='work work', VAT_rate=Decimal('0.19'), invoice_id=None, invoice=Invoice(id=None, number='27B-6', date=datetime.date(2022, 1, 18), due_date=datetime.date(2022, 2, 1), sent_date=datetime.date(2022, 1, 18), timesheet_id=None, contract_id=None, sent=True, cancelled=False, items=[InvoiceItem(id=None, date=datetime.date(2022, 1, 18), amount=128, unit='hours', unit_price=Decimal('60'), description='work work', VAT_rate=Decimal('0.19'), invoice_id=None, invoice=Invoice(id=None, number='27B-6', date=datetime.date(2022, 1, 18), due_date=datetime.date(2022, 2, 1), sent_date=datetime.date(2022, 1, 18), timesheet_id=None, contract_id=None, sent=True, cancelled=False, items=[...]))]))"
      ]
     },
     "execution_count": 6,
     "metadata": {},
     "output_type": "execute_result"
    }
   ],
   "source": [
    "item_1 = InvoiceItem(\n",
    "    invoice=my_invoice,\n",
    "    date=datetime.date.today(),\n",
    "    amount=128,\n",
    "    unit=\"hours\",\n",
    "    unit_price=60,\n",
    "    description=\"work work\",\n",
    "    VAT_rate=0.19\n",
    ")\n",
    "item_1"
   ]
  },
  {
   "cell_type": "code",
   "execution_count": 7,
   "id": "c5b0109e-fcdf-4eee-8f08-e878758b101b",
   "metadata": {},
   "outputs": [
    {
     "data": {
      "text/plain": [
       "InvoiceItem(id=None, date=datetime.date(2022, 1, 18), amount=64, unit='hours', unit_price=Decimal('60'), description='work work', VAT_rate=Decimal('0.19'), invoice_id=None, invoice=Invoice(id=None, number='27B-6', date=datetime.date(2022, 1, 18), due_date=datetime.date(2022, 2, 1), sent_date=datetime.date(2022, 1, 18), timesheet_id=None, contract_id=None, sent=True, cancelled=False, items=[InvoiceItem(id=None, date=datetime.date(2022, 1, 18), amount=128, unit='hours', unit_price=Decimal('60'), description='work work', VAT_rate=Decimal('0.19'), invoice_id=None, invoice=Invoice(id=None, number='27B-6', date=datetime.date(2022, 1, 18), due_date=datetime.date(2022, 2, 1), sent_date=datetime.date(2022, 1, 18), timesheet_id=None, contract_id=None, sent=True, cancelled=False, items=[...])), InvoiceItem(id=None, date=datetime.date(2022, 1, 18), amount=64, unit='hours', unit_price=Decimal('60'), description='work work', VAT_rate=Decimal('0.19'), invoice_id=None, invoice=Invoice(id=None, number='27B-6', date=datetime.date(2022, 1, 18), due_date=datetime.date(2022, 2, 1), sent_date=datetime.date(2022, 1, 18), timesheet_id=None, contract_id=None, sent=True, cancelled=False, items=[...]))]))"
      ]
     },
     "execution_count": 7,
     "metadata": {},
     "output_type": "execute_result"
    }
   ],
   "source": [
    "item_2 = InvoiceItem(\n",
    "    invoice=my_invoice,\n",
    "    date=datetime.date.today(),\n",
    "    amount=64,\n",
    "    unit=\"hours\",\n",
    "    unit_price=60,\n",
    "    description=\"work work\",\n",
    "    VAT_rate=0.19\n",
    ")\n",
    "item_2"
   ]
  },
  {
   "cell_type": "code",
   "execution_count": 8,
   "id": "92ae29e4-093c-4f4e-8f73-09ead4042409",
   "metadata": {},
   "outputs": [],
   "source": [
    "import pprint"
   ]
  },
  {
   "cell_type": "code",
   "execution_count": 9,
   "id": "10d88b95-c197-4379-a630-75a646d252b0",
   "metadata": {},
   "outputs": [
    {
     "data": {
      "text/plain": [
       "[InvoiceItem(id=None, date=datetime.date(2022, 1, 18), amount=128, unit='hours', unit_price=Decimal('60'), description='work work', VAT_rate=Decimal('0.19'), invoice_id=None, invoice=Invoice(id=None, number='27B-6', date=datetime.date(2022, 1, 18), due_date=datetime.date(2022, 2, 1), sent_date=datetime.date(2022, 1, 18), timesheet_id=None, contract_id=None, sent=True, cancelled=False, items=[InvoiceItem(id=None, date=datetime.date(2022, 1, 18), amount=128, unit='hours', unit_price=Decimal('60'), description='work work', VAT_rate=Decimal('0.19'), invoice_id=None, invoice=Invoice(id=None, number='27B-6', date=datetime.date(2022, 1, 18), due_date=datetime.date(2022, 2, 1), sent_date=datetime.date(2022, 1, 18), timesheet_id=None, contract_id=None, sent=True, cancelled=False, items=[...])), InvoiceItem(id=None, date=datetime.date(2022, 1, 18), amount=64, unit='hours', unit_price=Decimal('60'), description='work work', VAT_rate=Decimal('0.19'), invoice_id=None, invoice=Invoice(id=None, number='27B-6', date=datetime.date(2022, 1, 18), due_date=datetime.date(2022, 2, 1), sent_date=datetime.date(2022, 1, 18), timesheet_id=None, contract_id=None, sent=True, cancelled=False, items=[...]))])),\n",
       " InvoiceItem(id=None, date=datetime.date(2022, 1, 18), amount=64, unit='hours', unit_price=Decimal('60'), description='work work', VAT_rate=Decimal('0.19'), invoice_id=None, invoice=Invoice(id=None, number='27B-6', date=datetime.date(2022, 1, 18), due_date=datetime.date(2022, 2, 1), sent_date=datetime.date(2022, 1, 18), timesheet_id=None, contract_id=None, sent=True, cancelled=False, items=[InvoiceItem(id=None, date=datetime.date(2022, 1, 18), amount=128, unit='hours', unit_price=Decimal('60'), description='work work', VAT_rate=Decimal('0.19'), invoice_id=None, invoice=Invoice(id=None, number='27B-6', date=datetime.date(2022, 1, 18), due_date=datetime.date(2022, 2, 1), sent_date=datetime.date(2022, 1, 18), timesheet_id=None, contract_id=None, sent=True, cancelled=False, items=[...])), InvoiceItem(id=None, date=datetime.date(2022, 1, 18), amount=64, unit='hours', unit_price=Decimal('60'), description='work work', VAT_rate=Decimal('0.19'), invoice_id=None, invoice=Invoice(id=None, number='27B-6', date=datetime.date(2022, 1, 18), due_date=datetime.date(2022, 2, 1), sent_date=datetime.date(2022, 1, 18), timesheet_id=None, contract_id=None, sent=True, cancelled=False, items=[...]))]))]"
      ]
     },
     "execution_count": 9,
     "metadata": {},
     "output_type": "execute_result"
    }
   ],
   "source": [
    "my_invoice.items"
   ]
  },
  {
   "cell_type": "code",
   "execution_count": 10,
   "id": "aac3ae7d-c802-4d4c-9f0c-b97d6f11eeb4",
   "metadata": {},
   "outputs": [
    {
     "data": {
      "text/plain": [
       "Decimal('11520')"
      ]
     },
     "execution_count": 10,
     "metadata": {},
     "output_type": "execute_result"
    }
   ],
   "source": [
    "my_invoice.sum"
   ]
  },
  {
   "cell_type": "code",
   "execution_count": 11,
   "id": "f6d57e29-41b8-4eca-873e-0afff89654b4",
   "metadata": {},
   "outputs": [
    {
     "data": {
      "text/plain": [
       "Decimal('13708.80')"
      ]
     },
     "execution_count": 11,
     "metadata": {},
     "output_type": "execute_result"
    }
   ],
   "source": [
    "my_invoice.total"
   ]
  },
  {
   "cell_type": "code",
   "execution_count": 12,
   "id": "ce9fd1e1-077e-45ec-a350-cfc6402fee05",
   "metadata": {},
   "outputs": [
    {
     "data": {
      "text/plain": [
       "Decimal('2188.80')"
      ]
     },
     "execution_count": 12,
     "metadata": {},
     "output_type": "execute_result"
    }
   ],
   "source": [
    "my_invoice.VAT_total"
   ]
  },
  {
   "cell_type": "code",
   "execution_count": 14,
   "id": "cb6d0675-a159-4609-a1b6-b40284a14b1d",
   "metadata": {},
   "outputs": [
    {
     "data": {
      "text/plain": [
       "True"
      ]
     },
     "execution_count": 14,
     "metadata": {},
     "output_type": "execute_result"
    }
   ],
   "source": [
    "my_invoice.sum == 11520"
   ]
  },
  {
   "cell_type": "code",
   "execution_count": null,
   "id": "5e2ad987-f67e-4953-bf02-172263b8ef79",
   "metadata": {},
   "outputs": [],
   "source": []
  }
 ],
 "metadata": {
  "kernelspec": {
   "display_name": "tuttle",
   "language": "python",
   "name": "ex"
  },
  "language_info": {
   "codemirror_mode": {
    "name": "ipython",
    "version": 3
   },
   "file_extension": ".py",
   "mimetype": "text/x-python",
   "name": "python",
   "nbconvert_exporter": "python",
   "pygments_lexer": "ipython3",
   "version": "3.9.7"
  }
 },
 "nbformat": 4,
 "nbformat_minor": 5
}
