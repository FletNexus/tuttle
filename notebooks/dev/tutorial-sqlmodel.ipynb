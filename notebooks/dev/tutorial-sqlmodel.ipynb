{
 "cells": [
  {
   "cell_type": "markdown",
   "id": "3e536e81-7067-4ade-80a4-7996d2d7e507",
   "metadata": {},
   "source": [
    "# sqlmodel Tutorial"
   ]
  },
  {
   "cell_type": "markdown",
   "id": "5a3fa468",
   "metadata": {},
   "source": [
    "## Cleanup"
   ]
  },
  {
   "cell_type": "code",
   "execution_count": 1,
   "id": "6045eb24",
   "metadata": {},
   "outputs": [],
   "source": [
    "!rm tmp/tutorial.db"
   ]
  },
  {
   "cell_type": "markdown",
   "id": "ebf345e2",
   "metadata": {},
   "source": [
    "## Tutorial"
   ]
  },
  {
   "cell_type": "code",
   "execution_count": 2,
   "id": "15172ca0-77d7-4946-997a-b6d316bb1a4e",
   "metadata": {},
   "outputs": [],
   "source": [
    "from typing import Optional, List\n",
    "\n",
    "from sqlmodel import Field, Relationship, SQLModel, Session\n",
    "from sqlmodel import create_engine, select\n",
    "\n",
    "import sqlmodel"
   ]
  },
  {
   "cell_type": "code",
   "execution_count": 3,
   "id": "d10ee64b-dd3e-4712-bf2e-4726da8024fc",
   "metadata": {},
   "outputs": [],
   "source": [
    "class Hero(SQLModel, table=True):\n",
    "    id: Optional[int] = Field(default=None, primary_key=True)\n",
    "    name: str = Field(index=True)\n",
    "    secret_name: str\n",
    "    age: Optional[int]\n",
    "    team_id: Optional[int] = Field(default=None, foreign_key=\"team.id\")\n",
    "    team: Optional[\"Team\"] = Relationship(back_populates=\"heroes\")\n",
    "\n",
    "\n",
    "class Team(SQLModel, table=True):\n",
    "    \"\"\"Team.\"\"\"\n",
    "    id: Optional[int] = Field(default=None, primary_key=True)\n",
    "    name: str = Field(index=True)\n",
    "    heroes: List[\"Hero\"] = Relationship(back_populates=\"team\")"
   ]
  },
  {
   "cell_type": "code",
   "execution_count": 4,
   "id": "01c8e69e-7a90-4ee5-8f91-bc4998c031b2",
   "metadata": {},
   "outputs": [
    {
     "data": {
      "text/plain": [
       "Hero(id=None, name='Batman', secret_name='Bruce Wayne', age=None, team_id=None)"
      ]
     },
     "execution_count": 4,
     "metadata": {},
     "output_type": "execute_result"
    }
   ],
   "source": [
    "Hero(\n",
    "    name=\"Batman\",\n",
    "    secret_name=\"Bruce Wayne\"\n",
    ")"
   ]
  },
  {
   "cell_type": "code",
   "execution_count": 5,
   "id": "62303e43-8946-4fe8-af8c-94e76c2dc847",
   "metadata": {},
   "outputs": [],
   "source": [
    "sqlite_file_name = \"tmp/tutorial.db\"\n",
    "sqlite_url = f\"sqlite:///{sqlite_file_name}\""
   ]
  },
  {
   "cell_type": "code",
   "execution_count": 6,
   "id": "99aa8cf7-8bdb-469d-bd59-99254d2b216f",
   "metadata": {},
   "outputs": [],
   "source": [
    "engine = create_engine(sqlite_url, echo=True)"
   ]
  },
  {
   "cell_type": "code",
   "execution_count": 7,
   "id": "e7ea9430-f3e3-480d-a5e7-109d348a30a9",
   "metadata": {},
   "outputs": [
    {
     "data": {
      "text/plain": [
       "Engine(sqlite:///tmp/tutorial.db)"
      ]
     },
     "execution_count": 7,
     "metadata": {},
     "output_type": "execute_result"
    }
   ],
   "source": [
    "engine"
   ]
  },
  {
   "cell_type": "code",
   "execution_count": 8,
   "id": "3d7380fc-4441-49b8-ac19-ec7cf7a2546a",
   "metadata": {},
   "outputs": [
    {
     "name": "stdout",
     "output_type": "stream",
     "text": [
      "2022-01-09 15:09:57,765 INFO sqlalchemy.engine.Engine BEGIN (implicit)\n",
      "2022-01-09 15:09:57,766 INFO sqlalchemy.engine.Engine PRAGMA main.table_info(\"hero\")\n",
      "2022-01-09 15:09:57,766 INFO sqlalchemy.engine.Engine [raw sql] ()\n",
      "2022-01-09 15:09:57,767 INFO sqlalchemy.engine.Engine PRAGMA temp.table_info(\"hero\")\n",
      "2022-01-09 15:09:57,768 INFO sqlalchemy.engine.Engine [raw sql] ()\n",
      "2022-01-09 15:09:57,769 INFO sqlalchemy.engine.Engine PRAGMA main.table_info(\"team\")\n",
      "2022-01-09 15:09:57,769 INFO sqlalchemy.engine.Engine [raw sql] ()\n",
      "2022-01-09 15:09:57,770 INFO sqlalchemy.engine.Engine PRAGMA temp.table_info(\"team\")\n",
      "2022-01-09 15:09:57,770 INFO sqlalchemy.engine.Engine [raw sql] ()\n",
      "2022-01-09 15:09:57,771 INFO sqlalchemy.engine.Engine \n",
      "CREATE TABLE team (\n",
      "\tid INTEGER, \n",
      "\tname VARCHAR NOT NULL, \n",
      "\tPRIMARY KEY (id)\n",
      ")\n",
      "\n",
      "\n",
      "2022-01-09 15:09:57,771 INFO sqlalchemy.engine.Engine [no key 0.00029s] ()\n",
      "2022-01-09 15:09:57,773 INFO sqlalchemy.engine.Engine CREATE INDEX ix_team_name ON team (name)\n",
      "2022-01-09 15:09:57,773 INFO sqlalchemy.engine.Engine [no key 0.00071s] ()\n",
      "2022-01-09 15:09:57,776 INFO sqlalchemy.engine.Engine \n",
      "CREATE TABLE hero (\n",
      "\tid INTEGER, \n",
      "\tname VARCHAR NOT NULL, \n",
      "\tsecret_name VARCHAR NOT NULL, \n",
      "\tage INTEGER, \n",
      "\tteam_id INTEGER, \n",
      "\tPRIMARY KEY (id), \n",
      "\tFOREIGN KEY(team_id) REFERENCES team (id)\n",
      ")\n",
      "\n",
      "\n",
      "2022-01-09 15:09:57,778 INFO sqlalchemy.engine.Engine [no key 0.00158s] ()\n",
      "2022-01-09 15:09:57,781 INFO sqlalchemy.engine.Engine CREATE INDEX ix_hero_name ON hero (name)\n",
      "2022-01-09 15:09:57,782 INFO sqlalchemy.engine.Engine [no key 0.00079s] ()\n",
      "2022-01-09 15:09:57,784 INFO sqlalchemy.engine.Engine COMMIT\n"
     ]
    }
   ],
   "source": [
    "SQLModel.metadata.create_all(engine)"
   ]
  },
  {
   "cell_type": "markdown",
   "id": "95b72795",
   "metadata": {},
   "source": []
  },
  {
   "cell_type": "code",
   "execution_count": 9,
   "id": "15806b3c-9183-4831-8f8a-66e575b1272e",
   "metadata": {},
   "outputs": [],
   "source": [
    "def create_heroes():\n",
    "    with Session(engine) as session:\n",
    "        # create teams\n",
    "        team_preventers = Team(\n",
    "            name=\"Preventers\"\n",
    "        )\n",
    "        team_zmen = Team(\n",
    "            name=\"Z-Men\"\n",
    "        )\n",
    "        session.add(team_preventers)        \n",
    "        session.add(team_zmen)\n",
    "        # create heroes\n",
    "        hero_1 = Hero(\n",
    "            name=\"Batman\",\n",
    "            secret_name=\"Bruce Wayne\",\n",
    "            team=team_preventers,\n",
    "        )\n",
    "        hero_2 = Hero(\n",
    "            name=\"Superman\",\n",
    "            secret_name=\"Clark Kent\",\n",
    "            team=team_preventers\n",
    "        )\n",
    "        hero_3 = Hero(\n",
    "            name=\"Spiderman\",\n",
    "            secret_name=\"Peter Parker\",\n",
    "            team=team_zmen\n",
    "        )\n",
    "        session.add(hero_1)\n",
    "        session.add(hero_2)\n",
    "        session.add(hero_3)\n",
    "        session.commit()\n",
    "\n"
   ]
  },
  {
   "cell_type": "code",
   "execution_count": 10,
   "id": "57a71cc8",
   "metadata": {},
   "outputs": [
    {
     "name": "stdout",
     "output_type": "stream",
     "text": [
      "2022-01-09 15:09:57,888 INFO sqlalchemy.engine.Engine BEGIN (implicit)\n",
      "2022-01-09 15:09:57,892 INFO sqlalchemy.engine.Engine INSERT INTO team (name) VALUES (?)\n",
      "2022-01-09 15:09:57,895 INFO sqlalchemy.engine.Engine [generated in 0.00281s] ('Preventers',)\n",
      "2022-01-09 15:09:57,897 INFO sqlalchemy.engine.Engine INSERT INTO team (name) VALUES (?)\n",
      "2022-01-09 15:09:57,898 INFO sqlalchemy.engine.Engine [cached since 0.006222s ago] ('Z-Men',)\n",
      "2022-01-09 15:09:57,900 INFO sqlalchemy.engine.Engine INSERT INTO hero (name, secret_name, age, team_id) VALUES (?, ?, ?, ?)\n",
      "2022-01-09 15:09:57,900 INFO sqlalchemy.engine.Engine [generated in 0.00080s] ('Batman', 'Bruce Wayne', None, 1)\n",
      "2022-01-09 15:09:57,902 INFO sqlalchemy.engine.Engine INSERT INTO hero (name, secret_name, age, team_id) VALUES (?, ?, ?, ?)\n",
      "2022-01-09 15:09:57,902 INFO sqlalchemy.engine.Engine [cached since 0.00244s ago] ('Superman', 'Clark Kent', None, 1)\n",
      "2022-01-09 15:09:57,902 INFO sqlalchemy.engine.Engine INSERT INTO hero (name, secret_name, age, team_id) VALUES (?, ?, ?, ?)\n",
      "2022-01-09 15:09:57,903 INFO sqlalchemy.engine.Engine [cached since 0.003229s ago] ('Spiderman', 'Peter Parker', None, 2)\n",
      "2022-01-09 15:09:57,904 INFO sqlalchemy.engine.Engine COMMIT\n"
     ]
    }
   ],
   "source": [
    "create_heroes()"
   ]
  },
  {
   "cell_type": "markdown",
   "id": "a349d1f8",
   "metadata": {},
   "source": [
    "## Read Data"
   ]
  },
  {
   "cell_type": "code",
   "execution_count": 11,
   "id": "bae30db1",
   "metadata": {},
   "outputs": [],
   "source": [
    "def select_heroes():\n",
    "    with Session(engine) as session:\n",
    "        result = session.exec(\n",
    "            select(Hero)\n",
    "        )\n",
    "        return result.all()"
   ]
  },
  {
   "cell_type": "code",
   "execution_count": 12,
   "id": "6a69f75a",
   "metadata": {},
   "outputs": [
    {
     "name": "stdout",
     "output_type": "stream",
     "text": [
      "2022-01-09 15:09:57,963 INFO sqlalchemy.engine.Engine BEGIN (implicit)\n",
      "2022-01-09 15:09:57,968 INFO sqlalchemy.engine.Engine SELECT hero.id, hero.name, hero.secret_name, hero.age, hero.team_id \n",
      "FROM hero\n",
      "2022-01-09 15:09:57,968 INFO sqlalchemy.engine.Engine [no key 0.00055s] ()\n",
      "2022-01-09 15:09:57,969 INFO sqlalchemy.engine.Engine ROLLBACK\n"
     ]
    },
    {
     "name": "stderr",
     "output_type": "stream",
     "text": [
      "/Users/cls/miniforge3/envs/tuttle/lib/python3.9/site-packages/sqlmodel/orm/session.py:60: SAWarning: Class SelectOfScalar will not make use of SQL compilation caching as it does not set the 'inherit_cache' attribute to ``True``.  This can have significant performance implications including some performance degradations in comparison to prior SQLAlchemy versions.  Set this attribute to True if this object can make use of the cache key generated by the superclass.  Alternatively, this attribute may be set to False which will disable this warning. (Background on this error at: https://sqlalche.me/e/14/cprf)\n",
      "  results = super().execute(\n"
     ]
    },
    {
     "data": {
      "text/plain": [
       "[Hero(secret_name='Bruce Wayne', team_id=1, age=None, name='Batman', id=1),\n",
       " Hero(secret_name='Clark Kent', team_id=1, age=None, name='Superman', id=2),\n",
       " Hero(secret_name='Peter Parker', team_id=2, age=None, name='Spiderman', id=3)]"
      ]
     },
     "execution_count": 12,
     "metadata": {},
     "output_type": "execute_result"
    }
   ],
   "source": [
    "select_heroes()"
   ]
  },
  {
   "cell_type": "code",
   "execution_count": 13,
   "id": "99f29782",
   "metadata": {},
   "outputs": [],
   "source": [
    "def select_by_name(name: str):\n",
    "    with Session(engine) as session:\n",
    "        results = session.exec(\n",
    "            (\n",
    "                select(Hero)\n",
    "                .where(Hero.name == name)\n",
    "            )\n",
    "\n",
    "        )\n",
    "        return results.one()"
   ]
  },
  {
   "cell_type": "code",
   "execution_count": 14,
   "id": "8ad189ea",
   "metadata": {},
   "outputs": [
    {
     "name": "stdout",
     "output_type": "stream",
     "text": [
      "2022-01-09 15:09:58,025 INFO sqlalchemy.engine.Engine BEGIN (implicit)\n",
      "2022-01-09 15:09:58,027 INFO sqlalchemy.engine.Engine SELECT hero.id, hero.name, hero.secret_name, hero.age, hero.team_id \n",
      "FROM hero \n",
      "WHERE hero.name = ?\n",
      "2022-01-09 15:09:58,028 INFO sqlalchemy.engine.Engine [no key 0.00117s] ('Batman',)\n",
      "2022-01-09 15:09:58,030 INFO sqlalchemy.engine.Engine ROLLBACK\n"
     ]
    },
    {
     "data": {
      "text/plain": [
       "Hero(secret_name='Bruce Wayne', team_id=1, age=None, name='Batman', id=1)"
      ]
     },
     "execution_count": 14,
     "metadata": {},
     "output_type": "execute_result"
    }
   ],
   "source": [
    "select_by_name(\"Batman\")"
   ]
  },
  {
   "cell_type": "markdown",
   "id": "3fb895a9",
   "metadata": {},
   "source": [
    "## Update"
   ]
  },
  {
   "cell_type": "code",
   "execution_count": 15,
   "id": "c861723e",
   "metadata": {},
   "outputs": [],
   "source": [
    "def update_age(\n",
    "    hero_name: str,\n",
    "    age: int\n",
    "):\n",
    "    with Session(engine) as session:\n",
    "        hero = session.exec(\n",
    "            (\n",
    "                select(Hero)\n",
    "                .where(Hero.name == hero_name)\n",
    "            )\n",
    "        ).one()\n",
    "        hero.age = age\n",
    "        session.add(hero)\n",
    "        session.commit()\n",
    "        session.refresh(hero)\n",
    "        return hero"
   ]
  },
  {
   "cell_type": "code",
   "execution_count": 16,
   "id": "699130ad",
   "metadata": {},
   "outputs": [
    {
     "name": "stdout",
     "output_type": "stream",
     "text": [
      "2022-01-09 15:09:58,087 INFO sqlalchemy.engine.Engine BEGIN (implicit)\n",
      "2022-01-09 15:09:58,089 INFO sqlalchemy.engine.Engine SELECT hero.id, hero.name, hero.secret_name, hero.age, hero.team_id \n",
      "FROM hero \n",
      "WHERE hero.name = ?\n",
      "2022-01-09 15:09:58,091 INFO sqlalchemy.engine.Engine [no key 0.00212s] ('Batman',)\n",
      "2022-01-09 15:09:58,093 INFO sqlalchemy.engine.Engine UPDATE hero SET age=? WHERE hero.id = ?\n",
      "2022-01-09 15:09:58,093 INFO sqlalchemy.engine.Engine [generated in 0.00037s] (42, 1)\n",
      "2022-01-09 15:09:58,094 INFO sqlalchemy.engine.Engine COMMIT\n",
      "2022-01-09 15:09:58,095 INFO sqlalchemy.engine.Engine BEGIN (implicit)\n",
      "2022-01-09 15:09:58,096 INFO sqlalchemy.engine.Engine SELECT hero.id, hero.name, hero.secret_name, hero.age, hero.team_id \n",
      "FROM hero \n",
      "WHERE hero.id = ?\n",
      "2022-01-09 15:09:58,097 INFO sqlalchemy.engine.Engine [generated in 0.00085s] (1,)\n",
      "2022-01-09 15:09:58,098 INFO sqlalchemy.engine.Engine ROLLBACK\n"
     ]
    },
    {
     "data": {
      "text/plain": [
       "Hero(secret_name='Bruce Wayne', team_id=1, age=42, name='Batman', id=1)"
      ]
     },
     "execution_count": 16,
     "metadata": {},
     "output_type": "execute_result"
    }
   ],
   "source": [
    "update_age(\"Batman\", 42)"
   ]
  },
  {
   "cell_type": "markdown",
   "id": "2968f97a",
   "metadata": {},
   "source": [
    "## Delete"
   ]
  },
  {
   "cell_type": "code",
   "execution_count": 17,
   "id": "5eda9783",
   "metadata": {},
   "outputs": [],
   "source": [
    "def delete_hero(\n",
    "    name: str\n",
    "):\n",
    "    with Session(engine) as session:\n",
    "        hero = session.exec(\n",
    "            select(Hero)\n",
    "            .where(Hero.name == name)\n",
    "        ).one()\n",
    "        print(hero)\n",
    "        session.delete(hero)\n",
    "        session.commit()\n",
    "        "
   ]
  },
  {
   "cell_type": "code",
   "execution_count": 18,
   "id": "e0fe8784",
   "metadata": {},
   "outputs": [
    {
     "name": "stdout",
     "output_type": "stream",
     "text": [
      "2022-01-09 15:09:58,138 INFO sqlalchemy.engine.Engine BEGIN (implicit)\n",
      "2022-01-09 15:09:58,138 INFO sqlalchemy.engine.Engine SELECT hero.id, hero.name, hero.secret_name, hero.age, hero.team_id \n",
      "FROM hero \n",
      "WHERE hero.name = ?\n",
      "2022-01-09 15:09:58,139 INFO sqlalchemy.engine.Engine [no key 0.00049s] ('Superman',)\n",
      "secret_name='Clark Kent' team_id=1 age=None name='Superman' id=2\n",
      "2022-01-09 15:09:58,140 INFO sqlalchemy.engine.Engine DELETE FROM hero WHERE hero.id = ?\n",
      "2022-01-09 15:09:58,140 INFO sqlalchemy.engine.Engine [generated in 0.00026s] (2,)\n",
      "2022-01-09 15:09:58,141 INFO sqlalchemy.engine.Engine COMMIT\n"
     ]
    }
   ],
   "source": [
    "delete_hero(\"Superman\")"
   ]
  },
  {
   "cell_type": "markdown",
   "id": "9a285ea0",
   "metadata": {},
   "source": [
    "## Select Connected Data"
   ]
  },
  {
   "cell_type": "code",
   "execution_count": 19,
   "id": "1b53b18e",
   "metadata": {},
   "outputs": [
    {
     "name": "stdout",
     "output_type": "stream",
     "text": [
      "2022-01-09 15:09:58,164 INFO sqlalchemy.engine.Engine BEGIN (implicit)\n",
      "2022-01-09 15:09:58,165 INFO sqlalchemy.engine.Engine SELECT hero.id, hero.name, hero.secret_name, hero.age, hero.team_id, team.id AS id_1, team.name AS name_1 \n",
      "FROM hero, team \n",
      "WHERE hero.team_id = team.id\n",
      "2022-01-09 15:09:58,165 INFO sqlalchemy.engine.Engine [no key 0.00030s] ()\n",
      "2022-01-09 15:09:58,165 INFO sqlalchemy.engine.Engine ROLLBACK\n"
     ]
    },
    {
     "name": "stderr",
     "output_type": "stream",
     "text": [
      "/Users/cls/miniforge3/envs/tuttle/lib/python3.9/site-packages/sqlmodel/orm/session.py:60: SAWarning: Class Select will not make use of SQL compilation caching as it does not set the 'inherit_cache' attribute to ``True``.  This can have significant performance implications including some performance degradations in comparison to prior SQLAlchemy versions.  Set this attribute to True if this object can make use of the cache key generated by the superclass.  Alternatively, this attribute may be set to False which will disable this warning. (Background on this error at: https://sqlalche.me/e/14/cprf)\n",
      "  results = super().execute(\n"
     ]
    },
    {
     "data": {
      "text/plain": [
       "[(Hero(secret_name='Bruce Wayne', team_id=1, age=42, name='Batman', id=1), Team(name='Preventers', id=1)),\n",
       " (Hero(secret_name='Peter Parker', team_id=2, age=None, name='Spiderman', id=3), Team(name='Z-Men', id=2))]"
      ]
     },
     "execution_count": 19,
     "metadata": {},
     "output_type": "execute_result"
    }
   ],
   "source": [
    "with Session(engine) as session:\n",
    "    result = session.exec(\n",
    "        (\n",
    "            select(Hero, Team)\n",
    "            .where(Hero.team_id == Team.id)\n",
    "        )\n",
    "    ).all()\n",
    "result"
   ]
  },
  {
   "cell_type": "code",
   "execution_count": 20,
   "id": "899f9178",
   "metadata": {},
   "outputs": [],
   "source": [
    "def join_heroes_and_teams():\n",
    "    with Session(engine) as session:\n",
    "        result = session.exec(\n",
    "            select(Hero, Team)\n",
    "            .join(Team)\n",
    "        ).all()\n",
    "        return result"
   ]
  },
  {
   "cell_type": "code",
   "execution_count": 21,
   "id": "9207bb3b",
   "metadata": {},
   "outputs": [
    {
     "name": "stdout",
     "output_type": "stream",
     "text": [
      "2022-01-09 15:09:58,202 INFO sqlalchemy.engine.Engine BEGIN (implicit)\n",
      "2022-01-09 15:09:58,203 INFO sqlalchemy.engine.Engine SELECT hero.id, hero.name, hero.secret_name, hero.age, hero.team_id, team.id AS id_1, team.name AS name_1 \n",
      "FROM hero JOIN team ON team.id = hero.team_id\n",
      "2022-01-09 15:09:58,204 INFO sqlalchemy.engine.Engine [no key 0.00035s] ()\n",
      "2022-01-09 15:09:58,204 INFO sqlalchemy.engine.Engine ROLLBACK\n"
     ]
    },
    {
     "data": {
      "text/plain": [
       "[(Hero(secret_name='Bruce Wayne', team_id=1, age=42, name='Batman', id=1), Team(name='Preventers', id=1)),\n",
       " (Hero(secret_name='Peter Parker', team_id=2, age=None, name='Spiderman', id=3), Team(name='Z-Men', id=2))]"
      ]
     },
     "execution_count": 21,
     "metadata": {},
     "output_type": "execute_result"
    }
   ],
   "source": [
    "join_heroes_and_teams()"
   ]
  },
  {
   "cell_type": "markdown",
   "id": "b49d7ed4",
   "metadata": {},
   "source": [
    "## Pandas Test"
   ]
  },
  {
   "cell_type": "code",
   "execution_count": 22,
   "id": "0bd2353f",
   "metadata": {},
   "outputs": [],
   "source": [
    "import pandas"
   ]
  },
  {
   "cell_type": "code",
   "execution_count": 23,
   "id": "96669ebe",
   "metadata": {},
   "outputs": [],
   "source": [
    "statement = select(Hero)"
   ]
  },
  {
   "cell_type": "code",
   "execution_count": 24,
   "id": "cb5ec542",
   "metadata": {},
   "outputs": [
    {
     "data": {
      "text/html": [
       "<div>\n",
       "<style scoped>\n",
       "    .dataframe tbody tr th:only-of-type {\n",
       "        vertical-align: middle;\n",
       "    }\n",
       "\n",
       "    .dataframe tbody tr th {\n",
       "        vertical-align: top;\n",
       "    }\n",
       "\n",
       "    .dataframe thead th {\n",
       "        text-align: right;\n",
       "    }\n",
       "</style>\n",
       "<table border=\"1\" class=\"dataframe\">\n",
       "  <thead>\n",
       "    <tr style=\"text-align: right;\">\n",
       "      <th></th>\n",
       "      <th>id</th>\n",
       "      <th>name</th>\n",
       "      <th>secret_name</th>\n",
       "      <th>age</th>\n",
       "      <th>team_id</th>\n",
       "    </tr>\n",
       "  </thead>\n",
       "  <tbody>\n",
       "    <tr>\n",
       "      <th>0</th>\n",
       "      <td>1</td>\n",
       "      <td>Batman</td>\n",
       "      <td>Bruce Wayne</td>\n",
       "      <td>42.0</td>\n",
       "      <td>1</td>\n",
       "    </tr>\n",
       "    <tr>\n",
       "      <th>1</th>\n",
       "      <td>3</td>\n",
       "      <td>Spiderman</td>\n",
       "      <td>Peter Parker</td>\n",
       "      <td>NaN</td>\n",
       "      <td>2</td>\n",
       "    </tr>\n",
       "  </tbody>\n",
       "</table>\n",
       "</div>"
      ],
      "text/plain": [
       "   id       name   secret_name   age  team_id\n",
       "0   1     Batman   Bruce Wayne  42.0        1\n",
       "1   3  Spiderman  Peter Parker   NaN        2"
      ]
     },
     "execution_count": 24,
     "metadata": {},
     "output_type": "execute_result"
    }
   ],
   "source": [
    "session = Session(engine)\n",
    "pandas.read_sql(\n",
    "    statement,\n",
    "    con=sqlite_url\n",
    ")"
   ]
  },
  {
   "cell_type": "code",
   "execution_count": 25,
   "id": "ac0151e1",
   "metadata": {},
   "outputs": [
    {
     "data": {
      "text/html": [
       "<div>\n",
       "<style scoped>\n",
       "    .dataframe tbody tr th:only-of-type {\n",
       "        vertical-align: middle;\n",
       "    }\n",
       "\n",
       "    .dataframe tbody tr th {\n",
       "        vertical-align: top;\n",
       "    }\n",
       "\n",
       "    .dataframe thead th {\n",
       "        text-align: right;\n",
       "    }\n",
       "</style>\n",
       "<table border=\"1\" class=\"dataframe\">\n",
       "  <thead>\n",
       "    <tr style=\"text-align: right;\">\n",
       "      <th></th>\n",
       "      <th>id</th>\n",
       "      <th>name</th>\n",
       "      <th>secret_name</th>\n",
       "      <th>age</th>\n",
       "      <th>team_id</th>\n",
       "      <th>id_1</th>\n",
       "      <th>name_1</th>\n",
       "    </tr>\n",
       "  </thead>\n",
       "  <tbody>\n",
       "    <tr>\n",
       "      <th>0</th>\n",
       "      <td>1</td>\n",
       "      <td>Batman</td>\n",
       "      <td>Bruce Wayne</td>\n",
       "      <td>42.0</td>\n",
       "      <td>1</td>\n",
       "      <td>1</td>\n",
       "      <td>Preventers</td>\n",
       "    </tr>\n",
       "    <tr>\n",
       "      <th>1</th>\n",
       "      <td>3</td>\n",
       "      <td>Spiderman</td>\n",
       "      <td>Peter Parker</td>\n",
       "      <td>NaN</td>\n",
       "      <td>2</td>\n",
       "      <td>2</td>\n",
       "      <td>Z-Men</td>\n",
       "    </tr>\n",
       "  </tbody>\n",
       "</table>\n",
       "</div>"
      ],
      "text/plain": [
       "   id       name   secret_name   age  team_id  id_1      name_1\n",
       "0   1     Batman   Bruce Wayne  42.0        1     1  Preventers\n",
       "1   3  Spiderman  Peter Parker   NaN        2     2       Z-Men"
      ]
     },
     "execution_count": 25,
     "metadata": {},
     "output_type": "execute_result"
    }
   ],
   "source": [
    "pandas.read_sql(\n",
    "    (\n",
    "        select(Hero, Team)\n",
    "        .join(Team)\n",
    "    ),\n",
    "    con=sqlite_url\n",
    ")"
   ]
  },
  {
   "cell_type": "markdown",
   "id": "582bc30a",
   "metadata": {},
   "source": [
    "## Relationship Attributes"
   ]
  },
  {
   "cell_type": "code",
   "execution_count": 26,
   "id": "41b778f9",
   "metadata": {},
   "outputs": [],
   "source": [
    "def create_team_with_heroes():\n",
    "    \"\"\"Create a team with heroes.\"\"\"\n",
    "    with Session(engine) as session:\n",
    "        black_panther = Hero(\n",
    "            name=\"Black Panther\",\n",
    "            secret_name=\"T'Challa\",\n",
    "        )\n",
    "        team_wakanda = Team(\n",
    "            name=\"Wakanda\",\n",
    "            heroes=[black_panther]\n",
    "        )\n",
    "        session.add(team_wakanda)\n",
    "        session.commit()\n"
   ]
  },
  {
   "cell_type": "code",
   "execution_count": 27,
   "id": "5bb99f84",
   "metadata": {},
   "outputs": [
    {
     "name": "stdout",
     "output_type": "stream",
     "text": [
      "2022-01-09 15:17:34,385 INFO sqlalchemy.engine.Engine BEGIN (implicit)\n",
      "2022-01-09 15:17:34,386 INFO sqlalchemy.engine.Engine INSERT INTO team (name) VALUES (?)\n",
      "2022-01-09 15:17:34,386 INFO sqlalchemy.engine.Engine [cached since 456.5s ago] ('Wakanda',)\n",
      "2022-01-09 15:17:34,387 INFO sqlalchemy.engine.Engine INSERT INTO hero (name, secret_name, age, team_id) VALUES (?, ?, ?, ?)\n",
      "2022-01-09 15:17:34,388 INFO sqlalchemy.engine.Engine [cached since 456.5s ago] ('Black Panther', \"T'Challa\", None, 3)\n",
      "2022-01-09 15:17:34,389 INFO sqlalchemy.engine.Engine COMMIT\n"
     ]
    }
   ],
   "source": [
    "create_team_with_heroes()"
   ]
  },
  {
   "cell_type": "markdown",
   "id": "bdaeb8c2",
   "metadata": {},
   "source": []
  },
  {
   "cell_type": "markdown",
   "id": "923f450d",
   "metadata": {},
   "source": []
  }
 ],
 "metadata": {
  "interpreter": {
   "hash": "1b2a14e316f8528313aca7083ad4a819e30957812d4a6b2b5fed00540ac717aa"
  },
  "kernelspec": {
   "display_name": "tuttle",
   "language": "python",
   "name": "python3"
  },
  "language_info": {
   "codemirror_mode": {
    "name": "ipython",
    "version": 3
   },
   "file_extension": ".py",
   "mimetype": "text/x-python",
   "name": "python",
   "nbconvert_exporter": "python",
   "pygments_lexer": "ipython3",
   "version": "3.9.7"
  }
 },
 "nbformat": 4,
 "nbformat_minor": 5
}
