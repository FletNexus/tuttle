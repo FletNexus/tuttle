{
 "cells": [
  {
   "cell_type": "markdown",
   "metadata": {},
   "source": [
    "# Dev: Data Model"
   ]
  },
  {
   "cell_type": "markdown",
   "metadata": {},
   "source": [
    "- Client\n",
    "- Project\n",
    "- Timesheet\n",
    "- Invoice\n"
   ]
  },
  {
   "cell_type": "code",
   "execution_count": 1,
   "metadata": {},
   "outputs": [
    {
     "name": "stdout",
     "output_type": "stream",
     "text": [
      "2022-01-09 20:30:36,431 INFO sqlalchemy.engine.Engine BEGIN (implicit)\n",
      "2022-01-09 20:30:36,431 INFO sqlalchemy.engine.Engine PRAGMA main.table_info(\"bank\")\n",
      "2022-01-09 20:30:36,432 INFO sqlalchemy.engine.Engine [raw sql] ()\n",
      "2022-01-09 20:30:36,432 INFO sqlalchemy.engine.Engine PRAGMA main.table_info(\"bankaccount\")\n",
      "2022-01-09 20:30:36,432 INFO sqlalchemy.engine.Engine [raw sql] ()\n",
      "2022-01-09 20:30:36,432 INFO sqlalchemy.engine.Engine PRAGMA main.table_info(\"contact\")\n",
      "2022-01-09 20:30:36,433 INFO sqlalchemy.engine.Engine [raw sql] ()\n",
      "2022-01-09 20:30:36,433 INFO sqlalchemy.engine.Engine PRAGMA main.table_info(\"client\")\n",
      "2022-01-09 20:30:36,433 INFO sqlalchemy.engine.Engine [raw sql] ()\n",
      "2022-01-09 20:30:36,433 INFO sqlalchemy.engine.Engine PRAGMA main.table_info(\"rate\")\n",
      "2022-01-09 20:30:36,434 INFO sqlalchemy.engine.Engine [raw sql] ()\n",
      "2022-01-09 20:30:36,434 INFO sqlalchemy.engine.Engine PRAGMA main.table_info(\"contract\")\n",
      "2022-01-09 20:30:36,434 INFO sqlalchemy.engine.Engine [raw sql] ()\n",
      "2022-01-09 20:30:36,435 INFO sqlalchemy.engine.Engine PRAGMA main.table_info(\"project\")\n",
      "2022-01-09 20:30:36,435 INFO sqlalchemy.engine.Engine [raw sql] ()\n",
      "2022-01-09 20:30:36,435 INFO sqlalchemy.engine.Engine PRAGMA main.table_info(\"timesheet\")\n",
      "2022-01-09 20:30:36,436 INFO sqlalchemy.engine.Engine [raw sql] ()\n",
      "2022-01-09 20:30:36,436 INFO sqlalchemy.engine.Engine PRAGMA main.table_info(\"invoice\")\n",
      "2022-01-09 20:30:36,436 INFO sqlalchemy.engine.Engine [raw sql] ()\n",
      "2022-01-09 20:30:36,436 INFO sqlalchemy.engine.Engine PRAGMA main.table_info(\"payment\")\n",
      "2022-01-09 20:30:36,437 INFO sqlalchemy.engine.Engine [raw sql] ()\n",
      "2022-01-09 20:30:36,437 INFO sqlalchemy.engine.Engine COMMIT\n"
     ]
    }
   ],
   "source": [
    "from tuttle.model import (\n",
    "    Client,\n",
    ")"
   ]
  },
  {
   "cell_type": "code",
   "execution_count": null,
   "metadata": {},
   "outputs": [],
   "source": []
  }
 ],
 "metadata": {
  "interpreter": {
   "hash": "1b2a14e316f8528313aca7083ad4a819e30957812d4a6b2b5fed00540ac717aa"
  },
  "kernelspec": {
   "display_name": "Python 3.9.7 64-bit ('tuttle': conda)",
   "language": "python",
   "name": "python3"
  },
  "language_info": {
   "codemirror_mode": {
    "name": "ipython",
    "version": 3
   },
   "file_extension": ".py",
   "mimetype": "text/x-python",
   "name": "python",
   "nbconvert_exporter": "python",
   "pygments_lexer": "ipython3",
   "version": "3.9.7"
  },
  "orig_nbformat": 4
 },
 "nbformat": 4,
 "nbformat_minor": 2
}
