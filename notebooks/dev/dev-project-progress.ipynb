{
 "cells": [
  {
   "cell_type": "markdown",
   "id": "a4856377-c584-4a8a-accd-8c09a58c5f79",
   "metadata": {},
   "source": [
    "# Dev: Display Project Progress"
   ]
  },
  {
   "cell_type": "markdown",
   "id": "a27d532f-bcdf-4c35-a652-4ad50d0f1338",
   "metadata": {},
   "source": [
    "## Preamble"
   ]
  },
  {
   "cell_type": "markdown",
   "id": "88697201-33fe-49cd-922a-d5c7b1ff4749",
   "metadata": {},
   "source": [
    "## Workflow"
   ]
  },
  {
   "cell_type": "code",
   "execution_count": 1,
   "id": "be91909a-517a-4300-b3dc-46a0571d1597",
   "metadata": {},
   "outputs": [
    {
     "name": "stdout",
     "output_type": "stream",
     "text": [
      "2022-01-20 22:04:09,358 INFO sqlalchemy.engine.Engine BEGIN (implicit)\n",
      "2022-01-20 22:04:09,359 INFO sqlalchemy.engine.Engine PRAGMA main.table_info(\"address\")\n",
      "2022-01-20 22:04:09,359 INFO sqlalchemy.engine.Engine [raw sql] ()\n",
      "2022-01-20 22:04:09,360 INFO sqlalchemy.engine.Engine PRAGMA main.table_info(\"user\")\n",
      "2022-01-20 22:04:09,360 INFO sqlalchemy.engine.Engine [raw sql] ()\n",
      "2022-01-20 22:04:09,360 INFO sqlalchemy.engine.Engine PRAGMA main.table_info(\"icloudaccount\")\n",
      "2022-01-20 22:04:09,360 INFO sqlalchemy.engine.Engine [raw sql] ()\n",
      "2022-01-20 22:04:09,361 INFO sqlalchemy.engine.Engine PRAGMA main.table_info(\"bank\")\n",
      "2022-01-20 22:04:09,361 INFO sqlalchemy.engine.Engine [raw sql] ()\n",
      "2022-01-20 22:04:09,361 INFO sqlalchemy.engine.Engine PRAGMA main.table_info(\"bankaccount\")\n",
      "2022-01-20 22:04:09,362 INFO sqlalchemy.engine.Engine [raw sql] ()\n",
      "2022-01-20 22:04:09,362 INFO sqlalchemy.engine.Engine PRAGMA main.table_info(\"contact\")\n",
      "2022-01-20 22:04:09,362 INFO sqlalchemy.engine.Engine [raw sql] ()\n",
      "2022-01-20 22:04:09,363 INFO sqlalchemy.engine.Engine PRAGMA main.table_info(\"client\")\n",
      "2022-01-20 22:04:09,363 INFO sqlalchemy.engine.Engine [raw sql] ()\n",
      "2022-01-20 22:04:09,363 INFO sqlalchemy.engine.Engine PRAGMA main.table_info(\"contract\")\n",
      "2022-01-20 22:04:09,364 INFO sqlalchemy.engine.Engine [raw sql] ()\n",
      "2022-01-20 22:04:09,364 INFO sqlalchemy.engine.Engine PRAGMA main.table_info(\"project\")\n",
      "2022-01-20 22:04:09,364 INFO sqlalchemy.engine.Engine [raw sql] ()\n",
      "2022-01-20 22:04:09,365 INFO sqlalchemy.engine.Engine PRAGMA main.table_info(\"timesheet\")\n",
      "2022-01-20 22:04:09,365 INFO sqlalchemy.engine.Engine [raw sql] ()\n",
      "2022-01-20 22:04:09,365 INFO sqlalchemy.engine.Engine PRAGMA main.table_info(\"invoice\")\n",
      "2022-01-20 22:04:09,365 INFO sqlalchemy.engine.Engine [raw sql] ()\n",
      "2022-01-20 22:04:09,366 INFO sqlalchemy.engine.Engine PRAGMA main.table_info(\"invoiceitem\")\n",
      "2022-01-20 22:04:09,366 INFO sqlalchemy.engine.Engine [raw sql] ()\n",
      "2022-01-20 22:04:09,366 INFO sqlalchemy.engine.Engine PRAGMA main.table_info(\"timelineitem\")\n",
      "2022-01-20 22:04:09,366 INFO sqlalchemy.engine.Engine [raw sql] ()\n",
      "2022-01-20 22:04:09,367 INFO sqlalchemy.engine.Engine COMMIT\n"
     ]
    }
   ],
   "source": [
    "from tuttle.model import ICloudAccount"
   ]
  },
  {
   "cell_type": "code",
   "execution_count": 2,
   "id": "fffff65a-d700-486c-99d3-f6285e1d3d0c",
   "metadata": {},
   "outputs": [
    {
     "name": "stdout",
     "output_type": "stream",
     "text": [
      "icloud user name:  mail@clstaudt.me\n"
     ]
    }
   ],
   "source": [
    "my_icloud_account = ICloudAccount(\n",
    "    user_name=input(\"icloud user name: \")\n",
    ")"
   ]
  },
  {
   "cell_type": "code",
   "execution_count": 3,
   "id": "37f0498f-8de0-42ba-ba25-67066afd435a",
   "metadata": {},
   "outputs": [],
   "source": [
    "from tuttle.cloud import login_iCloud"
   ]
  },
  {
   "cell_type": "code",
   "execution_count": 4,
   "id": "5f38ca8f-074f-4e8f-82ab-b53a83e0d5d1",
   "metadata": {},
   "outputs": [
    {
     "name": "stdout",
     "output_type": "stream",
     "text": [
      "iCloud password for account mail@clstaudt.me:  ·······\n"
     ]
    }
   ],
   "source": [
    "icloud = login_iCloud(my_icloud_account)"
   ]
  },
  {
   "cell_type": "code",
   "execution_count": 5,
   "id": "416bea50-f7bc-41b4-9316-193ba3af3a14",
   "metadata": {},
   "outputs": [],
   "source": [
    "from tuttle.timetracking import calendar_to_timetracking_table\n",
    "from tuttle.calendar import CloudCalendar"
   ]
  },
  {
   "cell_type": "code",
   "execution_count": 6,
   "id": "0512fa5d-c00a-4c93-a49b-5dddf5ab38c5",
   "metadata": {},
   "outputs": [
    {
     "name": "stderr",
     "output_type": "stream",
     "text": [
      "/Users/cls/miniforge3/envs/tuttle/lib/python3.9/site-packages/pyicloud/services/calendar.py:81: PytzUsageWarning: The zone attribute is specific to pytz's interface; please migrate to a new time zone provider. For more details on how to do so, see https://pytz-deprecation-shim.readthedocs.io/en/latest/migration.html\n",
      "  \"usertz\": get_localzone().zone,\n"
     ]
    }
   ],
   "source": [
    "cal = CloudCalendar(\n",
    "    icloud=icloud,\n",
    "    name=\"TTTT\",\n",
    ")"
   ]
  },
  {
   "cell_type": "code",
   "execution_count": 7,
   "id": "5a473b74-3586-45c8-a159-f9fc902442f6",
   "metadata": {},
   "outputs": [],
   "source": [
    "from pandera.typing import DataFrame"
   ]
  },
  {
   "cell_type": "code",
   "execution_count": 8,
   "id": "f0d9ab67-d7e1-4671-b81a-ce6fffcacd04",
   "metadata": {},
   "outputs": [],
   "source": [
    "from tuttle.schema import TimeTracking"
   ]
  },
  {
   "cell_type": "code",
   "execution_count": 9,
   "id": "01222bd8-839e-48dc-9587-a7147dab3671",
   "metadata": {},
   "outputs": [
    {
     "name": "stderr",
     "output_type": "stream",
     "text": [
      "/Users/cls/miniforge3/envs/tuttle/lib/python3.9/site-packages/pyicloud/services/calendar.py:53: PytzUsageWarning: The zone attribute is specific to pytz's interface; please migrate to a new time zone provider. For more details on how to do so, see https://pytz-deprecation-shim.readthedocs.io/en/latest/migration.html\n",
      "  \"usertz\": get_localzone().zone,\n"
     ]
    }
   ],
   "source": [
    "time_tracking: DataFrame[TimeTracking] = calendar_to_timetracking_table(cal)"
   ]
  },
  {
   "cell_type": "code",
   "execution_count": 10,
   "id": "b1792e78-37ee-4f6c-a984-a9d665c0c907",
   "metadata": {},
   "outputs": [
    {
     "data": {
      "text/html": [
       "<div>\n",
       "<style scoped>\n",
       "    .dataframe tbody tr th:only-of-type {\n",
       "        vertical-align: middle;\n",
       "    }\n",
       "\n",
       "    .dataframe tbody tr th {\n",
       "        vertical-align: top;\n",
       "    }\n",
       "\n",
       "    .dataframe thead th {\n",
       "        text-align: right;\n",
       "    }\n",
       "</style>\n",
       "<table border=\"1\" class=\"dataframe\">\n",
       "  <thead>\n",
       "    <tr style=\"text-align: right;\">\n",
       "      <th></th>\n",
       "      <th>begin</th>\n",
       "      <th>end</th>\n",
       "      <th>title</th>\n",
       "      <th>duration</th>\n",
       "      <th>tag</th>\n",
       "    </tr>\n",
       "  </thead>\n",
       "  <tbody>\n",
       "    <tr>\n",
       "      <th>438</th>\n",
       "      <td>2022-01-17 08:00:00</td>\n",
       "      <td>2022-01-17 20:00:00</td>\n",
       "      <td>#EvadeCentralServices</td>\n",
       "      <td>0 days 12:00:00</td>\n",
       "      <td>#EvadeCentralServices</td>\n",
       "    </tr>\n",
       "    <tr>\n",
       "      <th>441</th>\n",
       "      <td>2022-01-19 17:00:00</td>\n",
       "      <td>2022-01-19 19:00:00</td>\n",
       "      <td>#EvadeCentralServices</td>\n",
       "      <td>0 days 02:00:00</td>\n",
       "      <td>#EvadeCentralServices</td>\n",
       "    </tr>\n",
       "    <tr>\n",
       "      <th>442</th>\n",
       "      <td>2022-01-18 08:00:00</td>\n",
       "      <td>2022-01-18 18:00:00</td>\n",
       "      <td>#HeatingRepair</td>\n",
       "      <td>0 days 10:00:00</td>\n",
       "      <td>#HeatingRepair</td>\n",
       "    </tr>\n",
       "    <tr>\n",
       "      <th>443</th>\n",
       "      <td>2022-01-19 08:15:00</td>\n",
       "      <td>2022-01-19 18:15:00</td>\n",
       "      <td>#HeatingRepair</td>\n",
       "      <td>0 days 10:00:00</td>\n",
       "      <td>#HeatingRepair</td>\n",
       "    </tr>\n",
       "    <tr>\n",
       "      <th>444</th>\n",
       "      <td>2022-01-18 12:00:00</td>\n",
       "      <td>2022-01-18 14:00:00</td>\n",
       "      <td>#EvadeCentralServices</td>\n",
       "      <td>0 days 02:00:00</td>\n",
       "      <td>#EvadeCentralServices</td>\n",
       "    </tr>\n",
       "    <tr>\n",
       "      <th>447</th>\n",
       "      <td>2022-01-20 08:15:00</td>\n",
       "      <td>2022-01-20 18:15:00</td>\n",
       "      <td>#HeatingRepair</td>\n",
       "      <td>0 days 10:00:00</td>\n",
       "      <td>#HeatingRepair</td>\n",
       "    </tr>\n",
       "    <tr>\n",
       "      <th>449</th>\n",
       "      <td>2022-01-20 12:00:00</td>\n",
       "      <td>2022-01-20 14:00:00</td>\n",
       "      <td>#HeatingRepair</td>\n",
       "      <td>0 days 02:00:00</td>\n",
       "      <td>#HeatingRepair</td>\n",
       "    </tr>\n",
       "  </tbody>\n",
       "</table>\n",
       "</div>"
      ],
      "text/plain": [
       "                  begin                 end                  title  \\\n",
       "438 2022-01-17 08:00:00 2022-01-17 20:00:00  #EvadeCentralServices   \n",
       "441 2022-01-19 17:00:00 2022-01-19 19:00:00  #EvadeCentralServices   \n",
       "442 2022-01-18 08:00:00 2022-01-18 18:00:00         #HeatingRepair   \n",
       "443 2022-01-19 08:15:00 2022-01-19 18:15:00         #HeatingRepair   \n",
       "444 2022-01-18 12:00:00 2022-01-18 14:00:00  #EvadeCentralServices   \n",
       "447 2022-01-20 08:15:00 2022-01-20 18:15:00         #HeatingRepair   \n",
       "449 2022-01-20 12:00:00 2022-01-20 14:00:00         #HeatingRepair   \n",
       "\n",
       "           duration                    tag  \n",
       "438 0 days 12:00:00  #EvadeCentralServices  \n",
       "441 0 days 02:00:00  #EvadeCentralServices  \n",
       "442 0 days 10:00:00         #HeatingRepair  \n",
       "443 0 days 10:00:00         #HeatingRepair  \n",
       "444 0 days 02:00:00  #EvadeCentralServices  \n",
       "447 0 days 10:00:00         #HeatingRepair  \n",
       "449 0 days 02:00:00         #HeatingRepair  "
      ]
     },
     "execution_count": 10,
     "metadata": {},
     "output_type": "execute_result"
    }
   ],
   "source": [
    "time_tracking"
   ]
  },
  {
   "cell_type": "code",
   "execution_count": 11,
   "id": "6937fd3a-0151-4911-bb47-ecb6f5f6022f",
   "metadata": {},
   "outputs": [],
   "source": [
    "from tuttle.model import Project, Contract"
   ]
  },
  {
   "cell_type": "code",
   "execution_count": 12,
   "id": "8e9a9dbb-76f1-4f47-aed2-fbed4bf9508b",
   "metadata": {},
   "outputs": [],
   "source": [
    "import datetime"
   ]
  },
  {
   "cell_type": "code",
   "execution_count": 13,
   "id": "b54d6c88-6d42-4e6a-8a9c-61a2b4fe8cad",
   "metadata": {},
   "outputs": [],
   "source": [
    "from tuttle.time import TimeUnit"
   ]
  },
  {
   "cell_type": "code",
   "execution_count": 14,
   "id": "e7658e1f-82f8-4339-98b6-f4a197f9ea51",
   "metadata": {},
   "outputs": [],
   "source": [
    "contract_hr = Contract(\n",
    "    title=\"Heating Repair Contract\",\n",
    "    start_date=datetime.date(2022,1,1),\n",
    "    volume=128,\n",
    "    unit=TimeUnit.hour,\n",
    ")"
   ]
  },
  {
   "cell_type": "code",
   "execution_count": 15,
   "id": "0b84df42-982f-413e-b49b-cf35de69e2bf",
   "metadata": {},
   "outputs": [],
   "source": [
    "proj_hr = Project(\n",
    "    title=\"Heating Repair\",\n",
    "    tag=\"#HeatingRepair\",\n",
    "    start_date=datetime.date(2022,1,1),\n",
    "    contract=contract_hr\n",
    ")"
   ]
  },
  {
   "cell_type": "code",
   "execution_count": 32,
   "id": "3bc329b1-e3d3-4ef3-86ce-35628f9f240f",
   "metadata": {},
   "outputs": [],
   "source": [
    "def progress(\n",
    "    project: Project,\n",
    "    time_tracking_data: DataFrame[TimeTracking],\n",
    "):\n",
    "    tag = project.tag\n",
    "    total_time = (\n",
    "        time_tracking_data\n",
    "        .filter([\"tag\", \"duration\"])\n",
    "        .query(f\"tag == @tag\")\n",
    "        .groupby(\"tag\")\n",
    "        .sum()\n",
    "    )\n",
    "    budget = project.contract.volume * datetime.timedelta(hours=1)\n",
    "    return total_time.loc[tag][\"duration\"] / budget\n",
    "    "
   ]
  },
  {
   "cell_type": "code",
   "execution_count": 33,
   "id": "64c664d4-4b73-40a1-8c71-86377f520c29",
   "metadata": {},
   "outputs": [
    {
     "data": {
      "text/plain": [
       "0.25"
      ]
     },
     "execution_count": 33,
     "metadata": {},
     "output_type": "execute_result"
    }
   ],
   "source": [
    "progress(\n",
    "    project=proj_hr,\n",
    "    time_tracking_data=time_tracking\n",
    ")"
   ]
  },
  {
   "cell_type": "code",
   "execution_count": null,
   "id": "13210f89-5e98-4292-bb18-8e8a2cc8644d",
   "metadata": {},
   "outputs": [],
   "source": []
  },
  {
   "cell_type": "code",
   "execution_count": null,
   "id": "2063645c-f79b-4735-8b6a-4b6fece63e3f",
   "metadata": {},
   "outputs": [],
   "source": []
  }
 ],
 "metadata": {
  "kernelspec": {
   "display_name": "tuttle",
   "language": "python",
   "name": "ex"
  },
  "language_info": {
   "codemirror_mode": {
    "name": "ipython",
    "version": 3
   },
   "file_extension": ".py",
   "mimetype": "text/x-python",
   "name": "python",
   "nbconvert_exporter": "python",
   "pygments_lexer": "ipython3",
   "version": "3.10.5"
  }
 },
 "nbformat": 4,
 "nbformat_minor": 5
}
