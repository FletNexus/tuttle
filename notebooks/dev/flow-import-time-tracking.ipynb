{
 "cells": [
  {
   "cell_type": "markdown",
   "metadata": {},
   "source": [
    "# Workflow: Import your Time Tracking Data"
   ]
  },
  {
   "cell_type": "code",
   "execution_count": null,
   "metadata": {},
   "outputs": [],
   "source": [
    "from tuttle import timetracking"
   ]
  },
  {
   "cell_type": "markdown",
   "metadata": {},
   "source": [
    "## Option 1: From an [iCalendar](https://en.wikipedia.org/wiki/ICalendar) File"
   ]
  },
  {
   "cell_type": "code",
   "execution_count": 10,
   "metadata": {},
   "outputs": [],
   "source": [
    "from tuttle.calendar import FileCalendar"
   ]
  },
  {
   "cell_type": "markdown",
   "metadata": {},
   "source": [
    "## Option 2: From a cloud calendar\n",
    "\n",
    "- iCloud\n",
    "- Google Calendar [not yet supported]"
   ]
  },
  {
   "cell_type": "code",
   "execution_count": 1,
   "metadata": {},
   "outputs": [
    {
     "name": "stdout",
     "output_type": "stream",
     "text": [
      "2022-01-21 12:56:46,618 INFO sqlalchemy.engine.Engine BEGIN (implicit)\n",
      "2022-01-21 12:56:46,618 INFO sqlalchemy.engine.Engine PRAGMA main.table_info(\"address\")\n",
      "2022-01-21 12:56:46,618 INFO sqlalchemy.engine.Engine [raw sql] ()\n",
      "2022-01-21 12:56:46,619 INFO sqlalchemy.engine.Engine PRAGMA main.table_info(\"user\")\n",
      "2022-01-21 12:56:46,619 INFO sqlalchemy.engine.Engine [raw sql] ()\n",
      "2022-01-21 12:56:46,619 INFO sqlalchemy.engine.Engine PRAGMA main.table_info(\"icloudaccount\")\n",
      "2022-01-21 12:56:46,619 INFO sqlalchemy.engine.Engine [raw sql] ()\n",
      "2022-01-21 12:56:46,620 INFO sqlalchemy.engine.Engine PRAGMA main.table_info(\"googleaccount\")\n",
      "2022-01-21 12:56:46,620 INFO sqlalchemy.engine.Engine [raw sql] ()\n",
      "2022-01-21 12:56:46,620 INFO sqlalchemy.engine.Engine PRAGMA main.table_info(\"bank\")\n",
      "2022-01-21 12:56:46,621 INFO sqlalchemy.engine.Engine [raw sql] ()\n",
      "2022-01-21 12:56:46,621 INFO sqlalchemy.engine.Engine PRAGMA main.table_info(\"bankaccount\")\n",
      "2022-01-21 12:56:46,621 INFO sqlalchemy.engine.Engine [raw sql] ()\n",
      "2022-01-21 12:56:46,621 INFO sqlalchemy.engine.Engine PRAGMA main.table_info(\"contact\")\n",
      "2022-01-21 12:56:46,622 INFO sqlalchemy.engine.Engine [raw sql] ()\n",
      "2022-01-21 12:56:46,622 INFO sqlalchemy.engine.Engine PRAGMA main.table_info(\"client\")\n",
      "2022-01-21 12:56:46,622 INFO sqlalchemy.engine.Engine [raw sql] ()\n",
      "2022-01-21 12:56:46,623 INFO sqlalchemy.engine.Engine PRAGMA main.table_info(\"contract\")\n",
      "2022-01-21 12:56:46,623 INFO sqlalchemy.engine.Engine [raw sql] ()\n",
      "2022-01-21 12:56:46,623 INFO sqlalchemy.engine.Engine PRAGMA main.table_info(\"project\")\n",
      "2022-01-21 12:56:46,623 INFO sqlalchemy.engine.Engine [raw sql] ()\n",
      "2022-01-21 12:56:46,624 INFO sqlalchemy.engine.Engine PRAGMA main.table_info(\"timesheet\")\n",
      "2022-01-21 12:56:46,624 INFO sqlalchemy.engine.Engine [raw sql] ()\n",
      "2022-01-21 12:56:46,624 INFO sqlalchemy.engine.Engine PRAGMA main.table_info(\"invoice\")\n",
      "2022-01-21 12:56:46,624 INFO sqlalchemy.engine.Engine [raw sql] ()\n",
      "2022-01-21 12:56:46,625 INFO sqlalchemy.engine.Engine PRAGMA main.table_info(\"invoiceitem\")\n",
      "2022-01-21 12:56:46,625 INFO sqlalchemy.engine.Engine [raw sql] ()\n",
      "2022-01-21 12:56:46,626 INFO sqlalchemy.engine.Engine PRAGMA main.table_info(\"timelineitem\")\n",
      "2022-01-21 12:56:46,626 INFO sqlalchemy.engine.Engine [raw sql] ()\n",
      "2022-01-21 12:56:46,627 INFO sqlalchemy.engine.Engine COMMIT\n"
     ]
    }
   ],
   "source": [
    "from tuttle.model import ICloudAccount\n",
    "from tuttle.cloud import login_iCloud\n",
    "from tuttle.calendar import ICloudCalendar"
   ]
  },
  {
   "cell_type": "code",
   "execution_count": 2,
   "metadata": {},
   "outputs": [],
   "source": [
    "my_iCloud_account =  ICloudAccount(\n",
    "    user_name=input(\"iCloud user name: \")\n",
    ")"
   ]
  },
  {
   "cell_type": "markdown",
   "metadata": {},
   "source": [
    "Now log in by entering your password securely. You may be asked for a verification code as well."
   ]
  },
  {
   "cell_type": "code",
   "execution_count": 3,
   "metadata": {},
   "outputs": [],
   "source": [
    "iCloud = login_iCloud(my_iCloud_account)"
   ]
  },
  {
   "cell_type": "code",
   "execution_count": 4,
   "metadata": {},
   "outputs": [
    {
     "name": "stderr",
     "output_type": "stream",
     "text": [
      "/Users/cls/miniforge3/envs/tuttle/lib/python3.9/site-packages/pyicloud/services/calendar.py:81: PytzUsageWarning: The zone attribute is specific to pytz's interface; please migrate to a new time zone provider. For more details on how to do so, see https://pytz-deprecation-shim.readthedocs.io/en/latest/migration.html\n",
      "  \"usertz\": get_localzone().zone,\n"
     ]
    }
   ],
   "source": [
    "my_calendar = ICloudCalendar(\n",
    "    iCloud,\n",
    "    name=input(\"time tracking calendar name: \")\n",
    ")"
   ]
  },
  {
   "cell_type": "code",
   "execution_count": 5,
   "metadata": {},
   "outputs": [],
   "source": [
    "from tuttle import timetracking"
   ]
  },
  {
   "cell_type": "code",
   "execution_count": 9,
   "metadata": {},
   "outputs": [
    {
     "name": "stderr",
     "output_type": "stream",
     "text": [
      "/Users/cls/miniforge3/envs/tuttle/lib/python3.9/site-packages/pyicloud/services/calendar.py:53: PytzUsageWarning: The zone attribute is specific to pytz's interface; please migrate to a new time zone provider. For more details on how to do so, see https://pytz-deprecation-shim.readthedocs.io/en/latest/migration.html\n",
      "  \"usertz\": get_localzone().zone,\n"
     ]
    },
    {
     "data": {
      "text/html": [
       "<div>\n",
       "<style scoped>\n",
       "    .dataframe tbody tr th:only-of-type {\n",
       "        vertical-align: middle;\n",
       "    }\n",
       "\n",
       "    .dataframe tbody tr th {\n",
       "        vertical-align: top;\n",
       "    }\n",
       "\n",
       "    .dataframe thead th {\n",
       "        text-align: right;\n",
       "    }\n",
       "</style>\n",
       "<table border=\"1\" class=\"dataframe\">\n",
       "  <thead>\n",
       "    <tr style=\"text-align: right;\">\n",
       "      <th></th>\n",
       "      <th>begin</th>\n",
       "      <th>end</th>\n",
       "      <th>title</th>\n",
       "      <th>tag</th>\n",
       "      <th>description</th>\n",
       "      <th>duration</th>\n",
       "    </tr>\n",
       "  </thead>\n",
       "  <tbody>\n",
       "    <tr>\n",
       "      <th>436</th>\n",
       "      <td>2022-01-18 12:00:00</td>\n",
       "      <td>2022-01-18 14:00:00</td>\n",
       "      <td>#EvadeCentralServices</td>\n",
       "      <td>#EvadeCentralServices</td>\n",
       "      <td>NaN</td>\n",
       "      <td>0 days 02:00:00</td>\n",
       "    </tr>\n",
       "    <tr>\n",
       "      <th>437</th>\n",
       "      <td>2022-01-20 12:00:00</td>\n",
       "      <td>2022-01-20 14:00:00</td>\n",
       "      <td>#HeatingRepair</td>\n",
       "      <td>#HeatingRepair</td>\n",
       "      <td>NaN</td>\n",
       "      <td>0 days 02:00:00</td>\n",
       "    </tr>\n",
       "    <tr>\n",
       "      <th>438</th>\n",
       "      <td>2022-01-19 17:00:00</td>\n",
       "      <td>2022-01-19 19:00:00</td>\n",
       "      <td>#EvadeCentralServices</td>\n",
       "      <td>#EvadeCentralServices</td>\n",
       "      <td>NaN</td>\n",
       "      <td>0 days 02:00:00</td>\n",
       "    </tr>\n",
       "    <tr>\n",
       "      <th>452</th>\n",
       "      <td>2022-01-17 08:00:00</td>\n",
       "      <td>2022-01-17 20:00:00</td>\n",
       "      <td>#EvadeCentralServices</td>\n",
       "      <td>#EvadeCentralServices</td>\n",
       "      <td>NaN</td>\n",
       "      <td>0 days 12:00:00</td>\n",
       "    </tr>\n",
       "    <tr>\n",
       "      <th>453</th>\n",
       "      <td>2022-01-18 08:00:00</td>\n",
       "      <td>2022-01-18 18:00:00</td>\n",
       "      <td>#HeatingRepair</td>\n",
       "      <td>#HeatingRepair</td>\n",
       "      <td>NaN</td>\n",
       "      <td>0 days 10:00:00</td>\n",
       "    </tr>\n",
       "    <tr>\n",
       "      <th>457</th>\n",
       "      <td>2022-01-20 08:15:00</td>\n",
       "      <td>2022-01-20 18:15:00</td>\n",
       "      <td>#HeatingRepair</td>\n",
       "      <td>#HeatingRepair</td>\n",
       "      <td>NaN</td>\n",
       "      <td>0 days 10:00:00</td>\n",
       "    </tr>\n",
       "    <tr>\n",
       "      <th>458</th>\n",
       "      <td>2022-01-19 08:15:00</td>\n",
       "      <td>2022-01-19 18:15:00</td>\n",
       "      <td>#HeatingRepair</td>\n",
       "      <td>#HeatingRepair</td>\n",
       "      <td>NaN</td>\n",
       "      <td>0 days 10:00:00</td>\n",
       "    </tr>\n",
       "  </tbody>\n",
       "</table>\n",
       "</div>"
      ],
      "text/plain": [
       "                  begin                 end                  title  \\\n",
       "436 2022-01-18 12:00:00 2022-01-18 14:00:00  #EvadeCentralServices   \n",
       "437 2022-01-20 12:00:00 2022-01-20 14:00:00         #HeatingRepair   \n",
       "438 2022-01-19 17:00:00 2022-01-19 19:00:00  #EvadeCentralServices   \n",
       "452 2022-01-17 08:00:00 2022-01-17 20:00:00  #EvadeCentralServices   \n",
       "453 2022-01-18 08:00:00 2022-01-18 18:00:00         #HeatingRepair   \n",
       "457 2022-01-20 08:15:00 2022-01-20 18:15:00         #HeatingRepair   \n",
       "458 2022-01-19 08:15:00 2022-01-19 18:15:00         #HeatingRepair   \n",
       "\n",
       "                       tag description        duration  \n",
       "436  #EvadeCentralServices         NaN 0 days 02:00:00  \n",
       "437         #HeatingRepair         NaN 0 days 02:00:00  \n",
       "438  #EvadeCentralServices         NaN 0 days 02:00:00  \n",
       "452  #EvadeCentralServices         NaN 0 days 12:00:00  \n",
       "453         #HeatingRepair         NaN 0 days 10:00:00  \n",
       "457         #HeatingRepair         NaN 0 days 10:00:00  \n",
       "458         #HeatingRepair         NaN 0 days 10:00:00  "
      ]
     },
     "execution_count": 9,
     "metadata": {},
     "output_type": "execute_result"
    }
   ],
   "source": [
    "timetracking_data = timetracking.import_from_calendar(my_calendar)\n",
    "timetracking_data"
   ]
  },
  {
   "cell_type": "code",
   "execution_count": null,
   "metadata": {},
   "outputs": [],
   "source": []
  }
 ],
 "metadata": {
  "interpreter": {
   "hash": "1b2a14e316f8528313aca7083ad4a819e30957812d4a6b2b5fed00540ac717aa"
  },
  "kernelspec": {
   "display_name": "Python 3 (ipykernel)",
   "language": "python",
   "name": "python3"
  },
  "language_info": {
   "codemirror_mode": {
    "name": "ipython",
    "version": 3
   },
   "file_extension": ".py",
   "mimetype": "text/x-python",
   "name": "python",
   "nbconvert_exporter": "python",
   "pygments_lexer": "ipython3",
   "version": "3.9.7"
  }
 },
 "nbformat": 4,
 "nbformat_minor": 4
}
