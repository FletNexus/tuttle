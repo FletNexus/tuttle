{
 "cells": [
  {
   "cell_type": "markdown",
   "id": "f477e158-44ca-4623-8640-51cb929c378d",
   "metadata": {},
   "source": [
    "# Test: FinTS Banking"
   ]
  },
  {
   "cell_type": "code",
   "execution_count": 1,
   "id": "2c3ca52c-1dd9-4b68-b9ed-0c40e72cc3f0",
   "metadata": {},
   "outputs": [],
   "source": [
    "import getpass"
   ]
  },
  {
   "cell_type": "code",
   "execution_count": 2,
   "id": "e1fb772a-95ae-4e54-992f-0450e4d834d1",
   "metadata": {},
   "outputs": [],
   "source": [
    "from tuttle.banking import Banking\n",
    "from tuttle.model import BankAccount"
   ]
  },
  {
   "cell_type": "code",
   "execution_count": 3,
   "id": "a3ab52f6-24b7-4e36-addb-17794febdfe9",
   "metadata": {},
   "outputs": [
    {
     "name": "stdin",
     "output_type": "stream",
     "text": [
      "IBAN:  ······················\n",
      "BLZ:  ········\n"
     ]
    }
   ],
   "source": [
    "BLZ = getpass.getpass(\"BLZ: \")"
   ]
  },
  {
   "cell_type": "code",
   "execution_count": 4,
   "id": "0bee25de-c0bd-41ab-a438-fdfb002b12ea",
   "metadata": {},
   "outputs": [],
   "source": [
    "my_account = Bank(BLZ=BLZ)"
   ]
  },
  {
   "cell_type": "code",
   "execution_count": 5,
   "id": "3241e0fe-e91d-4db9-a4d2-283b4a2ada75",
   "metadata": {},
   "outputs": [],
   "source": [
    "banking = Banking(account=my_account)"
   ]
  },
  {
   "cell_type": "code",
   "execution_count": 6,
   "id": "ec831407-415f-4e92-832e-60ac3a42e95b",
   "metadata": {},
   "outputs": [
    {
     "name": "stdin",
     "output_type": "stream",
     "text": [
      "user name:  ········\n",
      "PIN: ·····\n"
     ]
    },
    {
     "name": "stderr",
     "output_type": "stream",
     "text": [
      "You should register your program with the ZKA and pass your own product_id as a parameter.\n"
     ]
    }
   ],
   "source": [
    "banking.connect()"
   ]
  },
  {
   "cell_type": "code",
   "execution_count": 7,
   "id": "e875ec10-94be-4fd9-bf77-184bd17372ac",
   "metadata": {},
   "outputs": [
    {
     "data": {
      "text/plain": [
       "'clstaudt'"
      ]
     },
     "execution_count": 7,
     "metadata": {},
     "output_type": "execute_result"
    }
   ],
   "source": [
    "banking.connection.customer_id"
   ]
  },
  {
   "cell_type": "code",
   "execution_count": 8,
   "id": "55b7a217-6a36-4687-b5fe-82c373e29a57",
   "metadata": {},
   "outputs": [
    {
     "data": {
      "text/plain": [
       "[SEPAAccount(iban='DE91830944950003161439', bic='GENODEF1ESN', accountnumber='3161439', subaccount=None, blz='83094494'),\n",
       " SEPAAccount(iban='DE38830944950103161439', bic='GENODEF1ESN', accountnumber='103161439', subaccount=None, blz='83094494'),\n",
       " SEPAAccount(iban='DE23830944950113161439', bic='GENODEF1ESN', accountnumber='113161439', subaccount=None, blz='83094494')]"
      ]
     },
     "execution_count": 8,
     "metadata": {},
     "output_type": "execute_result"
    }
   ],
   "source": [
    "accounts = banking.connection.get_sepa_accounts()\n",
    "accounts"
   ]
  },
  {
   "cell_type": "code",
   "execution_count": 9,
   "id": "f050f7df-2913-45bd-99ec-819cd3f236eb",
   "metadata": {},
   "outputs": [
    {
     "name": "stderr",
     "output_type": "stream",
     "text": [
      "Dialog response: 3060 - Bitte beachten Sie die enthaltenen Warnungen/Hinweise.\n",
      "Dialog response: 3920 - Zugelassene TAN-Verfahren für den Benutzer (['962', '972', '982'])\n"
     ]
    },
    {
     "data": {
      "text/plain": [
       "<53681.29 EUR @ 2022-01-04>"
      ]
     },
     "execution_count": 9,
     "metadata": {},
     "output_type": "execute_result"
    }
   ],
   "source": [
    "banking.connection.get_balance(accounts[0])"
   ]
  },
  {
   "cell_type": "code",
   "execution_count": 10,
   "id": "76af2836-7f35-4ca1-a342-b79d32dc0e61",
   "metadata": {},
   "outputs": [
    {
     "name": "stderr",
     "output_type": "stream",
     "text": [
      "Dialog response: 3060 - Bitte beachten Sie die enthaltenen Warnungen/Hinweise.\n",
      "Dialog response: 3920 - Zugelassene TAN-Verfahren für den Benutzer (['962', '972', '982'])\n"
     ]
    },
    {
     "data": {
      "text/plain": [
       "<4996.5 EUR @ 2022-01-04>"
      ]
     },
     "execution_count": 10,
     "metadata": {},
     "output_type": "execute_result"
    }
   ],
   "source": [
    "banking.connection.get_balance(accounts[1])"
   ]
  },
  {
   "cell_type": "code",
   "execution_count": 11,
   "id": "475c6061-64a0-45a9-9ab2-59fc7ad4c685",
   "metadata": {},
   "outputs": [
    {
     "name": "stderr",
     "output_type": "stream",
     "text": [
      "Dialog response: 3060 - Bitte beachten Sie die enthaltenen Warnungen/Hinweise.\n",
      "Dialog response: 3920 - Zugelassene TAN-Verfahren für den Benutzer (['962', '972', '982'])\n"
     ]
    },
    {
     "data": {
      "text/plain": [
       "<-158.17 EUR @ 2022-01-04>"
      ]
     },
     "execution_count": 11,
     "metadata": {},
     "output_type": "execute_result"
    }
   ],
   "source": [
    "banking.connection.get_balance(accounts[2])"
   ]
  },
  {
   "cell_type": "code",
   "execution_count": 13,
   "id": "057958cd-fd49-4090-bc56-003c71548f65",
   "metadata": {},
   "outputs": [],
   "source": [
    "account = accounts[0]"
   ]
  },
  {
   "cell_type": "code",
   "execution_count": 14,
   "id": "8934172c-e376-42a6-88da-9f8cf44c8eae",
   "metadata": {},
   "outputs": [
    {
     "data": {
      "text/plain": [
       "SEPAAccount(iban='DE91830944950003161439', bic='GENODEF1ESN', accountnumber='3161439', subaccount=None, blz='83094494')"
      ]
     },
     "execution_count": 14,
     "metadata": {},
     "output_type": "execute_result"
    }
   ],
   "source": [
    "account"
   ]
  },
  {
   "cell_type": "code",
   "execution_count": 18,
   "id": "670e8139-ceca-412c-9aac-32360fcd4ac6",
   "metadata": {},
   "outputs": [
    {
     "data": {
      "text/plain": [
       "'999'"
      ]
     },
     "execution_count": 18,
     "metadata": {},
     "output_type": "execute_result"
    }
   ],
   "source": [
    "banking.connection.fetch_tan_mechanisms()"
   ]
  },
  {
   "cell_type": "code",
   "execution_count": 19,
   "id": "1ad3699b-1b55-47f8-91b9-7389b887029d",
   "metadata": {},
   "outputs": [
    {
     "data": {
      "text/plain": [
       "{'bank': {'name': 'Volksbank Eisenberg eG',\n",
       "  'supported_operations': {<FinTSOperations.GET_BALANCE: ('HKSAL',)>: True,\n",
       "   <FinTSOperations.GET_TRANSACTIONS: ('HKKAZ',)>: True,\n",
       "   <FinTSOperations.GET_TRANSACTIONS_XML: ('HKCAZ',)>: True,\n",
       "   <FinTSOperations.GET_CREDIT_CARD_TRANSACTIONS: ('DKKKU',)>: False,\n",
       "   <FinTSOperations.GET_STATEMENT: ('HKEKA',)>: True,\n",
       "   <FinTSOperations.GET_STATEMENT_PDF: ('HKEKP',)>: False,\n",
       "   <FinTSOperations.GET_HOLDINGS: ('HKWPD',)>: True,\n",
       "   <FinTSOperations.GET_SEPA_ACCOUNTS: ('HKSPA',)>: True,\n",
       "   <FinTSOperations.GET_SCHEDULED_DEBITS_SINGLE: ('HKDBS',)>: True,\n",
       "   <FinTSOperations.GET_SCHEDULED_DEBITS_MULTIPLE: ('HKDMB',)>: True,\n",
       "   <FinTSOperations.GET_STATUS_PROTOCOL: ('HKPRO',)>: False,\n",
       "   <FinTSOperations.SEPA_TRANSFER_SINGLE: ('HKCCS',)>: True,\n",
       "   <FinTSOperations.SEPA_TRANSFER_MULTIPLE: ('HKCCM',)>: True,\n",
       "   <FinTSOperations.SEPA_DEBIT_SINGLE: ('HKDSE',)>: True,\n",
       "   <FinTSOperations.SEPA_DEBIT_MULTIPLE: ('HKDME',)>: True,\n",
       "   <FinTSOperations.SEPA_DEBIT_SINGLE_COR1: ('HKDSC',)>: True,\n",
       "   <FinTSOperations.SEPA_DEBIT_MULTIPLE_COR1: ('HKDMC',)>: True,\n",
       "   <FinTSOperations.SEPA_STANDING_DEBIT_SINGLE_CREATE: ('HKDDE',)>: True,\n",
       "   <FinTSOperations.GET_SEPA_STANDING_DEBITS_SINGLE: ('HKDDB',)>: True,\n",
       "   <FinTSOperations.SEPA_STANDING_DEBIT_SINGLE_DELETE: ('HKDDL',)>: True},\n",
       "  'supported_formats': {<FinTSOperations.GET_SEPA_ACCOUNTS: ('HKSPA',)>: ['sepade:xsd:pain.001.003.03.xsd',\n",
       "    'sepade:xsd:pain.008.003.02.xsd',\n",
       "    'sepade:xsd:pain.001.001.03_GBIC_3.xsd',\n",
       "    'sepade:xsd:pain.001.001.03.xsd',\n",
       "    'sepade:xsd:pain.008.001.02_GBIC_2.xsd',\n",
       "    'sepade:xsd:pain.008.001.02_GBIC_3.xsd',\n",
       "    'sepade:xsd:pain.001.001.03_GBIC_2.xsd',\n",
       "    'sepade:xsd:pain.008.001.02.xsd'],\n",
       "   <FinTSOperations.GET_SCHEDULED_DEBITS_SINGLE: ('HKDBS',)>: [],\n",
       "   <FinTSOperations.GET_SCHEDULED_DEBITS_MULTIPLE: ('HKDMB',)>: [],\n",
       "   <FinTSOperations.SEPA_TRANSFER_MULTIPLE: ('HKCCM',)>: [],\n",
       "   <FinTSOperations.SEPA_DEBIT_SINGLE: ('HKDSE',)>: [],\n",
       "   <FinTSOperations.SEPA_DEBIT_MULTIPLE: ('HKDME',)>: [],\n",
       "   <FinTSOperations.SEPA_DEBIT_SINGLE_COR1: ('HKDSC',)>: ['sepade:xsd:pain.008.003.02.xsd'],\n",
       "   <FinTSOperations.SEPA_DEBIT_MULTIPLE_COR1: ('HKDMC',)>: ['sepade:xsd:pain.008.003.02.xsd']},\n",
       "  'supported_sepa_formats': ['sepade:xsd:pain.001.003.03.xsd',\n",
       "   'sepade:xsd:pain.008.003.02.xsd',\n",
       "   'sepade:xsd:pain.008.001.02.xsd',\n",
       "   'sepade:xsd:pain.001.001.03.xsd',\n",
       "   'sepade:xsd:pain.001.001.03_GBIC_2.xsd',\n",
       "   'sepade:xsd:pain.008.001.02_GBIC_2.xsd',\n",
       "   'sepade:xsd:pain.001.001.03_GBIC_3.xsd',\n",
       "   'sepade:xsd:pain.008.001.02_GBIC_3.xsd']},\n",
       " 'accounts': [{'iban': 'DE91830944950003161439',\n",
       "   'account_number': '3161439',\n",
       "   'subaccount_number': None,\n",
       "   'bank_identifier': fints.formals.BankIdentifier(country_identifier='280', bank_code='83094494'),\n",
       "   'customer_id': 'clstaudt',\n",
       "   'type': 1,\n",
       "   'currency': 'EUR',\n",
       "   'owner_name': ['Christian Staudt'],\n",
       "   'product_name': 'Kontokorrent',\n",
       "   'supported_operations': {<FinTSOperations.GET_BALANCE: ('HKSAL',)>: True,\n",
       "    <FinTSOperations.GET_TRANSACTIONS: ('HKKAZ',)>: True,\n",
       "    <FinTSOperations.GET_TRANSACTIONS_XML: ('HKCAZ',)>: True,\n",
       "    <FinTSOperations.GET_CREDIT_CARD_TRANSACTIONS: ('DKKKU',)>: False,\n",
       "    <FinTSOperations.GET_STATEMENT: ('HKEKA',)>: True,\n",
       "    <FinTSOperations.GET_STATEMENT_PDF: ('HKEKP',)>: False,\n",
       "    <FinTSOperations.GET_HOLDINGS: ('HKWPD',)>: False,\n",
       "    <FinTSOperations.GET_SEPA_ACCOUNTS: ('HKSPA',)>: True,\n",
       "    <FinTSOperations.GET_SCHEDULED_DEBITS_SINGLE: ('HKDBS',)>: True,\n",
       "    <FinTSOperations.GET_SCHEDULED_DEBITS_MULTIPLE: ('HKDMB',)>: True,\n",
       "    <FinTSOperations.GET_STATUS_PROTOCOL: ('HKPRO',)>: False,\n",
       "    <FinTSOperations.SEPA_TRANSFER_SINGLE: ('HKCCS',)>: True,\n",
       "    <FinTSOperations.SEPA_TRANSFER_MULTIPLE: ('HKCCM',)>: False,\n",
       "    <FinTSOperations.SEPA_DEBIT_SINGLE: ('HKDSE',)>: False,\n",
       "    <FinTSOperations.SEPA_DEBIT_MULTIPLE: ('HKDME',)>: False,\n",
       "    <FinTSOperations.SEPA_DEBIT_SINGLE_COR1: ('HKDSC',)>: False,\n",
       "    <FinTSOperations.SEPA_DEBIT_MULTIPLE_COR1: ('HKDMC',)>: False,\n",
       "    <FinTSOperations.SEPA_STANDING_DEBIT_SINGLE_CREATE: ('HKDDE',)>: False,\n",
       "    <FinTSOperations.GET_SEPA_STANDING_DEBITS_SINGLE: ('HKDDB',)>: False,\n",
       "    <FinTSOperations.SEPA_STANDING_DEBIT_SINGLE_DELETE: ('HKDDL',)>: False}},\n",
       "  {'iban': 'DE38830944950103161439',\n",
       "   'account_number': '103161439',\n",
       "   'subaccount_number': None,\n",
       "   'bank_identifier': fints.formals.BankIdentifier(country_identifier='280', bank_code='83094494'),\n",
       "   'customer_id': 'clstaudt',\n",
       "   'type': 20,\n",
       "   'currency': 'EUR',\n",
       "   'owner_name': ['Christian Staudt'],\n",
       "   'product_name': 'Termineinlage',\n",
       "   'supported_operations': {<FinTSOperations.GET_BALANCE: ('HKSAL',)>: True,\n",
       "    <FinTSOperations.GET_TRANSACTIONS: ('HKKAZ',)>: True,\n",
       "    <FinTSOperations.GET_TRANSACTIONS_XML: ('HKCAZ',)>: True,\n",
       "    <FinTSOperations.GET_CREDIT_CARD_TRANSACTIONS: ('DKKKU',)>: False,\n",
       "    <FinTSOperations.GET_STATEMENT: ('HKEKA',)>: True,\n",
       "    <FinTSOperations.GET_STATEMENT_PDF: ('HKEKP',)>: False,\n",
       "    <FinTSOperations.GET_HOLDINGS: ('HKWPD',)>: False,\n",
       "    <FinTSOperations.GET_SEPA_ACCOUNTS: ('HKSPA',)>: True,\n",
       "    <FinTSOperations.GET_SCHEDULED_DEBITS_SINGLE: ('HKDBS',)>: True,\n",
       "    <FinTSOperations.GET_SCHEDULED_DEBITS_MULTIPLE: ('HKDMB',)>: True,\n",
       "    <FinTSOperations.GET_STATUS_PROTOCOL: ('HKPRO',)>: False,\n",
       "    <FinTSOperations.SEPA_TRANSFER_SINGLE: ('HKCCS',)>: True,\n",
       "    <FinTSOperations.SEPA_TRANSFER_MULTIPLE: ('HKCCM',)>: False,\n",
       "    <FinTSOperations.SEPA_DEBIT_SINGLE: ('HKDSE',)>: False,\n",
       "    <FinTSOperations.SEPA_DEBIT_MULTIPLE: ('HKDME',)>: False,\n",
       "    <FinTSOperations.SEPA_DEBIT_SINGLE_COR1: ('HKDSC',)>: False,\n",
       "    <FinTSOperations.SEPA_DEBIT_MULTIPLE_COR1: ('HKDMC',)>: False,\n",
       "    <FinTSOperations.SEPA_STANDING_DEBIT_SINGLE_CREATE: ('HKDDE',)>: False,\n",
       "    <FinTSOperations.GET_SEPA_STANDING_DEBITS_SINGLE: ('HKDDB',)>: False,\n",
       "    <FinTSOperations.SEPA_STANDING_DEBIT_SINGLE_DELETE: ('HKDDL',)>: False}},\n",
       "  {'iban': 'DE23830944950113161439',\n",
       "   'account_number': '113161439',\n",
       "   'subaccount_number': None,\n",
       "   'bank_identifier': fints.formals.BankIdentifier(country_identifier='280', bank_code='83094494'),\n",
       "   'customer_id': 'clstaudt',\n",
       "   'type': 50,\n",
       "   'currency': 'EUR',\n",
       "   'owner_name': ['Christian Staudt'],\n",
       "   'product_name': 'Kreditkartenkonto',\n",
       "   'supported_operations': {<FinTSOperations.GET_BALANCE: ('HKSAL',)>: True,\n",
       "    <FinTSOperations.GET_TRANSACTIONS: ('HKKAZ',)>: True,\n",
       "    <FinTSOperations.GET_TRANSACTIONS_XML: ('HKCAZ',)>: True,\n",
       "    <FinTSOperations.GET_CREDIT_CARD_TRANSACTIONS: ('DKKKU',)>: False,\n",
       "    <FinTSOperations.GET_STATEMENT: ('HKEKA',)>: True,\n",
       "    <FinTSOperations.GET_STATEMENT_PDF: ('HKEKP',)>: False,\n",
       "    <FinTSOperations.GET_HOLDINGS: ('HKWPD',)>: False,\n",
       "    <FinTSOperations.GET_SEPA_ACCOUNTS: ('HKSPA',)>: True,\n",
       "    <FinTSOperations.GET_SCHEDULED_DEBITS_SINGLE: ('HKDBS',)>: False,\n",
       "    <FinTSOperations.GET_SCHEDULED_DEBITS_MULTIPLE: ('HKDMB',)>: False,\n",
       "    <FinTSOperations.GET_STATUS_PROTOCOL: ('HKPRO',)>: False,\n",
       "    <FinTSOperations.SEPA_TRANSFER_SINGLE: ('HKCCS',)>: False,\n",
       "    <FinTSOperations.SEPA_TRANSFER_MULTIPLE: ('HKCCM',)>: False,\n",
       "    <FinTSOperations.SEPA_DEBIT_SINGLE: ('HKDSE',)>: False,\n",
       "    <FinTSOperations.SEPA_DEBIT_MULTIPLE: ('HKDME',)>: False,\n",
       "    <FinTSOperations.SEPA_DEBIT_SINGLE_COR1: ('HKDSC',)>: False,\n",
       "    <FinTSOperations.SEPA_DEBIT_MULTIPLE_COR1: ('HKDMC',)>: False,\n",
       "    <FinTSOperations.SEPA_STANDING_DEBIT_SINGLE_CREATE: ('HKDDE',)>: False,\n",
       "    <FinTSOperations.GET_SEPA_STANDING_DEBITS_SINGLE: ('HKDDB',)>: False,\n",
       "    <FinTSOperations.SEPA_STANDING_DEBIT_SINGLE_DELETE: ('HKDDL',)>: False}}],\n",
       " 'auth': {'current_tan_mechanism': '999',\n",
       "  'tan_mechanisms': OrderedDict([('962',\n",
       "                fints.formals.TwoStepParameters6(security_function='962', tan_process='2', tech_id='HHD1.4', zka_id='HHD', zka_version='1.4', name='Smart-TAN plus manuell', max_length_input=6, allowed_format=fints.formals.AllowedFormat.NUMERIC, text_return_value='Challenge', max_length_return_value=2048, multiple_tans_allowed=True, tan_time_dialog_association=fints.formals.TANTimeDialogAssociation.NOT_ALLOWED, cancel_allowed=False, sms_charge_account_required=fints.formals.SMSChargeAccountRequired.MUST_NOT, principal_account_required=fints.formals.PrincipalAccountRequired.MUST, challenge_class_required=False, challenge_structured=True, initialization_mode=fints.formals.InitializationMode.CLEARTEXT_PIN_NO_TAN, description_required=fints.formals.DescriptionRequired.MUST_NOT, response_hhd_uc_required=False, supported_media_number=1)),\n",
       "               ('972',\n",
       "                fints.formals.TwoStepParameters6(security_function='972', tan_process='2', tech_id='HHD1.4OPT', zka_id='HHDOPT1', zka_version='1.4', name='Smart-TAN plus optisch / USB', max_length_input=6, allowed_format=fints.formals.AllowedFormat.NUMERIC, text_return_value='Challenge', max_length_return_value=2048, multiple_tans_allowed=True, tan_time_dialog_association=fints.formals.TANTimeDialogAssociation.NOT_ALLOWED, cancel_allowed=False, sms_charge_account_required=fints.formals.SMSChargeAccountRequired.MUST_NOT, principal_account_required=fints.formals.PrincipalAccountRequired.MUST, challenge_class_required=False, challenge_structured=True, initialization_mode=fints.formals.InitializationMode.CLEARTEXT_PIN_NO_TAN, description_required=fints.formals.DescriptionRequired.MUST_NOT, response_hhd_uc_required=False, supported_media_number=1)),\n",
       "               ('982',\n",
       "                fints.formals.TwoStepParameters6(security_function='982', tan_process='2', tech_id='MS1.0.0', zka_id=None, zka_version=None, name='Smart-TAN photo', max_length_input=6, allowed_format=fints.formals.AllowedFormat.NUMERIC, text_return_value='Challenge', max_length_return_value=2048, multiple_tans_allowed=True, tan_time_dialog_association=fints.formals.TANTimeDialogAssociation.NOT_ALLOWED, cancel_allowed=False, sms_charge_account_required=fints.formals.SMSChargeAccountRequired.MUST_NOT, principal_account_required=fints.formals.PrincipalAccountRequired.MUST, challenge_class_required=False, challenge_structured=True, initialization_mode=fints.formals.InitializationMode.CLEARTEXT_PIN_NO_TAN, description_required=fints.formals.DescriptionRequired.MUST_NOT, response_hhd_uc_required=False, supported_media_number=1))])}}"
      ]
     },
     "execution_count": 19,
     "metadata": {},
     "output_type": "execute_result"
    }
   ],
   "source": [
    "banking.connection.get_information()"
   ]
  },
  {
   "cell_type": "code",
   "execution_count": null,
   "id": "003e83f8-7396-4525-bbf2-ab31919fa9c2",
   "metadata": {},
   "outputs": [],
   "source": []
  }
 ],
 "metadata": {
  "kernelspec": {
   "display_name": "tuttle",
   "language": "python",
   "name": "ex"
  },
  "language_info": {
   "codemirror_mode": {
    "name": "ipython",
    "version": 3
   },
   "file_extension": ".py",
   "mimetype": "text/x-python",
   "name": "python",
   "nbconvert_exporter": "python",
   "pygments_lexer": "ipython3",
   "version": "3.9.7"
  }
 },
 "nbformat": 4,
 "nbformat_minor": 5
}
