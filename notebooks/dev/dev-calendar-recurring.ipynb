{
 "cells": [
  {
   "cell_type": "markdown",
   "id": "ab102b23-6a89-4a21-bcb4-efa3b4b0c149",
   "metadata": {},
   "source": [
    "# Dev: Recurring Events in Calendar"
   ]
  },
  {
   "cell_type": "markdown",
   "id": "a62a6d48-1209-497d-b4b6-26cc60fadc4f",
   "metadata": {},
   "source": [
    "## Preamble"
   ]
  },
  {
   "cell_type": "code",
   "execution_count": 1,
   "id": "4f23acd4-bfc7-4dc6-9d61-cedadbeb1dd2",
   "metadata": {},
   "outputs": [],
   "source": [
    "from pathlib import Path\n",
    "import ipywidgets"
   ]
  },
  {
   "cell_type": "markdown",
   "id": "11d81573-7f4d-46e9-9c5c-02f25cda5110",
   "metadata": {},
   "source": [
    "## Workflow"
   ]
  },
  {
   "cell_type": "code",
   "execution_count": 2,
   "id": "784e2c72-2223-40a4-9790-a6ec6fd35c77",
   "metadata": {},
   "outputs": [
    {
     "data": {
      "application/vnd.jupyter.widget-view+json": {
       "model_id": "9adc637712b843c6919dcb89e13a94c1",
       "version_major": 2,
       "version_minor": 0
      },
      "text/plain": [
       "FileUpload(value={}, accept='*.ics', description='Upload')"
      ]
     },
     "metadata": {},
     "output_type": "display_data"
    }
   ],
   "source": [
    "cal_upload = ipywidgets.FileUpload(\n",
    "    accept='*.ics',  # Accepted file extension e.g. '.txt', '.pdf', 'image/*', 'image/*,.pdf'\n",
    "    multiple=False  # True to accept multiple files upload else False\n",
    ")\n",
    "cal_upload"
   ]
  },
  {
   "cell_type": "code",
   "execution_count": 4,
   "id": "26ac4e5c-ef37-4a36-874f-18454ba33d09",
   "metadata": {},
   "outputs": [],
   "source": [
    "cal_content = list(cal_upload.value.values())[0][\"content\"]"
   ]
  },
  {
   "cell_type": "code",
   "execution_count": 5,
   "id": "05b26776-6e38-404b-b15a-753aa4c59382",
   "metadata": {},
   "outputs": [],
   "source": [
    "from tuttle.calendar import FileCalendar"
   ]
  },
  {
   "cell_type": "code",
   "execution_count": 7,
   "id": "3b051220-1c0e-40b1-ab31-261cb8b6a08c",
   "metadata": {},
   "outputs": [],
   "source": [
    "test_calendar = FileCalendar(name=\"debug\", content=cal_content)"
   ]
  },
  {
   "cell_type": "code",
   "execution_count": 8,
   "id": "8414d531-8640-435e-b165-da488754c632",
   "metadata": {},
   "outputs": [
    {
     "data": {
      "text/html": [
       "<div>\n",
       "<style scoped>\n",
       "    .dataframe tbody tr th:only-of-type {\n",
       "        vertical-align: middle;\n",
       "    }\n",
       "\n",
       "    .dataframe tbody tr th {\n",
       "        vertical-align: top;\n",
       "    }\n",
       "\n",
       "    .dataframe thead th {\n",
       "        text-align: right;\n",
       "    }\n",
       "</style>\n",
       "<table border=\"1\" class=\"dataframe\">\n",
       "  <thead>\n",
       "    <tr style=\"text-align: right;\">\n",
       "      <th></th>\n",
       "      <th>title</th>\n",
       "      <th>description</th>\n",
       "      <th>end</th>\n",
       "      <th>all_day</th>\n",
       "      <th>duration</th>\n",
       "      <th>tag</th>\n",
       "    </tr>\n",
       "    <tr>\n",
       "      <th>begin</th>\n",
       "      <th></th>\n",
       "      <th></th>\n",
       "      <th></th>\n",
       "      <th></th>\n",
       "      <th></th>\n",
       "      <th></th>\n",
       "    </tr>\n",
       "  </thead>\n",
       "  <tbody>\n",
       "    <tr>\n",
       "      <th>2022-01-14 09:00:00+01:00</th>\n",
       "      <td>#slf</td>\n",
       "      <td></td>\n",
       "      <td>2022-01-14 12:00:00+01:00</td>\n",
       "      <td>False</td>\n",
       "      <td>0 days 03:00:00</td>\n",
       "      <td>#slf</td>\n",
       "    </tr>\n",
       "    <tr>\n",
       "      <th>2022-01-03 09:00:00+01:00</th>\n",
       "      <td>#slf</td>\n",
       "      <td></td>\n",
       "      <td>2022-01-03 16:00:00+01:00</td>\n",
       "      <td>False</td>\n",
       "      <td>0 days 07:00:00</td>\n",
       "      <td>#slf</td>\n",
       "    </tr>\n",
       "  </tbody>\n",
       "</table>\n",
       "</div>"
      ],
      "text/plain": [
       "                          title description                       end  \\\n",
       "begin                                                                   \n",
       "2022-01-14 09:00:00+01:00  #slf             2022-01-14 12:00:00+01:00   \n",
       "2022-01-03 09:00:00+01:00  #slf             2022-01-03 16:00:00+01:00   \n",
       "\n",
       "                           all_day        duration   tag  \n",
       "begin                                                     \n",
       "2022-01-14 09:00:00+01:00    False 0 days 03:00:00  #slf  \n",
       "2022-01-03 09:00:00+01:00    False 0 days 07:00:00  #slf  "
      ]
     },
     "execution_count": 8,
     "metadata": {},
     "output_type": "execute_result"
    }
   ],
   "source": [
    "test_calendar.to_data()"
   ]
  },
  {
   "cell_type": "code",
   "execution_count": 9,
   "id": "b65dfca3-7462-421a-9b4b-90c3f190af2e",
   "metadata": {},
   "outputs": [
    {
     "data": {
      "text/html": [
       "<div>\n",
       "<style scoped>\n",
       "    .dataframe tbody tr th:only-of-type {\n",
       "        vertical-align: middle;\n",
       "    }\n",
       "\n",
       "    .dataframe tbody tr th {\n",
       "        vertical-align: top;\n",
       "    }\n",
       "\n",
       "    .dataframe thead th {\n",
       "        text-align: right;\n",
       "    }\n",
       "</style>\n",
       "<table border=\"1\" class=\"dataframe\">\n",
       "  <thead>\n",
       "    <tr style=\"text-align: right;\">\n",
       "      <th></th>\n",
       "      <th>_duration</th>\n",
       "      <th>_end_time</th>\n",
       "      <th>_begin</th>\n",
       "      <th>_begin_precision</th>\n",
       "      <th>_status</th>\n",
       "      <th>_classification</th>\n",
       "      <th>organizer</th>\n",
       "      <th>uid</th>\n",
       "      <th>description</th>\n",
       "      <th>created</th>\n",
       "      <th>last_modified</th>\n",
       "      <th>location</th>\n",
       "      <th>url</th>\n",
       "      <th>transparent</th>\n",
       "      <th>alarms</th>\n",
       "      <th>attendees</th>\n",
       "      <th>categories</th>\n",
       "      <th>_geo</th>\n",
       "      <th>extra</th>\n",
       "      <th>name</th>\n",
       "      <th>_classmethod_args</th>\n",
       "      <th>_classmethod_kwargs</th>\n",
       "    </tr>\n",
       "  </thead>\n",
       "  <tbody>\n",
       "    <tr>\n",
       "      <th>0</th>\n",
       "      <td>None</td>\n",
       "      <td>2022-01-14T12:00:00+01:00</td>\n",
       "      <td>2022-01-14T09:00:00+01:00</td>\n",
       "      <td>second</td>\n",
       "      <td>CONFIRMED</td>\n",
       "      <td>None</td>\n",
       "      <td>None</td>\n",
       "      <td>3dmch55j2hddbbgbgrt6u75if9@google.com</td>\n",
       "      <td></td>\n",
       "      <td>2022-02-20T10:38:32+00:00</td>\n",
       "      <td>2022-02-20T10:12:33+00:00</td>\n",
       "      <td></td>\n",
       "      <td>None</td>\n",
       "      <td>False</td>\n",
       "      <td>[]</td>\n",
       "      <td>{}</td>\n",
       "      <td>{}</td>\n",
       "      <td>None</td>\n",
       "      <td>[RECURRENCE-ID;TZID=Europe/Berlin:20220114T090...</td>\n",
       "      <td>#slf</td>\n",
       "      <td>()</td>\n",
       "      <td>{'tz': {'Europe/Berlin': &lt;tzicalvtz 'Europe/Be...</td>\n",
       "    </tr>\n",
       "    <tr>\n",
       "      <th>1</th>\n",
       "      <td>None</td>\n",
       "      <td>2022-01-03T16:00:00+01:00</td>\n",
       "      <td>2022-01-03T09:00:00+01:00</td>\n",
       "      <td>second</td>\n",
       "      <td>CONFIRMED</td>\n",
       "      <td>None</td>\n",
       "      <td>None</td>\n",
       "      <td>3dmch55j2hddbbgbgrt6u75if9@google.com</td>\n",
       "      <td></td>\n",
       "      <td>2022-02-20T10:38:32+00:00</td>\n",
       "      <td>2022-02-20T10:12:33+00:00</td>\n",
       "      <td></td>\n",
       "      <td>None</td>\n",
       "      <td>False</td>\n",
       "      <td>[]</td>\n",
       "      <td>{}</td>\n",
       "      <td>{}</td>\n",
       "      <td>None</td>\n",
       "      <td>[RRULE:FREQ=WEEKLY;UNTIL=20220213T225959Z;BYDA...</td>\n",
       "      <td>#slf</td>\n",
       "      <td>()</td>\n",
       "      <td>{'tz': {'Europe/Berlin': &lt;tzicalvtz 'Europe/Be...</td>\n",
       "    </tr>\n",
       "  </tbody>\n",
       "</table>\n",
       "</div>"
      ],
      "text/plain": [
       "  _duration                  _end_time                     _begin  \\\n",
       "0      None  2022-01-14T12:00:00+01:00  2022-01-14T09:00:00+01:00   \n",
       "1      None  2022-01-03T16:00:00+01:00  2022-01-03T09:00:00+01:00   \n",
       "\n",
       "  _begin_precision    _status _classification organizer  \\\n",
       "0           second  CONFIRMED            None      None   \n",
       "1           second  CONFIRMED            None      None   \n",
       "\n",
       "                                     uid description  \\\n",
       "0  3dmch55j2hddbbgbgrt6u75if9@google.com               \n",
       "1  3dmch55j2hddbbgbgrt6u75if9@google.com               \n",
       "\n",
       "                     created              last_modified location   url  \\\n",
       "0  2022-02-20T10:38:32+00:00  2022-02-20T10:12:33+00:00           None   \n",
       "1  2022-02-20T10:38:32+00:00  2022-02-20T10:12:33+00:00           None   \n",
       "\n",
       "   transparent alarms attendees categories  _geo  \\\n",
       "0        False     []        {}         {}  None   \n",
       "1        False     []        {}         {}  None   \n",
       "\n",
       "                                               extra  name _classmethod_args  \\\n",
       "0  [RECURRENCE-ID;TZID=Europe/Berlin:20220114T090...  #slf                ()   \n",
       "1  [RRULE:FREQ=WEEKLY;UNTIL=20220213T225959Z;BYDA...  #slf                ()   \n",
       "\n",
       "                                 _classmethod_kwargs  \n",
       "0  {'tz': {'Europe/Berlin': <tzicalvtz 'Europe/Be...  \n",
       "1  {'tz': {'Europe/Berlin': <tzicalvtz 'Europe/Be...  "
      ]
     },
     "execution_count": 9,
     "metadata": {},
     "output_type": "execute_result"
    }
   ],
   "source": [
    "test_calendar.to_raw_data()"
   ]
  },
  {
   "cell_type": "code",
   "execution_count": 10,
   "id": "9745a3a1-b57a-4fd9-8393-2f4bcb65a011",
   "metadata": {},
   "outputs": [
    {
     "data": {
      "text/plain": [
       "b'BEGIN:VCALENDAR\\r\\nPRODID:-//Google Inc//Google Calendar 70.9054//EN\\r\\nVERSION:2.0\\r\\nCALSCALE:GREGORIAN\\r\\nMETHOD:PUBLISH\\r\\nX-WR-CALNAME:wayfair\\r\\nX-WR-TIMEZONE:Europe/Berlin\\r\\nBEGIN:VTIMEZONE\\r\\nTZID:Europe/Berlin\\r\\nX-LIC-LOCATION:Europe/Berlin\\r\\nBEGIN:DAYLIGHT\\r\\nTZOFFSETFROM:+0100\\r\\nTZOFFSETTO:+0200\\r\\nTZNAME:CEST\\r\\nDTSTART:19700329T020000\\r\\nRRULE:FREQ=YEARLY;BYMONTH=3;BYDAY=-1SU\\r\\nEND:DAYLIGHT\\r\\nBEGIN:STANDARD\\r\\nTZOFFSETFROM:+0200\\r\\nTZOFFSETTO:+0100\\r\\nTZNAME:CET\\r\\nDTSTART:19701025T030000\\r\\nRRULE:FREQ=YEARLY;BYMONTH=10;BYDAY=-1SU\\r\\nEND:STANDARD\\r\\nEND:VTIMEZONE\\r\\nBEGIN:VEVENT\\r\\nDTSTART;TZID=Europe/Berlin:20220103T090000\\r\\nDTEND;TZID=Europe/Berlin:20220103T160000\\r\\nRRULE:FREQ=WEEKLY;UNTIL=20220213T225959Z;BYDAY=FR,MO,TH,TU,WE\\r\\nEXDATE;TZID=Europe/Berlin:20220104T090000\\r\\nDTSTAMP:20220220T103832Z\\r\\nUID:3dmch55j2hddbbgbgrt6u75if9@google.com\\r\\nCREATED:20220220T101129Z\\r\\nDESCRIPTION:\\r\\nLAST-MODIFIED:20220220T101233Z\\r\\nLOCATION:\\r\\nSEQUENCE:0\\r\\nSTATUS:CONFIRMED\\r\\nSUMMARY:#slf\\r\\nTRANSP:OPAQUE\\r\\nEND:VEVENT\\r\\nBEGIN:VEVENT\\r\\nDTSTART;TZID=Europe/Berlin:20220114T090000\\r\\nDTEND;TZID=Europe/Berlin:20220114T120000\\r\\nDTSTAMP:20220220T103832Z\\r\\nUID:3dmch55j2hddbbgbgrt6u75if9@google.com\\r\\nRECURRENCE-ID;TZID=Europe/Berlin:20220114T090000\\r\\nCREATED:20220220T101129Z\\r\\nDESCRIPTION:\\r\\nLAST-MODIFIED:20220220T101233Z\\r\\nLOCATION:\\r\\nSEQUENCE:0\\r\\nSTATUS:CONFIRMED\\r\\nSUMMARY:#slf\\r\\nTRANSP:OPAQUE\\r\\nEND:VEVENT\\r\\nEND:VCALENDAR\\r\\n'"
      ]
     },
     "execution_count": 10,
     "metadata": {},
     "output_type": "execute_result"
    }
   ],
   "source": [
    "cal_content"
   ]
  },
  {
   "cell_type": "code",
   "execution_count": null,
   "id": "59343ae7-85da-46a7-921d-1fc99b19ebc2",
   "metadata": {},
   "outputs": [],
   "source": []
  }
 ],
 "metadata": {
  "kernelspec": {
   "display_name": "tuttle",
   "language": "python",
   "name": "ex"
  },
  "language_info": {
   "codemirror_mode": {
    "name": "ipython",
    "version": 3
   },
   "file_extension": ".py",
   "mimetype": "text/x-python",
   "name": "python",
   "nbconvert_exporter": "python",
   "pygments_lexer": "ipython3",
   "version": "3.9.7"
  }
 },
 "nbformat": 4,
 "nbformat_minor": 5
}
