{
 "cells": [
  {
   "cell_type": "markdown",
   "id": "47580c59-9759-4180-8c44-4ec88f02acf7",
   "metadata": {},
   "source": [
    "# Dev: Timeline"
   ]
  },
  {
   "cell_type": "markdown",
   "id": "77bd4342-a5ab-438f-8384-f5c08720ef3e",
   "metadata": {},
   "source": [
    "## Preamble"
   ]
  },
  {
   "cell_type": "code",
   "execution_count": 1,
   "id": "1c990564-b8aa-4a21-8165-50d5cceed817",
   "metadata": {},
   "outputs": [
    {
     "name": "stdout",
     "output_type": "stream",
     "text": [
      "2022-02-07 18:47:41,953 INFO sqlalchemy.engine.Engine BEGIN (implicit)\n",
      "2022-02-07 18:47:41,954 INFO sqlalchemy.engine.Engine PRAGMA main.table_info(\"address\")\n",
      "2022-02-07 18:47:41,954 INFO sqlalchemy.engine.Engine [raw sql] ()\n",
      "2022-02-07 18:47:41,955 INFO sqlalchemy.engine.Engine PRAGMA main.table_info(\"user\")\n",
      "2022-02-07 18:47:41,955 INFO sqlalchemy.engine.Engine [raw sql] ()\n",
      "2022-02-07 18:47:41,955 INFO sqlalchemy.engine.Engine PRAGMA main.table_info(\"icloudaccount\")\n",
      "2022-02-07 18:47:41,955 INFO sqlalchemy.engine.Engine [raw sql] ()\n",
      "2022-02-07 18:47:41,956 INFO sqlalchemy.engine.Engine PRAGMA main.table_info(\"googleaccount\")\n",
      "2022-02-07 18:47:41,956 INFO sqlalchemy.engine.Engine [raw sql] ()\n",
      "2022-02-07 18:47:41,956 INFO sqlalchemy.engine.Engine PRAGMA main.table_info(\"bank\")\n",
      "2022-02-07 18:47:41,956 INFO sqlalchemy.engine.Engine [raw sql] ()\n",
      "2022-02-07 18:47:41,957 INFO sqlalchemy.engine.Engine PRAGMA main.table_info(\"bankaccount\")\n",
      "2022-02-07 18:47:41,957 INFO sqlalchemy.engine.Engine [raw sql] ()\n",
      "2022-02-07 18:47:41,957 INFO sqlalchemy.engine.Engine PRAGMA main.table_info(\"contact\")\n",
      "2022-02-07 18:47:41,957 INFO sqlalchemy.engine.Engine [raw sql] ()\n",
      "2022-02-07 18:47:41,957 INFO sqlalchemy.engine.Engine PRAGMA main.table_info(\"client\")\n",
      "2022-02-07 18:47:41,958 INFO sqlalchemy.engine.Engine [raw sql] ()\n",
      "2022-02-07 18:47:41,958 INFO sqlalchemy.engine.Engine PRAGMA main.table_info(\"contract\")\n",
      "2022-02-07 18:47:41,958 INFO sqlalchemy.engine.Engine [raw sql] ()\n",
      "2022-02-07 18:47:41,958 INFO sqlalchemy.engine.Engine PRAGMA main.table_info(\"project\")\n",
      "2022-02-07 18:47:41,959 INFO sqlalchemy.engine.Engine [raw sql] ()\n",
      "2022-02-07 18:47:41,959 INFO sqlalchemy.engine.Engine PRAGMA main.table_info(\"timetrackingitem\")\n",
      "2022-02-07 18:47:41,959 INFO sqlalchemy.engine.Engine [raw sql] ()\n",
      "2022-02-07 18:47:41,959 INFO sqlalchemy.engine.Engine PRAGMA main.table_info(\"timesheet\")\n",
      "2022-02-07 18:47:41,959 INFO sqlalchemy.engine.Engine [raw sql] ()\n",
      "2022-02-07 18:47:41,960 INFO sqlalchemy.engine.Engine PRAGMA main.table_info(\"invoice\")\n",
      "2022-02-07 18:47:41,960 INFO sqlalchemy.engine.Engine [raw sql] ()\n",
      "2022-02-07 18:47:41,960 INFO sqlalchemy.engine.Engine PRAGMA main.table_info(\"invoiceitem\")\n",
      "2022-02-07 18:47:41,960 INFO sqlalchemy.engine.Engine [raw sql] ()\n",
      "2022-02-07 18:47:41,961 INFO sqlalchemy.engine.Engine PRAGMA main.table_info(\"timelineitem\")\n",
      "2022-02-07 18:47:41,961 INFO sqlalchemy.engine.Engine [raw sql] ()\n",
      "2022-02-07 18:47:41,961 INFO sqlalchemy.engine.Engine COMMIT\n"
     ]
    }
   ],
   "source": [
    "from tuttle.view import Timeline, Event\n"
   ]
  },
  {
   "cell_type": "code",
   "execution_count": 2,
   "id": "6371a18e-9000-4aec-9127-ca1a2fa9b984",
   "metadata": {},
   "outputs": [],
   "source": [
    "import datetime"
   ]
  },
  {
   "cell_type": "markdown",
   "id": "a86338fb-f962-460e-9498-dea9e122e26c",
   "metadata": {},
   "source": [
    "## Test"
   ]
  },
  {
   "cell_type": "code",
   "execution_count": 3,
   "id": "2fa3df44-6bbb-40ba-ac60-69aeff3de9e2",
   "metadata": {},
   "outputs": [],
   "source": [
    "my_timeline = Timeline(\n",
    "    events=[\n",
    "        Event(\n",
    "            title=\"Invoice 1 due\",\n",
    "            date=datetime.date(2022, 2, 28),\n",
    "            description=\"invoice is due\"\n",
    "        ),\n",
    "        Event(\n",
    "            title=\"Invoice 2 due\",\n",
    "            date=datetime.date(2022, 1, 15),\n",
    "            description=\"invoice is due\"\n",
    "        ),\n",
    "    ]\n",
    ")"
   ]
  },
  {
   "cell_type": "code",
   "execution_count": 4,
   "id": "e632ff64-414a-47ba-bf63-fe75194de4f7",
   "metadata": {},
   "outputs": [
    {
     "data": {
      "text/plain": [
       "Timeline(events=[Event(title='Invoice 1 due', date=datetime.date(2022, 2, 28), description='invoice is due'), Event(title='Invoice 2 due', date=datetime.date(2022, 1, 15), description='invoice is due')])"
      ]
     },
     "execution_count": 4,
     "metadata": {},
     "output_type": "execute_result"
    }
   ],
   "source": [
    "my_timeline"
   ]
  },
  {
   "cell_type": "markdown",
   "id": "3be33a47-a13a-4aef-935a-159a41f70f29",
   "metadata": {},
   "source": [
    "### Rendering"
   ]
  },
  {
   "cell_type": "code",
   "execution_count": 5,
   "id": "45eb4c7a-6a69-4c94-ac9e-e930bb858564",
   "metadata": {},
   "outputs": [],
   "source": [
    "from tuttle.rendering import render_timeline"
   ]
  },
  {
   "cell_type": "code",
   "execution_count": 6,
   "id": "be8ae7bf-8aab-4345-b15b-a5b4f9cbcb1b",
   "metadata": {},
   "outputs": [],
   "source": [
    "from IPython.display import display, HTML, IFrame"
   ]
  },
  {
   "cell_type": "code",
   "execution_count": 9,
   "id": "8f9febce-3469-4f55-b9ff-ca422391e16a",
   "metadata": {},
   "outputs": [],
   "source": [
    "\n",
    "render_timeline(\n",
    "    my_timeline,\n",
    "    out_dir=\"/Users/cls/Stack/\"\n",
    ")\n"
   ]
  },
  {
   "cell_type": "code",
   "execution_count": null,
   "id": "3004efe1-ae8b-407b-a3d3-32802ef5ed12",
   "metadata": {},
   "outputs": [],
   "source": []
  }
 ],
 "metadata": {
  "kernelspec": {
   "display_name": "tuttle",
   "language": "python",
   "name": "ex"
  },
  "language_info": {
   "codemirror_mode": {
    "name": "ipython",
    "version": 3
   },
   "file_extension": ".py",
   "mimetype": "text/x-python",
   "name": "python",
   "nbconvert_exporter": "python",
   "pygments_lexer": "ipython3",
   "version": "3.9.7"
  }
 },
 "nbformat": 4,
 "nbformat_minor": 5
}
