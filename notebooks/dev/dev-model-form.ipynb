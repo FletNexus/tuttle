{
 "cells": [
  {
   "cell_type": "markdown",
   "id": "34e7af00-cf40-44c8-a278-5d04eb53e3a4",
   "metadata": {},
   "source": [
    "# Dev: Model to Form"
   ]
  },
  {
   "cell_type": "markdown",
   "id": "e22f46bb-66b6-4402-83d1-2b0edc7b15aa",
   "metadata": {},
   "source": [
    "## Preamble"
   ]
  },
  {
   "cell_type": "code",
   "execution_count": 1,
   "id": "ae7ee3d7-fdaa-4b83-b154-e04fd1bf24d2",
   "metadata": {},
   "outputs": [],
   "source": [
    "import ipywidgets as widgets"
   ]
  },
  {
   "cell_type": "code",
   "execution_count": 2,
   "id": "5143da1d-8c21-4b5d-b895-e3713d7734e7",
   "metadata": {},
   "outputs": [],
   "source": [
    "from pathlib import Path\n",
    "from typing import Type"
   ]
  },
  {
   "cell_type": "code",
   "execution_count": 3,
   "id": "53454f66-8299-4fa4-b3d9-06abf0996e4f",
   "metadata": {},
   "outputs": [],
   "source": [
    "import sqlmodel"
   ]
  },
  {
   "cell_type": "code",
   "execution_count": 4,
   "id": "6b3b1e45-b493-4b3d-8c9b-01fa01c8ccb8",
   "metadata": {},
   "outputs": [
    {
     "name": "stdout",
     "output_type": "stream",
     "text": [
      "2022-01-10 10:14:49,488 INFO sqlalchemy.engine.Engine BEGIN (implicit)\n",
      "2022-01-10 10:14:49,489 INFO sqlalchemy.engine.Engine PRAGMA main.table_info(\"address\")\n",
      "2022-01-10 10:14:49,489 INFO sqlalchemy.engine.Engine [raw sql] ()\n",
      "2022-01-10 10:14:49,489 INFO sqlalchemy.engine.Engine PRAGMA main.table_info(\"user\")\n",
      "2022-01-10 10:14:49,490 INFO sqlalchemy.engine.Engine [raw sql] ()\n",
      "2022-01-10 10:14:49,490 INFO sqlalchemy.engine.Engine PRAGMA main.table_info(\"bank\")\n",
      "2022-01-10 10:14:49,490 INFO sqlalchemy.engine.Engine [raw sql] ()\n",
      "2022-01-10 10:14:49,490 INFO sqlalchemy.engine.Engine PRAGMA main.table_info(\"bankaccount\")\n",
      "2022-01-10 10:14:49,491 INFO sqlalchemy.engine.Engine [raw sql] ()\n",
      "2022-01-10 10:14:49,491 INFO sqlalchemy.engine.Engine PRAGMA main.table_info(\"contact\")\n",
      "2022-01-10 10:14:49,491 INFO sqlalchemy.engine.Engine [raw sql] ()\n",
      "2022-01-10 10:14:49,491 INFO sqlalchemy.engine.Engine PRAGMA main.table_info(\"client\")\n",
      "2022-01-10 10:14:49,492 INFO sqlalchemy.engine.Engine [raw sql] ()\n",
      "2022-01-10 10:14:49,492 INFO sqlalchemy.engine.Engine PRAGMA main.table_info(\"rate\")\n",
      "2022-01-10 10:14:49,492 INFO sqlalchemy.engine.Engine [raw sql] ()\n",
      "2022-01-10 10:14:49,493 INFO sqlalchemy.engine.Engine PRAGMA main.table_info(\"contract\")\n",
      "2022-01-10 10:14:49,493 INFO sqlalchemy.engine.Engine [raw sql] ()\n",
      "2022-01-10 10:14:49,493 INFO sqlalchemy.engine.Engine PRAGMA main.table_info(\"project\")\n",
      "2022-01-10 10:14:49,493 INFO sqlalchemy.engine.Engine [raw sql] ()\n",
      "2022-01-10 10:14:49,494 INFO sqlalchemy.engine.Engine PRAGMA main.table_info(\"timesheet\")\n",
      "2022-01-10 10:14:49,494 INFO sqlalchemy.engine.Engine [raw sql] ()\n",
      "2022-01-10 10:14:49,494 INFO sqlalchemy.engine.Engine PRAGMA main.table_info(\"invoice\")\n",
      "2022-01-10 10:14:49,494 INFO sqlalchemy.engine.Engine [raw sql] ()\n",
      "2022-01-10 10:14:49,495 INFO sqlalchemy.engine.Engine PRAGMA main.table_info(\"invoiceitem\")\n",
      "2022-01-10 10:14:49,495 INFO sqlalchemy.engine.Engine [raw sql] ()\n",
      "2022-01-10 10:14:49,496 INFO sqlalchemy.engine.Engine COMMIT\n"
     ]
    }
   ],
   "source": [
    "import tuttle"
   ]
  },
  {
   "cell_type": "code",
   "execution_count": 5,
   "id": "d2c5ed9d-1226-4d79-9c74-7a9ef861bc67",
   "metadata": {},
   "outputs": [],
   "source": [
    "from tuttle import model"
   ]
  },
  {
   "cell_type": "code",
   "execution_count": 6,
   "id": "c044796e-2634-42fd-b59a-70173a9f6002",
   "metadata": {},
   "outputs": [],
   "source": [
    "import collections"
   ]
  },
  {
   "cell_type": "code",
   "execution_count": 7,
   "id": "008460d1-23c0-45fd-947e-2b97d4e33121",
   "metadata": {},
   "outputs": [],
   "source": [
    "import beepy"
   ]
  },
  {
   "cell_type": "markdown",
   "id": "8d4e7652-99d7-4404-8582-2be7fee1f222",
   "metadata": {},
   "source": [
    "## Setup"
   ]
  },
  {
   "cell_type": "code",
   "execution_count": 8,
   "id": "6b545c1c-c2b0-45f0-9d1e-d24a32a3ac1e",
   "metadata": {},
   "outputs": [
    {
     "name": "stdout",
     "output_type": "stream",
     "text": [
      "2022-01-10 10:14:49,617 INFO sqlalchemy.engine.Engine BEGIN (implicit)\n",
      "2022-01-10 10:14:49,618 INFO sqlalchemy.engine.Engine PRAGMA main.table_info(\"address\")\n",
      "2022-01-10 10:14:49,621 INFO sqlalchemy.engine.Engine [raw sql] ()\n",
      "2022-01-10 10:14:49,622 INFO sqlalchemy.engine.Engine PRAGMA main.table_info(\"user\")\n",
      "2022-01-10 10:14:49,623 INFO sqlalchemy.engine.Engine [raw sql] ()\n",
      "2022-01-10 10:14:49,624 INFO sqlalchemy.engine.Engine PRAGMA main.table_info(\"bank\")\n",
      "2022-01-10 10:14:49,624 INFO sqlalchemy.engine.Engine [raw sql] ()\n",
      "2022-01-10 10:14:49,625 INFO sqlalchemy.engine.Engine PRAGMA main.table_info(\"bankaccount\")\n",
      "2022-01-10 10:14:49,626 INFO sqlalchemy.engine.Engine [raw sql] ()\n",
      "2022-01-10 10:14:49,627 INFO sqlalchemy.engine.Engine PRAGMA main.table_info(\"contact\")\n",
      "2022-01-10 10:14:49,627 INFO sqlalchemy.engine.Engine [raw sql] ()\n",
      "2022-01-10 10:14:49,627 INFO sqlalchemy.engine.Engine PRAGMA main.table_info(\"client\")\n",
      "2022-01-10 10:14:49,628 INFO sqlalchemy.engine.Engine [raw sql] ()\n",
      "2022-01-10 10:14:49,628 INFO sqlalchemy.engine.Engine PRAGMA main.table_info(\"rate\")\n",
      "2022-01-10 10:14:49,628 INFO sqlalchemy.engine.Engine [raw sql] ()\n",
      "2022-01-10 10:14:49,629 INFO sqlalchemy.engine.Engine PRAGMA main.table_info(\"contract\")\n",
      "2022-01-10 10:14:49,629 INFO sqlalchemy.engine.Engine [raw sql] ()\n",
      "2022-01-10 10:14:49,630 INFO sqlalchemy.engine.Engine PRAGMA temp.table_info(\"contract\")\n",
      "2022-01-10 10:14:49,630 INFO sqlalchemy.engine.Engine [raw sql] ()\n",
      "2022-01-10 10:14:49,630 INFO sqlalchemy.engine.Engine PRAGMA main.table_info(\"project\")\n",
      "2022-01-10 10:14:49,630 INFO sqlalchemy.engine.Engine [raw sql] ()\n",
      "2022-01-10 10:14:49,630 INFO sqlalchemy.engine.Engine PRAGMA temp.table_info(\"project\")\n",
      "2022-01-10 10:14:49,631 INFO sqlalchemy.engine.Engine [raw sql] ()\n",
      "2022-01-10 10:14:49,631 INFO sqlalchemy.engine.Engine PRAGMA main.table_info(\"timesheet\")\n",
      "2022-01-10 10:14:49,631 INFO sqlalchemy.engine.Engine [raw sql] ()\n",
      "2022-01-10 10:14:49,631 INFO sqlalchemy.engine.Engine PRAGMA temp.table_info(\"timesheet\")\n",
      "2022-01-10 10:14:49,632 INFO sqlalchemy.engine.Engine [raw sql] ()\n",
      "2022-01-10 10:14:49,632 INFO sqlalchemy.engine.Engine PRAGMA main.table_info(\"invoice\")\n",
      "2022-01-10 10:14:49,633 INFO sqlalchemy.engine.Engine [raw sql] ()\n",
      "2022-01-10 10:14:49,633 INFO sqlalchemy.engine.Engine PRAGMA temp.table_info(\"invoice\")\n",
      "2022-01-10 10:14:49,634 INFO sqlalchemy.engine.Engine [raw sql] ()\n",
      "2022-01-10 10:14:49,636 INFO sqlalchemy.engine.Engine PRAGMA main.table_info(\"invoiceitem\")\n",
      "2022-01-10 10:14:49,636 INFO sqlalchemy.engine.Engine [raw sql] ()\n",
      "2022-01-10 10:14:49,637 INFO sqlalchemy.engine.Engine PRAGMA temp.table_info(\"invoiceitem\")\n",
      "2022-01-10 10:14:49,637 INFO sqlalchemy.engine.Engine [raw sql] ()\n",
      "2022-01-10 10:14:49,639 INFO sqlalchemy.engine.Engine \n",
      "CREATE TABLE contract (\n",
      "\tid INTEGER, \n",
      "\ttitle VARCHAR NOT NULL, \n",
      "\tdate DATETIME NOT NULL, \n",
      "\tclient_id INTEGER, \n",
      "\trate_id INTEGER, \n",
      "\tPRIMARY KEY (id), \n",
      "\tFOREIGN KEY(client_id) REFERENCES client (id), \n",
      "\tFOREIGN KEY(rate_id) REFERENCES rate (id)\n",
      ")\n",
      "\n",
      "\n",
      "2022-01-10 10:14:49,639 INFO sqlalchemy.engine.Engine [no key 0.00080s] ()\n",
      "2022-01-10 10:14:49,641 INFO sqlalchemy.engine.Engine \n",
      "CREATE TABLE project (\n",
      "\tid INTEGER, \n",
      "\tname VARCHAR NOT NULL, \n",
      "\tstart_date DATETIME NOT NULL, \n",
      "\tend_date DATETIME NOT NULL, \n",
      "\tcontract_id INTEGER, \n",
      "\tvolume INTEGER, \n",
      "\tPRIMARY KEY (id), \n",
      "\tFOREIGN KEY(contract_id) REFERENCES contract (id)\n",
      ")\n",
      "\n",
      "\n",
      "2022-01-10 10:14:49,642 INFO sqlalchemy.engine.Engine [no key 0.00066s] ()\n",
      "2022-01-10 10:14:49,646 INFO sqlalchemy.engine.Engine \n",
      "CREATE TABLE timesheet (\n",
      "\tid INTEGER, \n",
      "\tproject_id INTEGER, \n",
      "\tPRIMARY KEY (id), \n",
      "\tFOREIGN KEY(project_id) REFERENCES project (id)\n",
      ")\n",
      "\n",
      "\n",
      "2022-01-10 10:14:49,647 INFO sqlalchemy.engine.Engine [no key 0.00049s] ()\n",
      "2022-01-10 10:14:49,648 INFO sqlalchemy.engine.Engine \n",
      "CREATE TABLE invoice (\n",
      "\tid INTEGER, \n",
      "\ttimesheet_id INTEGER, \n",
      "\tcontract_id INTEGER, \n",
      "\tdate DATE NOT NULL, \n",
      "\tdue_date DATE NOT NULL, \n",
      "\tsent_date DATE NOT NULL, \n",
      "\tsent BOOLEAN NOT NULL, \n",
      "\tpaid BOOLEAN NOT NULL, \n",
      "\tcancelled BOOLEAN NOT NULL, \n",
      "\ttotal NUMERIC NOT NULL, \n",
      "\t\"VAT_total\" NUMERIC NOT NULL, \n",
      "\tPRIMARY KEY (id), \n",
      "\tFOREIGN KEY(timesheet_id) REFERENCES timesheet (id), \n",
      "\tFOREIGN KEY(contract_id) REFERENCES contract (id)\n",
      ")\n",
      "\n",
      "\n",
      "2022-01-10 10:14:49,648 INFO sqlalchemy.engine.Engine [no key 0.00052s] ()\n",
      "2022-01-10 10:14:49,652 INFO sqlalchemy.engine.Engine \n",
      "CREATE TABLE invoiceitem (\n",
      "\tid INTEGER, \n",
      "\tinvoice_id INTEGER, \n",
      "\tamount INTEGER NOT NULL, \n",
      "\ttext VARCHAR NOT NULL, \n",
      "\tunit VARCHAR NOT NULL, \n",
      "\tunit_price INTEGER NOT NULL, \n",
      "\t\"VAT_rate\" FLOAT NOT NULL, \n",
      "\tPRIMARY KEY (id), \n",
      "\tFOREIGN KEY(invoice_id) REFERENCES invoice (id)\n",
      ")\n",
      "\n",
      "\n",
      "2022-01-10 10:14:49,653 INFO sqlalchemy.engine.Engine [no key 0.00096s] ()\n",
      "2022-01-10 10:14:49,655 INFO sqlalchemy.engine.Engine COMMIT\n"
     ]
    }
   ],
   "source": [
    "test_home = Path(\"tmp\")\n",
    "db_path = test_home / \"tuttle_test.db\"\n",
    "db_url = f\"sqlite:///{db_path}\"\n",
    "db_engine = sqlmodel.create_engine(db_url, echo=True)\n",
    "sqlmodel.SQLModel.metadata.create_all(db_engine)"
   ]
  },
  {
   "cell_type": "markdown",
   "id": "040ee098-fe6e-4257-95e6-22731e23777e",
   "metadata": {},
   "source": [
    "## Workflows"
   ]
  },
  {
   "cell_type": "markdown",
   "id": "e3c538d2-3d1b-44ec-aa30-cedfe1975725",
   "metadata": {},
   "source": [
    "### Get User Name and E-Mail"
   ]
  },
  {
   "cell_type": "code",
   "execution_count": 9,
   "id": "f73427ac-7ed2-47cc-9a73-0a5286912f87",
   "metadata": {},
   "outputs": [
    {
     "name": "stdout",
     "output_type": "stream",
     "text": [
      "\u001b[0;31mInit signature:\u001b[0m\n",
      "\u001b[0mmodel\u001b[0m\u001b[0;34m.\u001b[0m\u001b[0mUser\u001b[0m\u001b[0;34m(\u001b[0m\u001b[0;34m\u001b[0m\n",
      "\u001b[0;34m\u001b[0m    \u001b[0;34m*\u001b[0m\u001b[0;34m,\u001b[0m\u001b[0;34m\u001b[0m\n",
      "\u001b[0;34m\u001b[0m    \u001b[0mid\u001b[0m\u001b[0;34m:\u001b[0m \u001b[0mint\u001b[0m \u001b[0;34m=\u001b[0m \u001b[0;32mNone\u001b[0m\u001b[0;34m,\u001b[0m\u001b[0;34m\u001b[0m\n",
      "\u001b[0;34m\u001b[0m    \u001b[0mname\u001b[0m\u001b[0;34m:\u001b[0m \u001b[0mstr\u001b[0m\u001b[0;34m,\u001b[0m\u001b[0;34m\u001b[0m\n",
      "\u001b[0;34m\u001b[0m    \u001b[0msubtitle\u001b[0m\u001b[0;34m:\u001b[0m \u001b[0mstr\u001b[0m\u001b[0;34m,\u001b[0m\u001b[0;34m\u001b[0m\n",
      "\u001b[0;34m\u001b[0m    \u001b[0mbusiness_name\u001b[0m\u001b[0;34m:\u001b[0m \u001b[0mstr\u001b[0m \u001b[0;34m=\u001b[0m \u001b[0;32mNone\u001b[0m\u001b[0;34m,\u001b[0m\u001b[0;34m\u001b[0m\n",
      "\u001b[0;34m\u001b[0m    \u001b[0memail\u001b[0m\u001b[0;34m:\u001b[0m \u001b[0mpydantic\u001b[0m\u001b[0;34m.\u001b[0m\u001b[0mnetworks\u001b[0m\u001b[0;34m.\u001b[0m\u001b[0mEmailStr\u001b[0m\u001b[0;34m,\u001b[0m\u001b[0;34m\u001b[0m\n",
      "\u001b[0;34m\u001b[0m    \u001b[0mVAT_number\u001b[0m\u001b[0;34m:\u001b[0m \u001b[0mstr\u001b[0m\u001b[0;34m,\u001b[0m\u001b[0;34m\u001b[0m\n",
      "\u001b[0;34m\u001b[0m\u001b[0;34m)\u001b[0m \u001b[0;34m->\u001b[0m \u001b[0;32mNone\u001b[0m\u001b[0;34m\u001b[0m\u001b[0;34m\u001b[0m\u001b[0m\n",
      "\u001b[0;31mFile:\u001b[0m           ~/Documents/Work/Projects/PrototypeFund/Dev/tuttle/tuttle/model.py\n",
      "\u001b[0;31mType:\u001b[0m           SQLModelMetaclass\n",
      "\u001b[0;31mSubclasses:\u001b[0m     \n"
     ]
    }
   ],
   "source": [
    "model.User?"
   ]
  },
  {
   "cell_type": "code",
   "execution_count": 10,
   "id": "a3b3cc43-7b5f-4cd3-81ac-2af2d959edfd",
   "metadata": {},
   "outputs": [
    {
     "data": {
      "text/plain": [
       "User(id=None, name='John Doe', business_name=None, email='john@doe.com')"
      ]
     },
     "execution_count": 10,
     "metadata": {},
     "output_type": "execute_result"
    }
   ],
   "source": [
    "model.User(\n",
    "    name=\"John Doe\",\n",
    "    email=\"john@doe.com\"\n",
    ")"
   ]
  },
  {
   "cell_type": "code",
   "execution_count": 11,
   "id": "daa98bc4-2a22-477c-b204-288b2111ae91",
   "metadata": {},
   "outputs": [
    {
     "data": {
      "text/plain": [
       "{'id': {'title': 'Id', 'type': 'integer'},\n",
       " 'name': {'title': 'Name', 'type': 'string'},\n",
       " 'subtitle': {'title': 'Subtitle', 'type': 'string'},\n",
       " 'business_name': {'title': 'Business Name', 'type': 'string'},\n",
       " 'email': {'title': 'Email', 'type': 'string', 'format': 'email'},\n",
       " 'VAT_number': {'title': 'Vat Number', 'type': 'string'}}"
      ]
     },
     "execution_count": 11,
     "metadata": {},
     "output_type": "execute_result"
    }
   ],
   "source": [
    "model.User.schema()[\"properties\"]"
   ]
  },
  {
   "cell_type": "code",
   "execution_count": 12,
   "id": "eb84ee70-8ffa-41fd-9eeb-27a28f3bd73a",
   "metadata": {},
   "outputs": [],
   "source": [
    "def model_form(\n",
    "    model_class: Type[sqlmodel.SQLModel]\n",
    "):\n",
    "    properties = model_class.schema()[\"properties\"]\n",
    "    form_header = [\n",
    "        widgets.HTML(\n",
    "            value=f\"<b>Create {model_class.__name__}</b>\",\n",
    "        )\n",
    "    ]\n",
    "    form_elements = collections.OrderedDict()\n",
    "    for (prop_name, prop_meta) in properties.items():\n",
    "        if prop_name == \"id\":\n",
    "            # ignore id\n",
    "            pass\n",
    "        if prop_meta[\"type\"] == \"string\":\n",
    "            text_field = widgets.Text(\n",
    "                placeholder='...',\n",
    "                description=prop_meta[\"title\"],\n",
    "                disabled=False\n",
    "            )\n",
    "            form_elements[prop_name] = text_field\n",
    "    # assemble form\n",
    "\n",
    "    create_button = widgets.Button(\n",
    "        description='Create',\n",
    "        disabled=False,\n",
    "        button_style='success', # 'success', 'info', 'warning', 'danger' or ''\n",
    "        tooltip='Create model object',\n",
    "        icon=\"hammer\" # (FontAwesome names without the `fa-` prefix)\n",
    "    )\n",
    "    \n",
    "    def factory_function():\n",
    "        instance = model_class(\n",
    "            **dict(\n",
    "                (prop_name, form_elements[prop_name].value) \n",
    "                for prop_name in form_elements.keys()\n",
    "            )\n",
    "        )\n",
    "        beepy.beep()\n",
    "        return instance\n",
    "   \n",
    "\n",
    "    create_button.on_click(factory_function)\n",
    "    \n",
    "    form = widgets.VBox(\n",
    "        children=(\n",
    "            form_header\n",
    "            + list(form_elements.values())\n",
    "            + [create_button]\n",
    "        )\n",
    "    )\n",
    "    return form"
   ]
  },
  {
   "cell_type": "code",
   "execution_count": 13,
   "id": "dcb3a4d9-689c-4c74-84b9-b91c5c58d13f",
   "metadata": {},
   "outputs": [
    {
     "data": {
      "application/vnd.jupyter.widget-view+json": {
       "model_id": "e33feafede3741d08314b571beda9aaa",
       "version_major": 2,
       "version_minor": 0
      },
      "text/plain": [
       "VBox(children=(HTML(value='<b>Create BankAccount</b>'), Text(value='', description='Name', placeholder='...'),…"
      ]
     },
     "metadata": {},
     "output_type": "display_data"
    }
   ],
   "source": [
    "model_form(model.BankAccount)"
   ]
  },
  {
   "cell_type": "code",
   "execution_count": null,
   "id": "0d5c2406-2f04-4005-a440-a8a72da9f81e",
   "metadata": {},
   "outputs": [],
   "source": []
  }
 ],
 "metadata": {
  "interpreter": {
   "hash": "1b2a14e316f8528313aca7083ad4a819e30957812d4a6b2b5fed00540ac717aa"
  },
  "kernelspec": {
   "display_name": "tuttle",
   "language": "python",
   "name": "python3"
  },
  "language_info": {
   "codemirror_mode": {
    "name": "ipython",
    "version": 3
   },
   "file_extension": ".py",
   "mimetype": "text/x-python",
   "name": "python",
   "nbconvert_exporter": "python",
   "pygments_lexer": "ipython3",
   "version": "3.9.7"
  }
 },
 "nbformat": 4,
 "nbformat_minor": 5
}
