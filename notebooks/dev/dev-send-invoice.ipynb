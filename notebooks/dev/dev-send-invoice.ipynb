{
 "cells": [
  {
   "cell_type": "markdown",
   "id": "9e2581c7-b3dd-4bec-9bb7-be8e9bf1365d",
   "metadata": {},
   "source": [
    "# Dev: Send Invoice"
   ]
  },
  {
   "cell_type": "markdown",
   "id": "93fd9180-e41f-4368-8c8e-9a6e92b53f1e",
   "metadata": {},
   "source": [
    "## Preamble"
   ]
  },
  {
   "cell_type": "markdown",
   "id": "5281b85d-c39f-4795-b4c6-c1728857571f",
   "metadata": {},
   "source": [
    "## Workflow"
   ]
  },
  {
   "cell_type": "code",
   "execution_count": null,
   "id": "e796fbce-dfe8-475d-a248-dfd0f0549a59",
   "metadata": {},
   "outputs": [],
   "source": [
    "def send_invoice(\n",
    "    invoice: Invoice\n",
    "):\n",
    "    raise NotImplementedError()"
   ]
  },
  {
   "cell_type": "code",
   "execution_count": null,
   "id": "904ed0fd-4191-4792-9807-fee922207806",
   "metadata": {},
   "outputs": [],
   "source": []
  }
 ],
 "metadata": {
  "kernelspec": {
   "display_name": "tuttle",
   "language": "python",
   "name": "ex"
  },
  "language_info": {
   "codemirror_mode": {
    "name": "ipython",
    "version": 3
   },
   "file_extension": ".py",
   "mimetype": "text/x-python",
   "name": "python",
   "nbconvert_exporter": "python",
   "pygments_lexer": "ipython3",
   "version": "3.9.7"
  }
 },
 "nbformat": 4,
 "nbformat_minor": 5
}
