{
 "cells": [
  {
   "cell_type": "code",
   "execution_count": 1,
   "metadata": {},
   "outputs": [
    {
     "name": "stdout",
     "output_type": "stream",
     "text": [
      "2023-02-09 15:37:07,196 INFO sqlalchemy.engine.Engine BEGIN (implicit)\n",
      "2023-02-09 15:37:07,197 INFO sqlalchemy.engine.Engine PRAGMA main.table_info(\"contact\")\n",
      "2023-02-09 15:37:07,198 INFO sqlalchemy.engine.Engine [raw sql] ()\n",
      "2023-02-09 15:37:07,198 INFO sqlalchemy.engine.Engine PRAGMA temp.table_info(\"contact\")\n",
      "2023-02-09 15:37:07,198 INFO sqlalchemy.engine.Engine [raw sql] ()\n",
      "2023-02-09 15:37:07,199 INFO sqlalchemy.engine.Engine PRAGMA main.table_info(\"client\")\n",
      "2023-02-09 15:37:07,200 INFO sqlalchemy.engine.Engine [raw sql] ()\n",
      "2023-02-09 15:37:07,201 INFO sqlalchemy.engine.Engine PRAGMA temp.table_info(\"client\")\n",
      "2023-02-09 15:37:07,202 INFO sqlalchemy.engine.Engine [raw sql] ()\n",
      "2023-02-09 15:37:07,203 INFO sqlalchemy.engine.Engine COMMIT\n",
      "2023-02-09 15:37:07,203 INFO sqlalchemy.engine.Engine BEGIN (implicit)\n",
      "2023-02-09 15:37:07,204 INFO sqlalchemy.engine.Engine PRAGMA main.table_info(\"contact\")\n",
      "2023-02-09 15:37:07,205 INFO sqlalchemy.engine.Engine [raw sql] ()\n",
      "2023-02-09 15:37:07,205 INFO sqlalchemy.engine.Engine PRAGMA temp.table_info(\"contact\")\n",
      "2023-02-09 15:37:07,206 INFO sqlalchemy.engine.Engine [raw sql] ()\n",
      "2023-02-09 15:37:07,207 INFO sqlalchemy.engine.Engine PRAGMA main.table_info(\"client\")\n",
      "2023-02-09 15:37:07,207 INFO sqlalchemy.engine.Engine [raw sql] ()\n",
      "2023-02-09 15:37:07,208 INFO sqlalchemy.engine.Engine PRAGMA temp.table_info(\"client\")\n",
      "2023-02-09 15:37:07,209 INFO sqlalchemy.engine.Engine [raw sql] ()\n",
      "2023-02-09 15:37:07,210 INFO sqlalchemy.engine.Engine \n",
      "CREATE TABLE contact (\n",
      "\tid INTEGER NOT NULL, \n",
      "\tPRIMARY KEY (id)\n",
      ")\n",
      "\n",
      "\n",
      "2023-02-09 15:37:07,210 INFO sqlalchemy.engine.Engine [no key 0.00077s] ()\n",
      "2023-02-09 15:37:07,211 INFO sqlalchemy.engine.Engine \n",
      "CREATE TABLE client (\n",
      "\tid INTEGER NOT NULL, \n",
      "\tinvoicing_contact_id INTEGER, \n",
      "\tPRIMARY KEY (id), \n",
      "\tFOREIGN KEY(invoicing_contact_id) REFERENCES contact (id)\n",
      ")\n",
      "\n",
      "\n",
      "2023-02-09 15:37:07,212 INFO sqlalchemy.engine.Engine [no key 0.00060s] ()\n",
      "2023-02-09 15:37:07,213 INFO sqlalchemy.engine.Engine COMMIT\n"
     ]
    }
   ],
   "source": [
    "from typing import Optional, List\n",
    "\n",
    "from sqlmodel import (\n",
    "    Field,\n",
    "    Relationship,\n",
    "    SQLModel,\n",
    "    create_engine,\n",
    "    Session,\n",
    "    delete,\n",
    ")\n",
    "\n",
    "import sqlalchemy\n",
    "\n",
    "class Contact(SQLModel, table=True):\n",
    "    id: Optional[int] = Field(default=None, primary_key=True)\n",
    "    invoicing_contact_of: List[\"Client\"] = Relationship(\n",
    "        back_populates=\"invoicing_contact\",\n",
    "        sa_relationship_kwargs={\"lazy\": \"subquery\", \"passive_deletes\": \"all\"},\n",
    "    )\n",
    "\n",
    "\n",
    "class Client(SQLModel, table=True):\n",
    "    id: Optional[int] = Field(default=None, primary_key=True)\n",
    "    invoicing_contact_id: int = Field(default=None, foreign_key=\"contact.id\")\n",
    "    invoicing_contact: Contact = Relationship(\n",
    "        back_populates=\"invoicing_contact_of\",\n",
    "        sa_relationship_kwargs={\"lazy\": \"subquery\"},\n",
    "    )\n",
    "\n",
    "\n",
    "engine = create_engine(\"sqlite:///\", echo=True)\n",
    "sqlalchemy.event.listen(engine, \"connect\", lambda c, _: c.execute(\"PRAGMA foreign_keys = ON\"))\n",
    "\n",
    "SQLModel.metadata.drop_all(engine)\n",
    "SQLModel.metadata.create_all(engine)\n",
    "\n"
   ]
  },
  {
   "cell_type": "code",
   "execution_count": 2,
   "metadata": {},
   "outputs": [
    {
     "name": "stdout",
     "output_type": "stream",
     "text": [
      "2023-02-09 15:37:07,307 INFO sqlalchemy.engine.Engine BEGIN (implicit)\n",
      "2023-02-09 15:37:07,310 INFO sqlalchemy.engine.Engine INSERT INTO contact DEFAULT VALUES\n",
      "2023-02-09 15:37:07,311 INFO sqlalchemy.engine.Engine [generated in 0.00093s] ()\n",
      "2023-02-09 15:37:07,314 INFO sqlalchemy.engine.Engine INSERT INTO client (invoicing_contact_id) VALUES (?)\n",
      "2023-02-09 15:37:07,315 INFO sqlalchemy.engine.Engine [generated in 0.00152s] (1,)\n",
      "2023-02-09 15:37:07,318 INFO sqlalchemy.engine.Engine COMMIT\n",
      "2023-02-09 15:37:07,320 INFO sqlalchemy.engine.Engine BEGIN (implicit)\n",
      "2023-02-09 15:37:07,324 INFO sqlalchemy.engine.Engine SELECT client.id, client.invoicing_contact_id \n",
      "FROM client \n",
      "WHERE client.id = ?\n",
      "2023-02-09 15:37:07,326 INFO sqlalchemy.engine.Engine [generated in 0.00150s] (1,)\n",
      "2023-02-09 15:37:07,329 INFO sqlalchemy.engine.Engine SELECT contact.id AS contact_id \n",
      "FROM contact \n",
      "WHERE contact.id = ?\n",
      "2023-02-09 15:37:07,330 INFO sqlalchemy.engine.Engine [generated in 0.00087s] (1,)\n",
      "2023-02-09 15:37:07,334 INFO sqlalchemy.engine.Engine SELECT client.id AS client_id, client.invoicing_contact_id AS client_invoicing_contact_id \n",
      "FROM client \n",
      "WHERE ? = client.invoicing_contact_id\n",
      "2023-02-09 15:37:07,335 INFO sqlalchemy.engine.Engine [generated in 0.00077s] (1,)\n",
      "2023-02-09 15:37:07,337 INFO sqlalchemy.engine.Engine DELETE FROM contact WHERE contact.id = ?\n",
      "2023-02-09 15:37:07,338 INFO sqlalchemy.engine.Engine [generated in 0.00102s] (1,)\n",
      "2023-02-09 15:37:07,339 INFO sqlalchemy.engine.Engine ROLLBACK\n"
     ]
    },
    {
     "ename": "IntegrityError",
     "evalue": "(sqlite3.IntegrityError) FOREIGN KEY constraint failed\n[SQL: DELETE FROM contact WHERE contact.id = ?]\n[parameters: (1,)]\n(Background on this error at: https://sqlalche.me/e/14/gkpj)",
     "output_type": "error",
     "traceback": [
      "\u001b[0;31m---------------------------------------------------------------------------\u001b[0m",
      "\u001b[0;31mIntegrityError\u001b[0m                            Traceback (most recent call last)",
      "File \u001b[0;32m~/miniforge3/envs/tuttle/lib/python3.10/site-packages/sqlalchemy/engine/base.py:1900\u001b[0m, in \u001b[0;36mConnection._execute_context\u001b[0;34m(self, dialect, constructor, statement, parameters, execution_options, *args, **kw)\u001b[0m\n\u001b[1;32m   1899\u001b[0m     \u001b[39mif\u001b[39;00m \u001b[39mnot\u001b[39;00m evt_handled:\n\u001b[0;32m-> 1900\u001b[0m         \u001b[39mself\u001b[39;49m\u001b[39m.\u001b[39;49mdialect\u001b[39m.\u001b[39;49mdo_execute(\n\u001b[1;32m   1901\u001b[0m             cursor, statement, parameters, context\n\u001b[1;32m   1902\u001b[0m         )\n\u001b[1;32m   1904\u001b[0m \u001b[39mif\u001b[39;00m \u001b[39mself\u001b[39m\u001b[39m.\u001b[39m_has_events \u001b[39mor\u001b[39;00m \u001b[39mself\u001b[39m\u001b[39m.\u001b[39mengine\u001b[39m.\u001b[39m_has_events:\n",
      "File \u001b[0;32m~/miniforge3/envs/tuttle/lib/python3.10/site-packages/sqlalchemy/engine/default.py:736\u001b[0m, in \u001b[0;36mDefaultDialect.do_execute\u001b[0;34m(self, cursor, statement, parameters, context)\u001b[0m\n\u001b[1;32m    735\u001b[0m \u001b[39mdef\u001b[39;00m \u001b[39mdo_execute\u001b[39m(\u001b[39mself\u001b[39m, cursor, statement, parameters, context\u001b[39m=\u001b[39m\u001b[39mNone\u001b[39;00m):\n\u001b[0;32m--> 736\u001b[0m     cursor\u001b[39m.\u001b[39;49mexecute(statement, parameters)\n",
      "\u001b[0;31mIntegrityError\u001b[0m: FOREIGN KEY constraint failed",
      "\nThe above exception was the direct cause of the following exception:\n",
      "\u001b[0;31mIntegrityError\u001b[0m                            Traceback (most recent call last)",
      "Cell \u001b[0;32mIn[2], line 9\u001b[0m\n\u001b[1;32m      6\u001b[0m session\u001b[39m.\u001b[39mcommit()\n\u001b[1;32m      7\u001b[0m session\u001b[39m.\u001b[39mrefresh(client)\n\u001b[0;32m----> 9\u001b[0m session\u001b[39m.\u001b[39;49mexec(delete(Contact)\u001b[39m.\u001b[39;49mwhere(Contact\u001b[39m.\u001b[39;49mid \u001b[39m==\u001b[39;49m \u001b[39m1\u001b[39;49m))\n\u001b[1;32m     10\u001b[0m session\u001b[39m.\u001b[39mcommit()\n",
      "File \u001b[0;32m~/miniforge3/envs/tuttle/lib/python3.10/site-packages/sqlmodel/orm/session.py:60\u001b[0m, in \u001b[0;36mSession.exec\u001b[0;34m(self, statement, params, execution_options, bind_arguments, _parent_execute_state, _add_event, **kw)\u001b[0m\n\u001b[1;32m     45\u001b[0m \u001b[39mdef\u001b[39;00m \u001b[39mexec\u001b[39m(\n\u001b[1;32m     46\u001b[0m     \u001b[39mself\u001b[39m,\n\u001b[1;32m     47\u001b[0m     statement: Union[\n\u001b[0;32m   (...)\u001b[0m\n\u001b[1;32m     58\u001b[0m     \u001b[39m*\u001b[39m\u001b[39m*\u001b[39mkw: Any,\n\u001b[1;32m     59\u001b[0m ) \u001b[39m-\u001b[39m\u001b[39m>\u001b[39m Union[Result[_TSelectParam], ScalarResult[_TSelectParam]]:\n\u001b[0;32m---> 60\u001b[0m     results \u001b[39m=\u001b[39m \u001b[39msuper\u001b[39;49m()\u001b[39m.\u001b[39;49mexecute(\n\u001b[1;32m     61\u001b[0m         statement,\n\u001b[1;32m     62\u001b[0m         params\u001b[39m=\u001b[39;49mparams,\n\u001b[1;32m     63\u001b[0m         execution_options\u001b[39m=\u001b[39;49mexecution_options,\n\u001b[1;32m     64\u001b[0m         bind_arguments\u001b[39m=\u001b[39;49mbind_arguments,\n\u001b[1;32m     65\u001b[0m         _parent_execute_state\u001b[39m=\u001b[39;49m_parent_execute_state,\n\u001b[1;32m     66\u001b[0m         _add_event\u001b[39m=\u001b[39;49m_add_event,\n\u001b[1;32m     67\u001b[0m         \u001b[39m*\u001b[39;49m\u001b[39m*\u001b[39;49mkw,\n\u001b[1;32m     68\u001b[0m     )\n\u001b[1;32m     69\u001b[0m     \u001b[39mif\u001b[39;00m \u001b[39misinstance\u001b[39m(statement, SelectOfScalar):\n\u001b[1;32m     70\u001b[0m         \u001b[39mreturn\u001b[39;00m results\u001b[39m.\u001b[39mscalars()  \u001b[39m# type: ignore\u001b[39;00m\n",
      "File \u001b[0;32m~/miniforge3/envs/tuttle/lib/python3.10/site-packages/sqlalchemy/orm/session.py:1712\u001b[0m, in \u001b[0;36mSession.execute\u001b[0;34m(self, statement, params, execution_options, bind_arguments, _parent_execute_state, _add_event, **kw)\u001b[0m\n\u001b[1;32m   1710\u001b[0m \u001b[39melse\u001b[39;00m:\n\u001b[1;32m   1711\u001b[0m     conn \u001b[39m=\u001b[39m \u001b[39mself\u001b[39m\u001b[39m.\u001b[39m_connection_for_bind(bind)\n\u001b[0;32m-> 1712\u001b[0m result \u001b[39m=\u001b[39m conn\u001b[39m.\u001b[39;49m_execute_20(statement, params \u001b[39mor\u001b[39;49;00m {}, execution_options)\n\u001b[1;32m   1714\u001b[0m \u001b[39mif\u001b[39;00m compile_state_cls:\n\u001b[1;32m   1715\u001b[0m     result \u001b[39m=\u001b[39m compile_state_cls\u001b[39m.\u001b[39morm_setup_cursor_result(\n\u001b[1;32m   1716\u001b[0m         \u001b[39mself\u001b[39m,\n\u001b[1;32m   1717\u001b[0m         statement,\n\u001b[0;32m   (...)\u001b[0m\n\u001b[1;32m   1721\u001b[0m         result,\n\u001b[1;32m   1722\u001b[0m     )\n",
      "File \u001b[0;32m~/miniforge3/envs/tuttle/lib/python3.10/site-packages/sqlalchemy/engine/base.py:1705\u001b[0m, in \u001b[0;36mConnection._execute_20\u001b[0;34m(self, statement, parameters, execution_options)\u001b[0m\n\u001b[1;32m   1701\u001b[0m     util\u001b[39m.\u001b[39mraise_(\n\u001b[1;32m   1702\u001b[0m         exc\u001b[39m.\u001b[39mObjectNotExecutableError(statement), replace_context\u001b[39m=\u001b[39merr\n\u001b[1;32m   1703\u001b[0m     )\n\u001b[1;32m   1704\u001b[0m \u001b[39melse\u001b[39;00m:\n\u001b[0;32m-> 1705\u001b[0m     \u001b[39mreturn\u001b[39;00m meth(\u001b[39mself\u001b[39;49m, args_10style, kwargs_10style, execution_options)\n",
      "File \u001b[0;32m~/miniforge3/envs/tuttle/lib/python3.10/site-packages/sqlalchemy/sql/elements.py:333\u001b[0m, in \u001b[0;36mClauseElement._execute_on_connection\u001b[0;34m(self, connection, multiparams, params, execution_options, _force)\u001b[0m\n\u001b[1;32m    329\u001b[0m \u001b[39mdef\u001b[39;00m \u001b[39m_execute_on_connection\u001b[39m(\n\u001b[1;32m    330\u001b[0m     \u001b[39mself\u001b[39m, connection, multiparams, params, execution_options, _force\u001b[39m=\u001b[39m\u001b[39mFalse\u001b[39;00m\n\u001b[1;32m    331\u001b[0m ):\n\u001b[1;32m    332\u001b[0m     \u001b[39mif\u001b[39;00m _force \u001b[39mor\u001b[39;00m \u001b[39mself\u001b[39m\u001b[39m.\u001b[39msupports_execution:\n\u001b[0;32m--> 333\u001b[0m         \u001b[39mreturn\u001b[39;00m connection\u001b[39m.\u001b[39;49m_execute_clauseelement(\n\u001b[1;32m    334\u001b[0m             \u001b[39mself\u001b[39;49m, multiparams, params, execution_options\n\u001b[1;32m    335\u001b[0m         )\n\u001b[1;32m    336\u001b[0m     \u001b[39melse\u001b[39;00m:\n\u001b[1;32m    337\u001b[0m         \u001b[39mraise\u001b[39;00m exc\u001b[39m.\u001b[39mObjectNotExecutableError(\u001b[39mself\u001b[39m)\n",
      "File \u001b[0;32m~/miniforge3/envs/tuttle/lib/python3.10/site-packages/sqlalchemy/engine/base.py:1572\u001b[0m, in \u001b[0;36mConnection._execute_clauseelement\u001b[0;34m(self, elem, multiparams, params, execution_options)\u001b[0m\n\u001b[1;32m   1560\u001b[0m compiled_cache \u001b[39m=\u001b[39m execution_options\u001b[39m.\u001b[39mget(\n\u001b[1;32m   1561\u001b[0m     \u001b[39m\"\u001b[39m\u001b[39mcompiled_cache\u001b[39m\u001b[39m\"\u001b[39m, \u001b[39mself\u001b[39m\u001b[39m.\u001b[39mengine\u001b[39m.\u001b[39m_compiled_cache\n\u001b[1;32m   1562\u001b[0m )\n\u001b[1;32m   1564\u001b[0m compiled_sql, extracted_params, cache_hit \u001b[39m=\u001b[39m elem\u001b[39m.\u001b[39m_compile_w_cache(\n\u001b[1;32m   1565\u001b[0m     dialect\u001b[39m=\u001b[39mdialect,\n\u001b[1;32m   1566\u001b[0m     compiled_cache\u001b[39m=\u001b[39mcompiled_cache,\n\u001b[0;32m   (...)\u001b[0m\n\u001b[1;32m   1570\u001b[0m     linting\u001b[39m=\u001b[39m\u001b[39mself\u001b[39m\u001b[39m.\u001b[39mdialect\u001b[39m.\u001b[39mcompiler_linting \u001b[39m|\u001b[39m compiler\u001b[39m.\u001b[39mWARN_LINTING,\n\u001b[1;32m   1571\u001b[0m )\n\u001b[0;32m-> 1572\u001b[0m ret \u001b[39m=\u001b[39m \u001b[39mself\u001b[39;49m\u001b[39m.\u001b[39;49m_execute_context(\n\u001b[1;32m   1573\u001b[0m     dialect,\n\u001b[1;32m   1574\u001b[0m     dialect\u001b[39m.\u001b[39;49mexecution_ctx_cls\u001b[39m.\u001b[39;49m_init_compiled,\n\u001b[1;32m   1575\u001b[0m     compiled_sql,\n\u001b[1;32m   1576\u001b[0m     distilled_params,\n\u001b[1;32m   1577\u001b[0m     execution_options,\n\u001b[1;32m   1578\u001b[0m     compiled_sql,\n\u001b[1;32m   1579\u001b[0m     distilled_params,\n\u001b[1;32m   1580\u001b[0m     elem,\n\u001b[1;32m   1581\u001b[0m     extracted_params,\n\u001b[1;32m   1582\u001b[0m     cache_hit\u001b[39m=\u001b[39;49mcache_hit,\n\u001b[1;32m   1583\u001b[0m )\n\u001b[1;32m   1584\u001b[0m \u001b[39mif\u001b[39;00m has_events:\n\u001b[1;32m   1585\u001b[0m     \u001b[39mself\u001b[39m\u001b[39m.\u001b[39mdispatch\u001b[39m.\u001b[39mafter_execute(\n\u001b[1;32m   1586\u001b[0m         \u001b[39mself\u001b[39m,\n\u001b[1;32m   1587\u001b[0m         elem,\n\u001b[0;32m   (...)\u001b[0m\n\u001b[1;32m   1591\u001b[0m         ret,\n\u001b[1;32m   1592\u001b[0m     )\n",
      "File \u001b[0;32m~/miniforge3/envs/tuttle/lib/python3.10/site-packages/sqlalchemy/engine/base.py:1943\u001b[0m, in \u001b[0;36mConnection._execute_context\u001b[0;34m(self, dialect, constructor, statement, parameters, execution_options, *args, **kw)\u001b[0m\n\u001b[1;32m   1940\u001b[0m             branched\u001b[39m.\u001b[39mclose()\n\u001b[1;32m   1942\u001b[0m \u001b[39mexcept\u001b[39;00m \u001b[39mBaseException\u001b[39;00m \u001b[39mas\u001b[39;00m e:\n\u001b[0;32m-> 1943\u001b[0m     \u001b[39mself\u001b[39;49m\u001b[39m.\u001b[39;49m_handle_dbapi_exception(\n\u001b[1;32m   1944\u001b[0m         e, statement, parameters, cursor, context\n\u001b[1;32m   1945\u001b[0m     )\n\u001b[1;32m   1947\u001b[0m \u001b[39mreturn\u001b[39;00m result\n",
      "File \u001b[0;32m~/miniforge3/envs/tuttle/lib/python3.10/site-packages/sqlalchemy/engine/base.py:2124\u001b[0m, in \u001b[0;36mConnection._handle_dbapi_exception\u001b[0;34m(self, e, statement, parameters, cursor, context)\u001b[0m\n\u001b[1;32m   2122\u001b[0m     util\u001b[39m.\u001b[39mraise_(newraise, with_traceback\u001b[39m=\u001b[39mexc_info[\u001b[39m2\u001b[39m], from_\u001b[39m=\u001b[39me)\n\u001b[1;32m   2123\u001b[0m \u001b[39melif\u001b[39;00m should_wrap:\n\u001b[0;32m-> 2124\u001b[0m     util\u001b[39m.\u001b[39;49mraise_(\n\u001b[1;32m   2125\u001b[0m         sqlalchemy_exception, with_traceback\u001b[39m=\u001b[39;49mexc_info[\u001b[39m2\u001b[39;49m], from_\u001b[39m=\u001b[39;49me\n\u001b[1;32m   2126\u001b[0m     )\n\u001b[1;32m   2127\u001b[0m \u001b[39melse\u001b[39;00m:\n\u001b[1;32m   2128\u001b[0m     util\u001b[39m.\u001b[39mraise_(exc_info[\u001b[39m1\u001b[39m], with_traceback\u001b[39m=\u001b[39mexc_info[\u001b[39m2\u001b[39m])\n",
      "File \u001b[0;32m~/miniforge3/envs/tuttle/lib/python3.10/site-packages/sqlalchemy/util/compat.py:208\u001b[0m, in \u001b[0;36mraise_\u001b[0;34m(***failed resolving arguments***)\u001b[0m\n\u001b[1;32m    205\u001b[0m     exception\u001b[39m.\u001b[39m__cause__ \u001b[39m=\u001b[39m replace_context\n\u001b[1;32m    207\u001b[0m \u001b[39mtry\u001b[39;00m:\n\u001b[0;32m--> 208\u001b[0m     \u001b[39mraise\u001b[39;00m exception\n\u001b[1;32m    209\u001b[0m \u001b[39mfinally\u001b[39;00m:\n\u001b[1;32m    210\u001b[0m     \u001b[39m# credit to\u001b[39;00m\n\u001b[1;32m    211\u001b[0m     \u001b[39m# https://cosmicpercolator.com/2016/01/13/exception-leaks-in-python-2-and-3/\u001b[39;00m\n\u001b[1;32m    212\u001b[0m     \u001b[39m# as the __traceback__ object creates a cycle\u001b[39;00m\n\u001b[1;32m    213\u001b[0m     \u001b[39mdel\u001b[39;00m exception, replace_context, from_, with_traceback\n",
      "File \u001b[0;32m~/miniforge3/envs/tuttle/lib/python3.10/site-packages/sqlalchemy/engine/base.py:1900\u001b[0m, in \u001b[0;36mConnection._execute_context\u001b[0;34m(self, dialect, constructor, statement, parameters, execution_options, *args, **kw)\u001b[0m\n\u001b[1;32m   1898\u001b[0m                 \u001b[39mbreak\u001b[39;00m\n\u001b[1;32m   1899\u001b[0m     \u001b[39mif\u001b[39;00m \u001b[39mnot\u001b[39;00m evt_handled:\n\u001b[0;32m-> 1900\u001b[0m         \u001b[39mself\u001b[39;49m\u001b[39m.\u001b[39;49mdialect\u001b[39m.\u001b[39;49mdo_execute(\n\u001b[1;32m   1901\u001b[0m             cursor, statement, parameters, context\n\u001b[1;32m   1902\u001b[0m         )\n\u001b[1;32m   1904\u001b[0m \u001b[39mif\u001b[39;00m \u001b[39mself\u001b[39m\u001b[39m.\u001b[39m_has_events \u001b[39mor\u001b[39;00m \u001b[39mself\u001b[39m\u001b[39m.\u001b[39mengine\u001b[39m.\u001b[39m_has_events:\n\u001b[1;32m   1905\u001b[0m     \u001b[39mself\u001b[39m\u001b[39m.\u001b[39mdispatch\u001b[39m.\u001b[39mafter_cursor_execute(\n\u001b[1;32m   1906\u001b[0m         \u001b[39mself\u001b[39m,\n\u001b[1;32m   1907\u001b[0m         cursor,\n\u001b[0;32m   (...)\u001b[0m\n\u001b[1;32m   1911\u001b[0m         context\u001b[39m.\u001b[39mexecutemany,\n\u001b[1;32m   1912\u001b[0m     )\n",
      "File \u001b[0;32m~/miniforge3/envs/tuttle/lib/python3.10/site-packages/sqlalchemy/engine/default.py:736\u001b[0m, in \u001b[0;36mDefaultDialect.do_execute\u001b[0;34m(self, cursor, statement, parameters, context)\u001b[0m\n\u001b[1;32m    735\u001b[0m \u001b[39mdef\u001b[39;00m \u001b[39mdo_execute\u001b[39m(\u001b[39mself\u001b[39m, cursor, statement, parameters, context\u001b[39m=\u001b[39m\u001b[39mNone\u001b[39;00m):\n\u001b[0;32m--> 736\u001b[0m     cursor\u001b[39m.\u001b[39;49mexecute(statement, parameters)\n",
      "\u001b[0;31mIntegrityError\u001b[0m: (sqlite3.IntegrityError) FOREIGN KEY constraint failed\n[SQL: DELETE FROM contact WHERE contact.id = ?]\n[parameters: (1,)]\n(Background on this error at: https://sqlalche.me/e/14/gkpj)"
     ]
    }
   ],
   "source": [
    "with Session(engine) as session:\n",
    "    contact = Contact()\n",
    "    client = Client(invoicing_contact=contact)\n",
    "\n",
    "    session.add(client)\n",
    "    session.commit()\n",
    "    session.refresh(client)\n",
    "\n",
    "    session.exec(delete(Contact).where(Contact.id == 1))\n",
    "    session.commit()"
   ]
  },
  {
   "cell_type": "code",
   "execution_count": null,
   "metadata": {},
   "outputs": [],
   "source": [
    "with Session(engine) as session:\n",
    "    contact = Contact()\n",
    "    client = Client(invoicing_contact=contact)\n",
    "\n",
    "    session.add(client)\n",
    "    session.commit()\n",
    "    session.refresh(client)\n",
    "\n",
    "    session.exec(delete(Client).where(Client.id == 1))\n",
    "    session.commit()"
   ]
  },
  {
   "cell_type": "code",
   "execution_count": null,
   "metadata": {},
   "outputs": [],
   "source": []
  }
 ],
 "metadata": {
  "kernelspec": {
   "display_name": "tuttle",
   "language": "python",
   "name": "python3"
  },
  "language_info": {
   "codemirror_mode": {
    "name": "ipython",
    "version": 3
   },
   "file_extension": ".py",
   "mimetype": "text/x-python",
   "name": "python",
   "nbconvert_exporter": "python",
   "pygments_lexer": "ipython3",
   "version": "3.10.8"
  },
  "orig_nbformat": 4,
  "vscode": {
   "interpreter": {
    "hash": "1b2a14e316f8528313aca7083ad4a819e30957812d4a6b2b5fed00540ac717aa"
   }
  }
 },
 "nbformat": 4,
 "nbformat_minor": 2
}
