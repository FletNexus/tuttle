{
 "cells": [
  {
   "cell_type": "markdown",
   "id": "a26a64c7-f0be-41f6-af0e-ad3f36fc6a19",
   "metadata": {},
   "source": [
    "# Time Tracking"
   ]
  },
  {
   "cell_type": "markdown",
   "id": "2619bc0e-7bdf-4c67-9900-b6ba53f980f4",
   "metadata": {},
   "source": [
    "Our target user is a freelancer who bills clients by the time worked. Therefore, managing, tracking and planning your work time is a central task. Tuttle wants to make this as easy and effective as possible for you. Let's get started:"
   ]
  },
  {
   "cell_type": "markdown",
   "id": "a87a1adb-156b-4333-aa8e-3dfd2965b5a5",
   "metadata": {},
   "source": [
    "## Preamble"
   ]
  },
  {
   "cell_type": "code",
   "execution_count": 17,
   "id": "8a5c691b-8d3f-4712-837a-96f634907bb5",
   "metadata": {},
   "outputs": [],
   "source": [
    "from pathlib import Path\n",
    "import ipywidgets\n",
    "from IPython import display"
   ]
  },
  {
   "cell_type": "code",
   "execution_count": 18,
   "id": "8a25d62c-dd13-4a3e-ab2e-cfca49d6093b",
   "metadata": {},
   "outputs": [],
   "source": [
    "import tuttle"
   ]
  },
  {
   "cell_type": "code",
   "execution_count": 19,
   "id": "dfcfd023-8497-4b0f-b320-35137c511921",
   "metadata": {},
   "outputs": [
    {
     "name": "stdout",
     "output_type": "stream",
     "text": [
      "2022-02-19 16:16:49,645 INFO sqlalchemy.engine.Engine BEGIN (implicit)\n",
      "2022-02-19 16:16:49,646 INFO sqlalchemy.engine.Engine PRAGMA main.table_info(\"address\")\n",
      "2022-02-19 16:16:49,647 INFO sqlalchemy.engine.Engine [raw sql] ()\n",
      "2022-02-19 16:16:49,649 INFO sqlalchemy.engine.Engine PRAGMA main.table_info(\"user\")\n",
      "2022-02-19 16:16:49,650 INFO sqlalchemy.engine.Engine [raw sql] ()\n",
      "2022-02-19 16:16:49,651 INFO sqlalchemy.engine.Engine PRAGMA main.table_info(\"icloudaccount\")\n",
      "2022-02-19 16:16:49,651 INFO sqlalchemy.engine.Engine [raw sql] ()\n",
      "2022-02-19 16:16:49,652 INFO sqlalchemy.engine.Engine PRAGMA main.table_info(\"googleaccount\")\n",
      "2022-02-19 16:16:49,652 INFO sqlalchemy.engine.Engine [raw sql] ()\n",
      "2022-02-19 16:16:49,653 INFO sqlalchemy.engine.Engine PRAGMA main.table_info(\"bank\")\n",
      "2022-02-19 16:16:49,653 INFO sqlalchemy.engine.Engine [raw sql] ()\n",
      "2022-02-19 16:16:49,654 INFO sqlalchemy.engine.Engine PRAGMA main.table_info(\"bankaccount\")\n",
      "2022-02-19 16:16:49,655 INFO sqlalchemy.engine.Engine [raw sql] ()\n",
      "2022-02-19 16:16:49,656 INFO sqlalchemy.engine.Engine PRAGMA main.table_info(\"contact\")\n",
      "2022-02-19 16:16:49,656 INFO sqlalchemy.engine.Engine [raw sql] ()\n",
      "2022-02-19 16:16:49,657 INFO sqlalchemy.engine.Engine PRAGMA main.table_info(\"client\")\n",
      "2022-02-19 16:16:49,657 INFO sqlalchemy.engine.Engine [raw sql] ()\n",
      "2022-02-19 16:16:49,658 INFO sqlalchemy.engine.Engine PRAGMA main.table_info(\"contract\")\n",
      "2022-02-19 16:16:49,659 INFO sqlalchemy.engine.Engine [raw sql] ()\n",
      "2022-02-19 16:16:49,660 INFO sqlalchemy.engine.Engine PRAGMA main.table_info(\"project\")\n",
      "2022-02-19 16:16:49,660 INFO sqlalchemy.engine.Engine [raw sql] ()\n",
      "2022-02-19 16:16:49,661 INFO sqlalchemy.engine.Engine PRAGMA main.table_info(\"timetrackingitem\")\n",
      "2022-02-19 16:16:49,661 INFO sqlalchemy.engine.Engine [raw sql] ()\n",
      "2022-02-19 16:16:49,662 INFO sqlalchemy.engine.Engine PRAGMA main.table_info(\"timesheet\")\n",
      "2022-02-19 16:16:49,662 INFO sqlalchemy.engine.Engine [raw sql] ()\n",
      "2022-02-19 16:16:49,663 INFO sqlalchemy.engine.Engine PRAGMA main.table_info(\"invoice\")\n",
      "2022-02-19 16:16:49,663 INFO sqlalchemy.engine.Engine [raw sql] ()\n",
      "2022-02-19 16:16:49,664 INFO sqlalchemy.engine.Engine PRAGMA main.table_info(\"invoiceitem\")\n",
      "2022-02-19 16:16:49,664 INFO sqlalchemy.engine.Engine [raw sql] ()\n",
      "2022-02-19 16:16:49,665 INFO sqlalchemy.engine.Engine PRAGMA main.table_info(\"timelineitem\")\n",
      "2022-02-19 16:16:49,665 INFO sqlalchemy.engine.Engine [raw sql] ()\n",
      "2022-02-19 16:16:49,666 INFO sqlalchemy.engine.Engine COMMIT\n"
     ]
    }
   ],
   "source": [
    "app = tuttle.app.App()"
   ]
  },
  {
   "cell_type": "markdown",
   "id": "9f3c3273-b564-4330-9f16-01df78760ddf",
   "metadata": {},
   "source": [
    "## How to Record Project Time with Tuttle"
   ]
  },
  {
   "cell_type": "markdown",
   "id": "f656eccf-bb3a-4225-8a7e-86c0a9b68402",
   "metadata": {},
   "source": [
    "- Previously we asked you to assign a unique **tag** to each project that you want to track. We use this tag to assign time tracking entries to projects, trying to find the tag in:\n",
    "    - the title of your calendar entries\n",
    "    - the title of your time tracking entries"
   ]
  },
  {
   "cell_type": "markdown",
   "id": "93048fa6-0ee2-48ec-a88c-cd328032fd5d",
   "metadata": {
    "tags": []
   },
   "source": [
    "## Importing Time Tracking Data"
   ]
  },
  {
   "cell_type": "markdown",
   "id": "3d90036f-3f60-421b-8c38-767b53abcf87",
   "metadata": {},
   "source": [
    "Currently we provide several ways of inputting time management data:\n",
    "    \n",
    "1. **Cloud Calendar**: Querying your cloud calendar: Log into your cloud calendar provider and import your calendar events seamlessly.\n",
    "2. **File Calendar**: Export your calendar in the iCalendar format and parse it.\n",
    "3. **Time Tracking Tables**: You may prefer to track your time not in the calendar but a specialized tool. As long as this tool can export time tracking data in a consistent format, we want to provide an option to import it into Tuttle."
   ]
  },
  {
   "cell_type": "code",
   "execution_count": 20,
   "id": "c4a179eb-e25e-4b0f-b533-4acbee2f462a",
   "metadata": {},
   "outputs": [],
   "source": [
    "time_tracking_preference = ipywidgets.RadioButtons(options=[\"Cloud Calendar\", \"File Calendar\", \"Table\"])"
   ]
  },
  {
   "cell_type": "markdown",
   "id": "71a3e6db-2daa-4388-9453-25e278b1c985",
   "metadata": {},
   "source": [
    "_Select your prereference for importing time tracking data:_"
   ]
  },
  {
   "cell_type": "code",
   "execution_count": 21,
   "id": "fc231461-47f4-4603-8d81-0ff0d5345576",
   "metadata": {},
   "outputs": [
    {
     "data": {
      "application/vnd.jupyter.widget-view+json": {
       "model_id": "3acbc516a19640008e652f37b64dc3d9",
       "version_major": 2,
       "version_minor": 0
      },
      "text/plain": [
       "RadioButtons(options=('Cloud Calendar', 'File Calendar', 'Table'), value='Cloud Calendar')"
      ]
     },
     "metadata": {},
     "output_type": "display_data"
    }
   ],
   "source": [
    "time_tracking_preference"
   ]
  },
  {
   "cell_type": "markdown",
   "id": "eaa9ca7f-6d28-4798-8030-2c0909e01cfd",
   "metadata": {},
   "source": [
    "### A) Time Tracking via Cloud Calendar"
   ]
  },
  {
   "cell_type": "markdown",
   "id": "74a56dda-f28c-4a5c-8636-cab887d5331e",
   "metadata": {},
   "source": [
    "If you have an Apple iCloud account, follow this process. (We are working on connectors with other cloud services)"
   ]
  },
  {
   "cell_type": "code",
   "execution_count": 23,
   "id": "36858e57-f404-4475-89a4-bf343575b850",
   "metadata": {},
   "outputs": [
    {
     "name": "stdout",
     "output_type": "stream",
     "text": [
      "2022-02-19 16:16:55,142 INFO sqlalchemy.engine.Engine SELECT user.id, user.name, user.subtitle, user.website, user.e_mail, user.phone_number, user.address_id, user.\"VAT_number\", user.icloud_account_id, user.bank_account_id, user.logo \n",
      "FROM user\n",
      "2022-02-19 16:16:55,144 INFO sqlalchemy.engine.Engine [no key 0.00169s] ()\n",
      "2022-02-19 16:16:55,146 INFO sqlalchemy.engine.Engine SELECT icloudaccount.id AS icloudaccount_id, icloudaccount.user_name AS icloudaccount_user_name \n",
      "FROM icloudaccount \n",
      "WHERE icloudaccount.id = ?\n",
      "2022-02-19 16:16:55,147 INFO sqlalchemy.engine.Engine [cached since 3.695s ago] (1,)\n"
     ]
    },
    {
     "data": {
      "text/plain": [
       "'mail@clstaudt.me'"
      ]
     },
     "execution_count": 23,
     "metadata": {},
     "output_type": "execute_result"
    }
   ],
   "source": [
    "icloud_username = app.user.icloud_account.user_name\n",
    "icloud_username"
   ]
  },
  {
   "cell_type": "markdown",
   "id": "45aa4e5c-6b5d-4b1b-8204-5d0070e447f5",
   "metadata": {},
   "source": [
    "Connect to your cloud calendar that contains your time tracking events:"
   ]
  },
  {
   "cell_type": "code",
   "execution_count": 24,
   "id": "fab0a8d9-8750-4fd4-8829-d8f3382bdd36",
   "metadata": {},
   "outputs": [],
   "source": [
    "from tuttle.calendar import ICloudCalendar"
   ]
  },
  {
   "cell_type": "code",
   "execution_count": 25,
   "id": "34d8ef72-6b78-4b45-8e63-30f85da38978",
   "metadata": {},
   "outputs": [],
   "source": [
    "if time_tracking_preference.value == \"Cloud Calendar\":\n",
    "    my_calendar = ICloudCalendar(\n",
    "        icloud=tuttle.cloud.login_iCloud(\n",
    "            user_name=icloud_username,\n",
    "        ),\n",
    "        name=input(\"calendar name: \"),\n",
    "    )"
   ]
  },
  {
   "cell_type": "markdown",
   "id": "aa72722a-de02-4b93-a2c8-2181ee4fc407",
   "metadata": {},
   "source": [
    "### B) Time  Tracking via Calendar Import"
   ]
  },
  {
   "cell_type": "code",
   "execution_count": 26,
   "id": "4d67eabc-81e2-448c-84f7-04f550c4920d",
   "metadata": {},
   "outputs": [],
   "source": [
    "from tuttle.calendar import FileCalendar"
   ]
  },
  {
   "cell_type": "markdown",
   "id": "3fb806ea-a6ff-4a4d-97f0-b7ebe893747d",
   "metadata": {},
   "source": [
    "**Example: file calendar**"
   ]
  },
  {
   "cell_type": "code",
   "execution_count": 27,
   "id": "613ae8db-16fd-4ff2-9297-7b8a9dc66b63",
   "metadata": {},
   "outputs": [],
   "source": [
    "timetracking_calendar_path = Path(\"../../tests/data/TuttleDemo-TimeTracking.ics\")"
   ]
  },
  {
   "cell_type": "code",
   "execution_count": 28,
   "id": "49537776-53ee-447b-b4bf-0058f25ed39d",
   "metadata": {},
   "outputs": [],
   "source": [
    "if time_tracking_preference.value == \"File Calendar\":\n",
    "    my_calendar = FileCalendar(\n",
    "        path=timetracking_calendar_path, \n",
    "        name=\"TimeTracking\"\n",
    "    )"
   ]
  },
  {
   "cell_type": "markdown",
   "id": "323a5d89-9c49-438c-842f-701e4dac1d15",
   "metadata": {},
   "source": [
    "### C) Time Tracking via Data Export from Time Tracking Tools"
   ]
  },
  {
   "cell_type": "markdown",
   "id": "be8b6901-19b4-4984-a244-7de670dd4077",
   "metadata": {},
   "source": [
    "![](https://media.gettyimages.com/vectors/under-construction-sign-in-white-background-vector-id536013219?b=1&k=6&m=536013219&s=170x170&h=_-DZGgLDo-84eyZSJZmgwlekma7FYt3LdOdLIC7qktw=)"
   ]
  },
  {
   "cell_type": "markdown",
   "id": "97f278b2-157b-4284-bb45-39f1420ac82d",
   "metadata": {},
   "source": [
    "## Generating Time Sheets"
   ]
  },
  {
   "cell_type": "markdown",
   "id": "51c22195-82dc-44f3-97db-999aee527663",
   "metadata": {},
   "source": [
    "Now that we have connected a source for time tracking data, we can pass it to other functions. In the following we generate **time sheets**. \n",
    "\n",
    "A **time sheet** \n",
    "- can be rendered to a document for reporting purposes\n",
    "- is the basis for an **invoice** - more on invoicing later."
   ]
  },
  {
   "cell_type": "markdown",
   "id": "3cebe1f6-242c-44cb-8eb5-755e07b22e2a",
   "metadata": {},
   "source": [
    "**Select a project**"
   ]
  },
  {
   "cell_type": "markdown",
   "id": "ff0fad15-c655-44c1-a195-23a2b73e24dc",
   "metadata": {},
   "source": [
    "**Example**"
   ]
  },
  {
   "cell_type": "code",
   "execution_count": 29,
   "id": "a1175e05-6f41-4665-82bf-6d68a22a6b01",
   "metadata": {},
   "outputs": [
    {
     "name": "stdout",
     "output_type": "stream",
     "text": [
      "2022-02-19 16:16:59,244 INFO sqlalchemy.engine.Engine SELECT project.id, project.title, project.tag, project.start_date, project.end_date, project.contract_id \n",
      "FROM project \n",
      "WHERE project.title = ?\n",
      "2022-02-19 16:16:59,246 INFO sqlalchemy.engine.Engine [no key 0.00270s] ('Heating Repair',)\n"
     ]
    }
   ],
   "source": [
    "my_project = app.get_project(title=\"Heating Repair\")"
   ]
  },
  {
   "cell_type": "markdown",
   "id": "e6c55933-1cf9-4d73-8ffa-4eaecc20e5ef",
   "metadata": {},
   "source": [
    "_Your turn: Select one of your projects by title_"
   ]
  },
  {
   "cell_type": "markdown",
   "id": "abd70f82-5156-463b-a83c-903b0d95692f",
   "metadata": {},
   "source": [
    "**Generate a time sheet**"
   ]
  },
  {
   "cell_type": "code",
   "execution_count": 30,
   "id": "d57420fe-ef7f-442a-9ebf-f452895b1fce",
   "metadata": {},
   "outputs": [
    {
     "name": "stdout",
     "output_type": "stream",
     "text": [
      "2022-02-19 16:16:59,966 INFO sqlalchemy.engine.Engine SELECT contract.unit AS contract_unit, contract.billing_cycle AS contract_billing_cycle, contract.id AS contract_id, contract.title AS contract_title, contract.signature_date AS contract_signature_date, contract.start_date AS contract_start_date, contract.end_date AS contract_end_date, contract.client_id AS contract_client_id, contract.rate AS contract_rate, contract.currency AS contract_currency, contract.volume AS contract_volume, contract.units_per_workday AS contract_units_per_workday, contract.term_of_payment AS contract_term_of_payment \n",
      "FROM contract \n",
      "WHERE contract.id = ?\n",
      "2022-02-19 16:16:59,967 INFO sqlalchemy.engine.Engine [generated in 0.00092s] (1,)\n"
     ]
    },
    {
     "name": "stderr",
     "output_type": "stream",
     "text": [
      "/Users/cls/miniforge3/envs/tuttle/lib/python3.9/site-packages/sqlmodel/orm/session.py:101: SAWarning: Dialect sqlite+pysqlite does *not* support Decimal objects natively, and SQLAlchemy must convert from floating point - rounding errors and other issues may occur. Please consider storing Decimal numbers as strings or integers on this platform for lossless storage.\n",
      "  return super().execute(  # type: ignore\n"
     ]
    }
   ],
   "source": [
    "my_timesheet = tuttle.timetracking.generate_timesheet(\n",
    "    source=my_calendar,\n",
    "    project=my_project,\n",
    "    period=\"February 2022\",\n",
    "    item_description=my_project.title,\n",
    ")"
   ]
  },
  {
   "cell_type": "markdown",
   "id": "0b165ac3-38d0-4177-b5e1-a94b73a41040",
   "metadata": {},
   "source": [
    "_Your turn: Generate a timesheet for your project_"
   ]
  },
  {
   "cell_type": "code",
   "execution_count": null,
   "id": "d3f3bd6b-89d8-4c94-a920-8cca10e02d64",
   "metadata": {},
   "outputs": [],
   "source": []
  },
  {
   "cell_type": "markdown",
   "id": "3739de73-24b2-4c77-92a9-623b36c769fe",
   "metadata": {},
   "source": [
    "**Display the timesheet data**"
   ]
  },
  {
   "cell_type": "code",
   "execution_count": 31,
   "id": "f6ffbadd-f43b-40c9-bfda-a28758dbfaba",
   "metadata": {},
   "outputs": [
    {
     "data": {
      "text/html": [
       "<div>\n",
       "<style scoped>\n",
       "    .dataframe tbody tr th:only-of-type {\n",
       "        vertical-align: middle;\n",
       "    }\n",
       "\n",
       "    .dataframe tbody tr th {\n",
       "        vertical-align: top;\n",
       "    }\n",
       "\n",
       "    .dataframe thead th {\n",
       "        text-align: right;\n",
       "    }\n",
       "</style>\n",
       "<table border=\"1\" class=\"dataframe\">\n",
       "  <thead>\n",
       "    <tr style=\"text-align: right;\">\n",
       "      <th></th>\n",
       "      <th>id</th>\n",
       "      <th>timesheet_id</th>\n",
       "      <th>begin</th>\n",
       "      <th>end</th>\n",
       "      <th>duration</th>\n",
       "      <th>title</th>\n",
       "      <th>tag</th>\n",
       "      <th>description</th>\n",
       "    </tr>\n",
       "  </thead>\n",
       "  <tbody>\n",
       "    <tr>\n",
       "      <th>0</th>\n",
       "      <td>None</td>\n",
       "      <td>None</td>\n",
       "      <td>2022-02-17 01:00:00+01:00</td>\n",
       "      <td>2022-02-18 01:00:00+01:00</td>\n",
       "      <td>0 days 08:00:00</td>\n",
       "      <td>#HeatingRepair</td>\n",
       "      <td>#HeatingRepair</td>\n",
       "      <td>Heating Repair</td>\n",
       "    </tr>\n",
       "    <tr>\n",
       "      <th>1</th>\n",
       "      <td>None</td>\n",
       "      <td>None</td>\n",
       "      <td>2022-02-18 01:00:00+01:00</td>\n",
       "      <td>2022-02-19 01:00:00+01:00</td>\n",
       "      <td>0 days 08:00:00</td>\n",
       "      <td>#HeatingRepair</td>\n",
       "      <td>#HeatingRepair</td>\n",
       "      <td>Heating Repair</td>\n",
       "    </tr>\n",
       "  </tbody>\n",
       "</table>\n",
       "</div>"
      ],
      "text/plain": [
       "     id timesheet_id                     begin                       end  \\\n",
       "0  None         None 2022-02-17 01:00:00+01:00 2022-02-18 01:00:00+01:00   \n",
       "1  None         None 2022-02-18 01:00:00+01:00 2022-02-19 01:00:00+01:00   \n",
       "\n",
       "         duration           title             tag     description  \n",
       "0 0 days 08:00:00  #HeatingRepair  #HeatingRepair  Heating Repair  \n",
       "1 0 days 08:00:00  #HeatingRepair  #HeatingRepair  Heating Repair  "
      ]
     },
     "execution_count": 31,
     "metadata": {},
     "output_type": "execute_result"
    }
   ],
   "source": [
    "my_timesheet.table"
   ]
  },
  {
   "cell_type": "markdown",
   "id": "e06400ff-735e-4d8d-a50f-57d06addbc3c",
   "metadata": {},
   "source": [
    "**Render the timesheet document**"
   ]
  },
  {
   "cell_type": "markdown",
   "id": "90e2ab4e-b312-40ec-b140-db7b38e8a501",
   "metadata": {},
   "source": [
    "The following function renders a timesheet to an HTML-based layout:"
   ]
  },
  {
   "cell_type": "code",
   "execution_count": 32,
   "id": "812b03ca-91b8-4a37-a11f-2aae06c22d7a",
   "metadata": {},
   "outputs": [
    {
     "name": "stdout",
     "output_type": "stream",
     "text": [
      "2022-02-19 16:17:01,655 INFO sqlalchemy.engine.Engine INSERT INTO timesheet (title, date, period, project_id, comment) VALUES (?, ?, ?, ?, ?)\n",
      "2022-02-19 16:17:01,657 INFO sqlalchemy.engine.Engine [generated in 0.00178s] ('Heating Repair - February 2022', '2022-02-19', 'February 2022', 1, '')\n",
      "2022-02-19 16:17:01,660 INFO sqlalchemy.engine.Engine INSERT INTO timetrackingitem (timesheet_id, \"begin\", \"end\", duration, title, tag, description) VALUES (?, ?, ?, ?, ?, ?, ?)\n",
      "2022-02-19 16:17:01,661 INFO sqlalchemy.engine.Engine [generated in 0.00077s] (1, '2022-02-17 01:00:00.000000', '2022-02-18 01:00:00.000000', '1970-01-01 08:00:00.000000', '#HeatingRepair', '#HeatingRepair', 'Heating Repair')\n",
      "2022-02-19 16:17:01,662 INFO sqlalchemy.engine.Engine INSERT INTO timetrackingitem (timesheet_id, \"begin\", \"end\", duration, title, tag, description) VALUES (?, ?, ?, ?, ?, ?, ?)\n",
      "2022-02-19 16:17:01,663 INFO sqlalchemy.engine.Engine [cached since 0.002185s ago] (1, '2022-02-18 01:00:00.000000', '2022-02-19 01:00:00.000000', '1970-01-01 08:00:00.000000', '#HeatingRepair', '#HeatingRepair', 'Heating Repair')\n",
      "2022-02-19 16:17:01,664 INFO sqlalchemy.engine.Engine SELECT user.id, user.name, user.subtitle, user.website, user.e_mail, user.phone_number, user.address_id, user.\"VAT_number\", user.icloud_account_id, user.bank_account_id, user.logo \n",
      "FROM user\n",
      "2022-02-19 16:17:01,665 INFO sqlalchemy.engine.Engine [no key 0.00083s] ()\n",
      "2022-02-19 16:17:01,674 INFO sqlalchemy.engine.Engine SELECT client.id AS client_id, client.name AS client_name, client.invoicing_contact_id AS client_invoicing_contact_id \n",
      "FROM client \n",
      "WHERE client.id = ?\n",
      "2022-02-19 16:17:01,674 INFO sqlalchemy.engine.Engine [generated in 0.00062s] (1,)\n"
     ]
    },
    {
     "data": {
      "text/html": [
       "<html>\n",
       "<head>\n",
       "    <meta charset=\"utf-8\">\n",
       "    <meta name=\"description\" content=\"Invoice\">\n",
       "    <meta name=\"pdfkit-page-size\" content=\"Legal\"/>\n",
       "    <meta name=\"pdfkit-orientation\" content=\"Portrait\"/>\n",
       "\n",
       "    \n",
       "    <!-- pure HTML -->\n",
       "    \n",
       "\n",
       "\n",
       "    <title>Timesheet</title>\n",
       "</head>\n",
       "\n",
       "<body>\n",
       "  <h1>Timesheet Heating Repair - February 2022</h1>\n",
       "\n",
       "  <aside>\n",
       "    <p>\n",
       "      Client: Sam Lowry<br>\n",
       "      Project: Heating Repair<br>\n",
       "      Period: February 2022<br>\n",
       "      Comment: \n",
       "    </p>\n",
       "  </aside>\n",
       "\n",
       "  <dl id=\"informations\">\n",
       "    <dt>Date</dt>\n",
       "    <dd>2022-02-19</dd>\n",
       "  </dl>\n",
       "\n",
       "  <table>\n",
       "    <thead>\n",
       "      <tr>\n",
       "        <th>Begin</th>\n",
       "        <th>End</th>\n",
       "        <th>Duration</th>\n",
       "        <th>Description</th>\n",
       "\n",
       "      </tr>\n",
       "    </thead>\n",
       "    <tbody>\n",
       "      \n",
       "      <tr>\n",
       "        <td>2022-02-17 01:00:00+01:00</td>\n",
       "        <td>2022-02-18 01:00:00+01:00</td>\n",
       "        <td>0 days 08:00:00</td>\n",
       "        <td>Heating Repair</td>\n",
       "      </tr>\n",
       "      \n",
       "      <tr>\n",
       "        <td>2022-02-18 01:00:00+01:00</td>\n",
       "        <td>2022-02-19 01:00:00+01:00</td>\n",
       "        <td>0 days 08:00:00</td>\n",
       "        <td>Heating Repair</td>\n",
       "      </tr>\n",
       "      \n",
       "    </tbody>\n",
       "  </table>\n",
       "\n",
       "  <table>\n",
       "    <tbody>\n",
       "      <tr>\n",
       "        <th><b>Total</b></th>\n",
       "        <td>16.0 hours</td>\n",
       "      </tr>\n",
       "    </tbody>\n",
       "  </table>\n",
       "\n",
       "\n",
       "</body>\n",
       "<footer>\n",
       "  <table>\n",
       "    <tbody>\n",
       "      <tr>\n",
       "        <td>\n",
       "          Christian Staudt<br>\n",
       "          Data Scientist<br>\n",
       "          https://clstaudt.me\n",
       "        </td>\n",
       "        <td>\n",
       "          mail@clstaudt.me<br>\n",
       "          +4917623351772\n",
       "        </td>\n",
       "        <td>\n",
       "        </td>\n",
       "      </tr>\n",
       "    </tbody>\n",
       "  </table>\n",
       "</footer>\n",
       "</html>"
      ],
      "text/plain": [
       "<IPython.core.display.HTML object>"
      ]
     },
     "execution_count": 32,
     "metadata": {},
     "output_type": "execute_result"
    }
   ],
   "source": [
    "display.HTML(\n",
    "    tuttle.rendering.render_timesheet(\n",
    "        user=app.user,\n",
    "        timesheet=my_timesheet,\n",
    "        style=None,\n",
    "    )\n",
    ")"
   ]
  },
  {
   "cell_type": "markdown",
   "id": "903bc361-89ca-41f7-9231-c75380610717",
   "metadata": {},
   "source": [
    "Rendering to a HTML file with various styles:"
   ]
  },
  {
   "cell_type": "markdown",
   "id": "0af6e7a2-168b-45ed-bad5-d44e4b7f823e",
   "metadata": {},
   "source": [
    "![](https://media.gettyimages.com/vectors/under-construction-sign-in-white-background-vector-id536013219?b=1&k=6&m=536013219&s=170x170&h=_-DZGgLDo-84eyZSJZmgwlekma7FYt3LdOdLIC7qktw=)"
   ]
  }
 ],
 "metadata": {
  "kernelspec": {
   "display_name": "tuttle",
   "language": "python",
   "name": "ex"
  },
  "language_info": {
   "codemirror_mode": {
    "name": "ipython",
    "version": 3
   },
   "file_extension": ".py",
   "mimetype": "text/x-python",
   "name": "python",
   "nbconvert_exporter": "python",
   "pygments_lexer": "ipython3",
   "version": "3.9.7"
  }
 },
 "nbformat": 4,
 "nbformat_minor": 5
}
