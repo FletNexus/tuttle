{
 "cells": [
  {
   "cell_type": "markdown",
   "id": "0025a9fb-f7bf-4151-a059-058401a9341c",
   "metadata": {},
   "source": [
    "# Setup"
   ]
  },
  {
   "cell_type": "markdown",
   "id": "e8576f5c-c6ab-4e40-a0f8-2dba09deb56f",
   "metadata": {},
   "source": [
    "As the first step, we import the `tuttle` Python module and instantiate the `app` object:"
   ]
  },
  {
   "cell_type": "code",
   "execution_count": 1,
   "id": "86482a31-0e11-4988-a03e-d0eff1757584",
   "metadata": {},
   "outputs": [],
   "source": [
    "import tuttle"
   ]
  },
  {
   "cell_type": "code",
   "execution_count": 2,
   "id": "a35c1002-afad-42c7-be62-b54105718519",
   "metadata": {},
   "outputs": [
    {
     "name": "stdout",
     "output_type": "stream",
     "text": [
      "2022-02-19 13:53:11,820 INFO sqlalchemy.engine.Engine BEGIN (implicit)\n",
      "2022-02-19 13:53:11,820 INFO sqlalchemy.engine.Engine PRAGMA main.table_info(\"address\")\n",
      "2022-02-19 13:53:11,820 INFO sqlalchemy.engine.Engine [raw sql] ()\n",
      "2022-02-19 13:53:11,821 INFO sqlalchemy.engine.Engine PRAGMA main.table_info(\"user\")\n",
      "2022-02-19 13:53:11,821 INFO sqlalchemy.engine.Engine [raw sql] ()\n",
      "2022-02-19 13:53:11,821 INFO sqlalchemy.engine.Engine PRAGMA main.table_info(\"icloudaccount\")\n",
      "2022-02-19 13:53:11,821 INFO sqlalchemy.engine.Engine [raw sql] ()\n",
      "2022-02-19 13:53:11,822 INFO sqlalchemy.engine.Engine PRAGMA main.table_info(\"googleaccount\")\n",
      "2022-02-19 13:53:11,822 INFO sqlalchemy.engine.Engine [raw sql] ()\n",
      "2022-02-19 13:53:11,822 INFO sqlalchemy.engine.Engine PRAGMA main.table_info(\"bank\")\n",
      "2022-02-19 13:53:11,822 INFO sqlalchemy.engine.Engine [raw sql] ()\n",
      "2022-02-19 13:53:11,822 INFO sqlalchemy.engine.Engine PRAGMA main.table_info(\"bankaccount\")\n",
      "2022-02-19 13:53:11,822 INFO sqlalchemy.engine.Engine [raw sql] ()\n",
      "2022-02-19 13:53:11,823 INFO sqlalchemy.engine.Engine PRAGMA main.table_info(\"contact\")\n",
      "2022-02-19 13:53:11,823 INFO sqlalchemy.engine.Engine [raw sql] ()\n",
      "2022-02-19 13:53:11,823 INFO sqlalchemy.engine.Engine PRAGMA main.table_info(\"client\")\n",
      "2022-02-19 13:53:11,823 INFO sqlalchemy.engine.Engine [raw sql] ()\n",
      "2022-02-19 13:53:11,824 INFO sqlalchemy.engine.Engine PRAGMA main.table_info(\"contract\")\n",
      "2022-02-19 13:53:11,824 INFO sqlalchemy.engine.Engine [raw sql] ()\n",
      "2022-02-19 13:53:11,824 INFO sqlalchemy.engine.Engine PRAGMA main.table_info(\"project\")\n",
      "2022-02-19 13:53:11,824 INFO sqlalchemy.engine.Engine [raw sql] ()\n",
      "2022-02-19 13:53:11,824 INFO sqlalchemy.engine.Engine PRAGMA main.table_info(\"timetrackingitem\")\n",
      "2022-02-19 13:53:11,825 INFO sqlalchemy.engine.Engine [raw sql] ()\n",
      "2022-02-19 13:53:11,825 INFO sqlalchemy.engine.Engine PRAGMA main.table_info(\"timesheet\")\n",
      "2022-02-19 13:53:11,825 INFO sqlalchemy.engine.Engine [raw sql] ()\n",
      "2022-02-19 13:53:11,825 INFO sqlalchemy.engine.Engine PRAGMA main.table_info(\"invoice\")\n",
      "2022-02-19 13:53:11,825 INFO sqlalchemy.engine.Engine [raw sql] ()\n",
      "2022-02-19 13:53:11,825 INFO sqlalchemy.engine.Engine PRAGMA main.table_info(\"invoiceitem\")\n",
      "2022-02-19 13:53:11,826 INFO sqlalchemy.engine.Engine [raw sql] ()\n",
      "2022-02-19 13:53:11,826 INFO sqlalchemy.engine.Engine PRAGMA main.table_info(\"timelineitem\")\n",
      "2022-02-19 13:53:11,826 INFO sqlalchemy.engine.Engine [raw sql] ()\n",
      "2022-02-19 13:53:11,826 INFO sqlalchemy.engine.Engine COMMIT\n"
     ]
    }
   ],
   "source": [
    "app = tuttle.app.App()"
   ]
  },
  {
   "cell_type": "markdown",
   "id": "a85ccaaa-e35a-4199-8d99-86a786a50891",
   "metadata": {},
   "source": [
    "Since this is the beginning of the workflow, let's make sure that we start from a clean database."
   ]
  },
  {
   "cell_type": "code",
   "execution_count": 3,
   "id": "63ab7a39-1d10-4eab-9c7f-cfc871b1547a",
   "metadata": {},
   "outputs": [
    {
     "name": "stdout",
     "output_type": "stream",
     "text": [
      "2022-02-19 13:53:11,831 INFO sqlalchemy.engine.Engine BEGIN (implicit)\n",
      "2022-02-19 13:53:11,831 INFO sqlalchemy.engine.Engine PRAGMA main.table_info(\"address\")\n",
      "2022-02-19 13:53:11,832 INFO sqlalchemy.engine.Engine [raw sql] ()\n",
      "2022-02-19 13:53:11,832 INFO sqlalchemy.engine.Engine PRAGMA temp.table_info(\"address\")\n",
      "2022-02-19 13:53:11,832 INFO sqlalchemy.engine.Engine [raw sql] ()\n",
      "2022-02-19 13:53:11,832 INFO sqlalchemy.engine.Engine PRAGMA main.table_info(\"user\")\n",
      "2022-02-19 13:53:11,833 INFO sqlalchemy.engine.Engine [raw sql] ()\n",
      "2022-02-19 13:53:11,833 INFO sqlalchemy.engine.Engine PRAGMA temp.table_info(\"user\")\n",
      "2022-02-19 13:53:11,833 INFO sqlalchemy.engine.Engine [raw sql] ()\n",
      "2022-02-19 13:53:11,833 INFO sqlalchemy.engine.Engine PRAGMA main.table_info(\"icloudaccount\")\n",
      "2022-02-19 13:53:11,834 INFO sqlalchemy.engine.Engine [raw sql] ()\n",
      "2022-02-19 13:53:11,834 INFO sqlalchemy.engine.Engine PRAGMA temp.table_info(\"icloudaccount\")\n",
      "2022-02-19 13:53:11,834 INFO sqlalchemy.engine.Engine [raw sql] ()\n",
      "2022-02-19 13:53:11,834 INFO sqlalchemy.engine.Engine PRAGMA main.table_info(\"googleaccount\")\n",
      "2022-02-19 13:53:11,835 INFO sqlalchemy.engine.Engine [raw sql] ()\n",
      "2022-02-19 13:53:11,835 INFO sqlalchemy.engine.Engine PRAGMA temp.table_info(\"googleaccount\")\n",
      "2022-02-19 13:53:11,835 INFO sqlalchemy.engine.Engine [raw sql] ()\n",
      "2022-02-19 13:53:11,835 INFO sqlalchemy.engine.Engine PRAGMA main.table_info(\"bank\")\n",
      "2022-02-19 13:53:11,835 INFO sqlalchemy.engine.Engine [raw sql] ()\n",
      "2022-02-19 13:53:11,836 INFO sqlalchemy.engine.Engine PRAGMA temp.table_info(\"bank\")\n",
      "2022-02-19 13:53:11,836 INFO sqlalchemy.engine.Engine [raw sql] ()\n",
      "2022-02-19 13:53:11,836 INFO sqlalchemy.engine.Engine PRAGMA main.table_info(\"bankaccount\")\n",
      "2022-02-19 13:53:11,836 INFO sqlalchemy.engine.Engine [raw sql] ()\n",
      "2022-02-19 13:53:11,837 INFO sqlalchemy.engine.Engine PRAGMA temp.table_info(\"bankaccount\")\n",
      "2022-02-19 13:53:11,837 INFO sqlalchemy.engine.Engine [raw sql] ()\n",
      "2022-02-19 13:53:11,837 INFO sqlalchemy.engine.Engine PRAGMA main.table_info(\"contact\")\n",
      "2022-02-19 13:53:11,837 INFO sqlalchemy.engine.Engine [raw sql] ()\n",
      "2022-02-19 13:53:11,838 INFO sqlalchemy.engine.Engine PRAGMA temp.table_info(\"contact\")\n",
      "2022-02-19 13:53:11,838 INFO sqlalchemy.engine.Engine [raw sql] ()\n",
      "2022-02-19 13:53:11,838 INFO sqlalchemy.engine.Engine PRAGMA main.table_info(\"client\")\n",
      "2022-02-19 13:53:11,839 INFO sqlalchemy.engine.Engine [raw sql] ()\n",
      "2022-02-19 13:53:11,840 INFO sqlalchemy.engine.Engine PRAGMA temp.table_info(\"client\")\n",
      "2022-02-19 13:53:11,840 INFO sqlalchemy.engine.Engine [raw sql] ()\n",
      "2022-02-19 13:53:11,841 INFO sqlalchemy.engine.Engine PRAGMA main.table_info(\"contract\")\n",
      "2022-02-19 13:53:11,841 INFO sqlalchemy.engine.Engine [raw sql] ()\n",
      "2022-02-19 13:53:11,841 INFO sqlalchemy.engine.Engine PRAGMA temp.table_info(\"contract\")\n",
      "2022-02-19 13:53:11,841 INFO sqlalchemy.engine.Engine [raw sql] ()\n",
      "2022-02-19 13:53:11,842 INFO sqlalchemy.engine.Engine PRAGMA main.table_info(\"project\")\n",
      "2022-02-19 13:53:11,842 INFO sqlalchemy.engine.Engine [raw sql] ()\n",
      "2022-02-19 13:53:11,842 INFO sqlalchemy.engine.Engine PRAGMA temp.table_info(\"project\")\n",
      "2022-02-19 13:53:11,842 INFO sqlalchemy.engine.Engine [raw sql] ()\n",
      "2022-02-19 13:53:11,842 INFO sqlalchemy.engine.Engine PRAGMA main.table_info(\"timetrackingitem\")\n",
      "2022-02-19 13:53:11,843 INFO sqlalchemy.engine.Engine [raw sql] ()\n",
      "2022-02-19 13:53:11,843 INFO sqlalchemy.engine.Engine PRAGMA temp.table_info(\"timetrackingitem\")\n",
      "2022-02-19 13:53:11,843 INFO sqlalchemy.engine.Engine [raw sql] ()\n",
      "2022-02-19 13:53:11,843 INFO sqlalchemy.engine.Engine PRAGMA main.table_info(\"timesheet\")\n",
      "2022-02-19 13:53:11,844 INFO sqlalchemy.engine.Engine [raw sql] ()\n",
      "2022-02-19 13:53:11,844 INFO sqlalchemy.engine.Engine PRAGMA temp.table_info(\"timesheet\")\n",
      "2022-02-19 13:53:11,844 INFO sqlalchemy.engine.Engine [raw sql] ()\n",
      "2022-02-19 13:53:11,844 INFO sqlalchemy.engine.Engine PRAGMA main.table_info(\"invoice\")\n",
      "2022-02-19 13:53:11,845 INFO sqlalchemy.engine.Engine [raw sql] ()\n",
      "2022-02-19 13:53:11,845 INFO sqlalchemy.engine.Engine PRAGMA temp.table_info(\"invoice\")\n",
      "2022-02-19 13:53:11,845 INFO sqlalchemy.engine.Engine [raw sql] ()\n",
      "2022-02-19 13:53:11,846 INFO sqlalchemy.engine.Engine PRAGMA main.table_info(\"invoiceitem\")\n",
      "2022-02-19 13:53:11,846 INFO sqlalchemy.engine.Engine [raw sql] ()\n",
      "2022-02-19 13:53:11,846 INFO sqlalchemy.engine.Engine PRAGMA temp.table_info(\"invoiceitem\")\n",
      "2022-02-19 13:53:11,846 INFO sqlalchemy.engine.Engine [raw sql] ()\n",
      "2022-02-19 13:53:11,847 INFO sqlalchemy.engine.Engine PRAGMA main.table_info(\"timelineitem\")\n",
      "2022-02-19 13:53:11,847 INFO sqlalchemy.engine.Engine [raw sql] ()\n",
      "2022-02-19 13:53:11,847 INFO sqlalchemy.engine.Engine PRAGMA temp.table_info(\"timelineitem\")\n",
      "2022-02-19 13:53:11,848 INFO sqlalchemy.engine.Engine [raw sql] ()\n",
      "2022-02-19 13:53:11,849 INFO sqlalchemy.engine.Engine \n",
      "CREATE TABLE address (\n",
      "\tid INTEGER, \n",
      "\tstreet VARCHAR NOT NULL, \n",
      "\tnumber VARCHAR NOT NULL, \n",
      "\tcity VARCHAR NOT NULL, \n",
      "\tpostal_code VARCHAR NOT NULL, \n",
      "\tcountry VARCHAR NOT NULL, \n",
      "\tPRIMARY KEY (id)\n",
      ")\n",
      "\n",
      "\n",
      "2022-02-19 13:53:11,849 INFO sqlalchemy.engine.Engine [no key 0.00047s] ()\n",
      "2022-02-19 13:53:11,850 INFO sqlalchemy.engine.Engine \n",
      "CREATE TABLE icloudaccount (\n",
      "\tid INTEGER, \n",
      "\tuser_name VARCHAR NOT NULL, \n",
      "\tPRIMARY KEY (id)\n",
      ")\n",
      "\n",
      "\n",
      "2022-02-19 13:53:11,851 INFO sqlalchemy.engine.Engine [no key 0.00033s] ()\n",
      "2022-02-19 13:53:11,851 INFO sqlalchemy.engine.Engine \n",
      "CREATE TABLE googleaccount (\n",
      "\tid INTEGER, \n",
      "\tuser_name VARCHAR NOT NULL, \n",
      "\tPRIMARY KEY (id)\n",
      ")\n",
      "\n",
      "\n",
      "2022-02-19 13:53:11,852 INFO sqlalchemy.engine.Engine [no key 0.00022s] ()\n",
      "2022-02-19 13:53:11,853 INFO sqlalchemy.engine.Engine \n",
      "CREATE TABLE bank (\n",
      "\tid INTEGER, \n",
      "\t\"BLZ\" VARCHAR NOT NULL, \n",
      "\tPRIMARY KEY (id)\n",
      ")\n",
      "\n",
      "\n",
      "2022-02-19 13:53:11,853 INFO sqlalchemy.engine.Engine [no key 0.00027s] ()\n",
      "2022-02-19 13:53:11,854 INFO sqlalchemy.engine.Engine \n",
      "CREATE TABLE bankaccount (\n",
      "\tid INTEGER, \n",
      "\tname VARCHAR NOT NULL, \n",
      "\t\"IBAN\" VARCHAR NOT NULL, \n",
      "\t\"BIC\" VARCHAR NOT NULL, \n",
      "\tPRIMARY KEY (id)\n",
      ")\n",
      "\n",
      "\n",
      "2022-02-19 13:53:11,854 INFO sqlalchemy.engine.Engine [no key 0.00020s] ()\n",
      "2022-02-19 13:53:11,855 INFO sqlalchemy.engine.Engine \n",
      "CREATE TABLE timelineitem (\n",
      "\ttime DATETIME NOT NULL, \n",
      "\tid INTEGER, \n",
      "\tcontent VARCHAR NOT NULL, \n",
      "\tPRIMARY KEY (id)\n",
      ")\n",
      "\n",
      "\n",
      "2022-02-19 13:53:11,856 INFO sqlalchemy.engine.Engine [no key 0.00032s] ()\n",
      "2022-02-19 13:53:11,857 INFO sqlalchemy.engine.Engine \n",
      "CREATE TABLE user (\n",
      "\tid INTEGER, \n",
      "\tname VARCHAR NOT NULL, \n",
      "\tsubtitle VARCHAR NOT NULL, \n",
      "\twebsite VARCHAR NOT NULL, \n",
      "\te_mail VARCHAR NOT NULL, \n",
      "\tphone_number VARCHAR NOT NULL, \n",
      "\taddress_id INTEGER, \n",
      "\t\"VAT_number\" VARCHAR, \n",
      "\ticloud_account_id INTEGER, \n",
      "\tbank_account_id INTEGER, \n",
      "\tlogo VARCHAR, \n",
      "\tPRIMARY KEY (id), \n",
      "\tFOREIGN KEY(address_id) REFERENCES address (id), \n",
      "\tFOREIGN KEY(icloud_account_id) REFERENCES icloudaccount (id), \n",
      "\tFOREIGN KEY(bank_account_id) REFERENCES bankaccount (id)\n",
      ")\n",
      "\n",
      "\n",
      "2022-02-19 13:53:11,857 INFO sqlalchemy.engine.Engine [no key 0.00029s] ()\n",
      "2022-02-19 13:53:11,858 INFO sqlalchemy.engine.Engine \n",
      "CREATE TABLE contact (\n",
      "\tid INTEGER, \n",
      "\tname VARCHAR NOT NULL, \n",
      "\te_mail VARCHAR, \n",
      "\taddress_id INTEGER, \n",
      "\tPRIMARY KEY (id), \n",
      "\tFOREIGN KEY(address_id) REFERENCES address (id)\n",
      ")\n",
      "\n",
      "\n",
      "2022-02-19 13:53:11,858 INFO sqlalchemy.engine.Engine [no key 0.00023s] ()\n",
      "2022-02-19 13:53:11,859 INFO sqlalchemy.engine.Engine \n",
      "CREATE TABLE client (\n",
      "\tid INTEGER, \n",
      "\tname VARCHAR NOT NULL, \n",
      "\tinvoicing_contact_id INTEGER, \n",
      "\tPRIMARY KEY (id), \n",
      "\tFOREIGN KEY(invoicing_contact_id) REFERENCES contact (id)\n",
      ")\n",
      "\n",
      "\n",
      "2022-02-19 13:53:11,859 INFO sqlalchemy.engine.Engine [no key 0.00025s] ()\n",
      "2022-02-19 13:53:11,860 INFO sqlalchemy.engine.Engine \n",
      "CREATE TABLE contract (\n",
      "\tunit VARCHAR(6), \n",
      "\tbilling_cycle VARCHAR(9), \n",
      "\tid INTEGER, \n",
      "\ttitle VARCHAR NOT NULL, \n",
      "\tsignature_date DATE NOT NULL, \n",
      "\tstart_date DATE NOT NULL, \n",
      "\tend_date DATE, \n",
      "\tclient_id INTEGER, \n",
      "\trate NUMERIC NOT NULL, \n",
      "\tcurrency VARCHAR NOT NULL, \n",
      "\tvolume INTEGER, \n",
      "\tunits_per_workday INTEGER NOT NULL, \n",
      "\tterm_of_payment INTEGER, \n",
      "\tPRIMARY KEY (id), \n",
      "\tFOREIGN KEY(client_id) REFERENCES client (id)\n",
      ")\n",
      "\n",
      "\n",
      "2022-02-19 13:53:11,860 INFO sqlalchemy.engine.Engine [no key 0.00022s] ()\n",
      "2022-02-19 13:53:11,861 INFO sqlalchemy.engine.Engine \n",
      "CREATE TABLE project (\n",
      "\tid INTEGER, \n",
      "\ttitle VARCHAR NOT NULL, \n",
      "\ttag VARCHAR NOT NULL, \n",
      "\tstart_date DATE NOT NULL, \n",
      "\tend_date DATE NOT NULL, \n",
      "\tcontract_id INTEGER, \n",
      "\tPRIMARY KEY (id), \n",
      "\tUNIQUE (title), \n",
      "\tUNIQUE (tag), \n",
      "\tFOREIGN KEY(contract_id) REFERENCES contract (id)\n",
      ")\n",
      "\n",
      "\n",
      "2022-02-19 13:53:11,861 INFO sqlalchemy.engine.Engine [no key 0.00019s] ()\n",
      "2022-02-19 13:53:11,862 INFO sqlalchemy.engine.Engine \n",
      "CREATE TABLE invoice (\n",
      "\tid INTEGER, \n",
      "\tnumber VARCHAR, \n",
      "\tdate DATE NOT NULL, \n",
      "\tcontract_id INTEGER, \n",
      "\tsent BOOLEAN, \n",
      "\tpaid BOOLEAN, \n",
      "\tcancelled BOOLEAN, \n",
      "\tPRIMARY KEY (id), \n",
      "\tFOREIGN KEY(contract_id) REFERENCES contract (id)\n",
      ")\n",
      "\n",
      "\n",
      "2022-02-19 13:53:11,863 INFO sqlalchemy.engine.Engine [no key 0.00026s] ()\n",
      "2022-02-19 13:53:11,864 INFO sqlalchemy.engine.Engine \n",
      "CREATE TABLE timesheet (\n",
      "\tid INTEGER, \n",
      "\ttitle VARCHAR NOT NULL, \n",
      "\tdate DATE NOT NULL, \n",
      "\tperiod VARCHAR NOT NULL, \n",
      "\tproject_id INTEGER, \n",
      "\tcomment VARCHAR, \n",
      "\tPRIMARY KEY (id), \n",
      "\tFOREIGN KEY(project_id) REFERENCES project (id)\n",
      ")\n",
      "\n",
      "\n",
      "2022-02-19 13:53:11,864 INFO sqlalchemy.engine.Engine [no key 0.00023s] ()\n",
      "2022-02-19 13:53:11,865 INFO sqlalchemy.engine.Engine \n",
      "CREATE TABLE invoiceitem (\n",
      "\tid INTEGER, \n",
      "\tdate DATE NOT NULL, \n",
      "\tquantity INTEGER NOT NULL, \n",
      "\tunit VARCHAR NOT NULL, \n",
      "\tunit_price NUMERIC NOT NULL, \n",
      "\tdescription VARCHAR NOT NULL, \n",
      "\t\"VAT_rate\" NUMERIC NOT NULL, \n",
      "\tinvoice_id INTEGER, \n",
      "\tPRIMARY KEY (id), \n",
      "\tFOREIGN KEY(invoice_id) REFERENCES invoice (id)\n",
      ")\n",
      "\n",
      "\n",
      "2022-02-19 13:53:11,865 INFO sqlalchemy.engine.Engine [no key 0.00023s] ()\n",
      "2022-02-19 13:53:11,866 INFO sqlalchemy.engine.Engine \n",
      "CREATE TABLE timetrackingitem (\n",
      "\tid INTEGER, \n",
      "\ttimesheet_id INTEGER, \n",
      "\t\"begin\" DATETIME NOT NULL, \n",
      "\t\"end\" DATETIME NOT NULL, \n",
      "\tduration DATETIME NOT NULL, \n",
      "\ttitle VARCHAR NOT NULL, \n",
      "\ttag VARCHAR NOT NULL, \n",
      "\tdescription VARCHAR, \n",
      "\tPRIMARY KEY (id), \n",
      "\tFOREIGN KEY(timesheet_id) REFERENCES timesheet (id)\n",
      ")\n",
      "\n",
      "\n",
      "2022-02-19 13:53:11,866 INFO sqlalchemy.engine.Engine [no key 0.00023s] ()\n",
      "2022-02-19 13:53:11,866 INFO sqlalchemy.engine.Engine COMMIT\n"
     ]
    }
   ],
   "source": [
    "app.clear_database()"
   ]
  },
  {
   "cell_type": "markdown",
   "id": "ac14fca2-657d-4e8c-9730-74048e0c9551",
   "metadata": {},
   "source": [
    "After running this, a new database has been created in your user space:"
   ]
  },
  {
   "cell_type": "code",
   "execution_count": 4,
   "id": "ce5aac90-3726-423c-bdfa-0a4b57a977cf",
   "metadata": {},
   "outputs": [
    {
     "name": "stdout",
     "output_type": "stream",
     "text": [
      "tuttle.db\n"
     ]
    }
   ],
   "source": [
    "!ls /Users/cls/.tuttle/"
   ]
  },
  {
   "cell_type": "markdown",
   "id": "f09d43d2-a8ef-41db-92e3-eb554f4a870e",
   "metadata": {},
   "source": [
    "## User"
   ]
  },
  {
   "cell_type": "markdown",
   "id": "8081bb65-a8cf-4795-b160-edfbc00d56ff",
   "metadata": {},
   "source": [
    "When first running the application, you need to provide the application with information about you and your freelance business. You do this by creating a new `User` object."
   ]
  },
  {
   "cell_type": "markdown",
   "id": "a6a62aee-e4a4-41eb-948b-d6c13ee598dd",
   "metadata": {},
   "source": [
    "Here is an example:"
   ]
  },
  {
   "cell_type": "code",
   "execution_count": 5,
   "id": "94c8b532-db99-4778-adbb-ab3e7abb345f",
   "metadata": {},
   "outputs": [],
   "source": [
    "from tuttle.model import User, Address, BankAccount, ICloudAccount"
   ]
  },
  {
   "cell_type": "code",
   "execution_count": 6,
   "id": "a273a395-af1f-43e0-b031-85c4c8058d54",
   "metadata": {},
   "outputs": [],
   "source": [
    "harry = User(\n",
    "    name=\"Harry Tuttle\",\n",
    "    subtitle=\"Heating Engineer\",\n",
    "    website=\"https://tuttle-dev.github.io/tuttle/\",\n",
    "    e_mail=\"mail@tuttle.com\",\n",
    "    phone_number=\"+55555555555\",\n",
    "    VAT_number=\"DZ-015\",\n",
    "    address=Address(\n",
    "        name=\"Harry Tuttle\",\n",
    "        street=\"Main Street\",\n",
    "        number=\"450\",\n",
    "        city=\"Sao Paolo\",\n",
    "        postal_code=\"555555\",\n",
    "        country=\"Brazil\",\n",
    "    ),\n",
    "    bank_account=BankAccount(\n",
    "        name=\"Giro\",\n",
    "        IBAN=\"BZ99830994950003161565\",\n",
    "        BIC=\"ABCDEFGH\",\n",
    "    ),\n",
    "    icloud_account=ICloudAccount(user_name=\"mail@tuttle.com\")\n",
    ")"
   ]
  },
  {
   "cell_type": "markdown",
   "id": "94d1ea43-33ae-4170-b214-9a9c9e57ce7b",
   "metadata": {},
   "source": [
    "Now it's your turn - please provide your details and instantiate a user object. \n",
    "\n",
    "(If you do not have an iCloud account, don't worry, there are other options of accessing your calendar data)."
   ]
  },
  {
   "cell_type": "code",
   "execution_count": 7,
   "id": "b34bee56-d039-4644-abda-0467dc5a6430",
   "metadata": {},
   "outputs": [],
   "source": [
    "me = User(\n",
    "    name=\"Christian Staudt\",\n",
    "    subtitle=\"Data Scientist\",\n",
    "    website=\"https://clstaudt.me\",\n",
    "    e_mail=\"mail@clstaudt.me\",\n",
    "    phone_number=\"+4917623351772\",\n",
    "    VAT_number=\"DE311591572\",\n",
    "    address=Address(\n",
    "        name=\"Christian Staudt\",\n",
    "        street=\"Fuhlsbüttler Str.\",\n",
    "        number=\"450\",\n",
    "        city=\"Hamburg\",\n",
    "        postal_code=\"22309\",\n",
    "        country=\"Germany\",\n",
    "    ),\n",
    "    bank_account=BankAccount(\n",
    "        name=\"Giro\",\n",
    "        IBAN=\"DE91830944950003161439\",\n",
    "        BIC=\"GENODEF1ETK\",\n",
    "    ),\n",
    "    icloud_account=ICloudAccount(user_name=\"mail@clstaudt.me\")\n",
    ")"
   ]
  },
  {
   "cell_type": "markdown",
   "id": "e5d8f85e-0b4c-4e72-bf6b-8bad8c62c851",
   "metadata": {},
   "source": [
    "Store your new user in the database:"
   ]
  },
  {
   "cell_type": "code",
   "execution_count": 8,
   "id": "fa0a8170-0925-4b45-ac78-266fc8db16c6",
   "metadata": {},
   "outputs": [
    {
     "name": "stdout",
     "output_type": "stream",
     "text": [
      "2022-02-19 13:53:12,049 INFO sqlalchemy.engine.Engine BEGIN (implicit)\n",
      "2022-02-19 13:53:12,051 INFO sqlalchemy.engine.Engine INSERT INTO address (street, number, city, postal_code, country) VALUES (?, ?, ?, ?, ?)\n",
      "2022-02-19 13:53:12,051 INFO sqlalchemy.engine.Engine [generated in 0.00034s] ('Fuhlsbüttler Str.', '450', 'Hamburg', '22309', 'Germany')\n",
      "2022-02-19 13:53:12,053 INFO sqlalchemy.engine.Engine INSERT INTO bankaccount (name, \"IBAN\", \"BIC\") VALUES (?, ?, ?)\n",
      "2022-02-19 13:53:12,053 INFO sqlalchemy.engine.Engine [generated in 0.00034s] ('Giro', 'DE91830944950003161439', 'GENODEF1ETK')\n",
      "2022-02-19 13:53:12,053 INFO sqlalchemy.engine.Engine INSERT INTO icloudaccount (user_name) VALUES (?)\n",
      "2022-02-19 13:53:12,054 INFO sqlalchemy.engine.Engine [generated in 0.00024s] ('mail@clstaudt.me',)\n",
      "2022-02-19 13:53:12,055 INFO sqlalchemy.engine.Engine INSERT INTO user (name, subtitle, website, e_mail, phone_number, address_id, \"VAT_number\", icloud_account_id, bank_account_id, logo) VALUES (?, ?, ?, ?, ?, ?, ?, ?, ?, ?)\n",
      "2022-02-19 13:53:12,055 INFO sqlalchemy.engine.Engine [generated in 0.00025s] ('Christian Staudt', 'Data Scientist', 'https://clstaudt.me', 'mail@clstaudt.me', '+4917623351772', 1, 'DE311591572', 1, 1, None)\n",
      "2022-02-19 13:53:12,056 INFO sqlalchemy.engine.Engine COMMIT\n"
     ]
    }
   ],
   "source": [
    "app.store(me)"
   ]
  },
  {
   "cell_type": "markdown",
   "id": "7fe8b9a2-c5db-4dfe-b500-40e4a7d9faa4",
   "metadata": {},
   "source": [
    "Test this by accessing the user:"
   ]
  },
  {
   "cell_type": "code",
   "execution_count": 9,
   "id": "f2a1772b-9c1e-4689-9c50-9a6784d8fd7a",
   "metadata": {},
   "outputs": [
    {
     "name": "stdout",
     "output_type": "stream",
     "text": [
      "2022-02-19 13:53:12,060 INFO sqlalchemy.engine.Engine BEGIN (implicit)\n",
      "2022-02-19 13:53:12,062 INFO sqlalchemy.engine.Engine SELECT user.id, user.name, user.subtitle, user.website, user.e_mail, user.phone_number, user.address_id, user.\"VAT_number\", user.icloud_account_id, user.bank_account_id, user.logo \n",
      "FROM user\n",
      "2022-02-19 13:53:12,063 INFO sqlalchemy.engine.Engine [no key 0.00048s] ()\n"
     ]
    },
    {
     "name": "stderr",
     "output_type": "stream",
     "text": [
      "/Users/cls/miniforge3/envs/tuttle/lib/python3.9/site-packages/sqlmodel/orm/session.py:60: SAWarning: Class SelectOfScalar will not make use of SQL compilation caching as it does not set the 'inherit_cache' attribute to ``True``.  This can have significant performance implications including some performance degradations in comparison to prior SQLAlchemy versions.  Set this attribute to True if this object can make use of the cache key generated by the superclass.  Alternatively, this attribute may be set to False which will disable this warning. (Background on this error at: https://sqlalche.me/e/14/cprf)\n",
      "  results = super().execute(\n"
     ]
    },
    {
     "data": {
      "text/plain": [
       "User(name='Christian Staudt', subtitle='Data Scientist', e_mail='mail@clstaudt.me', address_id=1, icloud_account_id=1, logo=None, id=1, website='https://clstaudt.me', phone_number='+4917623351772', VAT_number='DE311591572', bank_account_id=1)"
      ]
     },
     "execution_count": 9,
     "metadata": {},
     "output_type": "execute_result"
    }
   ],
   "source": [
    "app.user"
   ]
  },
  {
   "cell_type": "code",
   "execution_count": 10,
   "id": "c3468170-fe23-45cb-80c4-af466771de41",
   "metadata": {},
   "outputs": [
    {
     "name": "stdout",
     "output_type": "stream",
     "text": [
      "2022-02-19 13:53:12,070 INFO sqlalchemy.engine.Engine SELECT user.id, user.name, user.subtitle, user.website, user.e_mail, user.phone_number, user.address_id, user.\"VAT_number\", user.icloud_account_id, user.bank_account_id, user.logo \n",
      "FROM user\n",
      "2022-02-19 13:53:12,070 INFO sqlalchemy.engine.Engine [no key 0.00037s] ()\n"
     ]
    },
    {
     "data": {
      "text/plain": [
       "'mail@clstaudt.me'"
      ]
     },
     "execution_count": 10,
     "metadata": {},
     "output_type": "execute_result"
    }
   ],
   "source": [
    "app.user.e_mail"
   ]
  },
  {
   "cell_type": "code",
   "execution_count": null,
   "id": "043c29a1-1317-480f-92c0-e5f7bb89caee",
   "metadata": {},
   "outputs": [],
   "source": []
  }
 ],
 "metadata": {
  "kernelspec": {
   "display_name": "tuttle",
   "language": "python",
   "name": "ex"
  },
  "language_info": {
   "codemirror_mode": {
    "name": "ipython",
    "version": 3
   },
   "file_extension": ".py",
   "mimetype": "text/x-python",
   "name": "python",
   "nbconvert_exporter": "python",
   "pygments_lexer": "ipython3",
   "version": "3.9.7"
  }
 },
 "nbformat": 4,
 "nbformat_minor": 5
}
