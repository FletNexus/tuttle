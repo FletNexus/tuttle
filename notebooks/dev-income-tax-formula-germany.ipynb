{
 "cells": [
  {
   "cell_type": "markdown",
   "id": "b8a6ccd2-9a11-4d92-9480-212d159693cc",
   "metadata": {},
   "source": [
    "# German Income Tax Formula"
   ]
  },
  {
   "cell_type": "markdown",
   "id": "f958ca92-b946-4f85-b1b8-5160bf15b7e8",
   "metadata": {},
   "source": [
    "<math>S = \\begin{cases}\n",
    " 0                                                                                    &|\\;         zvE \\le   9408 &\\text{1. Zone}\\\\\n",
    " (14\\%      + (zvE-9408) \\cdot 972{,}87 \\cdot 10^{-8}) \\cdot (zvE-9408)               &|\\;  9408 < zvE \\le  14532 &\\text{2. Zone}\\\\\n",
    " (23{,}97\\% + (zvE-14532) \\cdot 212{,}02 \\cdot 10^{-8}) \\cdot (zvE-14532) + 972{,}79  &|\\; 14532 < zvE \\le  57051 &\\text{3. Zone}\\\\\n",
    "  42\\% \\cdot zvE -  8963{,}74                                                                   &|\\; 57051 < zvE \\le 270500 &\\text{4. Zone}\\\\\n",
    "  45\\% \\cdot zvE - 17078{,}74                                                                   &|\\;         zvE > 270500   &\\text{5. Zone}\\\\\n",
    "\\end{cases}</math>\n"
   ]
  },
  {
   "cell_type": "markdown",
   "id": "dc1cb4f5-a7ce-4495-aa68-356a2553bd09",
   "metadata": {},
   "source": [
    "## Preamble"
   ]
  },
  {
   "cell_type": "code",
   "execution_count": 1,
   "id": "9da81d99-45a8-4019-9a43-e722eb5776d9",
   "metadata": {},
   "outputs": [],
   "source": [
    "from jupyterthemes import jtplot"
   ]
  },
  {
   "cell_type": "code",
   "execution_count": 2,
   "id": "74eefd34-ed96-48e6-bcbb-bf6f6bb4e4b6",
   "metadata": {},
   "outputs": [],
   "source": [
    "jtplot.style(theme='monokai')"
   ]
  },
  {
   "cell_type": "markdown",
   "id": "6589d9a1-c89c-4838-bc63-43f569a1a97b",
   "metadata": {},
   "source": [
    "## Implementation"
   ]
  },
  {
   "cell_type": "code",
   "execution_count": 3,
   "id": "e30d2d31-e862-4c03-83d4-9de84acffdc3",
   "metadata": {},
   "outputs": [],
   "source": [
    "taxable_income = 87000"
   ]
  },
  {
   "cell_type": "code",
   "execution_count": 4,
   "id": "412df623-31d9-4061-9607-ed8bd9fc20e2",
   "metadata": {},
   "outputs": [],
   "source": [
    "def income_tax(ti):\n",
    "    if ti <= 9408:\n",
    "        tax = 0\n",
    "    elif 9408 < ti <= 14532:\n",
    "        tax = (0.14 + (ti - 9408) * 972.87 * 1e-8) * (ti - 9408)\n",
    "    elif 14532 < ti <= 57051:\n",
    "        tax = (0.2397 + (ti - 14532) * 212.02 * 1e-8) * (ti - 14532) + 972.79\n",
    "    elif 57051 < ti <= 270500: \n",
    "        tax = (0.42 * ti) - 8963.74\n",
    "    else:\n",
    "        tax = 0.45 * ti - 17078.74\n",
    "    tax = round(tax)\n",
    "    return tax\n",
    "    \n",
    "        "
   ]
  },
  {
   "cell_type": "code",
   "execution_count": 5,
   "id": "c8c88896-ee0f-41af-b9b3-78efc923a5b5",
   "metadata": {},
   "outputs": [
    {
     "data": {
      "text/plain": [
       "27576"
      ]
     },
     "execution_count": 5,
     "metadata": {},
     "output_type": "execute_result"
    }
   ],
   "source": [
    "income_tax(taxable_income)"
   ]
  },
  {
   "cell_type": "code",
   "execution_count": 6,
   "id": "c45643fd-2cfe-4bce-a931-9f8fd3a4270e",
   "metadata": {},
   "outputs": [
    {
     "data": {
      "text/plain": [
       "24636"
      ]
     },
     "execution_count": 6,
     "metadata": {},
     "output_type": "execute_result"
    }
   ],
   "source": [
    "income_tax(80000)"
   ]
  },
  {
   "cell_type": "code",
   "execution_count": 7,
   "id": "db5f6d24-1b65-413c-b9b0-02a22847fc30",
   "metadata": {},
   "outputs": [],
   "source": [
    "import pandas"
   ]
  },
  {
   "cell_type": "code",
   "execution_count": 9,
   "id": "a75f558c-3b6c-4869-bd32-056e4af46794",
   "metadata": {},
   "outputs": [
    {
     "data": {
      "text/plain": [
       "<AxesSubplot:>"
      ]
     },
     "execution_count": 9,
     "metadata": {},
     "output_type": "execute_result"
    },
    {
     "data": {
      "image/png": "[encoded data removed]",
      "text/plain": [
       "<Figure size 432x288 with 1 Axes>"
      ]
     },
     "metadata": {
      "needs_background": "dark"
     },
     "output_type": "display_data"
    }
   ],
   "source": [
    "pandas.Series([income_tax(ti) for ti in range(0, int(1e5), 1000)]).plot(kind=\"line\")"
   ]
  },
  {
   "cell_type": "code",
   "execution_count": null,
   "id": "fdc581c6-eab2-4e9a-98e7-2a7b89867295",
   "metadata": {},
   "outputs": [],
   "source": []
  }
 ],
 "metadata": {
  "kernelspec": {
   "display_name": "tuttle",
   "language": "python",
   "name": "ex"
  },
  "language_info": {
   "codemirror_mode": {
    "name": "ipython",
    "version": 3
   },
   "file_extension": ".py",
   "mimetype": "text/x-python",
   "name": "python",
   "nbconvert_exporter": "python",
   "pygments_lexer": "ipython3",
   "version": "3.9.7"
  }
 },
 "nbformat": 4,
 "nbformat_minor": 5
}
