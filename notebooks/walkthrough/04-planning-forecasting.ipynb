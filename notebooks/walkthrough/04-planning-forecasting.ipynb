{
 "cells": [
  {
   "cell_type": "markdown",
   "id": "eb6a0974-df12-4247-b398-b4e3641b09f3",
   "metadata": {},
   "source": [
    "# Planning Ahead\n"
   ]
  },
  {
   "cell_type": "code",
   "execution_count": null,
   "id": "28fda6d1-a61d-4c19-b621-030790f7d149",
   "metadata": {},
   "outputs": [],
   "source": []
  }
 ],
 "metadata": {
  "kernelspec": {
   "display_name": "tuttle",
   "language": "python",
   "name": "ex"
  },
  "language_info": {
   "codemirror_mode": {
    "name": "ipython",
    "version": 3
   },
   "file_extension": ".py",
   "mimetype": "text/x-python",
   "name": "python",
   "nbconvert_exporter": "python",
   "pygments_lexer": "ipython3",
   "version": "3.9.7"
  }
 },
 "nbformat": 4,
 "nbformat_minor": 5
}
