{
 "cells": [
  {
   "cell_type": "markdown",
   "id": "eb6a0974-df12-4247-b398-b4e3641b09f3",
   "metadata": {},
   "source": [
    "# Planning Ahead and Forecasting Revenue\n"
   ]
  },
  {
   "cell_type": "markdown",
   "id": "be57da1d-f6b1-40db-be21-00aa84d464cc",
   "metadata": {},
   "source": [
    "Planning your time is essential for a freelance business. Tuttle enables you to easily forecast your revenue based on the planning decisions that you make."
   ]
  },
  {
   "cell_type": "markdown",
   "id": "dfd8549c-1e57-43fb-8c15-772f196a8473",
   "metadata": {},
   "source": [
    "## Preamble"
   ]
  },
  {
   "cell_type": "code",
   "execution_count": 1,
   "id": "daf6add6-6e4c-49c0-9967-77b1925cf2ac",
   "metadata": {},
   "outputs": [],
   "source": [
    "from pathlib import Path\n",
    "import ipywidgets\n",
    "from IPython import display\n",
    "import datetime"
   ]
  },
  {
   "cell_type": "code",
   "execution_count": 2,
   "id": "1872b84b-46c8-47ab-8ff6-505d8e555327",
   "metadata": {},
   "outputs": [],
   "source": [
    "import tuttle"
   ]
  },
  {
   "cell_type": "code",
   "execution_count": 3,
   "id": "10f0f645-f758-4164-8e43-dbe63c147233",
   "metadata": {},
   "outputs": [],
   "source": [
    "app = tuttle.app.App()"
   ]
  },
  {
   "cell_type": "markdown",
   "id": "e5dc0958-2a7d-429c-b9f5-6fe17103864b",
   "metadata": {},
   "source": [
    "## How to Plan Project Time"
   ]
  },
  {
   "cell_type": "code",
   "execution_count": null,
   "id": "232f62f7-706d-47f4-b837-c677af8e332a",
   "metadata": {},
   "outputs": [],
   "source": []
  }
 ],
 "metadata": {
  "kernelspec": {
   "display_name": "tuttle",
   "language": "python",
   "name": "ex"
  },
  "language_info": {
   "codemirror_mode": {
    "name": "ipython",
    "version": 3
   },
   "file_extension": ".py",
   "mimetype": "text/x-python",
   "name": "python",
   "nbconvert_exporter": "python",
   "pygments_lexer": "ipython3",
   "version": "3.9.7"
  }
 },
 "nbformat": 4,
 "nbformat_minor": 5
}
