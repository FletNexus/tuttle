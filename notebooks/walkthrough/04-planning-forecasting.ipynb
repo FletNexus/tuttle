{
 "cells": [
  {
   "cell_type": "markdown",
   "id": "8f997ef6",
   "metadata": {},
   "source": [
    "# Planning Ahead and Forecasting Revenue\n"
   ]
  },
  {
   "cell_type": "markdown",
   "id": "a1cbd864",
   "metadata": {},
   "source": [
    "Planning your time is essential for a freelance business. Tuttle enables you to easily forecast your revenue based on the planning decisions that you make."
   ]
  },
  {
   "cell_type": "markdown",
   "id": "1e013f44",
   "metadata": {},
   "source": [
    "## Preamble"
   ]
  },
  {
   "cell_type": "code",
   "execution_count": 1,
   "id": "c346600a",
   "metadata": {},
   "outputs": [],
   "source": [
    "from pathlib import Path\n",
    "import ipywidgets\n",
    "from IPython import display\n",
    "import datetime"
   ]
  },
  {
   "cell_type": "code",
   "execution_count": 2,
   "id": "fdf9c1f0",
   "metadata": {},
   "outputs": [],
   "source": [
    "import tuttle"
   ]
  },
  {
   "cell_type": "code",
   "execution_count": 3,
   "id": "3de4a2db",
   "metadata": {},
   "outputs": [
    {
     "name": "stderr",
     "output_type": "stream",
     "text": [
      "2022-11-01 16:33:16.849 | INFO     | tuttle.controller:create_model:76 - creating database model\n"
     ]
    }
   ],
   "source": [
    "controller = tuttle.controller.Controller(\n",
    "    preferences=tuttle.preferences.Preferences(\n",
    "        invoice_dir=Path(\"Invoices\"),\n",
    "    ),\n",
    ")"
   ]
  },
  {
   "cell_type": "markdown",
   "id": "d89dffe4",
   "metadata": {},
   "source": [
    "## How to Plan Project Time"
   ]
  },
  {
   "cell_type": "markdown",
   "id": "055e240e",
   "metadata": {},
   "source": [
    "In the following we assume that you plan your time in a digital calendar. Planning ahead works just like time tracking: In a dedicated calendar, enter future blocks of time and tag them with a unique project tag for your projects. "
   ]
  },
  {
   "cell_type": "markdown",
   "id": "a8cdf2c8",
   "metadata": {},
   "source": [
    "Currently we support these methods of entering your time planning calendar data:\n",
    "    \n",
    "1. **Cloud Calendar**: Querying your cloud calendar: Log into your cloud calendar provider and import your calendar events seamlessly.\n",
    "2. **File Calendar**: Export your calendar in the iCalendar format and parse it."
   ]
  },
  {
   "cell_type": "code",
   "execution_count": 4,
   "id": "103ef73b",
   "metadata": {},
   "outputs": [],
   "source": [
    "time_planning_preference = ipywidgets.RadioButtons(options=[\"File Calendar\", \"Cloud Calendar\"])"
   ]
  },
  {
   "cell_type": "markdown",
   "id": "a0522eee",
   "metadata": {},
   "source": [
    "_Select your prereference for importing time tracking data:_"
   ]
  },
  {
   "cell_type": "code",
   "execution_count": 5,
   "id": "469f60e4",
   "metadata": {},
   "outputs": [
    {
     "data": {
      "application/vnd.jupyter.widget-view+json": {
       "model_id": "d844863c0f08462f9c69a7ca6da00d4b",
       "version_major": 2,
       "version_minor": 0
      },
      "text/plain": [
       "RadioButtons(options=('File Calendar', 'Cloud Calendar'), value='File Calendar')"
      ]
     },
     "metadata": {},
     "output_type": "display_data"
    }
   ],
   "source": [
    "time_planning_preference"
   ]
  },
  {
   "cell_type": "markdown",
   "id": "61f40fe5",
   "metadata": {
    "tags": []
   },
   "source": [
    "### A) Time Planning via Cloud Calendar"
   ]
  },
  {
   "cell_type": "markdown",
   "id": "86539c8f",
   "metadata": {},
   "source": [
    "If you have an Apple iCloud account, follow this process. (We are working on connectors with other cloud services)"
   ]
  },
  {
   "cell_type": "code",
   "execution_count": 6,
   "id": "2ee30b13",
   "metadata": {},
   "outputs": [
    {
     "data": {
      "text/plain": [
       "'mail@tuttle.com'"
      ]
     },
     "execution_count": 6,
     "metadata": {},
     "output_type": "execute_result"
    }
   ],
   "source": [
    "icloud_username = controller.user.icloud_account.user_name\n",
    "icloud_username"
   ]
  },
  {
   "cell_type": "markdown",
   "id": "d5a72000",
   "metadata": {},
   "source": [
    "Connect to your cloud calendar that contains your time tracking events:"
   ]
  },
  {
   "cell_type": "code",
   "execution_count": 7,
   "id": "49e768f7",
   "metadata": {},
   "outputs": [],
   "source": [
    "from tuttle.calendar import ICloudCalendar"
   ]
  },
  {
   "cell_type": "code",
   "execution_count": 8,
   "id": "df4ae8f0",
   "metadata": {},
   "outputs": [],
   "source": [
    "if time_planning_preference.value == \"Cloud Calendar\":\n",
    "    my_planning_calendar = ICloudCalendar(\n",
    "        icloud=tuttle.cloud.login_iCloud(\n",
    "            user_name=icloud_username,\n",
    "        ),\n",
    "        name=input(\"calendar name: \"),\n",
    "    )"
   ]
  },
  {
   "cell_type": "markdown",
   "id": "b1d56297",
   "metadata": {},
   "source": [
    "### B) Time  Tracking via Calendar Import"
   ]
  },
  {
   "cell_type": "code",
   "execution_count": 9,
   "id": "3cfa810a",
   "metadata": {},
   "outputs": [],
   "source": [
    "from tuttle.calendar import FileCalendar"
   ]
  },
  {
   "cell_type": "markdown",
   "id": "1fb19a7a",
   "metadata": {},
   "source": [
    "**Example: file calendar**"
   ]
  },
  {
   "cell_type": "code",
   "execution_count": 10,
   "id": "84a06e0d",
   "metadata": {},
   "outputs": [],
   "source": [
    "planning_calendar_path = Path(\"../../tuttle_tests/data/TuttleDemo-TimePlanning.ics\")"
   ]
  },
  {
   "cell_type": "code",
   "execution_count": 11,
   "id": "2e766480",
   "metadata": {},
   "outputs": [],
   "source": [
    "if time_planning_preference.value == \"File Calendar\":\n",
    "    my_planning_calendar = FileCalendar(\n",
    "        path=planning_calendar_path, \n",
    "        name=\"TimeTracking\"\n",
    "    )"
   ]
  },
  {
   "cell_type": "markdown",
   "id": "44940432",
   "metadata": {},
   "source": [
    "## Forecasting Revenue based on Time Planning"
   ]
  },
  {
   "cell_type": "markdown",
   "id": "c42326e7",
   "metadata": {},
   "source": [
    "![](img/underconstruction.jpg)"
   ]
  },
  {
   "cell_type": "markdown",
   "id": "30e2d8c0",
   "metadata": {},
   "source": [
    "Now that we have connected a source for time tracking data, we can pass it to other functions. In the following we want to display our expected future revenue based on our planning."
   ]
  },
  {
   "cell_type": "code",
   "execution_count": 12,
   "id": "c0ccd7c0",
   "metadata": {},
   "outputs": [
    {
     "name": "stderr",
     "output_type": "stream",
     "text": [
      "/Users/cls/Documents/Work/Projects/PrototypeFund/Dev/tuttle/tuttle/timetracking.py:262: FutureWarning: Value based partial slicing on non-monotonic DatetimeIndexes with non-existing keys is deprecated and will raise a KeyError in a future Version.\n",
      "  planning_data = planning_data[str(from_date) :]\n",
      "/Users/cls/Documents/Work/Projects/PrototypeFund/Dev/tuttle/tuttle/controller.py:204: FutureWarning: The default value of numeric_only in DataFrameGroupBy.sum is deprecated. In a future version, numeric_only will default to False. Either specify numeric_only or select only columns which should be valid for the function.\n",
      "  planning_data.filter([\"tag\", \"duration\"]).groupby(\"tag\").sum()\n",
      "/Users/cls/miniforge3/envs/tuttle/lib/python3.10/site-packages/altair/utils/core.py:317: FutureWarning: iteritems is deprecated and will be removed in a future version. Use .items instead.\n",
      "  for col_name, dtype in df.dtypes.iteritems():\n"
     ]
    },
    {
     "data": {
      "text/html": [
       "\n",
       "<div id=\"altair-viz-fdff957b58ac442fb829c49ae7806ad3\"></div>\n",
       "<script type=\"text/javascript\">\n",
       "  var VEGA_DEBUG = (typeof VEGA_DEBUG == \"undefined\") ? {} : VEGA_DEBUG;\n",
       "  (function(spec, embedOpt){\n",
       "    let outputDiv = document.currentScript.previousElementSibling;\n",
       "    if (outputDiv.id !== \"altair-viz-fdff957b58ac442fb829c49ae7806ad3\") {\n",
       "      outputDiv = document.getElementById(\"altair-viz-fdff957b58ac442fb829c49ae7806ad3\");\n",
       "    }\n",
       "    const paths = {\n",
       "      \"vega\": \"https://cdn.jsdelivr.net/npm//vega@5?noext\",\n",
       "      \"vega-lib\": \"https://cdn.jsdelivr.net/npm//vega-lib?noext\",\n",
       "      \"vega-lite\": \"https://cdn.jsdelivr.net/npm//vega-lite@4.17.0?noext\",\n",
       "      \"vega-embed\": \"https://cdn.jsdelivr.net/npm//vega-embed@6?noext\",\n",
       "    };\n",
       "\n",
       "    function maybeLoadScript(lib, version) {\n",
       "      var key = `${lib.replace(\"-\", \"\")}_version`;\n",
       "      return (VEGA_DEBUG[key] == version) ?\n",
       "        Promise.resolve(paths[lib]) :\n",
       "        new Promise(function(resolve, reject) {\n",
       "          var s = document.createElement('script');\n",
       "          document.getElementsByTagName(\"head\")[0].appendChild(s);\n",
       "          s.async = true;\n",
       "          s.onload = () => {\n",
       "            VEGA_DEBUG[key] = version;\n",
       "            return resolve(paths[lib]);\n",
       "          };\n",
       "          s.onerror = () => reject(`Error loading script: ${paths[lib]}`);\n",
       "          s.src = paths[lib];\n",
       "        });\n",
       "    }\n",
       "\n",
       "    function showError(err) {\n",
       "      outputDiv.innerHTML = `<div class=\"error\" style=\"color:red;\">${err}</div>`;\n",
       "      throw err;\n",
       "    }\n",
       "\n",
       "    function displayChart(vegaEmbed) {\n",
       "      vegaEmbed(outputDiv, spec, embedOpt)\n",
       "        .catch(err => showError(`Javascript Error: ${err.message}<br>This usually means there's a typo in your chart specification. See the javascript console for the full traceback.`));\n",
       "    }\n",
       "\n",
       "    if(typeof define === \"function\" && define.amd) {\n",
       "      requirejs.config({paths});\n",
       "      require([\"vega-embed\"], displayChart, err => showError(`Error loading script: ${err.message}`));\n",
       "    } else {\n",
       "      maybeLoadScript(\"vega\", \"5\")\n",
       "        .then(() => maybeLoadScript(\"vega-lite\", \"4.17.0\"))\n",
       "        .then(() => maybeLoadScript(\"vega-embed\", \"6\"))\n",
       "        .catch(showError)\n",
       "        .then(() => displayChart(vegaEmbed));\n",
       "    }\n",
       "  })({\"config\": {\"range\": {\"category\": {\"scheme\": \"category20\"}}}, \"data\": {\"name\": \"data-d751713988987e9331980363e24189ce\"}, \"mark\": \"bar\", \"encoding\": {\"x\": {\"field\": \"revenue\", \"type\": \"quantitative\"}, \"y\": {\"field\": \"project\", \"type\": \"nominal\"}}, \"width\": 600, \"$schema\": \"https://vega.github.io/schema/vega-lite/v4.17.0.json\", \"datasets\": {\"data-d751713988987e9331980363e24189ce\": []}}, {\"theme\": \"dark\", \"mode\": \"vega-lite\"});\n",
       "</script>"
      ],
      "text/plain": [
       "alt.Chart(...)"
      ]
     },
     "execution_count": 12,
     "metadata": {},
     "output_type": "execute_result"
    }
   ],
   "source": [
    "controller.eval_time_planning(\n",
    "    my_planning_calendar,\n",
    "    by=\"project\",\n",
    ")"
   ]
  },
  {
   "cell_type": "code",
   "execution_count": 13,
   "id": "c866bd5e",
   "metadata": {},
   "outputs": [
    {
     "name": "stderr",
     "output_type": "stream",
     "text": [
      "/Users/cls/Documents/Work/Projects/PrototypeFund/Dev/tuttle/tuttle/timetracking.py:262: FutureWarning: Value based partial slicing on non-monotonic DatetimeIndexes with non-existing keys is deprecated and will raise a KeyError in a future Version.\n",
      "  planning_data = planning_data[str(from_date) :]\n",
      "/Users/cls/Documents/Work/Projects/PrototypeFund/Dev/tuttle/tuttle/controller.py:210: FutureWarning: The default value of numeric_only in DataFrameGroupBy.sum is deprecated. In a future version, numeric_only will default to False. Either specify numeric_only or select only columns which should be valid for the function.\n",
      "  .sum()\n",
      "/Users/cls/miniforge3/envs/tuttle/lib/python3.10/site-packages/altair/utils/core.py:317: FutureWarning: iteritems is deprecated and will be removed in a future version. Use .items instead.\n",
      "  for col_name, dtype in df.dtypes.iteritems():\n"
     ]
    },
    {
     "data": {
      "text/html": [
       "\n",
       "<div id=\"altair-viz-50d1750d95744fdfbe458d6590f32dbc\"></div>\n",
       "<script type=\"text/javascript\">\n",
       "  var VEGA_DEBUG = (typeof VEGA_DEBUG == \"undefined\") ? {} : VEGA_DEBUG;\n",
       "  (function(spec, embedOpt){\n",
       "    let outputDiv = document.currentScript.previousElementSibling;\n",
       "    if (outputDiv.id !== \"altair-viz-50d1750d95744fdfbe458d6590f32dbc\") {\n",
       "      outputDiv = document.getElementById(\"altair-viz-50d1750d95744fdfbe458d6590f32dbc\");\n",
       "    }\n",
       "    const paths = {\n",
       "      \"vega\": \"https://cdn.jsdelivr.net/npm//vega@5?noext\",\n",
       "      \"vega-lib\": \"https://cdn.jsdelivr.net/npm//vega-lib?noext\",\n",
       "      \"vega-lite\": \"https://cdn.jsdelivr.net/npm//vega-lite@4.17.0?noext\",\n",
       "      \"vega-embed\": \"https://cdn.jsdelivr.net/npm//vega-embed@6?noext\",\n",
       "    };\n",
       "\n",
       "    function maybeLoadScript(lib, version) {\n",
       "      var key = `${lib.replace(\"-\", \"\")}_version`;\n",
       "      return (VEGA_DEBUG[key] == version) ?\n",
       "        Promise.resolve(paths[lib]) :\n",
       "        new Promise(function(resolve, reject) {\n",
       "          var s = document.createElement('script');\n",
       "          document.getElementsByTagName(\"head\")[0].appendChild(s);\n",
       "          s.async = true;\n",
       "          s.onload = () => {\n",
       "            VEGA_DEBUG[key] = version;\n",
       "            return resolve(paths[lib]);\n",
       "          };\n",
       "          s.onerror = () => reject(`Error loading script: ${paths[lib]}`);\n",
       "          s.src = paths[lib];\n",
       "        });\n",
       "    }\n",
       "\n",
       "    function showError(err) {\n",
       "      outputDiv.innerHTML = `<div class=\"error\" style=\"color:red;\">${err}</div>`;\n",
       "      throw err;\n",
       "    }\n",
       "\n",
       "    function displayChart(vegaEmbed) {\n",
       "      vegaEmbed(outputDiv, spec, embedOpt)\n",
       "        .catch(err => showError(`Javascript Error: ${err.message}<br>This usually means there's a typo in your chart specification. See the javascript console for the full traceback.`));\n",
       "    }\n",
       "\n",
       "    if(typeof define === \"function\" && define.amd) {\n",
       "      requirejs.config({paths});\n",
       "      require([\"vega-embed\"], displayChart, err => showError(`Error loading script: ${err.message}`));\n",
       "    } else {\n",
       "      maybeLoadScript(\"vega\", \"5\")\n",
       "        .then(() => maybeLoadScript(\"vega-lite\", \"4.17.0\"))\n",
       "        .then(() => maybeLoadScript(\"vega-embed\", \"6\"))\n",
       "        .catch(showError)\n",
       "        .then(() => displayChart(vegaEmbed));\n",
       "    }\n",
       "  })({\"config\": {\"range\": {\"category\": {\"scheme\": \"category20\"}}}, \"data\": {\"name\": \"data-d751713988987e9331980363e24189ce\"}, \"mark\": \"bar\", \"encoding\": {\"color\": {\"field\": \"project\", \"type\": \"nominal\"}, \"x\": {\"field\": \"revenue\", \"type\": \"quantitative\"}, \"y\": {\"axis\": {\"title\": \"month\"}, \"field\": \"month_end\", \"timeUnit\": \"yearmonth\", \"type\": \"ordinal\"}}, \"width\": 600, \"$schema\": \"https://vega.github.io/schema/vega-lite/v4.17.0.json\", \"datasets\": {\"data-d751713988987e9331980363e24189ce\": []}}, {\"theme\": \"dark\", \"mode\": \"vega-lite\"});\n",
       "</script>"
      ],
      "text/plain": [
       "alt.Chart(...)"
      ]
     },
     "execution_count": 13,
     "metadata": {},
     "output_type": "execute_result"
    }
   ],
   "source": [
    "controller.eval_time_planning(\n",
    "    my_planning_calendar,\n",
    "    by=(\"month\", \"project\"),\n",
    ")"
   ]
  },
  {
   "cell_type": "markdown",
   "id": "7d9ef0a6",
   "metadata": {},
   "source": [
    "_Your turn: Plan your time and forecast your revenue._"
   ]
  },
  {
   "cell_type": "code",
   "execution_count": null,
   "id": "f267d8be",
   "metadata": {},
   "outputs": [],
   "source": []
  },
  {
   "cell_type": "markdown",
   "id": "91d26c9f",
   "metadata": {},
   "source": [
    "_Feedback question: Would you like to see other forms of representing your revenue forecast? Which ones would be useful?_"
   ]
  },
  {
   "cell_type": "markdown",
   "id": "d33909fe",
   "metadata": {},
   "source": [
    "--------"
   ]
  }
 ],
 "metadata": {
  "kernelspec": {
   "display_name": "tuttle",
   "language": "python",
   "name": "ex"
  },
  "language_info": {
   "codemirror_mode": {
    "name": "ipython",
    "version": 3
   },
   "file_extension": ".py",
   "mimetype": "text/x-python",
   "name": "python",
   "nbconvert_exporter": "python",
   "pygments_lexer": "ipython3",
   "version": "3.10.6"
  }
 },
 "nbformat": 4,
 "nbformat_minor": 5
}
