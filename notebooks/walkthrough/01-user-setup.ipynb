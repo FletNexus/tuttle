{
 "cells": [
  {
   "cell_type": "markdown",
   "id": "2553fa98-ea50-444b-8fe0-b849681a7595",
   "metadata": {},
   "source": [
    "# User Setup"
   ]
  },
  {
   "cell_type": "markdown",
   "id": "c2268ff6-e356-4ca7-af88-291acd08061e",
   "metadata": {},
   "source": [
    "## Preamble"
   ]
  },
  {
   "cell_type": "code",
   "execution_count": null,
   "id": "97e897a7-21ad-41ec-b695-e07fa5fc864e",
   "metadata": {},
   "outputs": [],
   "source": [
    "from pathlib import Path"
   ]
  },
  {
   "cell_type": "markdown",
   "id": "d24e3bb0-1116-4e97-8265-c5d347334c5c",
   "metadata": {},
   "source": [
    "## Setup"
   ]
  },
  {
   "cell_type": "markdown",
   "id": "e8576f5c-c6ab-4e40-a0f8-2dba09deb56f",
   "metadata": {},
   "source": [
    "As the first step, we import the `tuttle` Python module and instantiate the `app` object:"
   ]
  },
  {
   "cell_type": "code",
   "execution_count": null,
   "id": "86482a31-0e11-4988-a03e-d0eff1757584",
   "metadata": {},
   "outputs": [],
   "source": [
    "import tuttle"
   ]
  },
  {
   "cell_type": "code",
   "execution_count": null,
   "id": "a35c1002-afad-42c7-be62-b54105718519",
   "metadata": {},
   "outputs": [],
   "source": [
    "app = tuttle.app.App()"
   ]
  },
  {
   "cell_type": "markdown",
   "id": "a85ccaaa-e35a-4199-8d99-86a786a50891",
   "metadata": {},
   "source": [
    "Since this is the beginning of the workflow, let's make sure that we start from a clean database."
   ]
  },
  {
   "cell_type": "code",
   "execution_count": null,
   "id": "63ab7a39-1d10-4eab-9c7f-cfc871b1547a",
   "metadata": {},
   "outputs": [],
   "source": [
    "app.clear_database()"
   ]
  },
  {
   "cell_type": "markdown",
   "id": "ac14fca2-657d-4e8c-9730-74048e0c9551",
   "metadata": {},
   "source": [
    "After running this, a new database has been created in your user space:"
   ]
  },
  {
   "cell_type": "code",
   "execution_count": null,
   "id": "ce5aac90-3726-423c-bdfa-0a4b57a977cf",
   "metadata": {},
   "outputs": [],
   "source": [
    "!ls {Path.home()}/.tuttle/"
   ]
  },
  {
   "cell_type": "markdown",
   "id": "f09d43d2-a8ef-41db-92e3-eb554f4a870e",
   "metadata": {},
   "source": [
    "## User"
   ]
  },
  {
   "cell_type": "markdown",
   "id": "8081bb65-a8cf-4795-b160-edfbc00d56ff",
   "metadata": {},
   "source": [
    "When first running the application, you need to provide the application with information about you and your freelance business. You do this by creating a new `User` object."
   ]
  },
  {
   "cell_type": "markdown",
   "id": "a6a62aee-e4a4-41eb-948b-d6c13ee598dd",
   "metadata": {},
   "source": [
    "Here is an example:"
   ]
  },
  {
   "cell_type": "code",
   "execution_count": null,
   "id": "94c8b532-db99-4778-adbb-ab3e7abb345f",
   "metadata": {},
   "outputs": [],
   "source": [
    "from tuttle.model import User, Address, BankAccount, ICloudAccount"
   ]
  },
  {
   "cell_type": "code",
   "execution_count": null,
   "id": "a273a395-af1f-43e0-b031-85c4c8058d54",
   "metadata": {},
   "outputs": [],
   "source": [
    "harry = User(\n",
    "    name=\"Harry Tuttle\",\n",
    "    subtitle=\"Heating Engineer\",\n",
    "    website=\"https://tuttle-dev.github.io/tuttle/\",\n",
    "    email=\"mail@tuttle.com\",\n",
    "    phone_number=\"+55555555555\",\n",
    "    VAT_number=\"DZ-015\",\n",
    "    address=Address(\n",
    "        name=\"Harry Tuttle\",\n",
    "        street=\"Main Street\",\n",
    "        number=\"450\",\n",
    "        city=\"Sao Paolo\",\n",
    "        postal_code=\"555555\",\n",
    "        country=\"Brazil\",\n",
    "    ),\n",
    "    bank_account=BankAccount(\n",
    "        name=\"Giro\",\n",
    "        IBAN=\"BZ99830994950003161565\",\n",
    "        BIC=\"ABCDEFGH\",\n",
    "    ),\n",
    "    icloud_account=ICloudAccount(user_name=\"mail@tuttle.com\")\n",
    ")"
   ]
  },
  {
   "cell_type": "markdown",
   "id": "94d1ea43-33ae-4170-b214-9a9c9e57ce7b",
   "metadata": {},
   "source": [
    "Now it's your turn - please provide your details and instantiate a user object. \n",
    "\n",
    "(If you do not have an iCloud account, don't worry, there are other options of accessing your calendar data)."
   ]
  },
  {
   "cell_type": "code",
   "execution_count": null,
   "id": "b34bee56-d039-4644-abda-0467dc5a6430",
   "metadata": {},
   "outputs": [],
   "source": [
    "user = harry # replace this with an new user object"
   ]
  },
  {
   "cell_type": "markdown",
   "id": "e5d8f85e-0b4c-4e72-bf6b-8bad8c62c851",
   "metadata": {},
   "source": [
    "Store your new user in the database:"
   ]
  },
  {
   "cell_type": "code",
   "execution_count": null,
   "id": "4d811f75-c3c7-4c6d-8042-93d452fb1197",
   "metadata": {},
   "outputs": [],
   "source": [
    "app.store(user)"
   ]
  },
  {
   "cell_type": "markdown",
   "id": "7fe8b9a2-c5db-4dfe-b500-40e4a7d9faa4",
   "metadata": {},
   "source": [
    "Test this by accessing the user:"
   ]
  },
  {
   "cell_type": "code",
   "execution_count": null,
   "id": "f2a1772b-9c1e-4689-9c50-9a6784d8fd7a",
   "metadata": {},
   "outputs": [],
   "source": [
    "app.user"
   ]
  }
 ],
 "metadata": {
  "kernelspec": {
   "display_name": "tuttle",
   "language": "python",
   "name": "ex"
  },
  "language_info": {
   "codemirror_mode": {
    "name": "ipython",
    "version": 3
   },
   "file_extension": ".py",
   "mimetype": "text/x-python",
   "name": "python",
   "nbconvert_exporter": "python",
   "pygments_lexer": "ipython3",
   "version": "3.9.7"
  }
 },
 "nbformat": 4,
 "nbformat_minor": 5
}
