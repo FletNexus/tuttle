{
 "cells": [
  {
   "cell_type": "markdown",
   "id": "0acaba00",
   "metadata": {},
   "source": [
    "# User Setup"
   ]
  },
  {
   "cell_type": "markdown",
   "id": "5d00d55d",
   "metadata": {},
   "source": [
    "## Preamble"
   ]
  },
  {
   "cell_type": "code",
   "execution_count": null,
   "id": "da860d61",
   "metadata": {},
   "outputs": [],
   "source": [
    "from pathlib import Path"
   ]
  },
  {
   "cell_type": "markdown",
   "id": "550d0f54",
   "metadata": {},
   "source": [
    "## Setup"
   ]
  },
  {
   "cell_type": "markdown",
   "id": "e00af4ce",
   "metadata": {},
   "source": [
    "As the first step, we import the `tuttle` Python module and instantiate the `app` object:"
   ]
  },
  {
   "cell_type": "code",
   "execution_count": 2,
   "id": "e18e69f9",
   "metadata": {},
   "outputs": [],
   "source": [
    "import tuttle"
   ]
  },
  {
   "cell_type": "code",
   "execution_count": 3,
   "id": "8c7d2bab",
   "metadata": {},
   "outputs": [
    {
     "name": "stderr",
     "output_type": "stream",
     "text": [
      "2022-11-01 16:26:08.736 | INFO     | tuttle.controller:create_model:76 - creating database model\n"
     ]
    }
   ],
   "source": [
    "controller = tuttle.controller.Controller(\n",
    "    preferences=tuttle.preferences.Preferences(\n",
    "        invoice_dir=Path(\"Invoices\"),\n",
    "    ),\n",
    ")"
   ]
  },
  {
   "cell_type": "markdown",
   "id": "e5546c95",
   "metadata": {},
   "source": [
    "Since this is the beginning of the workflow, let's make sure that we start from a clean database."
   ]
  },
  {
   "cell_type": "code",
   "execution_count": 4,
   "id": "015603fd",
   "metadata": {},
   "outputs": [
    {
     "name": "stderr",
     "output_type": "stream",
     "text": [
      "2022-11-01 16:26:08.744 | INFO     | tuttle.controller:create_model:76 - creating database model\n"
     ]
    },
    {
     "name": "stdout",
     "output_type": "stream",
     "text": [
      "2022-11-01 16:26:08,745 INFO sqlalchemy.engine.Engine BEGIN (implicit)\n",
      "2022-11-01 16:26:08,746 INFO sqlalchemy.engine.Engine PRAGMA main.table_info(\"address\")\n",
      "2022-11-01 16:26:08,746 INFO sqlalchemy.engine.Engine [raw sql] ()\n",
      "2022-11-01 16:26:08,747 INFO sqlalchemy.engine.Engine PRAGMA temp.table_info(\"address\")\n",
      "2022-11-01 16:26:08,747 INFO sqlalchemy.engine.Engine [raw sql] ()\n",
      "2022-11-01 16:26:08,747 INFO sqlalchemy.engine.Engine PRAGMA main.table_info(\"user\")\n",
      "2022-11-01 16:26:08,748 INFO sqlalchemy.engine.Engine [raw sql] ()\n",
      "2022-11-01 16:26:08,748 INFO sqlalchemy.engine.Engine PRAGMA temp.table_info(\"user\")\n",
      "2022-11-01 16:26:08,748 INFO sqlalchemy.engine.Engine [raw sql] ()\n",
      "2022-11-01 16:26:08,749 INFO sqlalchemy.engine.Engine PRAGMA main.table_info(\"icloudaccount\")\n",
      "2022-11-01 16:26:08,749 INFO sqlalchemy.engine.Engine [raw sql] ()\n",
      "2022-11-01 16:26:08,749 INFO sqlalchemy.engine.Engine PRAGMA temp.table_info(\"icloudaccount\")\n",
      "2022-11-01 16:26:08,750 INFO sqlalchemy.engine.Engine [raw sql] ()\n",
      "2022-11-01 16:26:08,750 INFO sqlalchemy.engine.Engine PRAGMA main.table_info(\"googleaccount\")\n",
      "2022-11-01 16:26:08,750 INFO sqlalchemy.engine.Engine [raw sql] ()\n",
      "2022-11-01 16:26:08,751 INFO sqlalchemy.engine.Engine PRAGMA temp.table_info(\"googleaccount\")\n",
      "2022-11-01 16:26:08,751 INFO sqlalchemy.engine.Engine [raw sql] ()\n",
      "2022-11-01 16:26:08,752 INFO sqlalchemy.engine.Engine PRAGMA main.table_info(\"bank\")\n",
      "2022-11-01 16:26:08,752 INFO sqlalchemy.engine.Engine [raw sql] ()\n",
      "2022-11-01 16:26:08,752 INFO sqlalchemy.engine.Engine PRAGMA temp.table_info(\"bank\")\n",
      "2022-11-01 16:26:08,752 INFO sqlalchemy.engine.Engine [raw sql] ()\n",
      "2022-11-01 16:26:08,753 INFO sqlalchemy.engine.Engine PRAGMA main.table_info(\"bankaccount\")\n",
      "2022-11-01 16:26:08,753 INFO sqlalchemy.engine.Engine [raw sql] ()\n",
      "2022-11-01 16:26:08,754 INFO sqlalchemy.engine.Engine PRAGMA temp.table_info(\"bankaccount\")\n",
      "2022-11-01 16:26:08,754 INFO sqlalchemy.engine.Engine [raw sql] ()\n",
      "2022-11-01 16:26:08,755 INFO sqlalchemy.engine.Engine PRAGMA main.table_info(\"contact\")\n",
      "2022-11-01 16:26:08,755 INFO sqlalchemy.engine.Engine [raw sql] ()\n",
      "2022-11-01 16:26:08,755 INFO sqlalchemy.engine.Engine PRAGMA temp.table_info(\"contact\")\n",
      "2022-11-01 16:26:08,755 INFO sqlalchemy.engine.Engine [raw sql] ()\n",
      "2022-11-01 16:26:08,756 INFO sqlalchemy.engine.Engine PRAGMA main.table_info(\"client\")\n",
      "2022-11-01 16:26:08,756 INFO sqlalchemy.engine.Engine [raw sql] ()\n",
      "2022-11-01 16:26:08,757 INFO sqlalchemy.engine.Engine PRAGMA temp.table_info(\"client\")\n",
      "2022-11-01 16:26:08,757 INFO sqlalchemy.engine.Engine [raw sql] ()\n",
      "2022-11-01 16:26:08,757 INFO sqlalchemy.engine.Engine PRAGMA main.table_info(\"contract\")\n",
      "2022-11-01 16:26:08,757 INFO sqlalchemy.engine.Engine [raw sql] ()\n",
      "2022-11-01 16:26:08,758 INFO sqlalchemy.engine.Engine PRAGMA temp.table_info(\"contract\")\n",
      "2022-11-01 16:26:08,758 INFO sqlalchemy.engine.Engine [raw sql] ()\n",
      "2022-11-01 16:26:08,758 INFO sqlalchemy.engine.Engine PRAGMA main.table_info(\"project\")\n",
      "2022-11-01 16:26:08,759 INFO sqlalchemy.engine.Engine [raw sql] ()\n",
      "2022-11-01 16:26:08,759 INFO sqlalchemy.engine.Engine PRAGMA temp.table_info(\"project\")\n",
      "2022-11-01 16:26:08,759 INFO sqlalchemy.engine.Engine [raw sql] ()\n",
      "2022-11-01 16:26:08,760 INFO sqlalchemy.engine.Engine PRAGMA main.table_info(\"timetrackingitem\")\n",
      "2022-11-01 16:26:08,760 INFO sqlalchemy.engine.Engine [raw sql] ()\n",
      "2022-11-01 16:26:08,760 INFO sqlalchemy.engine.Engine PRAGMA temp.table_info(\"timetrackingitem\")\n",
      "2022-11-01 16:26:08,761 INFO sqlalchemy.engine.Engine [raw sql] ()\n",
      "2022-11-01 16:26:08,761 INFO sqlalchemy.engine.Engine PRAGMA main.table_info(\"timesheet\")\n",
      "2022-11-01 16:26:08,761 INFO sqlalchemy.engine.Engine [raw sql] ()\n",
      "2022-11-01 16:26:08,762 INFO sqlalchemy.engine.Engine PRAGMA temp.table_info(\"timesheet\")\n",
      "2022-11-01 16:26:08,762 INFO sqlalchemy.engine.Engine [raw sql] ()\n",
      "2022-11-01 16:26:08,763 INFO sqlalchemy.engine.Engine PRAGMA main.table_info(\"invoice\")\n",
      "2022-11-01 16:26:08,763 INFO sqlalchemy.engine.Engine [raw sql] ()\n",
      "2022-11-01 16:26:08,764 INFO sqlalchemy.engine.Engine PRAGMA temp.table_info(\"invoice\")\n",
      "2022-11-01 16:26:08,765 INFO sqlalchemy.engine.Engine [raw sql] ()\n",
      "2022-11-01 16:26:08,766 INFO sqlalchemy.engine.Engine PRAGMA main.table_info(\"invoiceitem\")\n",
      "2022-11-01 16:26:08,766 INFO sqlalchemy.engine.Engine [raw sql] ()\n",
      "2022-11-01 16:26:08,766 INFO sqlalchemy.engine.Engine PRAGMA temp.table_info(\"invoiceitem\")\n",
      "2022-11-01 16:26:08,767 INFO sqlalchemy.engine.Engine [raw sql] ()\n",
      "2022-11-01 16:26:08,767 INFO sqlalchemy.engine.Engine PRAGMA main.table_info(\"timelineitem\")\n",
      "2022-11-01 16:26:08,767 INFO sqlalchemy.engine.Engine [raw sql] ()\n",
      "2022-11-01 16:26:08,768 INFO sqlalchemy.engine.Engine PRAGMA temp.table_info(\"timelineitem\")\n",
      "2022-11-01 16:26:08,768 INFO sqlalchemy.engine.Engine [raw sql] ()\n",
      "2022-11-01 16:26:08,769 INFO sqlalchemy.engine.Engine \n",
      "CREATE TABLE address (\n",
      "\tid INTEGER NOT NULL, \n",
      "\tstreet VARCHAR NOT NULL, \n",
      "\tnumber VARCHAR NOT NULL, \n",
      "\tcity VARCHAR NOT NULL, \n",
      "\tpostal_code VARCHAR NOT NULL, \n",
      "\tcountry VARCHAR NOT NULL, \n",
      "\tPRIMARY KEY (id)\n",
      ")\n",
      "\n",
      "\n",
      "2022-11-01 16:26:08,770 INFO sqlalchemy.engine.Engine [no key 0.00049s] ()\n",
      "2022-11-01 16:26:08,771 INFO sqlalchemy.engine.Engine \n",
      "CREATE TABLE icloudaccount (\n",
      "\tid INTEGER NOT NULL, \n",
      "\tuser_name VARCHAR NOT NULL, \n",
      "\tPRIMARY KEY (id)\n",
      ")\n",
      "\n",
      "\n",
      "2022-11-01 16:26:08,772 INFO sqlalchemy.engine.Engine [no key 0.00041s] ()\n",
      "2022-11-01 16:26:08,773 INFO sqlalchemy.engine.Engine \n",
      "CREATE TABLE googleaccount (\n",
      "\tid INTEGER NOT NULL, \n",
      "\tuser_name VARCHAR NOT NULL, \n",
      "\tPRIMARY KEY (id)\n",
      ")\n",
      "\n",
      "\n",
      "2022-11-01 16:26:08,773 INFO sqlalchemy.engine.Engine [no key 0.00035s] ()\n",
      "2022-11-01 16:26:08,774 INFO sqlalchemy.engine.Engine \n",
      "CREATE TABLE bank (\n",
      "\tid INTEGER NOT NULL, \n",
      "\t\"BLZ\" VARCHAR NOT NULL, \n",
      "\tPRIMARY KEY (id)\n",
      ")\n",
      "\n",
      "\n",
      "2022-11-01 16:26:08,775 INFO sqlalchemy.engine.Engine [no key 0.00037s] ()\n",
      "2022-11-01 16:26:08,776 INFO sqlalchemy.engine.Engine \n",
      "CREATE TABLE bankaccount (\n",
      "\tid INTEGER NOT NULL, \n",
      "\tname VARCHAR NOT NULL, \n",
      "\t\"IBAN\" VARCHAR NOT NULL, \n",
      "\t\"BIC\" VARCHAR NOT NULL, \n",
      "\tPRIMARY KEY (id)\n",
      ")\n",
      "\n",
      "\n",
      "2022-11-01 16:26:08,777 INFO sqlalchemy.engine.Engine [no key 0.00046s] ()\n",
      "2022-11-01 16:26:08,778 INFO sqlalchemy.engine.Engine \n",
      "CREATE TABLE timelineitem (\n",
      "\ttime DATETIME NOT NULL, \n",
      "\tid INTEGER NOT NULL, \n",
      "\tcontent VARCHAR NOT NULL, \n",
      "\tPRIMARY KEY (id)\n",
      ")\n",
      "\n",
      "\n",
      "2022-11-01 16:26:08,779 INFO sqlalchemy.engine.Engine [no key 0.00040s] ()\n",
      "2022-11-01 16:26:08,780 INFO sqlalchemy.engine.Engine \n",
      "CREATE TABLE user (\n",
      "\tid INTEGER NOT NULL, \n",
      "\tname VARCHAR NOT NULL, \n",
      "\tsubtitle VARCHAR NOT NULL, \n",
      "\twebsite VARCHAR NOT NULL, \n",
      "\temail VARCHAR NOT NULL, \n",
      "\tphone_number VARCHAR NOT NULL, \n",
      "\taddress_id INTEGER, \n",
      "\t\"VAT_number\" VARCHAR, \n",
      "\ticloud_account_id INTEGER, \n",
      "\tbank_account_id INTEGER, \n",
      "\tlogo VARCHAR, \n",
      "\tPRIMARY KEY (id), \n",
      "\tFOREIGN KEY(address_id) REFERENCES address (id), \n",
      "\tFOREIGN KEY(icloud_account_id) REFERENCES icloudaccount (id), \n",
      "\tFOREIGN KEY(bank_account_id) REFERENCES bankaccount (id)\n",
      ")\n",
      "\n",
      "\n",
      "2022-11-01 16:26:08,781 INFO sqlalchemy.engine.Engine [no key 0.00055s] ()\n",
      "2022-11-01 16:26:08,782 INFO sqlalchemy.engine.Engine \n",
      "CREATE TABLE contact (\n",
      "\tid INTEGER NOT NULL, \n",
      "\tfirst_name VARCHAR, \n",
      "\tlast_name VARCHAR, \n",
      "\tcompany VARCHAR, \n",
      "\temail VARCHAR, \n",
      "\taddress_id INTEGER, \n",
      "\tPRIMARY KEY (id), \n",
      "\tFOREIGN KEY(address_id) REFERENCES address (id)\n",
      ")\n",
      "\n",
      "\n",
      "2022-11-01 16:26:08,783 INFO sqlalchemy.engine.Engine [no key 0.00071s] ()\n",
      "2022-11-01 16:26:08,784 INFO sqlalchemy.engine.Engine \n",
      "CREATE TABLE client (\n",
      "\tid INTEGER NOT NULL, \n",
      "\tname VARCHAR NOT NULL, \n",
      "\tinvoicing_contact_id INTEGER, \n",
      "\tPRIMARY KEY (id), \n",
      "\tFOREIGN KEY(invoicing_contact_id) REFERENCES contact (id)\n",
      ")\n",
      "\n",
      "\n",
      "2022-11-01 16:26:08,785 INFO sqlalchemy.engine.Engine [no key 0.00039s] ()\n",
      "2022-11-01 16:26:08,787 INFO sqlalchemy.engine.Engine \n",
      "CREATE TABLE contract (\n",
      "\tunit VARCHAR(6), \n",
      "\tbilling_cycle VARCHAR(9), \n",
      "\tid INTEGER NOT NULL, \n",
      "\ttitle VARCHAR NOT NULL, \n",
      "\tsignature_date DATE NOT NULL, \n",
      "\tstart_date DATE NOT NULL, \n",
      "\tend_date DATE, \n",
      "\tclient_id INTEGER, \n",
      "\trate NUMERIC NOT NULL, \n",
      "\tcurrency VARCHAR NOT NULL, \n",
      "\t\"VAT_rate\" NUMERIC NOT NULL, \n",
      "\tunits_per_workday INTEGER NOT NULL, \n",
      "\tvolume INTEGER, \n",
      "\tterm_of_payment INTEGER, \n",
      "\tPRIMARY KEY (id), \n",
      "\tFOREIGN KEY(client_id) REFERENCES client (id)\n",
      ")\n",
      "\n",
      "\n",
      "2022-11-01 16:26:08,788 INFO sqlalchemy.engine.Engine [no key 0.00076s] ()\n",
      "2022-11-01 16:26:08,790 INFO sqlalchemy.engine.Engine \n",
      "CREATE TABLE project (\n",
      "\tid INTEGER NOT NULL, \n",
      "\ttitle VARCHAR NOT NULL, \n",
      "\ttag VARCHAR NOT NULL, \n",
      "\tstart_date DATE NOT NULL, \n",
      "\tend_date DATE NOT NULL, \n",
      "\tcontract_id INTEGER, \n",
      "\tPRIMARY KEY (id), \n",
      "\tUNIQUE (title), \n",
      "\tUNIQUE (tag), \n",
      "\tFOREIGN KEY(contract_id) REFERENCES contract (id)\n",
      ")\n",
      "\n",
      "\n",
      "2022-11-01 16:26:08,790 INFO sqlalchemy.engine.Engine [no key 0.00037s] ()\n",
      "2022-11-01 16:26:08,792 INFO sqlalchemy.engine.Engine \n",
      "CREATE TABLE invoice (\n",
      "\tid INTEGER NOT NULL, \n",
      "\tnumber VARCHAR, \n",
      "\tdate DATE NOT NULL, \n",
      "\tcontract_id INTEGER, \n",
      "\tsent BOOLEAN, \n",
      "\tpaid BOOLEAN, \n",
      "\tcancelled BOOLEAN, \n",
      "\trendered BOOLEAN NOT NULL, \n",
      "\tPRIMARY KEY (id), \n",
      "\tFOREIGN KEY(contract_id) REFERENCES contract (id)\n",
      ")\n",
      "\n",
      "\n",
      "2022-11-01 16:26:08,792 INFO sqlalchemy.engine.Engine [no key 0.00050s] ()\n",
      "2022-11-01 16:26:08,794 INFO sqlalchemy.engine.Engine \n",
      "CREATE TABLE timesheet (\n",
      "\tid INTEGER NOT NULL, \n",
      "\ttitle VARCHAR NOT NULL, \n",
      "\tdate DATE NOT NULL, \n",
      "\tproject_id INTEGER, \n",
      "\tcomment VARCHAR, \n",
      "\tPRIMARY KEY (id), \n",
      "\tFOREIGN KEY(project_id) REFERENCES project (id)\n",
      ")\n",
      "\n",
      "\n",
      "2022-11-01 16:26:08,794 INFO sqlalchemy.engine.Engine [no key 0.00049s] ()\n",
      "2022-11-01 16:26:08,796 INFO sqlalchemy.engine.Engine \n",
      "CREATE TABLE invoiceitem (\n",
      "\tid INTEGER NOT NULL, \n",
      "\tstart_date DATE NOT NULL, \n",
      "\tend_date DATE, \n",
      "\tquantity INTEGER NOT NULL, \n",
      "\tunit VARCHAR NOT NULL, \n",
      "\tunit_price NUMERIC NOT NULL, \n",
      "\tdescription VARCHAR NOT NULL, \n",
      "\t\"VAT_rate\" NUMERIC NOT NULL, \n",
      "\tinvoice_id INTEGER, \n",
      "\tPRIMARY KEY (id), \n",
      "\tFOREIGN KEY(invoice_id) REFERENCES invoice (id)\n",
      ")\n",
      "\n",
      "\n",
      "2022-11-01 16:26:08,796 INFO sqlalchemy.engine.Engine [no key 0.00038s] ()\n",
      "2022-11-01 16:26:08,797 INFO sqlalchemy.engine.Engine \n",
      "CREATE TABLE timetrackingitem (\n",
      "\tid INTEGER NOT NULL, \n",
      "\ttimesheet_id INTEGER, \n",
      "\t\"begin\" DATETIME NOT NULL, \n",
      "\t\"end\" DATETIME, \n",
      "\tduration DATETIME NOT NULL, \n",
      "\ttitle VARCHAR NOT NULL, \n",
      "\ttag VARCHAR NOT NULL, \n",
      "\tdescription VARCHAR, \n",
      "\tPRIMARY KEY (id), \n",
      "\tFOREIGN KEY(timesheet_id) REFERENCES timesheet (id)\n",
      ")\n",
      "\n",
      "\n",
      "2022-11-01 16:26:08,798 INFO sqlalchemy.engine.Engine [no key 0.00028s] ()\n",
      "2022-11-01 16:26:08,799 INFO sqlalchemy.engine.Engine COMMIT\n"
     ]
    }
   ],
   "source": [
    "controller.clear_database()"
   ]
  },
  {
   "cell_type": "markdown",
   "id": "76147ed9",
   "metadata": {},
   "source": [
    "After running this, a new database has been created in your user space:"
   ]
  },
  {
   "cell_type": "code",
   "execution_count": 5,
   "id": "4f92fb57",
   "metadata": {},
   "outputs": [
    {
     "name": "stdout",
     "output_type": "stream",
     "text": [
      "\u001b[34mInvoices\u001b[m\u001b[m  tuttle.db\n"
     ]
    }
   ],
   "source": [
    "!ls {Path.home()}/.tuttle/"
   ]
  },
  {
   "cell_type": "markdown",
   "id": "c164a85d",
   "metadata": {},
   "source": [
    "## User"
   ]
  },
  {
   "cell_type": "markdown",
   "id": "3207f95a",
   "metadata": {},
   "source": [
    "When first running the application, you need to provide the application with information about you and your freelance business. You do this by creating a new `User` object."
   ]
  },
  {
   "cell_type": "markdown",
   "id": "ea305178",
   "metadata": {},
   "source": [
    "Here is an example:"
   ]
  },
  {
   "cell_type": "code",
   "execution_count": 6,
   "id": "6ec17c00",
   "metadata": {},
   "outputs": [],
   "source": [
    "from tuttle.model import User, Address, BankAccount, ICloudAccount"
   ]
  },
  {
   "cell_type": "code",
   "execution_count": 7,
   "id": "d91df78a",
   "metadata": {},
   "outputs": [],
   "source": [
    "harry = User(\n",
    "    name=\"Harry Tuttle\",\n",
    "    subtitle=\"Heating Engineer\",\n",
    "    website=\"https://tuttle-dev.github.io/tuttle/\",\n",
    "    email=\"mail@tuttle.com\",\n",
    "    phone_number=\"+55555555555\",\n",
    "    VAT_number=\"DZ-015\",\n",
    "    address=Address(\n",
    "        name=\"Harry Tuttle\",\n",
    "        street=\"Main Street\",\n",
    "        number=\"450\",\n",
    "        city=\"Sao Paolo\",\n",
    "        postal_code=\"555555\",\n",
    "        country=\"Brazil\",\n",
    "    ),\n",
    "    bank_account=BankAccount(\n",
    "        name=\"Giro\",\n",
    "        IBAN=\"BZ99830994950003161565\",\n",
    "        BIC=\"ABCDEFGH\",\n",
    "    ),\n",
    "    icloud_account=ICloudAccount(user_name=\"mail@tuttle.com\")\n",
    ")"
   ]
  },
  {
   "cell_type": "markdown",
   "id": "65edff5d",
   "metadata": {},
   "source": [
    "Now it's your turn - please provide your details and instantiate a user object. \n",
    "\n",
    "(If you do not have an iCloud account, don't worry, there are other options of accessing your calendar data)."
   ]
  },
  {
   "cell_type": "code",
   "execution_count": 8,
   "id": "df42fed8",
   "metadata": {},
   "outputs": [],
   "source": [
    "user = harry # replace this with an new user object"
   ]
  },
  {
   "cell_type": "markdown",
   "id": "02d4f3d1",
   "metadata": {},
   "source": [
    "Store your new user in the database:"
   ]
  },
  {
   "cell_type": "code",
   "execution_count": 9,
   "id": "004f71ec",
   "metadata": {},
   "outputs": [],
   "source": [
    "controller.store(user)"
   ]
  },
  {
   "cell_type": "markdown",
   "id": "bcc1ab33",
   "metadata": {},
   "source": [
    "Test this by accessing the user:"
   ]
  },
  {
   "cell_type": "code",
   "execution_count": 10,
   "id": "77647ac7",
   "metadata": {},
   "outputs": [
    {
     "data": {
      "text/plain": [
       "User(id=1, website='https://tuttle-dev.github.io/tuttle/', phone_number='+55555555555', VAT_number='DZ-015', bank_account_id=1, name='Harry Tuttle', subtitle='Heating Engineer', email='mail@tuttle.com', address_id=1, icloud_account_id=1, logo=None)"
      ]
     },
     "execution_count": 10,
     "metadata": {},
     "output_type": "execute_result"
    }
   ],
   "source": [
    "controller.user"
   ]
  }
 ],
 "metadata": {
  "kernelspec": {
   "display_name": "tuttle",
   "language": "python",
   "name": "ex"
  },
  "language_info": {
   "codemirror_mode": {
    "name": "ipython",
    "version": 3
   },
   "file_extension": ".py",
   "mimetype": "text/x-python",
   "name": "python",
   "nbconvert_exporter": "python",
   "pygments_lexer": "ipython3",
   "version": "3.10.6"
  },
  "vscode": {
   "interpreter": {
    "hash": "5727a89f8f4826e6ce3fb9da18a08727b274ba76880924157270e222bba4a1ac"
   }
  }
 },
 "nbformat": 4,
 "nbformat_minor": 5
}
