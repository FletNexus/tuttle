{
 "cells": [
  {
   "cell_type": "markdown",
   "id": "08f11bab-4bc1-43ed-a59a-31d9b59d4211",
   "metadata": {},
   "source": [
    "# Introduction"
   ]
  },
  {
   "cell_type": "markdown",
   "id": "2ee6e2c4-7bc6-47bc-8ed1-6938901bd7f7",
   "metadata": {},
   "source": [
    "## tuttle - painless business planning for freelancers\n",
    "\n",
    "> HARRY TUTTLE: Bloody paperwork. Huh!\n",
    ">\n",
    "> SAM LOWRY: I suppose one has to expect a certain amount.\n",
    ">\n",
    "> HARRY TUTTLE: Why? I came into this game for the action, the excitement. Go anywhere, travel light, get in, get out, wherever there's trouble, a man alone.\n",
    "\n",
    "\n",
    "**Tuttle is an open-source software project supported by the [Prototype Fund](https://prototypefund.de/en/about-2/). We develop a finance and business planning tool tailored for the requirements of freelancers.**"
   ]
  },
  {
   "cell_type": "code",
   "execution_count": 5,
   "id": "d8c33175-64fa-4655-8f0f-fa2ab59f433d",
   "metadata": {},
   "outputs": [
    {
     "data": {
      "text/html": [
       "<iframe width=\"560\" height=\"315\" src=\"https://www.youtube.com/embed/VRfoIyx8KfU\" title=\"YouTube video player\" frameborder=\"0\" allow=\"accelerometer; autoplay; clipboard-write; encrypted-media; gyroscope; picture-in-picture\" allowfullscreen></iframe>"
      ],
      "text/plain": [
       "<IPython.core.display.HTML object>"
      ]
     },
     "execution_count": 5,
     "metadata": {},
     "output_type": "execute_result"
    }
   ],
   "source": [
    "from IPython.display import HTML\n",
    "\n",
    "HTML('<iframe width=\"560\" height=\"315\" src=\"https://www.youtube.com/embed/VRfoIyx8KfU\" title=\"YouTube video player\" frameborder=\"0\" allow=\"accelerometer; autoplay; clipboard-write; encrypted-media; gyroscope; picture-in-picture\" allowfullscreen></iframe>')"
   ]
  },
  {
   "cell_type": "markdown",
   "id": "c9a8a7b6-e151-4d41-b14b-1fa5cff48fb9",
   "metadata": {},
   "source": [
    "### Which challenges does the project address?\n",
    "\n",
    "The working world is changing, the trend is towards freelancing: software developers, designers and journalists appreciate the freedom and creative possibilities of solo self-employment. More and more professionals are choosing it for themselves. It allows them to specialize and gain experience with many projects and clients.\n",
    "\n",
    "With freelancing, there are many side activities: Marketing, client communication, legal and financial planning - although the latter probably appeals to few solo self-employed people. But neglected financial planning carries the risk of insolvency, debt, precarious self-employment, or poverty in old age. This also creates burdens for the social systems.\n",
    "\n",
    "But what if software could make financial planning in freelancing almost as easy as being an employee? Our tool minimizes risks and makes the financial part of the job easy. Freelancing becomes more efficient, less risky, and therefore more beginner-friendly.\n",
    "\n",
    "### How are you tackling the problem?\n",
    "\n",
    "With Tuttle, we are developing a financial planning tool that is tailored to the needs of solo freelancers. We automate and give freelancers more time to do the work they love.\n",
    "The application provides analysis and forecasting functions on income, expenses, disposable income, uncertainty management or explainability of the forecast and convinces with portability, among other things.\n",
    "\n",
    "We develop the solution as a GUI application based on web technologies. Sensitive financial data is processed locally on the end device without central data collection. For data analysis, we rely on open source tools from the Python ecosystem.\n",
    "\n",
    "\n",
    "### What is the product vision?\n",
    "\n",
    "Desktop apps are great - let's have more of them. We are consciously developing a desktop app with local data storage, not a web app, since your business data is none of our business.\n",
    "\n",
    "For this purpose, the Tuttle project is split across several repositories:\n",
    "\n",
    "- This repository contains the core library, written in Python.\n",
    "- The desktop application frontend, based on Electron.js, is being developed in [tuttle-dev/tuttle-app](https://github.com/tuttle-dev/tuttle-app)\n",
    "\n",
    "\n",
    "### Setup\n",
    "\n",
    "1. Clone or download the current version from the `main` branch.\n",
    "\n",
    "2. We recommend installation into a new [virtual environment](https://calmcode.io/virtualenv/intro.html).\n",
    "\n",
    "3. Install the Python module in development mode:\n",
    "\n",
    "```shell\n",
    "$ python setup.py develop\n",
    "```\n",
    "\n",
    "4. To verify, run the unit tests:\n",
    "\n",
    "```shell\n",
    "$ pytest\n",
    "```\n",
    "\n",
    "\n",
    "### Contributing\n",
    "\n",
    "Your contributions are welcome. Please follow the [guide (CONTRIBUTING.md)](https://github.com/tuttle-dev/tuttle/blob/main/CONTRIBUTING.md).\n",
    "\n",
    "[![Code style: black](https://img.shields.io/badge/code%20style-black-000000.svg)](https://github.com/psf/black)\n",
    "\n",
    "\n",
    "\n",
    "### Acknowledgements\n",
    "\n",
    "This project is funded by the [Prototype Fund](https://prototypefund.de).\n",
    "\n"
   ]
  },
  {
   "cell_type": "markdown",
   "id": "9386280c-54af-41a8-bbf6-1f2307f483c9",
   "metadata": {},
   "source": [
    "## Privacy by design - your business data is none of our business"
   ]
  },
  {
   "cell_type": "markdown",
   "id": "ebb4e3ae-cb0e-4a06-8713-8a3072b1bbec",
   "metadata": {},
   "source": [
    "To try out Tuttle, we will ask you to enter data about your freelance business, your clients, your contractual terms, and more. If you say that this data is none of our business and you would rather keep it private, we are the first ones to agree: The data you enter is stored and processed locally, and will not be uploaded to any server. Therefore, we hope that you are comfortable with entering real business data for this demonstration, since this will give you the most useful results and enables you to give the best feedback.\n",
    "\n",
    "Furthermore, whenever Tuttle asks you to enter a password (e.g. for a cloud account), it will be processed securely and not stored."
   ]
  },
  {
   "cell_type": "markdown",
   "id": "bce5e1c0-9609-423e-8f8f-6d55d1b17453",
   "metadata": {},
   "source": [
    "## Feature Preview"
   ]
  },
  {
   "cell_type": "markdown",
   "id": "6e3e8e94-d7f8-4235-b5ad-5a9ecd4f819d",
   "metadata": {},
   "source": [
    "- **track your work time with ease**\n",
    "\n",
    "- **automate your invoicing**\n",
    "\n",
    "- **plan ahead and forecast your revenue**\n",
    "\n",
    "- **forecast revenue-dependent expenses (under construction)**\n",
    "    \n",
    "- **calculate your effective income (under construction)**\n",
    "\n"
   ]
  },
  {
   "cell_type": "markdown",
   "id": "cf448e40-28df-4b2e-a244-c65f9431c5c4",
   "metadata": {},
   "source": [
    "------"
   ]
  }
 ],
 "metadata": {
  "kernelspec": {
   "display_name": "tuttle",
   "language": "python",
   "name": "ex"
  },
  "language_info": {
   "codemirror_mode": {
    "name": "ipython",
    "version": 3
   },
   "file_extension": ".py",
   "mimetype": "text/x-python",
   "name": "python",
   "nbconvert_exporter": "python",
   "pygments_lexer": "ipython3",
   "version": "3.9.7"
  }
 },
 "nbformat": 4,
 "nbformat_minor": 5
}
