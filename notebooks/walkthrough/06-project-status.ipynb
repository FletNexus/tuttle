{
 "cells": [
  {
   "cell_type": "markdown",
   "id": "da3f8b0f-1019-4886-8537-5701fd8bb5cd",
   "metadata": {},
   "source": [
    "# Invoicing"
   ]
  },
  {
   "cell_type": "markdown",
   "id": "05eedace-2805-401b-9de0-caf88432221b",
   "metadata": {},
   "source": [
    "Now that we have our contracts, projects, and time tracking set up, we have all the ingredients to automatically generate invoices with the press of a button."
   ]
  },
  {
   "cell_type": "markdown",
   "id": "db831ba4-c5ce-4d41-b2f5-d870b462a3b5",
   "metadata": {},
   "source": [
    "## Preamble"
   ]
  },
  {
   "cell_type": "code",
   "execution_count": 2,
   "id": "42ae156b-8681-420b-a76b-ab0cbb444d1d",
   "metadata": {},
   "outputs": [],
   "source": [
    "import tuttle"
   ]
  },
  {
   "cell_type": "code",
   "execution_count": 3,
   "id": "b30d033e-ce78-4daf-9a70-316151665956",
   "metadata": {},
   "outputs": [
    {
     "name": "stdout",
     "output_type": "stream",
     "text": [
      "2022-02-19 16:21:43,214 INFO sqlalchemy.engine.Engine BEGIN (implicit)\n",
      "2022-02-19 16:21:43,215 INFO sqlalchemy.engine.Engine PRAGMA main.table_info(\"address\")\n",
      "2022-02-19 16:21:43,216 INFO sqlalchemy.engine.Engine [raw sql] ()\n",
      "2022-02-19 16:21:43,216 INFO sqlalchemy.engine.Engine PRAGMA main.table_info(\"user\")\n",
      "2022-02-19 16:21:43,216 INFO sqlalchemy.engine.Engine [raw sql] ()\n",
      "2022-02-19 16:21:43,217 INFO sqlalchemy.engine.Engine PRAGMA main.table_info(\"icloudaccount\")\n",
      "2022-02-19 16:21:43,217 INFO sqlalchemy.engine.Engine [raw sql] ()\n",
      "2022-02-19 16:21:43,217 INFO sqlalchemy.engine.Engine PRAGMA main.table_info(\"googleaccount\")\n",
      "2022-02-19 16:21:43,218 INFO sqlalchemy.engine.Engine [raw sql] ()\n",
      "2022-02-19 16:21:43,218 INFO sqlalchemy.engine.Engine PRAGMA main.table_info(\"bank\")\n",
      "2022-02-19 16:21:43,218 INFO sqlalchemy.engine.Engine [raw sql] ()\n",
      "2022-02-19 16:21:43,219 INFO sqlalchemy.engine.Engine PRAGMA main.table_info(\"bankaccount\")\n",
      "2022-02-19 16:21:43,219 INFO sqlalchemy.engine.Engine [raw sql] ()\n",
      "2022-02-19 16:21:43,219 INFO sqlalchemy.engine.Engine PRAGMA main.table_info(\"contact\")\n",
      "2022-02-19 16:21:43,219 INFO sqlalchemy.engine.Engine [raw sql] ()\n",
      "2022-02-19 16:21:43,220 INFO sqlalchemy.engine.Engine PRAGMA main.table_info(\"client\")\n",
      "2022-02-19 16:21:43,220 INFO sqlalchemy.engine.Engine [raw sql] ()\n",
      "2022-02-19 16:21:43,220 INFO sqlalchemy.engine.Engine PRAGMA main.table_info(\"contract\")\n",
      "2022-02-19 16:21:43,220 INFO sqlalchemy.engine.Engine [raw sql] ()\n",
      "2022-02-19 16:21:43,221 INFO sqlalchemy.engine.Engine PRAGMA main.table_info(\"project\")\n",
      "2022-02-19 16:21:43,221 INFO sqlalchemy.engine.Engine [raw sql] ()\n",
      "2022-02-19 16:21:43,221 INFO sqlalchemy.engine.Engine PRAGMA main.table_info(\"timetrackingitem\")\n",
      "2022-02-19 16:21:43,221 INFO sqlalchemy.engine.Engine [raw sql] ()\n",
      "2022-02-19 16:21:43,222 INFO sqlalchemy.engine.Engine PRAGMA main.table_info(\"timesheet\")\n",
      "2022-02-19 16:21:43,222 INFO sqlalchemy.engine.Engine [raw sql] ()\n",
      "2022-02-19 16:21:43,222 INFO sqlalchemy.engine.Engine PRAGMA main.table_info(\"invoice\")\n",
      "2022-02-19 16:21:43,222 INFO sqlalchemy.engine.Engine [raw sql] ()\n",
      "2022-02-19 16:21:43,223 INFO sqlalchemy.engine.Engine PRAGMA main.table_info(\"invoiceitem\")\n",
      "2022-02-19 16:21:43,223 INFO sqlalchemy.engine.Engine [raw sql] ()\n",
      "2022-02-19 16:21:43,223 INFO sqlalchemy.engine.Engine PRAGMA main.table_info(\"timelineitem\")\n",
      "2022-02-19 16:21:43,223 INFO sqlalchemy.engine.Engine [raw sql] ()\n",
      "2022-02-19 16:21:43,224 INFO sqlalchemy.engine.Engine COMMIT\n"
     ]
    }
   ],
   "source": [
    "app = tuttle.app.App()"
   ]
  }
 ],
 "metadata": {
  "kernelspec": {
   "display_name": "tuttle",
   "language": "python",
   "name": "ex"
  },
  "language_info": {
   "codemirror_mode": {
    "name": "ipython",
    "version": 3
   },
   "file_extension": ".py",
   "mimetype": "text/x-python",
   "name": "python",
   "nbconvert_exporter": "python",
   "pygments_lexer": "ipython3",
   "version": "3.9.7"
  }
 },
 "nbformat": 4,
 "nbformat_minor": 5
}
