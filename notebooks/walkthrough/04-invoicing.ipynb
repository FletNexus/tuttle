{
 "cells": [
  {
   "cell_type": "markdown",
   "id": "a26a64c7-f0be-41f6-af0e-ad3f36fc6a19",
   "metadata": {},
   "source": [
    "# Time Tracking"
   ]
  },
  {
   "cell_type": "markdown",
   "id": "2619bc0e-7bdf-4c67-9900-b6ba53f980f4",
   "metadata": {},
   "source": [
    "As a freelancer, you work on _projects_: You agree with a _client_ to perform a certain amount of work. The terms of your work relationship, including terms of payment, are recorded in a _contract_.\n",
    "\n",
    "Let's setup at least one project."
   ]
  },
  {
   "cell_type": "markdown",
   "id": "a87a1adb-156b-4333-aa8e-3dfd2965b5a5",
   "metadata": {},
   "source": [
    "## Preamble"
   ]
  },
  {
   "cell_type": "code",
   "execution_count": 12,
   "id": "8a25d62c-dd13-4a3e-ab2e-cfca49d6093b",
   "metadata": {},
   "outputs": [],
   "source": [
    "import tuttle"
   ]
  },
  {
   "cell_type": "code",
   "execution_count": 13,
   "id": "dfcfd023-8497-4b0f-b320-35137c511921",
   "metadata": {},
   "outputs": [
    {
     "name": "stdout",
     "output_type": "stream",
     "text": [
      "2022-02-15 18:36:04,444 INFO sqlalchemy.engine.Engine BEGIN (implicit)\n",
      "2022-02-15 18:36:04,445 INFO sqlalchemy.engine.Engine PRAGMA main.table_info(\"address\")\n",
      "2022-02-15 18:36:04,445 INFO sqlalchemy.engine.Engine [raw sql] ()\n",
      "2022-02-15 18:36:04,446 INFO sqlalchemy.engine.Engine PRAGMA main.table_info(\"user\")\n",
      "2022-02-15 18:36:04,447 INFO sqlalchemy.engine.Engine [raw sql] ()\n",
      "2022-02-15 18:36:04,447 INFO sqlalchemy.engine.Engine PRAGMA main.table_info(\"icloudaccount\")\n",
      "2022-02-15 18:36:04,448 INFO sqlalchemy.engine.Engine [raw sql] ()\n",
      "2022-02-15 18:36:04,448 INFO sqlalchemy.engine.Engine PRAGMA main.table_info(\"googleaccount\")\n",
      "2022-02-15 18:36:04,449 INFO sqlalchemy.engine.Engine [raw sql] ()\n",
      "2022-02-15 18:36:04,449 INFO sqlalchemy.engine.Engine PRAGMA main.table_info(\"bank\")\n",
      "2022-02-15 18:36:04,449 INFO sqlalchemy.engine.Engine [raw sql] ()\n",
      "2022-02-15 18:36:04,450 INFO sqlalchemy.engine.Engine PRAGMA main.table_info(\"bankaccount\")\n",
      "2022-02-15 18:36:04,450 INFO sqlalchemy.engine.Engine [raw sql] ()\n",
      "2022-02-15 18:36:04,451 INFO sqlalchemy.engine.Engine PRAGMA main.table_info(\"contact\")\n",
      "2022-02-15 18:36:04,451 INFO sqlalchemy.engine.Engine [raw sql] ()\n",
      "2022-02-15 18:36:04,452 INFO sqlalchemy.engine.Engine PRAGMA main.table_info(\"client\")\n",
      "2022-02-15 18:36:04,452 INFO sqlalchemy.engine.Engine [raw sql] ()\n",
      "2022-02-15 18:36:04,452 INFO sqlalchemy.engine.Engine PRAGMA main.table_info(\"contract\")\n",
      "2022-02-15 18:36:04,452 INFO sqlalchemy.engine.Engine [raw sql] ()\n",
      "2022-02-15 18:36:04,453 INFO sqlalchemy.engine.Engine PRAGMA main.table_info(\"project\")\n",
      "2022-02-15 18:36:04,453 INFO sqlalchemy.engine.Engine [raw sql] ()\n",
      "2022-02-15 18:36:04,454 INFO sqlalchemy.engine.Engine PRAGMA main.table_info(\"timetrackingitem\")\n",
      "2022-02-15 18:36:04,454 INFO sqlalchemy.engine.Engine [raw sql] ()\n",
      "2022-02-15 18:36:04,454 INFO sqlalchemy.engine.Engine PRAGMA main.table_info(\"timesheet\")\n",
      "2022-02-15 18:36:04,455 INFO sqlalchemy.engine.Engine [raw sql] ()\n",
      "2022-02-15 18:36:04,455 INFO sqlalchemy.engine.Engine PRAGMA main.table_info(\"invoice\")\n",
      "2022-02-15 18:36:04,455 INFO sqlalchemy.engine.Engine [raw sql] ()\n",
      "2022-02-15 18:36:04,456 INFO sqlalchemy.engine.Engine PRAGMA main.table_info(\"invoiceitem\")\n",
      "2022-02-15 18:36:04,456 INFO sqlalchemy.engine.Engine [raw sql] ()\n",
      "2022-02-15 18:36:04,457 INFO sqlalchemy.engine.Engine PRAGMA main.table_info(\"timelineitem\")\n",
      "2022-02-15 18:36:04,457 INFO sqlalchemy.engine.Engine [raw sql] ()\n",
      "2022-02-15 18:36:04,457 INFO sqlalchemy.engine.Engine COMMIT\n"
     ]
    }
   ],
   "source": [
    "app = tuttle.app.App()"
   ]
  }
 ],
 "metadata": {
  "kernelspec": {
   "display_name": "tuttle",
   "language": "python",
   "name": "ex"
  },
  "language_info": {
   "codemirror_mode": {
    "name": "ipython",
    "version": 3
   },
   "file_extension": ".py",
   "mimetype": "text/x-python",
   "name": "python",
   "nbconvert_exporter": "python",
   "pygments_lexer": "ipython3",
   "version": "3.9.7"
  }
 },
 "nbformat": 4,
 "nbformat_minor": 5
}
