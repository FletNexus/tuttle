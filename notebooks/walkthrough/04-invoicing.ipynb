{
 "cells": [
  {
   "cell_type": "markdown",
   "id": "a26a64c7-f0be-41f6-af0e-ad3f36fc6a19",
   "metadata": {
    "tags": []
   },
   "source": [
    "# Invoicing"
   ]
  },
  {
   "cell_type": "markdown",
   "id": "2619bc0e-7bdf-4c67-9900-b6ba53f980f4",
   "metadata": {},
   "source": [
    "Now that we have set up our user info, clients, contracts and projects, as well as a source for time tracking data, we are ready to automatically generate invoices."
   ]
  },
  {
   "cell_type": "markdown",
   "id": "a87a1adb-156b-4333-aa8e-3dfd2965b5a5",
   "metadata": {},
   "source": [
    "## Preamble"
   ]
  },
  {
   "cell_type": "code",
   "execution_count": null,
   "id": "775b50b1-6a7f-41cf-91c5-4cb3caef6339",
   "metadata": {},
   "outputs": [],
   "source": [
    "from pathlib import Path\n",
    "import datetime\n",
    "from IPython import display"
   ]
  },
  {
   "cell_type": "code",
   "execution_count": null,
   "id": "8a25d62c-dd13-4a3e-ab2e-cfca49d6093b",
   "metadata": {},
   "outputs": [],
   "source": [
    "import tuttle"
   ]
  },
  {
   "cell_type": "code",
   "execution_count": null,
   "id": "dfcfd023-8497-4b0f-b320-35137c511921",
   "metadata": {},
   "outputs": [],
   "source": [
    "app = tuttle.app.App(verbose=False)"
   ]
  },
  {
   "cell_type": "markdown",
   "id": "8204540b-3350-4855-b228-affbea605e86",
   "metadata": {},
   "source": [
    "## How it works"
   ]
  },
  {
   "cell_type": "markdown",
   "id": "b6fdc7e2-fa4a-4979-8670-48e0c988d5a9",
   "metadata": {},
   "source": [
    "We assume that you want to create and send an invoice for a `Project`. In the invoice, you bill the client for work time - that is, one or several `Timesheet`s."
   ]
  },
  {
   "cell_type": "markdown",
   "id": "c339e690-3232-461b-8417-93cb047e82b6",
   "metadata": {
    "tags": []
   },
   "source": [
    "## Workflow"
   ]
  },
  {
   "cell_type": "markdown",
   "id": "87bea879-47c9-4a32-81e5-6539281864f4",
   "metadata": {},
   "source": [
    "_1. Select a project_"
   ]
  },
  {
   "cell_type": "markdown",
   "id": "f638fb43-31b9-4c4e-9038-bccd190e8598",
   "metadata": {},
   "source": [
    "**Example**"
   ]
  },
  {
   "cell_type": "code",
   "execution_count": null,
   "id": "7822d6e7-182e-4cb2-a7d5-50fddaa337c2",
   "metadata": {},
   "outputs": [],
   "source": [
    "my_project = app.get_project(title=\"Heating Repair\")"
   ]
  },
  {
   "cell_type": "markdown",
   "id": "c0e061d9-a022-4495-9e5a-fd2f79c628bd",
   "metadata": {},
   "source": [
    "_Your turn:_"
   ]
  },
  {
   "cell_type": "markdown",
   "id": "1b885d33-cdd7-4600-8367-20ff3c9ab519",
   "metadata": {},
   "source": [
    "2. Select a time tracking data source."
   ]
  },
  {
   "cell_type": "markdown",
   "id": "46dab386-e5bf-4ac7-b496-e764d41da5c5",
   "metadata": {},
   "source": [
    "**Example**"
   ]
  },
  {
   "cell_type": "code",
   "execution_count": null,
   "id": "70b0dd5b-e749-4864-a951-0ca3a21b00af",
   "metadata": {},
   "outputs": [],
   "source": [
    "from tuttle.calendar import FileCalendar\n",
    "\n",
    "timetracking_calendar_path = Path(\"../../tests/data/TuttleDemo-TimeTracking.ics\")\n",
    "my_calendar = FileCalendar(\n",
    "    path=timetracking_calendar_path, \n",
    "    name=\"TimeTracking\"\n",
    ")"
   ]
  },
  {
   "cell_type": "markdown",
   "id": "d58949f1-3e6d-42fb-96b2-31358006faa6",
   "metadata": {},
   "source": [
    "_Your turn:_"
   ]
  },
  {
   "cell_type": "code",
   "execution_count": null,
   "id": "7c6a5e24-038c-4ad1-be29-8047f1f6707a",
   "metadata": {},
   "outputs": [],
   "source": []
  },
  {
   "cell_type": "markdown",
   "id": "47be16a4-5b36-469e-88d3-a47fbecff8fa",
   "metadata": {},
   "source": [
    "3. Generate one or more timesheets"
   ]
  },
  {
   "cell_type": "markdown",
   "id": "59d2ea55-c88a-4da2-b965-1f4f090f5aa5",
   "metadata": {},
   "source": [
    "**Example**"
   ]
  },
  {
   "cell_type": "code",
   "execution_count": null,
   "id": "690a6ac7-f5cd-494f-bb69-dbd1f0bea5f2",
   "metadata": {},
   "outputs": [],
   "source": [
    "my_timesheet = tuttle.timetracking.generate_timesheet(\n",
    "    source=my_calendar,\n",
    "    project=my_project,\n",
    "    period=\"February 2022\",\n",
    "    item_description=my_project.title,\n",
    ")"
   ]
  },
  {
   "cell_type": "markdown",
   "id": "a2d665dc-bc13-491b-bed5-ae9bf99881b9",
   "metadata": {},
   "source": [
    "4. Generate an invoice for the timesheet(s)."
   ]
  },
  {
   "cell_type": "markdown",
   "id": "0873b4d5-9f7a-4064-8e0f-c698eb419ba4",
   "metadata": {},
   "source": [
    "**Example**"
   ]
  },
  {
   "cell_type": "code",
   "execution_count": null,
   "id": "3bbb30ec-e5dd-4383-960f-5043f947774b",
   "metadata": {},
   "outputs": [],
   "source": [
    "my_invoice = tuttle.invoicing.generate_invoice(\n",
    "    timesheets=[\n",
    "        my_timesheet,\n",
    "    ],\n",
    "    contract=my_project.contract,\n",
    "    date=datetime.date.today(),\n",
    ")"
   ]
  },
  {
   "cell_type": "code",
   "execution_count": null,
   "id": "5eeb012a-ea3b-4502-a968-31faad9422f2",
   "metadata": {},
   "outputs": [],
   "source": [
    "my_invoice.number"
   ]
  },
  {
   "cell_type": "code",
   "execution_count": null,
   "id": "d630bf01-3e04-444c-9cdb-8848ba591a7b",
   "metadata": {},
   "outputs": [],
   "source": [
    "my_invoice.total"
   ]
  },
  {
   "cell_type": "markdown",
   "id": "ff516b99-c44c-4c1f-bda0-f566cfc8ee3d",
   "metadata": {},
   "source": [
    "_Your turn_"
   ]
  },
  {
   "cell_type": "code",
   "execution_count": null,
   "id": "e8c29800-9bec-4434-9cfd-06f5f4f4a715",
   "metadata": {},
   "outputs": [],
   "source": []
  },
  {
   "cell_type": "markdown",
   "id": "3557fffc-aaa7-41dc-ba6d-89bfbcb55636",
   "metadata": {},
   "source": [
    "5. Render the invoice to a document template:"
   ]
  },
  {
   "cell_type": "markdown",
   "id": "5597a19f-088b-4ac7-977f-3c74bdaa3265",
   "metadata": {},
   "source": [
    "You can display the HTML in the notebook..."
   ]
  },
  {
   "cell_type": "code",
   "execution_count": null,
   "id": "a786c042-0602-4313-9dd8-3ea2cf6c6f1c",
   "metadata": {},
   "outputs": [],
   "source": [
    "display.HTML(\n",
    "    tuttle.rendering.render_invoice(\n",
    "        user=app.user, \n",
    "        invoice=my_invoice,\n",
    "        style=None\n",
    "    )\n",
    ")"
   ]
  },
  {
   "cell_type": "markdown",
   "id": "910771d5-2f8d-4f7a-ad26-b180eddca0c4",
   "metadata": {
    "tags": []
   },
   "source": [
    "... or render it to a file:"
   ]
  },
  {
   "cell_type": "markdown",
   "id": "4247beb1-b36c-4bad-8cb5-9655a83583f4",
   "metadata": {
    "tags": []
   },
   "source": [
    "_Set the path to a folder where you want your invoices to appear_:"
   ]
  },
  {
   "cell_type": "code",
   "execution_count": null,
   "id": "f87c6347-8664-483b-9e2f-f5d61f1772ae",
   "metadata": {},
   "outputs": [],
   "source": [
    "invoice_dir = Path.home() / \"Downloads\""
   ]
  },
  {
   "cell_type": "code",
   "execution_count": null,
   "id": "3e6d9815-e474-4f3a-b6df-e803c3cc5bfd",
   "metadata": {},
   "outputs": [],
   "source": [
    "tuttle.rendering.render_invoice(\n",
    "    user=app.user, \n",
    "    invoice=my_invoice,\n",
    "    style=\"anvil\",\n",
    "    out_dir=invoice_dir,\n",
    ")"
   ]
  },
  {
   "cell_type": "markdown",
   "id": "2c60ad64-64b8-4cfd-987f-3888551b3aa4",
   "metadata": {},
   "source": [
    "This will create a folder named with the inovice number, containing the invoice as an HTML document."
   ]
  },
  {
   "cell_type": "code",
   "execution_count": null,
   "id": "f7c0a6c9-5a7a-4b3a-9d2f-de0671fac734",
   "metadata": {},
   "outputs": [],
   "source": [
    "invoice_path = str(invoice_dir / f\"Invoice-{my_invoice.number}\" / f\"Invoice-{my_invoice.number}.html\")"
   ]
  },
  {
   "cell_type": "markdown",
   "id": "5f2c80aa-5ad4-4662-be17-44813b0c67ef",
   "metadata": {},
   "source": [
    "_Your turn:_"
   ]
  },
  {
   "cell_type": "code",
   "execution_count": null,
   "id": "9042bde9-bc0e-4957-9c55-a3e7ba42cefc",
   "metadata": {},
   "outputs": [],
   "source": []
  }
 ],
 "metadata": {
  "kernelspec": {
   "display_name": "tuttle",
   "language": "python",
   "name": "ex"
  },
  "language_info": {
   "codemirror_mode": {
    "name": "ipython",
    "version": 3
   },
   "file_extension": ".py",
   "mimetype": "text/x-python",
   "name": "python",
   "nbconvert_exporter": "python",
   "pygments_lexer": "ipython3",
   "version": "3.9.7"
  }
 },
 "nbformat": 4,
 "nbformat_minor": 5
}
