{
 "cells": [
  {
   "cell_type": "markdown",
   "id": "a26a64c7-f0be-41f6-af0e-ad3f36fc6a19",
   "metadata": {},
   "source": [
    "# Invoicing"
   ]
  },
  {
   "cell_type": "markdown",
   "id": "2619bc0e-7bdf-4c67-9900-b6ba53f980f4",
   "metadata": {},
   "source": [
    "Now that we have set up our user info, clients, contracts and projects, as well as a source for time tracking data, we are ready to automatically generate invoices."
   ]
  },
  {
   "cell_type": "markdown",
   "id": "a87a1adb-156b-4333-aa8e-3dfd2965b5a5",
   "metadata": {},
   "source": [
    "## Preamble"
   ]
  },
  {
   "cell_type": "code",
   "execution_count": 1,
   "id": "775b50b1-6a7f-41cf-91c5-4cb3caef6339",
   "metadata": {},
   "outputs": [],
   "source": [
    "from pathlib import Path\n",
    "import datetime\n",
    "from IPython import display"
   ]
  },
  {
   "cell_type": "code",
   "execution_count": 2,
   "id": "8a25d62c-dd13-4a3e-ab2e-cfca49d6093b",
   "metadata": {},
   "outputs": [],
   "source": [
    "import tuttle"
   ]
  },
  {
   "cell_type": "code",
   "execution_count": 3,
   "id": "dfcfd023-8497-4b0f-b320-35137c511921",
   "metadata": {},
   "outputs": [
    {
     "name": "stdout",
     "output_type": "stream",
     "text": [
      "2022-02-20 13:56:09,050 INFO sqlalchemy.engine.Engine BEGIN (implicit)\n",
      "2022-02-20 13:56:09,051 INFO sqlalchemy.engine.Engine PRAGMA main.table_info(\"address\")\n",
      "2022-02-20 13:56:09,051 INFO sqlalchemy.engine.Engine [raw sql] ()\n",
      "2022-02-20 13:56:09,051 INFO sqlalchemy.engine.Engine PRAGMA main.table_info(\"user\")\n",
      "2022-02-20 13:56:09,051 INFO sqlalchemy.engine.Engine [raw sql] ()\n",
      "2022-02-20 13:56:09,052 INFO sqlalchemy.engine.Engine PRAGMA main.table_info(\"icloudaccount\")\n",
      "2022-02-20 13:56:09,052 INFO sqlalchemy.engine.Engine [raw sql] ()\n",
      "2022-02-20 13:56:09,052 INFO sqlalchemy.engine.Engine PRAGMA main.table_info(\"googleaccount\")\n",
      "2022-02-20 13:56:09,052 INFO sqlalchemy.engine.Engine [raw sql] ()\n",
      "2022-02-20 13:56:09,053 INFO sqlalchemy.engine.Engine PRAGMA main.table_info(\"bank\")\n",
      "2022-02-20 13:56:09,053 INFO sqlalchemy.engine.Engine [raw sql] ()\n",
      "2022-02-20 13:56:09,053 INFO sqlalchemy.engine.Engine PRAGMA main.table_info(\"bankaccount\")\n",
      "2022-02-20 13:56:09,054 INFO sqlalchemy.engine.Engine [raw sql] ()\n",
      "2022-02-20 13:56:09,054 INFO sqlalchemy.engine.Engine PRAGMA main.table_info(\"contact\")\n",
      "2022-02-20 13:56:09,054 INFO sqlalchemy.engine.Engine [raw sql] ()\n",
      "2022-02-20 13:56:09,055 INFO sqlalchemy.engine.Engine PRAGMA main.table_info(\"client\")\n",
      "2022-02-20 13:56:09,055 INFO sqlalchemy.engine.Engine [raw sql] ()\n",
      "2022-02-20 13:56:09,055 INFO sqlalchemy.engine.Engine PRAGMA main.table_info(\"contract\")\n",
      "2022-02-20 13:56:09,055 INFO sqlalchemy.engine.Engine [raw sql] ()\n",
      "2022-02-20 13:56:09,056 INFO sqlalchemy.engine.Engine PRAGMA main.table_info(\"project\")\n",
      "2022-02-20 13:56:09,056 INFO sqlalchemy.engine.Engine [raw sql] ()\n",
      "2022-02-20 13:56:09,056 INFO sqlalchemy.engine.Engine PRAGMA main.table_info(\"timetrackingitem\")\n",
      "2022-02-20 13:56:09,056 INFO sqlalchemy.engine.Engine [raw sql] ()\n",
      "2022-02-20 13:56:09,057 INFO sqlalchemy.engine.Engine PRAGMA main.table_info(\"timesheet\")\n",
      "2022-02-20 13:56:09,057 INFO sqlalchemy.engine.Engine [raw sql] ()\n",
      "2022-02-20 13:56:09,057 INFO sqlalchemy.engine.Engine PRAGMA main.table_info(\"invoice\")\n",
      "2022-02-20 13:56:09,058 INFO sqlalchemy.engine.Engine [raw sql] ()\n",
      "2022-02-20 13:56:09,058 INFO sqlalchemy.engine.Engine PRAGMA main.table_info(\"invoiceitem\")\n",
      "2022-02-20 13:56:09,058 INFO sqlalchemy.engine.Engine [raw sql] ()\n",
      "2022-02-20 13:56:09,058 INFO sqlalchemy.engine.Engine PRAGMA main.table_info(\"timelineitem\")\n",
      "2022-02-20 13:56:09,059 INFO sqlalchemy.engine.Engine [raw sql] ()\n",
      "2022-02-20 13:56:09,059 INFO sqlalchemy.engine.Engine COMMIT\n"
     ]
    }
   ],
   "source": [
    "app = tuttle.app.App()"
   ]
  },
  {
   "cell_type": "markdown",
   "id": "8204540b-3350-4855-b228-affbea605e86",
   "metadata": {},
   "source": [
    "## How it works"
   ]
  },
  {
   "cell_type": "markdown",
   "id": "b6fdc7e2-fa4a-4979-8670-48e0c988d5a9",
   "metadata": {},
   "source": [
    "We assume that you want to create and send an invoice for a `Project`. In the invoice, you bill the client for work time - that is, one or several `Timesheet`s."
   ]
  },
  {
   "cell_type": "markdown",
   "id": "c339e690-3232-461b-8417-93cb047e82b6",
   "metadata": {
    "tags": []
   },
   "source": [
    "## Workflow"
   ]
  },
  {
   "cell_type": "markdown",
   "id": "87bea879-47c9-4a32-81e5-6539281864f4",
   "metadata": {},
   "source": [
    "_1. Select a project_"
   ]
  },
  {
   "cell_type": "markdown",
   "id": "f638fb43-31b9-4c4e-9038-bccd190e8598",
   "metadata": {},
   "source": [
    "**Example**"
   ]
  },
  {
   "cell_type": "code",
   "execution_count": 4,
   "id": "7822d6e7-182e-4cb2-a7d5-50fddaa337c2",
   "metadata": {},
   "outputs": [
    {
     "name": "stdout",
     "output_type": "stream",
     "text": [
      "2022-02-20 13:56:09,062 INFO sqlalchemy.engine.Engine BEGIN (implicit)\n",
      "2022-02-20 13:56:09,074 INFO sqlalchemy.engine.Engine SELECT project.id, project.title, project.tag, project.start_date, project.end_date, project.contract_id \n",
      "FROM project \n",
      "WHERE project.title = ?\n",
      "2022-02-20 13:56:09,074 INFO sqlalchemy.engine.Engine [no key 0.00068s] ('Heating Repair',)\n"
     ]
    },
    {
     "name": "stderr",
     "output_type": "stream",
     "text": [
      "/Users/cls/miniforge3/envs/tuttle/lib/python3.9/site-packages/sqlmodel/orm/session.py:60: SAWarning: Class SelectOfScalar will not make use of SQL compilation caching as it does not set the 'inherit_cache' attribute to ``True``.  This can have significant performance implications including some performance degradations in comparison to prior SQLAlchemy versions.  Set this attribute to True if this object can make use of the cache key generated by the superclass.  Alternatively, this attribute may be set to False which will disable this warning. (Background on this error at: https://sqlalche.me/e/14/cprf)\n",
      "  results = super().execute(\n"
     ]
    }
   ],
   "source": [
    "my_project = app.get_project(title=\"Heating Repair\")"
   ]
  },
  {
   "cell_type": "markdown",
   "id": "c0e061d9-a022-4495-9e5a-fd2f79c628bd",
   "metadata": {},
   "source": [
    "_Your turn:_"
   ]
  },
  {
   "cell_type": "markdown",
   "id": "1b885d33-cdd7-4600-8367-20ff3c9ab519",
   "metadata": {},
   "source": [
    "2. Select a time tracking data source."
   ]
  },
  {
   "cell_type": "markdown",
   "id": "46dab386-e5bf-4ac7-b496-e764d41da5c5",
   "metadata": {},
   "source": [
    "**Example**"
   ]
  },
  {
   "cell_type": "code",
   "execution_count": 5,
   "id": "70b0dd5b-e749-4864-a951-0ca3a21b00af",
   "metadata": {},
   "outputs": [],
   "source": [
    "from tuttle.calendar import FileCalendar\n",
    "\n",
    "timetracking_calendar_path = Path(\"../../tests/data/TuttleDemo-TimeTracking.ics\")\n",
    "my_calendar = FileCalendar(\n",
    "    path=timetracking_calendar_path, \n",
    "    name=\"TimeTracking\"\n",
    ")"
   ]
  },
  {
   "cell_type": "markdown",
   "id": "d58949f1-3e6d-42fb-96b2-31358006faa6",
   "metadata": {},
   "source": [
    "_Your turn:_"
   ]
  },
  {
   "cell_type": "code",
   "execution_count": null,
   "id": "7c6a5e24-038c-4ad1-be29-8047f1f6707a",
   "metadata": {},
   "outputs": [],
   "source": []
  },
  {
   "cell_type": "markdown",
   "id": "47be16a4-5b36-469e-88d3-a47fbecff8fa",
   "metadata": {},
   "source": [
    "3. Generate one or more timesheets"
   ]
  },
  {
   "cell_type": "markdown",
   "id": "59d2ea55-c88a-4da2-b965-1f4f090f5aa5",
   "metadata": {},
   "source": [
    "**Example**"
   ]
  },
  {
   "cell_type": "code",
   "execution_count": 6,
   "id": "690a6ac7-f5cd-494f-bb69-dbd1f0bea5f2",
   "metadata": {},
   "outputs": [
    {
     "name": "stdout",
     "output_type": "stream",
     "text": [
      "2022-02-20 13:56:09,192 INFO sqlalchemy.engine.Engine SELECT contract.unit AS contract_unit, contract.billing_cycle AS contract_billing_cycle, contract.id AS contract_id, contract.title AS contract_title, contract.signature_date AS contract_signature_date, contract.start_date AS contract_start_date, contract.end_date AS contract_end_date, contract.client_id AS contract_client_id, contract.rate AS contract_rate, contract.currency AS contract_currency, contract.units_per_workday AS contract_units_per_workday, contract.volume AS contract_volume, contract.term_of_payment AS contract_term_of_payment \n",
      "FROM contract \n",
      "WHERE contract.id = ?\n",
      "2022-02-20 13:56:09,192 INFO sqlalchemy.engine.Engine [generated in 0.00039s] (1,)\n"
     ]
    },
    {
     "name": "stderr",
     "output_type": "stream",
     "text": [
      "/Users/cls/miniforge3/envs/tuttle/lib/python3.9/site-packages/sqlmodel/orm/session.py:101: SAWarning: Dialect sqlite+pysqlite does *not* support Decimal objects natively, and SQLAlchemy must convert from floating point - rounding errors and other issues may occur. Please consider storing Decimal numbers as strings or integers on this platform for lossless storage.\n",
      "  return super().execute(  # type: ignore\n"
     ]
    }
   ],
   "source": [
    "my_timesheet = tuttle.timetracking.generate_timesheet(\n",
    "    source=my_calendar,\n",
    "    project=my_project,\n",
    "    period=\"February 2022\",\n",
    "    item_description=my_project.title,\n",
    ")"
   ]
  },
  {
   "cell_type": "markdown",
   "id": "a2d665dc-bc13-491b-bed5-ae9bf99881b9",
   "metadata": {},
   "source": [
    "4. Generate an invoice for the timesheet(s)."
   ]
  },
  {
   "cell_type": "markdown",
   "id": "0873b4d5-9f7a-4064-8e0f-c698eb419ba4",
   "metadata": {},
   "source": [
    "**Example**"
   ]
  },
  {
   "cell_type": "code",
   "execution_count": 7,
   "id": "3bbb30ec-e5dd-4383-960f-5043f947774b",
   "metadata": {},
   "outputs": [],
   "source": [
    "my_invoice = tuttle.invoicing.generate_invoice(\n",
    "    timesheets=[\n",
    "        my_timesheet,\n",
    "    ],\n",
    "    contract=my_project.contract,\n",
    "    date=datetime.date.today(),\n",
    ")"
   ]
  },
  {
   "cell_type": "code",
   "execution_count": 8,
   "id": "5eeb012a-ea3b-4502-a968-31faad9422f2",
   "metadata": {},
   "outputs": [
    {
     "data": {
      "text/plain": [
       "'2022-02-20-01'"
      ]
     },
     "execution_count": 8,
     "metadata": {},
     "output_type": "execute_result"
    }
   ],
   "source": [
    "my_invoice.number"
   ]
  },
  {
   "cell_type": "code",
   "execution_count": 9,
   "id": "d630bf01-3e04-444c-9cdb-8848ba591a7b",
   "metadata": {},
   "outputs": [
    {
     "data": {
      "text/plain": [
       "Decimal('952.000000000000')"
      ]
     },
     "execution_count": 9,
     "metadata": {},
     "output_type": "execute_result"
    }
   ],
   "source": [
    "my_invoice.total"
   ]
  },
  {
   "cell_type": "markdown",
   "id": "ff516b99-c44c-4c1f-bda0-f566cfc8ee3d",
   "metadata": {},
   "source": [
    "_Your turn_"
   ]
  },
  {
   "cell_type": "code",
   "execution_count": null,
   "id": "e8c29800-9bec-4434-9cfd-06f5f4f4a715",
   "metadata": {},
   "outputs": [],
   "source": []
  },
  {
   "cell_type": "markdown",
   "id": "3557fffc-aaa7-41dc-ba6d-89bfbcb55636",
   "metadata": {},
   "source": [
    "5. Render the invoice to a document template:"
   ]
  },
  {
   "cell_type": "markdown",
   "id": "5597a19f-088b-4ac7-977f-3c74bdaa3265",
   "metadata": {},
   "source": [
    "You can display the HTML in the notebook..."
   ]
  },
  {
   "cell_type": "code",
   "execution_count": 10,
   "id": "a786c042-0602-4313-9dd8-3ea2cf6c6f1c",
   "metadata": {},
   "outputs": [
    {
     "name": "stdout",
     "output_type": "stream",
     "text": [
      "2022-02-20 13:56:09,213 INFO sqlalchemy.engine.Engine INSERT INTO invoice (number, date, contract_id, sent, paid, cancelled) VALUES (?, ?, ?, ?, ?, ?)\n",
      "2022-02-20 13:56:09,213 INFO sqlalchemy.engine.Engine [generated in 0.00059s] ('2022-02-20-01', '2022-02-20', 1, None, None, None)\n",
      "2022-02-20 13:56:09,215 INFO sqlalchemy.engine.Engine INSERT INTO invoiceitem (date, quantity, unit, unit_price, description, \"VAT_rate\", invoice_id) VALUES (?, ?, ?, ?, ?, ?, ?)\n",
      "2022-02-20 13:56:09,215 INFO sqlalchemy.engine.Engine [generated in 0.00029s] ('2022-02-20', 16, 'hour', 50.0, 'Heating Repair - February 2022', 0.19, 1)\n",
      "2022-02-20 13:56:09,216 INFO sqlalchemy.engine.Engine INSERT INTO timesheet (title, date, period, project_id, comment) VALUES (?, ?, ?, ?, ?)\n",
      "2022-02-20 13:56:09,217 INFO sqlalchemy.engine.Engine [generated in 0.00031s] ('Heating Repair - February 2022', '2022-02-20', 'February 2022', 1, '')\n",
      "2022-02-20 13:56:09,217 INFO sqlalchemy.engine.Engine INSERT INTO timetrackingitem (timesheet_id, \"begin\", \"end\", duration, title, tag, description) VALUES (?, ?, ?, ?, ?, ?, ?)\n",
      "2022-02-20 13:56:09,218 INFO sqlalchemy.engine.Engine [generated in 0.00031s] (1, '2022-02-17 01:00:00.000000', '2022-02-18 01:00:00.000000', '1970-01-01 08:00:00.000000', '#HeatingRepair', '#HeatingRepair', 'Heating Repair')\n",
      "2022-02-20 13:56:09,218 INFO sqlalchemy.engine.Engine INSERT INTO timetrackingitem (timesheet_id, \"begin\", \"end\", duration, title, tag, description) VALUES (?, ?, ?, ?, ?, ?, ?)\n",
      "2022-02-20 13:56:09,219 INFO sqlalchemy.engine.Engine [cached since 0.001165s ago] (1, '2022-02-18 01:00:00.000000', '2022-02-19 01:00:00.000000', '1970-01-01 08:00:00.000000', '#HeatingRepair', '#HeatingRepair', 'Heating Repair')\n",
      "2022-02-20 13:56:09,220 INFO sqlalchemy.engine.Engine SELECT user.id, user.name, user.subtitle, user.website, user.e_mail, user.phone_number, user.address_id, user.\"VAT_number\", user.icloud_account_id, user.bank_account_id, user.logo \n",
      "FROM user\n",
      "2022-02-20 13:56:09,221 INFO sqlalchemy.engine.Engine [no key 0.00030s] ()\n",
      "2022-02-20 13:56:09,226 INFO sqlalchemy.engine.Engine SELECT client.id AS client_id, client.name AS client_name, client.invoicing_contact_id AS client_invoicing_contact_id \n",
      "FROM client \n",
      "WHERE client.id = ?\n",
      "2022-02-20 13:56:09,227 INFO sqlalchemy.engine.Engine [generated in 0.00051s] (1,)\n",
      "2022-02-20 13:56:09,228 INFO sqlalchemy.engine.Engine SELECT contact.id AS contact_id, contact.name AS contact_name, contact.e_mail AS contact_e_mail, contact.address_id AS contact_address_id \n",
      "FROM contact \n",
      "WHERE contact.id = ?\n",
      "2022-02-20 13:56:09,228 INFO sqlalchemy.engine.Engine [generated in 0.00026s] (1,)\n",
      "2022-02-20 13:56:09,229 INFO sqlalchemy.engine.Engine SELECT address.id AS address_id, address.street AS address_street, address.number AS address_number, address.city AS address_city, address.postal_code AS address_postal_code, address.country AS address_country \n",
      "FROM address \n",
      "WHERE address.id = ?\n",
      "2022-02-20 13:56:09,230 INFO sqlalchemy.engine.Engine [generated in 0.00023s] (1,)\n",
      "2022-02-20 13:56:09,242 INFO sqlalchemy.engine.Engine SELECT bankaccount.id AS bankaccount_id, bankaccount.name AS bankaccount_name, bankaccount.\"IBAN\" AS \"bankaccount_IBAN\", bankaccount.\"BIC\" AS \"bankaccount_BIC\" \n",
      "FROM bankaccount \n",
      "WHERE bankaccount.id = ?\n",
      "2022-02-20 13:56:09,242 INFO sqlalchemy.engine.Engine [generated in 0.00040s] (1,)\n"
     ]
    },
    {
     "data": {
      "text/html": [
       "<!doctype html>\n",
       "<html class=\"no-js\" lang=\"\">\n",
       "\n",
       "<head>\n",
       "  <meta charset=\"utf-8\">\n",
       "  <title>Invoice No. 2022-02-20-01</title>\n",
       "  <meta name=\"viewport\" content=\"width=device-width, initial-scale=1\">\n",
       "\n",
       "  \n",
       "  <!-- pure HTML -->\n",
       "  \n",
       "</head>\n",
       "<body>\n",
       "\n",
       "<div class=\"web-container\">\n",
       "\n",
       "  <div class=\"page-container\">\n",
       "    Page\n",
       "    <span class=\"page\"></span>\n",
       "    of\n",
       "    <span class=\"pages\"></span>\n",
       "  </div>\n",
       "\n",
       "  \n",
       "\n",
       "\n",
       "  <table class=\"invoice-info-container\">\n",
       "    <tr>\n",
       "      <td rowspan=\"2\" class=\"client-name\">\n",
       "        Sam Lowry\n",
       "      </td>\n",
       "      <td>\n",
       "        Harry Tuttle\n",
       "      </td>\n",
       "    </tr>\n",
       "    <tr>\n",
       "      <td>\n",
       "        Main Street 450\n",
       "      </td>\n",
       "    </tr>\n",
       "    <tr>\n",
       "      <td>\n",
       "        Invoice Date: <strong>2022-02-20</strong>\n",
       "      </td>\n",
       "      <td>\n",
       "        555555 Sao Paolo\n",
       "      </td>\n",
       "    </tr>\n",
       "    <tr>\n",
       "      <td>\n",
       "        Invoice Number: <strong>2022-02-20-01</strong>\n",
       "      </td>\n",
       "      <td>\n",
       "        mail@tuttle.com\n",
       "      </td>\n",
       "    </tr>\n",
       "  </table>\n",
       "\n",
       "\n",
       "  <table class=\"line-items-container\">\n",
       "    <thead>\n",
       "      <tr>\n",
       "        <th class=\"heading-description\">Date</th>\n",
       "        <th class=\"heading-description\">Description</th>\n",
       "        <th class=\"heading-quantity\">Qty</th>\n",
       "        <th class=\"heading-quantity\">Unit</th>\n",
       "        <th class=\"heading-price\">Unit Price</th>\n",
       "        <th class=\"heading-price\">VAT%</th>\n",
       "        <th class=\"heading-subtotal\">Subtotal</th>\n",
       "      </tr>\n",
       "    </thead>\n",
       "    <tbody>\n",
       "      \n",
       "      <tr>\n",
       "        <td>2022-02-20</td>\n",
       "        <td>Heating Repair - February 2022</td>\n",
       "        <td class=\"right\">16</td>\n",
       "        <td class=\"right\">hour</td>\n",
       "        <td class=\"right\">€50.00 €</td>\n",
       "        <td class=\"right\">19.00 %</td>\n",
       "        <td class=\"right\">€800.00</td>\n",
       "      </tr>\n",
       "      \n",
       "    </tbody>\n",
       "  </table>\n",
       "\n",
       "\n",
       "  <table class=\"line-items-container has-bottom-border\">\n",
       "    <thead>\n",
       "      <tr>\n",
       "        <th>Payment Info</th>\n",
       "        <th>Due By</th>\n",
       "        <th>Total VAT</th>\n",
       "        <th>Total Due</th>\n",
       "      </tr>\n",
       "    </thead>\n",
       "    <tbody>\n",
       "      <tr>\n",
       "        <td class=\"payment-info\">\n",
       "          <div>\n",
       "            Account No: <strong>BZ99830994950003161565</strong>\n",
       "          </div>\n",
       "        </td>\n",
       "        <td class=\"bold\">2022-03-06</td>\n",
       "        <td>€152.00</td>\n",
       "        <td class=\"bold\">€952.00</td>\n",
       "      </tr>\n",
       "    </tbody>\n",
       "  </table>\n",
       "\n",
       "  <div class=\"footer\">\n",
       "    <div class=\"footer-info\">\n",
       "      <span>mail@tuttle.com</span> |\n",
       "      <span>+55555555555</span> |\n",
       "      <span>https://tuttle-dev.github.io/tuttle/</span>\n",
       "    </div>\n",
       "    <div class=\"footer-thanks\">\n",
       "      <span>Thank you!</span>\n",
       "    </div>\n",
       "  </div>\n",
       "\n",
       "\n",
       "</div>\n",
       "\n",
       "\n",
       "</body>\n",
       "</html>"
      ],
      "text/plain": [
       "<IPython.core.display.HTML object>"
      ]
     },
     "execution_count": 10,
     "metadata": {},
     "output_type": "execute_result"
    }
   ],
   "source": [
    "display.HTML(\n",
    "    tuttle.rendering.render_invoice(\n",
    "        user=app.user, \n",
    "        invoice=my_invoice,\n",
    "        style=None\n",
    "    )\n",
    ")"
   ]
  },
  {
   "cell_type": "markdown",
   "id": "910771d5-2f8d-4f7a-ad26-b180eddca0c4",
   "metadata": {},
   "source": [
    "... or render it to a file:"
   ]
  },
  {
   "cell_type": "markdown",
   "id": "4247beb1-b36c-4bad-8cb5-9655a83583f4",
   "metadata": {},
   "source": [
    "_Set the path to a folder where you want your invoices to appear_:"
   ]
  },
  {
   "cell_type": "code",
   "execution_count": 11,
   "id": "f87c6347-8664-483b-9e2f-f5d61f1772ae",
   "metadata": {},
   "outputs": [],
   "source": [
    "invoice_dir = Path.home() / \"Downloads\""
   ]
  },
  {
   "cell_type": "code",
   "execution_count": 12,
   "id": "3e6d9815-e474-4f3a-b6df-e803c3cc5bfd",
   "metadata": {},
   "outputs": [
    {
     "name": "stdout",
     "output_type": "stream",
     "text": [
      "2022-02-20 13:56:09,250 INFO sqlalchemy.engine.Engine SELECT user.id, user.name, user.subtitle, user.website, user.e_mail, user.phone_number, user.address_id, user.\"VAT_number\", user.icloud_account_id, user.bank_account_id, user.logo \n",
      "FROM user\n",
      "2022-02-20 13:56:09,250 INFO sqlalchemy.engine.Engine [no key 0.00051s] ()\n",
      "2022-02-20 13:56:09,255 INFO sqlalchemy.engine.Engine SELECT address.id AS address_id, address.street AS address_street, address.number AS address_number, address.city AS address_city, address.postal_code AS address_postal_code, address.country AS address_country \n",
      "FROM address \n",
      "WHERE address.id = ?\n",
      "2022-02-20 13:56:09,256 INFO sqlalchemy.engine.Engine [cached since 0.02651s ago] (1,)\n",
      "2022-02-20 13:56:09,257 INFO sqlalchemy.engine.Engine SELECT bankaccount.id AS bankaccount_id, bankaccount.name AS bankaccount_name, bankaccount.\"IBAN\" AS \"bankaccount_IBAN\", bankaccount.\"BIC\" AS \"bankaccount_BIC\" \n",
      "FROM bankaccount \n",
      "WHERE bankaccount.id = ?\n",
      "2022-02-20 13:56:09,257 INFO sqlalchemy.engine.Engine [cached since 0.01501s ago] (1,)\n"
     ]
    }
   ],
   "source": [
    "tuttle.rendering.render_invoice(\n",
    "    user=app.user, \n",
    "    invoice=my_invoice,\n",
    "    style=\"Anvil\",\n",
    "    out_dir=invoice_dir,\n",
    ")"
   ]
  },
  {
   "cell_type": "markdown",
   "id": "2c60ad64-64b8-4cfd-987f-3888551b3aa4",
   "metadata": {},
   "source": [
    "This will create a folder named with the inovice number, containing the invoice as an HTML document."
   ]
  },
  {
   "cell_type": "markdown",
   "id": "0b491fe5-dce8-4456-97a3-d56e014579e3",
   "metadata": {},
   "source": [
    "TODO: Invoice styling"
   ]
  },
  {
   "cell_type": "markdown",
   "id": "26aab1a0-c0b5-4fb6-98f4-0632790416a6",
   "metadata": {},
   "source": [
    "![](https://media.gettyimages.com/vectors/under-construction-sign-in-white-background-vector-id536013219?b=1&k=6&m=536013219&s=170x170&h=_-DZGgLDo-84eyZSJZmgwlekma7FYt3LdOdLIC7qktw=)"
   ]
  },
  {
   "cell_type": "code",
   "execution_count": null,
   "id": "688a97b8-cd72-4211-8e7a-6e6cd4ab99b7",
   "metadata": {},
   "outputs": [],
   "source": []
  }
 ],
 "metadata": {
  "kernelspec": {
   "display_name": "tuttle",
   "language": "python",
   "name": "ex"
  },
  "language_info": {
   "codemirror_mode": {
    "name": "ipython",
    "version": 3
   },
   "file_extension": ".py",
   "mimetype": "text/x-python",
   "name": "python",
   "nbconvert_exporter": "python",
   "pygments_lexer": "ipython3",
   "version": "3.9.7"
  }
 },
 "nbformat": 4,
 "nbformat_minor": 5
}
