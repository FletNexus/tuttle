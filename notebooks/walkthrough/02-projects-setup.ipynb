{
 "cells": [
  {
   "cell_type": "markdown",
   "id": "d90ff354",
   "metadata": {},
   "source": [
    "# Setup: Projects"
   ]
  },
  {
   "cell_type": "markdown",
   "id": "ca3d885e",
   "metadata": {},
   "source": [
    "As a freelancer, you work on _projects_: You agree with a _client_ to perform a certain amount of work. The terms of your work relationship, including terms of payment, are recorded in a _contract_.\n",
    "\n",
    "Let's setup at least one project."
   ]
  },
  {
   "cell_type": "markdown",
   "id": "4d9df793",
   "metadata": {},
   "source": [
    "## Preamble"
   ]
  },
  {
   "cell_type": "code",
   "execution_count": 4,
   "id": "73bd1f9b",
   "metadata": {},
   "outputs": [],
   "source": [
    "import datetime\n",
    "from pathlib import Path"
   ]
  },
  {
   "cell_type": "code",
   "execution_count": 5,
   "id": "c05e4eeb",
   "metadata": {},
   "outputs": [],
   "source": [
    "import tuttle"
   ]
  },
  {
   "cell_type": "code",
   "execution_count": 6,
   "id": "8ce61d54",
   "metadata": {},
   "outputs": [
    {
     "name": "stderr",
     "output_type": "stream",
     "text": [
      "2022-11-01 16:27:02.447 | INFO     | tuttle.controller:create_model:76 - creating database model\n"
     ]
    }
   ],
   "source": [
    "controller = tuttle.controller.Controller(\n",
    "    preferences=tuttle.preferences.Preferences(\n",
    "        invoice_dir=Path(\"Invoices\"),\n",
    "    ),\n",
    ")"
   ]
  },
  {
   "cell_type": "markdown",
   "id": "d0b838c9",
   "metadata": {},
   "source": [
    "### Setup: Clients"
   ]
  },
  {
   "cell_type": "markdown",
   "id": "1bd82ca3",
   "metadata": {},
   "source": [
    "The `Client` is the person or business you are working for in the course of a project."
   ]
  },
  {
   "cell_type": "code",
   "execution_count": 7,
   "id": "638ac382",
   "metadata": {},
   "outputs": [],
   "source": [
    "from tuttle.model import Client, Contact, Address"
   ]
  },
  {
   "cell_type": "markdown",
   "id": "3c2afcc2",
   "metadata": {},
   "source": [
    "**Example Client**"
   ]
  },
  {
   "cell_type": "code",
   "execution_count": 8,
   "id": "8ac99de1",
   "metadata": {},
   "outputs": [],
   "source": [
    "sam = Client(\n",
    "    name=\"Sam Lowry\",\n",
    "    invoicing_contact=Contact(\n",
    "        name=\"Sam Lowry\",\n",
    "        e_mail=\"mail@lowry.com\",\n",
    "        address=Address(\n",
    "            street=\"Main Street\",\n",
    "            number=\"9999\",\n",
    "            postal_code=\"55555\",\n",
    "            city=\"Sao Paolo\",\n",
    "            country=\"Brazil\",\n",
    "        ),\n",
    "    ),\n",
    ")"
   ]
  },
  {
   "cell_type": "markdown",
   "id": "4bb09a4a",
   "metadata": {
    "tags": []
   },
   "source": [
    "_Your turn: Enter and store the data for at least one of your clients._"
   ]
  },
  {
   "cell_type": "code",
   "execution_count": null,
   "id": "756d9905",
   "metadata": {},
   "outputs": [],
   "source": []
  },
  {
   "cell_type": "markdown",
   "id": "3b716d26",
   "metadata": {},
   "source": [
    "## Setup: Contracts"
   ]
  },
  {
   "cell_type": "markdown",
   "id": "f232471b",
   "metadata": {},
   "source": [
    "When you agree with a client on the business terms of a project, you record them in a contract signed by both parties. In `tuttle`, this is what the `Contract` object is for."
   ]
  },
  {
   "cell_type": "code",
   "execution_count": 9,
   "id": "c553ec2c",
   "metadata": {},
   "outputs": [],
   "source": [
    "from tuttle.model import Contract"
   ]
  },
  {
   "cell_type": "markdown",
   "id": "ce609c7a",
   "metadata": {},
   "source": [
    "**Example Contracts**"
   ]
  },
  {
   "cell_type": "code",
   "execution_count": 10,
   "id": "98b1fb3d",
   "metadata": {},
   "outputs": [],
   "source": [
    "heating_repair_contract = Contract(\n",
    "    title=\"Heating Repair Contract\",\n",
    "    client=sam,\n",
    "    rate=50.00,\n",
    "    currency=\"EUR\",\n",
    "    unit=tuttle.time.TimeUnit.hour,\n",
    "    units_per_workday=8,  \n",
    "    term_of_payment=14,\n",
    "    billing_cycle=tuttle.time.Cycle.monthly,\n",
    "    signature_date=datetime.date(2022, 1, 1),\n",
    "    start_date=datetime.date(2022, 1, 1),\n",
    "    end_date=datetime.date(2022, 12, 31),\n",
    ")"
   ]
  },
  {
   "cell_type": "code",
   "execution_count": 11,
   "id": "0c4190a4",
   "metadata": {},
   "outputs": [],
   "source": [
    "heating_engineering_contract = Contract(\n",
    "    title=\"Heating Repair Contract\",\n",
    "    client=sam,\n",
    "    rate=100.00,\n",
    "    currency=\"EUR\",\n",
    "    unit=tuttle.time.TimeUnit.hour,\n",
    "    units_per_workday=8,  \n",
    "    term_of_payment=30,\n",
    "    billing_cycle=tuttle.time.Cycle.monthly,\n",
    "    signature_date=datetime.date(2022, 1, 1),\n",
    "    start_date=datetime.date(2022, 1, 1),\n",
    "    end_date=datetime.date(2022, 12, 31),\n",
    ")"
   ]
  },
  {
   "cell_type": "markdown",
   "id": "8ae20a7b",
   "metadata": {},
   "source": [
    "_Hint: To clarify what the different parameters mean, check out this function:_"
   ]
  },
  {
   "cell_type": "code",
   "execution_count": 12,
   "id": "59832169",
   "metadata": {},
   "outputs": [
    {
     "data": {
      "text/html": [
       "<div>\n",
       "<style scoped>\n",
       "    .dataframe tbody tr th:only-of-type {\n",
       "        vertical-align: middle;\n",
       "    }\n",
       "\n",
       "    .dataframe tbody tr th {\n",
       "        vertical-align: top;\n",
       "    }\n",
       "\n",
       "    .dataframe thead th {\n",
       "        text-align: right;\n",
       "    }\n",
       "</style>\n",
       "<table border=\"1\" class=\"dataframe\">\n",
       "  <thead>\n",
       "    <tr style=\"text-align: right;\">\n",
       "      <th></th>\n",
       "      <th>field name</th>\n",
       "      <th>field description</th>\n",
       "    </tr>\n",
       "  </thead>\n",
       "  <tbody>\n",
       "    <tr>\n",
       "      <th>0</th>\n",
       "      <td>id</td>\n",
       "      <td>None</td>\n",
       "    </tr>\n",
       "    <tr>\n",
       "      <th>1</th>\n",
       "      <td>title</td>\n",
       "      <td>Short description of the contract.</td>\n",
       "    </tr>\n",
       "    <tr>\n",
       "      <th>2</th>\n",
       "      <td>signature_date</td>\n",
       "      <td>Date on which the contract was signed</td>\n",
       "    </tr>\n",
       "    <tr>\n",
       "      <th>3</th>\n",
       "      <td>start_date</td>\n",
       "      <td>Date from which the contract is valid</td>\n",
       "    </tr>\n",
       "    <tr>\n",
       "      <th>4</th>\n",
       "      <td>end_date</td>\n",
       "      <td>Date until which the contract is valid</td>\n",
       "    </tr>\n",
       "    <tr>\n",
       "      <th>5</th>\n",
       "      <td>client_id</td>\n",
       "      <td>None</td>\n",
       "    </tr>\n",
       "    <tr>\n",
       "      <th>6</th>\n",
       "      <td>rate</td>\n",
       "      <td>Rate of remuneration</td>\n",
       "    </tr>\n",
       "    <tr>\n",
       "      <th>7</th>\n",
       "      <td>currency</td>\n",
       "      <td>None</td>\n",
       "    </tr>\n",
       "    <tr>\n",
       "      <th>8</th>\n",
       "      <td>VAT_rate</td>\n",
       "      <td>VAT rate applied to the contractual rate.</td>\n",
       "    </tr>\n",
       "    <tr>\n",
       "      <th>9</th>\n",
       "      <td>unit</td>\n",
       "      <td>Unit of time tracked. The rate applies to this...</td>\n",
       "    </tr>\n",
       "    <tr>\n",
       "      <th>10</th>\n",
       "      <td>units_per_workday</td>\n",
       "      <td>How many units of time (e.g. hours) constitute...</td>\n",
       "    </tr>\n",
       "    <tr>\n",
       "      <th>11</th>\n",
       "      <td>volume</td>\n",
       "      <td>Number of units agreed on</td>\n",
       "    </tr>\n",
       "    <tr>\n",
       "      <th>12</th>\n",
       "      <td>term_of_payment</td>\n",
       "      <td>How many days after receipt of invoice this in...</td>\n",
       "    </tr>\n",
       "    <tr>\n",
       "      <th>13</th>\n",
       "      <td>billing_cycle</td>\n",
       "      <td>None</td>\n",
       "    </tr>\n",
       "  </tbody>\n",
       "</table>\n",
       "</div>"
      ],
      "text/plain": [
       "           field name                                  field description\n",
       "0                  id                                               None\n",
       "1               title                 Short description of the contract.\n",
       "2      signature_date              Date on which the contract was signed\n",
       "3          start_date              Date from which the contract is valid\n",
       "4            end_date             Date until which the contract is valid\n",
       "5           client_id                                               None\n",
       "6                rate                               Rate of remuneration\n",
       "7            currency                                               None\n",
       "8            VAT_rate          VAT rate applied to the contractual rate.\n",
       "9                unit  Unit of time tracked. The rate applies to this...\n",
       "10  units_per_workday  How many units of time (e.g. hours) constitute...\n",
       "11             volume                          Number of units agreed on\n",
       "12    term_of_payment  How many days after receipt of invoice this in...\n",
       "13      billing_cycle                                               None"
      ]
     },
     "execution_count": 12,
     "metadata": {},
     "output_type": "execute_result"
    }
   ],
   "source": [
    "tuttle.model.help(Contract)"
   ]
  },
  {
   "cell_type": "markdown",
   "id": "539adb00",
   "metadata": {
    "tags": []
   },
   "source": [
    "_Your turn: Enter and store the data for at least one contract._"
   ]
  },
  {
   "cell_type": "code",
   "execution_count": null,
   "id": "8dbed25d",
   "metadata": {},
   "outputs": [],
   "source": []
  },
  {
   "cell_type": "markdown",
   "id": "1aa5f725",
   "metadata": {},
   "source": [
    "_Feedback question: Were you able map all the important terms of your freelance contract(s) to the `Contract`  object? Did you miss any attribute?_"
   ]
  },
  {
   "cell_type": "markdown",
   "id": "c3f9e9b9",
   "metadata": {},
   "source": [
    "## Setup: Projects"
   ]
  },
  {
   "cell_type": "markdown",
   "id": "6f74727f",
   "metadata": {},
   "source": [
    "A `Project` is a large, logical unit of work. Tuttle's automatic invoice generation feature assumes that every invoice is related to one project. You may have several projects with the same client. And since the terms of business can change or get extended, you may have several contracts attached to a project. However, only one contract can be active at a time.\n",
    "\n",
    "Let's start with the simplest case: One client, one project, one contract."
   ]
  },
  {
   "cell_type": "markdown",
   "id": "4f425820",
   "metadata": {},
   "source": [
    "**Example Project**"
   ]
  },
  {
   "cell_type": "code",
   "execution_count": 13,
   "id": "fc8cb89a",
   "metadata": {},
   "outputs": [],
   "source": [
    "import datetime\n",
    "\n",
    "from tuttle.model import Project"
   ]
  },
  {
   "cell_type": "code",
   "execution_count": 14,
   "id": "f1debba6",
   "metadata": {},
   "outputs": [],
   "source": [
    "heating_repair = Project(\n",
    "    title=\"Heating Repair\",\n",
    "    tag=\"#HeatingRepair\",\n",
    "    contract=heating_repair_contract,\n",
    "    start_date=datetime.date(2022, 1, 1),\n",
    "    end_date=datetime.date(2022, 12, 31),\n",
    ")"
   ]
  },
  {
   "cell_type": "code",
   "execution_count": 15,
   "id": "1d313441",
   "metadata": {},
   "outputs": [],
   "source": [
    "controller.store(heating_repair)"
   ]
  },
  {
   "cell_type": "code",
   "execution_count": 16,
   "id": "276194d5",
   "metadata": {},
   "outputs": [],
   "source": [
    "heating_engineering = Project(\n",
    "    title=\"Heating Engineering\",\n",
    "    tag=\"#HeatingEngineering\",\n",
    "    contract=heating_repair_contract,\n",
    "    start_date=datetime.date(2022, 1, 1),\n",
    "    end_date=datetime.date(2022, 12, 31),\n",
    ")"
   ]
  },
  {
   "cell_type": "code",
   "execution_count": 17,
   "id": "fc4c0b63",
   "metadata": {},
   "outputs": [],
   "source": [
    "controller.store(heating_engineering)"
   ]
  },
  {
   "cell_type": "markdown",
   "id": "c9683d34",
   "metadata": {},
   "source": [
    "_Hint: The `tag` attribute uniquely identifies the project for time tracking purposes - more about this in the subsequent notebooks._"
   ]
  },
  {
   "cell_type": "markdown",
   "id": "ddbc09a4",
   "metadata": {},
   "source": [
    "_Your turn: Enter and store the data for at least one project._"
   ]
  },
  {
   "cell_type": "code",
   "execution_count": null,
   "id": "13742e9c",
   "metadata": {},
   "outputs": [],
   "source": []
  },
  {
   "cell_type": "markdown",
   "id": "3f8c5f1e",
   "metadata": {},
   "source": [
    "----"
   ]
  }
 ],
 "metadata": {
  "kernelspec": {
   "display_name": "tuttle",
   "language": "python",
   "name": "ex"
  },
  "language_info": {
   "codemirror_mode": {
    "name": "ipython",
    "version": 3
   },
   "file_extension": ".py",
   "mimetype": "text/x-python",
   "name": "python",
   "nbconvert_exporter": "python",
   "pygments_lexer": "ipython3",
   "version": "3.10.6"
  },
  "vscode": {
   "interpreter": {
    "hash": "5727a89f8f4826e6ce3fb9da18a08727b274ba76880924157270e222bba4a1ac"
   }
  }
 },
 "nbformat": 4,
 "nbformat_minor": 5
}
