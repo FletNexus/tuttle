{
 "cells": [
  {
   "cell_type": "markdown",
   "id": "da3f8b0f-1019-4886-8537-5701fd8bb5cd",
   "metadata": {},
   "source": [
    "# Invoicing"
   ]
  },
  {
   "cell_type": "markdown",
   "id": "05eedace-2805-401b-9de0-caf88432221b",
   "metadata": {},
   "source": [
    "Now that we have our contracts, projects, and time tracking set up, we have all the ingredients to automatically generate invoices with the press of a button."
   ]
  },
  {
   "cell_type": "markdown",
   "id": "db831ba4-c5ce-4d41-b2f5-d870b462a3b5",
   "metadata": {},
   "source": [
    "## Preamble"
   ]
  },
  {
   "cell_type": "code",
   "execution_count": 2,
   "id": "42ae156b-8681-420b-a76b-ab0cbb444d1d",
   "metadata": {},
   "outputs": [],
   "source": [
    "import tuttle"
   ]
  },
  {
   "cell_type": "code",
   "execution_count": 3,
   "id": "b30d033e-ce78-4daf-9a70-316151665956",
   "metadata": {},
   "outputs": [
    {
     "name": "stdout",
     "output_type": "stream",
     "text": [
      "2022-02-19 16:21:43,214 INFO sqlalchemy.engine.Engine BEGIN (implicit)\n",
      "2022-02-19 16:21:43,215 INFO sqlalchemy.engine.Engine PRAGMA main.table_info(\"address\")\n",
      "2022-02-19 16:21:43,216 INFO sqlalchemy.engine.Engine [raw sql] ()\n",
      "2022-02-19 16:21:43,216 INFO sqlalchemy.engine.Engine PRAGMA main.table_info(\"user\")\n",
      "2022-02-19 16:21:43,216 INFO sqlalchemy.engine.Engine [raw sql] ()\n",
      "2022-02-19 16:21:43,217 INFO sqlalchemy.engine.Engine PRAGMA main.table_info(\"icloudaccount\")\n",
      "2022-02-19 16:21:43,217 INFO sqlalchemy.engine.Engine [raw sql] ()\n",
      "2022-02-19 16:21:43,217 INFO sqlalchemy.engine.Engine PRAGMA main.table_info(\"googleaccount\")\n",
      "2022-02-19 16:21:43,218 INFO sqlalchemy.engine.Engine [raw sql] ()\n",
      "2022-02-19 16:21:43,218 INFO sqlalchemy.engine.Engine PRAGMA main.table_info(\"bank\")\n",
      "2022-02-19 16:21:43,218 INFO sqlalchemy.engine.Engine [raw sql] ()\n",
      "2022-02-19 16:21:43,219 INFO sqlalchemy.engine.Engine PRAGMA main.table_info(\"bankaccount\")\n",
      "2022-02-19 16:21:43,219 INFO sqlalchemy.engine.Engine [raw sql] ()\n",
      "2022-02-19 16:21:43,219 INFO sqlalchemy.engine.Engine PRAGMA main.table_info(\"contact\")\n",
      "2022-02-19 16:21:43,219 INFO sqlalchemy.engine.Engine [raw sql] ()\n",
      "2022-02-19 16:21:43,220 INFO sqlalchemy.engine.Engine PRAGMA main.table_info(\"client\")\n",
      "2022-02-19 16:21:43,220 INFO sqlalchemy.engine.Engine [raw sql] ()\n",
      "2022-02-19 16:21:43,220 INFO sqlalchemy.engine.Engine PRAGMA main.table_info(\"contract\")\n",
      "2022-02-19 16:21:43,220 INFO sqlalchemy.engine.Engine [raw sql] ()\n",
      "2022-02-19 16:21:43,221 INFO sqlalchemy.engine.Engine PRAGMA main.table_info(\"project\")\n",
      "2022-02-19 16:21:43,221 INFO sqlalchemy.engine.Engine [raw sql] ()\n",
      "2022-02-19 16:21:43,221 INFO sqlalchemy.engine.Engine PRAGMA main.table_info(\"timetrackingitem\")\n",
      "2022-02-19 16:21:43,221 INFO sqlalchemy.engine.Engine [raw sql] ()\n",
      "2022-02-19 16:21:43,222 INFO sqlalchemy.engine.Engine PRAGMA main.table_info(\"timesheet\")\n",
      "2022-02-19 16:21:43,222 INFO sqlalchemy.engine.Engine [raw sql] ()\n",
      "2022-02-19 16:21:43,222 INFO sqlalchemy.engine.Engine PRAGMA main.table_info(\"invoice\")\n",
      "2022-02-19 16:21:43,222 INFO sqlalchemy.engine.Engine [raw sql] ()\n",
      "2022-02-19 16:21:43,223 INFO sqlalchemy.engine.Engine PRAGMA main.table_info(\"invoiceitem\")\n",
      "2022-02-19 16:21:43,223 INFO sqlalchemy.engine.Engine [raw sql] ()\n",
      "2022-02-19 16:21:43,223 INFO sqlalchemy.engine.Engine PRAGMA main.table_info(\"timelineitem\")\n",
      "2022-02-19 16:21:43,223 INFO sqlalchemy.engine.Engine [raw sql] ()\n",
      "2022-02-19 16:21:43,224 INFO sqlalchemy.engine.Engine COMMIT\n"
     ]
    }
   ],
   "source": [
    "app = tuttle.app.App()"
   ]
  },
  {
   "cell_type": "markdown",
   "id": "63a9c98a-01f0-4be8-b6a0-a574c3410472",
   "metadata": {},
   "source": [
    "## Data Sources"
   ]
  },
  {
   "cell_type": "markdown",
   "id": "1c3cc0a8-71f1-4ddd-ad07-bc9aed31c072",
   "metadata": {},
   "source": [
    "_1. Select a project_"
   ]
  },
  {
   "cell_type": "markdown",
   "id": "194070dd-0b7f-4ceb-91f4-a4e675f22923",
   "metadata": {},
   "source": [
    "**Example**"
   ]
  },
  {
   "cell_type": "code",
   "execution_count": 4,
   "id": "a9ab03a7-f96d-4a74-ae0a-e9dd1a96d349",
   "metadata": {},
   "outputs": [
    {
     "name": "stdout",
     "output_type": "stream",
     "text": [
      "2022-02-19 16:23:00,695 INFO sqlalchemy.engine.Engine BEGIN (implicit)\n",
      "2022-02-19 16:23:00,722 INFO sqlalchemy.engine.Engine SELECT project.id, project.title, project.tag, project.start_date, project.end_date, project.contract_id \n",
      "FROM project \n",
      "WHERE project.title = ?\n",
      "2022-02-19 16:23:00,723 INFO sqlalchemy.engine.Engine [no key 0.00044s] ('Heating Repair',)\n"
     ]
    },
    {
     "name": "stderr",
     "output_type": "stream",
     "text": [
      "/Users/cls/miniforge3/envs/tuttle/lib/python3.9/site-packages/sqlmodel/orm/session.py:60: SAWarning: Class SelectOfScalar will not make use of SQL compilation caching as it does not set the 'inherit_cache' attribute to ``True``.  This can have significant performance implications including some performance degradations in comparison to prior SQLAlchemy versions.  Set this attribute to True if this object can make use of the cache key generated by the superclass.  Alternatively, this attribute may be set to False which will disable this warning. (Background on this error at: https://sqlalche.me/e/14/cprf)\n",
      "  results = super().execute(\n"
     ]
    }
   ],
   "source": [
    "my_project = app.get_project(title=\"Heating Repair\")"
   ]
  },
  {
   "cell_type": "markdown",
   "id": "7b80597c-bc59-4e94-a017-31298c20599a",
   "metadata": {},
   "source": [
    "_Your turn:_"
   ]
  },
  {
   "cell_type": "code",
   "execution_count": null,
   "id": "94eb7c0a-e583-4e59-b94d-8afe3e18572a",
   "metadata": {},
   "outputs": [],
   "source": []
  },
  {
   "cell_type": "markdown",
   "id": "74f9a962-55ea-4707-9cbe-115598d4de56",
   "metadata": {},
   "source": [
    "2. Select a time tracking data source."
   ]
  },
  {
   "cell_type": "code",
   "execution_count": null,
   "id": "f7a24a8a-2e4f-4d41-af67-b1742a11330a",
   "metadata": {},
   "outputs": [],
   "source": []
  }
 ],
 "metadata": {
  "kernelspec": {
   "display_name": "tuttle",
   "language": "python",
   "name": "ex"
  },
  "language_info": {
   "codemirror_mode": {
    "name": "ipython",
    "version": 3
   },
   "file_extension": ".py",
   "mimetype": "text/x-python",
   "name": "python",
   "nbconvert_exporter": "python",
   "pygments_lexer": "ipython3",
   "version": "3.9.7"
  }
 },
 "nbformat": 4,
 "nbformat_minor": 5
}
