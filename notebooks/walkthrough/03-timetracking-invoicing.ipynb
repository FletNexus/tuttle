{
 "cells": [
  {
   "cell_type": "markdown",
   "id": "fbfb5796",
   "metadata": {},
   "source": [
    "# Time Tracking"
   ]
  },
  {
   "cell_type": "markdown",
   "id": "038e3a54",
   "metadata": {},
   "source": [
    "Our target user is a freelancer who bills clients by the time worked. Therefore, managing, tracking and planning your work time is a central task. Tuttle wants to make this as easy and effective as possible for you. Let's get started:"
   ]
  },
  {
   "cell_type": "markdown",
   "id": "ce7b5cce",
   "metadata": {},
   "source": [
    "## Preamble"
   ]
  },
  {
   "cell_type": "code",
   "execution_count": null,
   "id": "8d3c6eef",
   "metadata": {},
   "outputs": [],
   "source": [
    "from pathlib import Path\n",
    "import ipywidgets\n",
    "from IPython import display\n",
    "import datetime"
   ]
  },
  {
   "cell_type": "code",
   "execution_count": 2,
   "id": "a39acfe0",
   "metadata": {},
   "outputs": [],
   "source": [
    "import tuttle"
   ]
  },
  {
   "cell_type": "code",
   "execution_count": 3,
   "id": "e675cb57",
   "metadata": {},
   "outputs": [
    {
     "name": "stderr",
     "output_type": "stream",
     "text": [
      "2022-11-01 16:32:21.159 | INFO     | tuttle.controller:create_model:76 - creating database model\n"
     ]
    }
   ],
   "source": [
    "controller = tuttle.controller.Controller(\n",
    "    preferences=tuttle.preferences.Preferences(\n",
    "        invoice_dir=Path(\"Invoices\"),\n",
    "    ),\n",
    ")"
   ]
  },
  {
   "cell_type": "markdown",
   "id": "7872e86d",
   "metadata": {},
   "source": [
    "## How to Record Project Time with Tuttle"
   ]
  },
  {
   "cell_type": "markdown",
   "id": "32ce5f27",
   "metadata": {},
   "source": [
    "- Previously we asked you to assign a unique **tag** to each project that you want to track. We use this tag to assign time tracking entries to projects, trying to find the tag in:\n",
    "    - the title of your calendar entries\n",
    "    - the title of your time tracking entries"
   ]
  },
  {
   "cell_type": "markdown",
   "id": "cd38504c",
   "metadata": {
    "tags": []
   },
   "source": [
    "## Importing Time Tracking Data"
   ]
  },
  {
   "cell_type": "markdown",
   "id": "bfe74137",
   "metadata": {},
   "source": [
    "Currently we provide several ways of inputting time management data:\n",
    "    \n",
    "1. **Cloud Calendar**: Querying your cloud calendar: Log into your cloud calendar provider and import your calendar events seamlessly.\n",
    "2. **File Calendar**: Export your calendar in the iCalendar format and parse it.\n",
    "3. **Time Tracking Spreadsheets**: You may prefer to track your time not in the calendar but a specialized tool. As long as this tool can export time tracking data in a consistent format, we want to provide an option to import it into Tuttle."
   ]
  },
  {
   "cell_type": "code",
   "execution_count": 4,
   "id": "70206b6e",
   "metadata": {},
   "outputs": [],
   "source": [
    "time_tracking_preference = ipywidgets.RadioButtons(options=[\"File Calendar\", \"Cloud Calendar\", \"Spreadsheet\"])"
   ]
  },
  {
   "cell_type": "markdown",
   "id": "ce80dd15",
   "metadata": {},
   "source": [
    "_Select your prereference for importing time tracking data:_"
   ]
  },
  {
   "cell_type": "code",
   "execution_count": 5,
   "id": "08e2dc62",
   "metadata": {},
   "outputs": [
    {
     "data": {
      "application/vnd.jupyter.widget-view+json": {
       "model_id": "b186e6967b56412293feb5e1e55cb880",
       "version_major": 2,
       "version_minor": 0
      },
      "text/plain": [
       "RadioButtons(options=('File Calendar', 'Cloud Calendar', 'Spreadsheet'), value='File Calendar')"
      ]
     },
     "metadata": {},
     "output_type": "display_data"
    }
   ],
   "source": [
    "time_tracking_preference"
   ]
  },
  {
   "cell_type": "markdown",
   "id": "fa87aafa",
   "metadata": {
    "tags": []
   },
   "source": [
    "### A) Time Tracking via Cloud Calendar"
   ]
  },
  {
   "cell_type": "markdown",
   "id": "63a4aba0",
   "metadata": {},
   "source": [
    "If you have an Apple iCloud account, follow this process. (We are working on connectors with other cloud services)"
   ]
  },
  {
   "cell_type": "code",
   "execution_count": 6,
   "id": "07e2e438",
   "metadata": {},
   "outputs": [
    {
     "data": {
      "text/plain": [
       "'mail@tuttle.com'"
      ]
     },
     "execution_count": 6,
     "metadata": {},
     "output_type": "execute_result"
    }
   ],
   "source": [
    "icloud_username = controller.user.icloud_account.user_name\n",
    "icloud_username"
   ]
  },
  {
   "cell_type": "markdown",
   "id": "a931f0dd",
   "metadata": {},
   "source": [
    "Connect to your cloud calendar that contains your time tracking events:"
   ]
  },
  {
   "cell_type": "code",
   "execution_count": 7,
   "id": "9bae8ae6",
   "metadata": {},
   "outputs": [],
   "source": [
    "from tuttle.calendar import ICloudCalendar"
   ]
  },
  {
   "cell_type": "code",
   "execution_count": 8,
   "id": "629c625a",
   "metadata": {},
   "outputs": [],
   "source": [
    "if time_tracking_preference.value == \"Cloud Calendar\":\n",
    "    my_calendar = ICloudCalendar(\n",
    "        icloud=tuttle.cloud.login_iCloud(\n",
    "            user_name=icloud_username,\n",
    "        ),\n",
    "        name=input(\"calendar name: \"),\n",
    "    )"
   ]
  },
  {
   "cell_type": "markdown",
   "id": "0700c550",
   "metadata": {},
   "source": [
    "### B) Time  Tracking via Calendar Import"
   ]
  },
  {
   "cell_type": "code",
   "execution_count": 9,
   "id": "1eb0abbe",
   "metadata": {},
   "outputs": [],
   "source": [
    "from tuttle.calendar import FileCalendar"
   ]
  },
  {
   "cell_type": "markdown",
   "id": "53246ec5",
   "metadata": {},
   "source": [
    "**Example: file calendar**"
   ]
  },
  {
   "cell_type": "code",
   "execution_count": 10,
   "id": "a5068311",
   "metadata": {},
   "outputs": [],
   "source": [
    "timetracking_calendar_path = Path(\"../../tuttle_tests/data/TuttleDemo-TimeTracking.ics\")"
   ]
  },
  {
   "cell_type": "code",
   "execution_count": 11,
   "id": "65a7b6d9",
   "metadata": {},
   "outputs": [],
   "source": [
    "if time_tracking_preference.value == \"File Calendar\":\n",
    "    my_calendar = FileCalendar(\n",
    "        path=timetracking_calendar_path, \n",
    "        name=\"TimeTracking\"\n",
    "    )"
   ]
  },
  {
   "cell_type": "markdown",
   "id": "ca36ee06",
   "metadata": {},
   "source": [
    "### C) Time Tracking via Data Export from Time Tracking Tools"
   ]
  },
  {
   "cell_type": "code",
   "execution_count": 12,
   "id": "3597bf54",
   "metadata": {},
   "outputs": [],
   "source": [
    "if time_tracking_preference.value == \"Spreadsheet\":\n",
    "    timetracking_data = tuttle.timetracking.import_from_spreadsheet(\n",
    "        path=\"../../tuttle_tests/data/test_time_tracking_toggl.csv\",\n",
    "        preset=tuttle.timetracking.TimetrackingSpreadsheetPreset.Toggl,\n",
    "    )"
   ]
  },
  {
   "cell_type": "markdown",
   "id": "b1b31124",
   "metadata": {},
   "source": [
    "Check if the format of your spreadsheets is already supoorted as a preset. Otherwise, set the arguments of `import_from_spreadsheet` to match your required format."
   ]
  },
  {
   "cell_type": "markdown",
   "id": "b0ebb379",
   "metadata": {},
   "source": [
    "After a successful import, you can pass the resulting `timetracking_data` wherever as a `source` to the following functions."
   ]
  },
  {
   "cell_type": "markdown",
   "id": "9255660e",
   "metadata": {},
   "source": [
    "## Generating Time Sheets"
   ]
  },
  {
   "cell_type": "markdown",
   "id": "43819042",
   "metadata": {},
   "source": [
    "Now that we have connected a source for time tracking data, we can pass it to other functions. In the following we generate **time sheets**. \n",
    "\n",
    "A **time sheet** \n",
    "- can be rendered to a document for reporting purposes\n",
    "- is the basis for an **invoice** - more on invoicing later."
   ]
  },
  {
   "cell_type": "markdown",
   "id": "aaf27374",
   "metadata": {},
   "source": [
    "**Select a project**"
   ]
  },
  {
   "cell_type": "markdown",
   "id": "4b8ed12d",
   "metadata": {},
   "source": [
    "**Example**"
   ]
  },
  {
   "cell_type": "code",
   "execution_count": 13,
   "id": "d88dbf28",
   "metadata": {},
   "outputs": [],
   "source": [
    "my_project = controller.get_project(title=\"Heating Repair\")"
   ]
  },
  {
   "cell_type": "markdown",
   "id": "0de4110d",
   "metadata": {},
   "source": [
    "_Your turn: Select one of your projects by title_"
   ]
  },
  {
   "cell_type": "markdown",
   "id": "aaa10a30",
   "metadata": {},
   "source": [
    "**Generate a time sheet**"
   ]
  },
  {
   "cell_type": "code",
   "execution_count": 14,
   "id": "e37fa0b6",
   "metadata": {},
   "outputs": [
    {
     "name": "stderr",
     "output_type": "stream",
     "text": [
      "/Users/cls/Documents/Work/Projects/PrototypeFund/Dev/tuttle/tuttle/timetracking.py:56: FutureWarning: Value based partial slicing on non-monotonic DatetimeIndexes with non-existing keys is deprecated and will raise a KeyError in a future Version.\n",
      "  timetracking_data.loc[period_start:period_end].query(tag_query).sort_index()\n",
      "/Users/cls/miniforge3/envs/tuttle/lib/python3.10/site-packages/sqlmodel/orm/session.py:101: SAWarning: Dialect sqlite+pysqlite does *not* support Decimal objects natively, and SQLAlchemy must convert from floating point - rounding errors and other issues may occur. Please consider storing Decimal numbers as strings or integers on this platform for lossless storage.\n",
      "  return super().execute(  # type: ignore\n"
     ]
    }
   ],
   "source": [
    "my_timesheet = tuttle.timetracking.generate_timesheet(\n",
    "    source=my_calendar,\n",
    "    project=my_project,\n",
    "    period_start=\"February 2022\",\n",
    "    period_end=\"March 2022\",\n",
    "    item_description=my_project.title,\n",
    ")"
   ]
  },
  {
   "cell_type": "markdown",
   "id": "bb69a222",
   "metadata": {},
   "source": [
    "_Your turn: Generate a timesheet for your project_"
   ]
  },
  {
   "cell_type": "code",
   "execution_count": null,
   "id": "a1d27578",
   "metadata": {},
   "outputs": [],
   "source": []
  },
  {
   "cell_type": "markdown",
   "id": "850436db",
   "metadata": {},
   "source": [
    "**Display the timesheet data**"
   ]
  },
  {
   "cell_type": "code",
   "execution_count": 15,
   "id": "1bca4e59",
   "metadata": {},
   "outputs": [
    {
     "data": {
      "text/html": [
       "<div>\n",
       "<style scoped>\n",
       "    .dataframe tbody tr th:only-of-type {\n",
       "        vertical-align: middle;\n",
       "    }\n",
       "\n",
       "    .dataframe tbody tr th {\n",
       "        vertical-align: top;\n",
       "    }\n",
       "\n",
       "    .dataframe thead th {\n",
       "        text-align: right;\n",
       "    }\n",
       "</style>\n",
       "<table border=\"1\" class=\"dataframe\">\n",
       "  <thead>\n",
       "    <tr style=\"text-align: right;\">\n",
       "      <th></th>\n",
       "      <th>id</th>\n",
       "      <th>timesheet_id</th>\n",
       "      <th>begin</th>\n",
       "      <th>end</th>\n",
       "      <th>duration</th>\n",
       "      <th>title</th>\n",
       "      <th>tag</th>\n",
       "      <th>description</th>\n",
       "    </tr>\n",
       "  </thead>\n",
       "  <tbody>\n",
       "    <tr>\n",
       "      <th>0</th>\n",
       "      <td>None</td>\n",
       "      <td>None</td>\n",
       "      <td>2022-02-17 01:00:00+01:00</td>\n",
       "      <td>2022-02-18 01:00:00+01:00</td>\n",
       "      <td>0 days 08:00:00</td>\n",
       "      <td>#HeatingRepair</td>\n",
       "      <td>#HeatingRepair</td>\n",
       "      <td>Heating Repair</td>\n",
       "    </tr>\n",
       "    <tr>\n",
       "      <th>1</th>\n",
       "      <td>None</td>\n",
       "      <td>None</td>\n",
       "      <td>2022-02-18 01:00:00+01:00</td>\n",
       "      <td>2022-02-19 01:00:00+01:00</td>\n",
       "      <td>0 days 08:00:00</td>\n",
       "      <td>#HeatingRepair</td>\n",
       "      <td>#HeatingRepair</td>\n",
       "      <td>Heating Repair</td>\n",
       "    </tr>\n",
       "  </tbody>\n",
       "</table>\n",
       "</div>"
      ],
      "text/plain": [
       "     id timesheet_id                     begin                       end  \\\n",
       "0  None         None 2022-02-17 01:00:00+01:00 2022-02-18 01:00:00+01:00   \n",
       "1  None         None 2022-02-18 01:00:00+01:00 2022-02-19 01:00:00+01:00   \n",
       "\n",
       "         duration           title             tag     description  \n",
       "0 0 days 08:00:00  #HeatingRepair  #HeatingRepair  Heating Repair  \n",
       "1 0 days 08:00:00  #HeatingRepair  #HeatingRepair  Heating Repair  "
      ]
     },
     "execution_count": 15,
     "metadata": {},
     "output_type": "execute_result"
    }
   ],
   "source": [
    "my_timesheet.table"
   ]
  },
  {
   "cell_type": "markdown",
   "id": "b83dfdc8",
   "metadata": {},
   "source": [
    "**Render the timesheet document**"
   ]
  },
  {
   "cell_type": "markdown",
   "id": "989768ed",
   "metadata": {},
   "source": [
    "The following function renders a timesheet to an HTML-based layout:"
   ]
  },
  {
   "cell_type": "markdown",
   "id": "301ecedb",
   "metadata": {},
   "source": [
    "You can display the HTML in the notebook..."
   ]
  },
  {
   "cell_type": "code",
   "execution_count": 16,
   "id": "f0ea30df",
   "metadata": {},
   "outputs": [
    {
     "name": "stderr",
     "output_type": "stream",
     "text": [
      "2022-11-01 16:32:21.447 | INFO     | tuttle.rendering:get_template_path:23 - Template path: /Users/cls/Documents/Work/Projects/PrototypeFund/Dev/tuttle/templates/timesheet-anvil\n"
     ]
    },
    {
     "data": {
      "text/html": [
       "<!doctype html>\n",
       "<html class=\"no-js\" lang=\"\">\n",
       "\n",
       "<head>\n",
       "  <meta charset=\"utf-8\">\n",
       "  <title>Timehseet Heating Repair - February 2022 - March 2022</title>\n",
       "  <meta name=\"viewport\" content=\"width=device-width, initial-scale=1\">\n",
       "\n",
       "  \n",
       "  <link rel=\"stylesheet\" href=\"./web/modern-normalize.css\">\n",
       "  <link rel=\"stylesheet\" href=\"./web/web-base.css\">\n",
       "  <link rel=\"stylesheet\" href=\"./timesheet.css\">\n",
       "  <!-- <script type=\"text/javascript\" src=\"./web/scripts.js\"></script> -->\n",
       "  \n",
       "</head>\n",
       "<body>\n",
       "\n",
       "<div class=\"web-container\">\n",
       "\n",
       "  <div class=\"page-container\">\n",
       "    <span class=\"page\"></span>\n",
       "    <span class=\"pages\"></span>\n",
       "  </div>\n",
       "\n",
       "  \n",
       "\n",
       "\n",
       "  <table class=\"invoice-info-container\">\n",
       "    <tr>\n",
       "      <td rowspan=\"2\" class=\"client-name\">\n",
       "        <br>\n",
       "        \n",
       "Main Street 9999<br>\n",
       "55555 Sao Paolo<br>\n",
       "Brazil\n",
       "\n",
       "      </td>\n",
       "      <td>\n",
       "        Harry Tuttle<br>\n",
       "        \n",
       "Main Street 450<br>\n",
       "555555 Sao Paolo<br>\n",
       "Brazil\n",
       "\n",
       "      </td>\n",
       "    </tr>\n",
       "    <tr>\n",
       "      <td>\n",
       "\n",
       "      </td>\n",
       "    </tr>\n",
       "    <tr>\n",
       "      <td>\n",
       "\n",
       "      </td>\n",
       "      <td>\n",
       "\n",
       "      </td>\n",
       "    </tr>\n",
       "    <tr>\n",
       "      <td>\n",
       "        Timesheet: <strong>Heating Repair - February 2022 - March 2022</strong>\n",
       "      </td>\n",
       "      <td>\n",
       "      </td>\n",
       "    </tr>\n",
       "  </table>\n",
       "\n",
       "\n",
       "  <table class=\"line-items-container\">\n",
       "    <thead>\n",
       "      <tr>\n",
       "        <th>Begin</th>\n",
       "        <th>End</th>\n",
       "        <th>Duration</th>\n",
       "        <th>Description</th>\n",
       "\n",
       "      </tr>\n",
       "    </thead>\n",
       "    <tbody>\n",
       "      \n",
       "      <tr>\n",
       "        <td>2022-02-17 01:00:00+01:00</td>\n",
       "        <td>2022-02-18 01:00:00+01:00</td>\n",
       "        <td>0 days 08:00:00</td>\n",
       "        <td>Heating Repair</td>\n",
       "      </tr>\n",
       "      \n",
       "      <tr>\n",
       "        <td>2022-02-18 01:00:00+01:00</td>\n",
       "        <td>2022-02-19 01:00:00+01:00</td>\n",
       "        <td>0 days 08:00:00</td>\n",
       "        <td>Heating Repair</td>\n",
       "      </tr>\n",
       "      \n",
       "    </tbody>\n",
       "  </table>\n",
       "\n",
       "  <table class=\"line-items-container has-bottom-border\">\n",
       "    <tbody>\n",
       "      <tr>\n",
       "        <th><b>Total</b></th>\n",
       "        <td>16.0 hours</td>\n",
       "      </tr>\n",
       "    </tbody>\n",
       "  </table>\n",
       "\n",
       "\n",
       "\n",
       "  <div class=\"footer\">\n",
       "    <div class=\"footer-info\">\n",
       "    </div>\n",
       "  </div>\n",
       "\n",
       "</div>\n",
       "\n",
       "\n",
       "</body>\n",
       "</html>"
      ],
      "text/plain": [
       "<IPython.core.display.HTML object>"
      ]
     },
     "execution_count": 16,
     "metadata": {},
     "output_type": "execute_result"
    }
   ],
   "source": [
    "display.HTML(\n",
    "    tuttle.rendering.render_timesheet(\n",
    "        user=controller.user,\n",
    "        timesheet=my_timesheet,\n",
    "    )\n",
    ")"
   ]
  },
  {
   "cell_type": "markdown",
   "id": "ead51bea",
   "metadata": {
    "tags": []
   },
   "source": [
    "... or render it to a file:"
   ]
  },
  {
   "cell_type": "markdown",
   "id": "830e9ab4",
   "metadata": {
    "tags": []
   },
   "source": [
    "_Set the path to a folder where you want your invoices to appear_:"
   ]
  },
  {
   "cell_type": "code",
   "execution_count": 17,
   "id": "35670e32",
   "metadata": {},
   "outputs": [],
   "source": [
    "timesheet_dir = Path.home() / \"Downloads\""
   ]
  },
  {
   "cell_type": "code",
   "execution_count": 18,
   "id": "a278cca7",
   "metadata": {},
   "outputs": [
    {
     "name": "stderr",
     "output_type": "stream",
     "text": [
      "2022-11-01 16:32:21.465 | INFO     | tuttle.rendering:get_template_path:23 - Template path: /Users/cls/Documents/Work/Projects/PrototypeFund/Dev/tuttle/templates/timesheet-anvil\n"
     ]
    }
   ],
   "source": [
    "tuttle.rendering.render_timesheet(\n",
    "    user=controller.user,\n",
    "    timesheet=my_timesheet,\n",
    "    style=\"anvil\",\n",
    "    out_dir=timesheet_dir,\n",
    ")"
   ]
  },
  {
   "cell_type": "markdown",
   "id": "0a3aede9",
   "metadata": {},
   "source": [
    "This will create a folder named with the timesheet title, containing the timesheet as an HTML document."
   ]
  },
  {
   "cell_type": "code",
   "execution_count": 19,
   "id": "429d8769",
   "metadata": {},
   "outputs": [],
   "source": [
    "timesheet_path = str(timesheet_dir / f\"Invoice-{my_timesheet.title}\" / f\"Timesheet-{my_timesheet.title}.html\")"
   ]
  },
  {
   "cell_type": "markdown",
   "id": "dc184228",
   "metadata": {},
   "source": [
    "You can also render the timesheet to PDF. For now, this requires the native [wkhtmltopdf](https://wkhtmltopdf.org) tool to be installed."
   ]
  },
  {
   "cell_type": "code",
   "execution_count": 20,
   "id": "d6e662fe",
   "metadata": {},
   "outputs": [
    {
     "name": "stderr",
     "output_type": "stream",
     "text": [
      "2022-11-01 16:32:21.483 | INFO     | tuttle.rendering:get_template_path:23 - Template path: /Users/cls/Documents/Work/Projects/PrototypeFund/Dev/tuttle/templates/timesheet-anvil\n",
      "2022-11-01 16:32:21.491 | INFO     | tuttle.rendering:convert_html_to_pdf:38 - converting html to pdf: /Users/cls/Downloads/Timesheet-Heating Repair - February 2022 - March 2022/Timesheet-Heating Repair - February 2022 - March 2022.html -> /Users/cls/Downloads/Timesheet-Heating Repair - February 2022 - March 2022/Timesheet-Heating Repair - February 2022 - March 2022.pdf\n",
      "2022-11-01 16:32:25.215 | DEBUG    | tuttle.rendering:_convert_html_to_pdf_with_weasyprint:80 - css_paths: [PosixPath('/Users/cls/Downloads/Timesheet-Heating Repair - February 2022 - March 2022/timesheet.css'), PosixPath('/Users/cls/Downloads/Timesheet-Heating Repair - February 2022 - March 2022/web/web-base.css'), PosixPath('/Users/cls/Downloads/Timesheet-Heating Repair - February 2022 - March 2022/web/modern-normalize.css')]\n",
      "1 extra bytes in post.stringData array\n",
      "'created' timestamp seems very low; regarding as unix timestamp\n",
      "1 extra bytes in post.stringData array\n"
     ]
    }
   ],
   "source": [
    "tuttle.rendering.render_timesheet(\n",
    "    user=controller.user,\n",
    "    timesheet=my_timesheet,\n",
    "    style=\"anvil\",\n",
    "    out_dir=timesheet_dir,\n",
    "    document_format=\"pdf\",\n",
    ")"
   ]
  },
  {
   "cell_type": "markdown",
   "id": "d77571a2",
   "metadata": {
    "tags": []
   },
   "source": [
    "## Invoicing"
   ]
  },
  {
   "cell_type": "markdown",
   "id": "54990dd9",
   "metadata": {},
   "source": [
    "Now that we have set up our user info, clients, contracts and projects, as well as a source for time tracking data, we are ready to automatically generate invoices."
   ]
  },
  {
   "cell_type": "markdown",
   "id": "f2f63019",
   "metadata": {},
   "source": [
    "### Workflow"
   ]
  },
  {
   "cell_type": "markdown",
   "id": "4cdbe7db",
   "metadata": {},
   "source": [
    "_1. Select a project_"
   ]
  },
  {
   "cell_type": "markdown",
   "id": "ab994b0b",
   "metadata": {},
   "source": [
    "**Example**"
   ]
  },
  {
   "cell_type": "code",
   "execution_count": 21,
   "id": "dacaa031",
   "metadata": {},
   "outputs": [],
   "source": [
    "my_project = controller.get_project(title=\"Heating Repair\")"
   ]
  },
  {
   "cell_type": "markdown",
   "id": "c9a08a8d",
   "metadata": {},
   "source": [
    "2. Generate an invoice for one or more timesheet(s)."
   ]
  },
  {
   "cell_type": "markdown",
   "id": "455de131",
   "metadata": {},
   "source": [
    "**Example**"
   ]
  },
  {
   "cell_type": "code",
   "execution_count": 22,
   "id": "b55b6251",
   "metadata": {},
   "outputs": [],
   "source": [
    "my_invoice = tuttle.invoicing.generate_invoice(\n",
    "    timesheets=[\n",
    "        my_timesheet,\n",
    "    ],\n",
    "    contract=my_project.contract,\n",
    "    date=datetime.date.today(),\n",
    ")"
   ]
  },
  {
   "cell_type": "code",
   "execution_count": 23,
   "id": "108de4d0",
   "metadata": {},
   "outputs": [
    {
     "data": {
      "text/plain": [
       "'2022-11-01-01'"
      ]
     },
     "execution_count": 23,
     "metadata": {},
     "output_type": "execute_result"
    }
   ],
   "source": [
    "my_invoice.number"
   ]
  },
  {
   "cell_type": "code",
   "execution_count": 24,
   "id": "5dc591a0",
   "metadata": {},
   "outputs": [
    {
     "data": {
      "text/plain": [
       "Decimal('952.000000000000')"
      ]
     },
     "execution_count": 24,
     "metadata": {},
     "output_type": "execute_result"
    }
   ],
   "source": [
    "my_invoice.total"
   ]
  },
  {
   "cell_type": "markdown",
   "id": "bfe582b9",
   "metadata": {},
   "source": [
    "5. Render the invoice to a document template:"
   ]
  },
  {
   "cell_type": "markdown",
   "id": "3c83f9ce",
   "metadata": {},
   "source": [
    "You can display the HTML in the notebook..."
   ]
  },
  {
   "cell_type": "code",
   "execution_count": 25,
   "id": "eb3b9b55",
   "metadata": {},
   "outputs": [
    {
     "name": "stderr",
     "output_type": "stream",
     "text": [
      "2022-11-01 16:32:25.529 | INFO     | tuttle.rendering:get_template_path:23 - Template path: /Users/cls/Documents/Work/Projects/PrototypeFund/Dev/tuttle/templates/invoice-anvil\n"
     ]
    },
    {
     "data": {
      "text/html": [
       "<!doctype html>\n",
       "<html class=\"no-js\" lang=\"\">\n",
       "\n",
       "<head>\n",
       "  <meta charset=\"utf-8\">\n",
       "  <title>Invoice No. 2022-11-01-01</title>\n",
       "  <meta name=\"viewport\" content=\"width=device-width, initial-scale=1\">\n",
       "\n",
       "  \n",
       "  <!-- pure HTML -->\n",
       "  \n",
       "</head>\n",
       "<body>\n",
       "\n",
       "<div class=\"web-container\">\n",
       "\n",
       "  <div class=\"page-container\">\n",
       "    <span class=\"page\"></span>\n",
       "    <span class=\"pages\"></span>\n",
       "  </div>\n",
       "\n",
       "  \n",
       "\n",
       "\n",
       "  <table class=\"invoice-info-container\">\n",
       "    <tr>\n",
       "      <td rowspan=\"2\" class=\"client-name\">\n",
       "        <br>\n",
       "        \n",
       "Main Street 9999<br>\n",
       "55555 Sao Paolo<br>\n",
       "Brazil\n",
       "\n",
       "      </td>\n",
       "      <td>\n",
       "        <big>Harry Tuttle</big><br>\n",
       "        Heating Engineer<br>\n",
       "        <br>\n",
       "        \n",
       "Main Street 450<br>\n",
       "555555 Sao Paolo<br>\n",
       "Brazil\n",
       "\n",
       "        <br>\n",
       "        <br>\n",
       "        <span>mail@tuttle.com</span><br>\n",
       "        <span>+55555555555</span><br>\n",
       "        <span>https://tuttle-dev.github.io/tuttle/</span>\n",
       "      </td>\n",
       "    </tr>\n",
       "    <tr>\n",
       "      <td>\n",
       "\n",
       "      </td>\n",
       "    </tr>\n",
       "    <tr>\n",
       "      <td>\n",
       "\n",
       "      </td>\n",
       "      <td>\n",
       "\n",
       "      </td>\n",
       "    </tr>\n",
       "    <tr>\n",
       "      <td>\n",
       "        <br>\n",
       "       <big>Invoice Date: <strong>2022-11-01</strong></big> <br>\n",
       "       <big>Invoice Number: <strong>2022-11-01-01<big></big></strong>\n",
       "      </td>\n",
       "      <td>\n",
       "      </td>\n",
       "    </tr>\n",
       "  </table>\n",
       "\n",
       "\n",
       "  <table class=\"line-items-container\">\n",
       "    <thead>\n",
       "      <tr>\n",
       "        <th class=\"heading-description\">Date</th>\n",
       "        <th class=\"heading-description\">Description</th>\n",
       "        <th class=\"heading-quantity\">Qty</th>\n",
       "        <th class=\"heading-quantity\">Unit</th>\n",
       "        <th class=\"heading-price\">Unit Price</th>\n",
       "        <th class=\"heading-price\">VAT%</th>\n",
       "        <th class=\"heading-subtotal\">Subtotal</th>\n",
       "      </tr>\n",
       "    </thead>\n",
       "    <tbody>\n",
       "      \n",
       "      <tr>\n",
       "        <td>2022-02-17 -  2022-02-19</td>\n",
       "        <td>Heating Repair - February 2022 - March 2022</td>\n",
       "        <td class=\"right\">16</td>\n",
       "        <td class=\"right\">hour</td>\n",
       "        <td class=\"right\">€50.00 €</td>\n",
       "        <td class=\"right\">19.0 %</td>\n",
       "        <td class=\"right\">€800.00</td>\n",
       "      </tr>\n",
       "      \n",
       "    </tbody>\n",
       "  </table>\n",
       "\n",
       "\n",
       "  <table class=\"line-items-container has-bottom-border\">\n",
       "    <thead>\n",
       "      <tr>\n",
       "        <th>Payment Info</th>\n",
       "        <th>Due By</th>\n",
       "        <th>Total VAT</th>\n",
       "        <th>Total Due</th>\n",
       "      </tr>\n",
       "    </thead>\n",
       "    <tbody>\n",
       "      <tr>\n",
       "        <td class=\"payment-info\">\n",
       "          <div>\n",
       "            IBAN: <strong>BZ99830994950003161565</strong><br>\n",
       "          </div>\n",
       "        </td>\n",
       "        <td class=\"bold\">2022-11-15</td>\n",
       "        <td>€152.00</td>\n",
       "        <td class=\"bold\">€952.00</td>\n",
       "      </tr>\n",
       "    </tbody>\n",
       "  </table>\n",
       "\n",
       "  <div>\n",
       "    <p>\n",
       "      <br>\n",
       "    <span>Thank you for your business</span>\n",
       "   </p>\n",
       "    <br>\n",
       "    <br>\n",
       "    <hr align=\"left\" width=\"25%\">\n",
       "    Harry Tuttle\n",
       "  </div>\n",
       "\n",
       "  <div class=\"footer\">\n",
       "    <div class=\"footer-info\">\n",
       "      <span>IBAN: BZ99830994950003161565 </span> |\n",
       "      <span>BIC: ABCDEFGH</span> |\n",
       "      <span>VAT No: DZ-015</span>\n",
       "    </div>\n",
       "  </div>\n",
       "\n",
       "\n",
       "</div>\n",
       "\n",
       "\n",
       "</body>\n",
       "</html>"
      ],
      "text/plain": [
       "<IPython.core.display.HTML object>"
      ]
     },
     "execution_count": 25,
     "metadata": {},
     "output_type": "execute_result"
    }
   ],
   "source": [
    "display.HTML(\n",
    "    tuttle.rendering.render_invoice(\n",
    "        user=controller.user, \n",
    "        invoice=my_invoice,\n",
    "        style=None\n",
    "    )\n",
    ")"
   ]
  },
  {
   "cell_type": "markdown",
   "id": "4f855a52",
   "metadata": {
    "tags": []
   },
   "source": [
    "... or render it to a file:"
   ]
  },
  {
   "cell_type": "markdown",
   "id": "7f95058d",
   "metadata": {
    "tags": []
   },
   "source": [
    "_Set the path to a folder where you want your invoices to appear_:"
   ]
  },
  {
   "cell_type": "code",
   "execution_count": 26,
   "id": "b7158baa",
   "metadata": {},
   "outputs": [],
   "source": [
    "invoice_dir = Path.home() / \"Downloads\""
   ]
  },
  {
   "cell_type": "code",
   "execution_count": 27,
   "id": "603a0624",
   "metadata": {},
   "outputs": [
    {
     "name": "stderr",
     "output_type": "stream",
     "text": [
      "2022-11-01 16:32:25.560 | INFO     | tuttle.rendering:get_template_path:23 - Template path: /Users/cls/Documents/Work/Projects/PrototypeFund/Dev/tuttle/templates/invoice-anvil\n"
     ]
    }
   ],
   "source": [
    "tuttle.rendering.render_invoice(\n",
    "    user=controller.user, \n",
    "    invoice=my_invoice,\n",
    "    style=\"anvil\",\n",
    "    out_dir=invoice_dir,\n",
    ")"
   ]
  },
  {
   "cell_type": "markdown",
   "id": "bf13d21e",
   "metadata": {},
   "source": [
    "This will create a folder named with the inovice number, containing the invoice as an HTML document."
   ]
  },
  {
   "cell_type": "code",
   "execution_count": 28,
   "id": "aab80fd8",
   "metadata": {},
   "outputs": [],
   "source": [
    "invoice_path = str(invoice_dir / f\"Invoice-{my_invoice.number}\" / f\"Invoice-{my_invoice.number}.html\")"
   ]
  },
  {
   "cell_type": "markdown",
   "id": "02bc40f6",
   "metadata": {},
   "source": [
    "_Your turn:_"
   ]
  },
  {
   "cell_type": "code",
   "execution_count": null,
   "id": "34c8ce5d",
   "metadata": {},
   "outputs": [],
   "source": []
  },
  {
   "cell_type": "markdown",
   "id": "1a6bd14d",
   "metadata": {},
   "source": [
    "You can also render the invoice to PDF. For now, this requires the native [wkhtmltopdf](https://wkhtmltopdf.org) tool to be installed."
   ]
  },
  {
   "cell_type": "code",
   "execution_count": 29,
   "id": "13dd79d0",
   "metadata": {},
   "outputs": [
    {
     "name": "stderr",
     "output_type": "stream",
     "text": [
      "2022-11-01 16:32:25.580 | INFO     | tuttle.rendering:get_template_path:23 - Template path: /Users/cls/Documents/Work/Projects/PrototypeFund/Dev/tuttle/templates/invoice-anvil\n",
      "2022-11-01 16:32:25.589 | INFO     | tuttle.rendering:convert_html_to_pdf:38 - converting html to pdf: /Users/cls/Downloads/2022-11-01-01-sam/2022-11-01-01-sam.html -> /Users/cls/Downloads/2022-11-01-01-sam/2022-11-01-01-sam.pdf\n",
      "2022-11-01 16:32:25.590 | DEBUG    | tuttle.rendering:_convert_html_to_pdf_with_weasyprint:80 - css_paths: [PosixPath('/Users/cls/Downloads/2022-11-01-01-sam/invoice.css'), PosixPath('/Users/cls/Downloads/2022-11-01-01-sam/web/web-base.css'), PosixPath('/Users/cls/Downloads/2022-11-01-01-sam/web/modern-normalize.css')]\n",
      "1 extra bytes in post.stringData array\n",
      "'created' timestamp seems very low; regarding as unix timestamp\n",
      "1 extra bytes in post.stringData array\n"
     ]
    }
   ],
   "source": [
    "tuttle.rendering.render_invoice(\n",
    "    user=controller.user, \n",
    "    invoice=my_invoice,\n",
    "    style=\"anvil\",\n",
    "    out_dir=invoice_dir,\n",
    "    document_format=\"pdf\"\n",
    ")"
   ]
  },
  {
   "cell_type": "markdown",
   "id": "fb588650",
   "metadata": {},
   "source": [
    "### Send the Invoice Automatically"
   ]
  },
  {
   "cell_type": "markdown",
   "id": "e3bdc577",
   "metadata": {},
   "source": [
    "![](img/underconstruction.jpg)"
   ]
  },
  {
   "cell_type": "markdown",
   "id": "82d7a96a",
   "metadata": {},
   "source": [
    "------"
   ]
  }
 ],
 "metadata": {
  "kernelspec": {
   "display_name": "tuttle",
   "language": "python",
   "name": "ex"
  },
  "language_info": {
   "codemirror_mode": {
    "name": "ipython",
    "version": 3
   },
   "file_extension": ".py",
   "mimetype": "text/x-python",
   "name": "python",
   "nbconvert_exporter": "python",
   "pygments_lexer": "ipython3",
   "version": "3.10.6"
  },
  "vscode": {
   "interpreter": {
    "hash": "5727a89f8f4826e6ce3fb9da18a08727b274ba76880924157270e222bba4a1ac"
   }
  }
 },
 "nbformat": 4,
 "nbformat_minor": 5
}
