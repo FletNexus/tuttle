{
 "cells": [
  {
   "cell_type": "markdown",
   "metadata": {},
   "source": [
    "# Dialog: User Setup"
   ]
  },
  {
   "cell_type": "markdown",
   "metadata": {},
   "source": [
    "## Preamble"
   ]
  },
  {
   "cell_type": "code",
   "execution_count": 1,
   "metadata": {},
   "outputs": [],
   "source": [
    "import sqlmodel"
   ]
  },
  {
   "cell_type": "code",
   "execution_count": 2,
   "metadata": {},
   "outputs": [
    {
     "name": "stdout",
     "output_type": "stream",
     "text": [
      "2022-01-10 17:31:44,614 INFO sqlalchemy.engine.Engine BEGIN (implicit)\n",
      "2022-01-10 17:31:44,615 INFO sqlalchemy.engine.Engine PRAGMA main.table_info(\"address\")\n",
      "2022-01-10 17:31:44,615 INFO sqlalchemy.engine.Engine [raw sql] ()\n",
      "2022-01-10 17:31:44,616 INFO sqlalchemy.engine.Engine PRAGMA main.table_info(\"user\")\n",
      "2022-01-10 17:31:44,616 INFO sqlalchemy.engine.Engine [raw sql] ()\n",
      "2022-01-10 17:31:44,616 INFO sqlalchemy.engine.Engine PRAGMA main.table_info(\"bank\")\n",
      "2022-01-10 17:31:44,616 INFO sqlalchemy.engine.Engine [raw sql] ()\n",
      "2022-01-10 17:31:44,617 INFO sqlalchemy.engine.Engine PRAGMA main.table_info(\"bankaccount\")\n",
      "2022-01-10 17:31:44,617 INFO sqlalchemy.engine.Engine [raw sql] ()\n",
      "2022-01-10 17:31:44,617 INFO sqlalchemy.engine.Engine PRAGMA main.table_info(\"contact\")\n",
      "2022-01-10 17:31:44,617 INFO sqlalchemy.engine.Engine [raw sql] ()\n",
      "2022-01-10 17:31:44,618 INFO sqlalchemy.engine.Engine PRAGMA main.table_info(\"client\")\n",
      "2022-01-10 17:31:44,618 INFO sqlalchemy.engine.Engine [raw sql] ()\n",
      "2022-01-10 17:31:44,618 INFO sqlalchemy.engine.Engine PRAGMA main.table_info(\"rate\")\n",
      "2022-01-10 17:31:44,618 INFO sqlalchemy.engine.Engine [raw sql] ()\n",
      "2022-01-10 17:31:44,619 INFO sqlalchemy.engine.Engine PRAGMA main.table_info(\"contract\")\n",
      "2022-01-10 17:31:44,620 INFO sqlalchemy.engine.Engine [raw sql] ()\n",
      "2022-01-10 17:31:44,621 INFO sqlalchemy.engine.Engine PRAGMA main.table_info(\"project\")\n",
      "2022-01-10 17:31:44,621 INFO sqlalchemy.engine.Engine [raw sql] ()\n",
      "2022-01-10 17:31:44,622 INFO sqlalchemy.engine.Engine PRAGMA main.table_info(\"timesheet\")\n",
      "2022-01-10 17:31:44,622 INFO sqlalchemy.engine.Engine [raw sql] ()\n",
      "2022-01-10 17:31:44,622 INFO sqlalchemy.engine.Engine PRAGMA main.table_info(\"invoice\")\n",
      "2022-01-10 17:31:44,623 INFO sqlalchemy.engine.Engine [raw sql] ()\n",
      "2022-01-10 17:31:44,623 INFO sqlalchemy.engine.Engine PRAGMA main.table_info(\"invoiceitem\")\n",
      "2022-01-10 17:31:44,623 INFO sqlalchemy.engine.Engine [raw sql] ()\n",
      "2022-01-10 17:31:44,624 INFO sqlalchemy.engine.Engine COMMIT\n"
     ]
    }
   ],
   "source": [
    "import tuttle"
   ]
  },
  {
   "cell_type": "code",
   "execution_count": 3,
   "metadata": {},
   "outputs": [],
   "source": [
    "from tuttle.app import the_app"
   ]
  },
  {
   "cell_type": "markdown",
   "metadata": {},
   "source": [
    "## Dialog"
   ]
  },
  {
   "cell_type": "markdown",
   "metadata": {},
   "source": [
    "Welcome to Tuttle. You are a freelancer looking to simplify planning for your freelance business. Let's get you set up."
   ]
  },
  {
   "cell_type": "code",
   "execution_count": 4,
   "metadata": {},
   "outputs": [],
   "source": [
    "my_address = tuttle.model.Address(\n",
    "    street=\"Main Street\",\n",
    "    number=\"55\",\n",
    "    city=\"City 17\",\n",
    "    zip_code=\"555555\",\n",
    "    country=\"Brazil\",\n",
    ")"
   ]
  },
  {
   "cell_type": "code",
   "execution_count": 5,
   "metadata": {},
   "outputs": [
    {
     "data": {
      "text/plain": [
       "Address(id=None, street='Main Street', number='55', city='City 17', zip_code='555555', country='Brazil')"
      ]
     },
     "execution_count": 5,
     "metadata": {},
     "output_type": "execute_result"
    }
   ],
   "source": [
    "my_address"
   ]
  },
  {
   "cell_type": "code",
   "execution_count": 6,
   "metadata": {},
   "outputs": [],
   "source": [
    "my_user = tuttle.model.User(\n",
    "    name=\"Harry Tuttle\",\n",
    "    subtitle=\"Heating Engineer\",\n",
    "    business_name=\"Heating Engineer at Your Service\",\n",
    "    e_mail=\"harry@tuttle.com\",\n",
    "    address=my_address\n",
    ")"
   ]
  },
  {
   "cell_type": "code",
   "execution_count": 7,
   "metadata": {},
   "outputs": [
    {
     "name": "stdout",
     "output_type": "stream",
     "text": [
      "2022-01-10 17:31:44,797 INFO sqlalchemy.engine.Engine BEGIN (implicit)\n",
      "2022-01-10 17:31:44,798 INFO sqlalchemy.engine.Engine INSERT INTO address (street, number, city, zip_code, country) VALUES (?, ?, ?, ?, ?)\n",
      "2022-01-10 17:31:44,799 INFO sqlalchemy.engine.Engine [generated in 0.00043s] ('Main Street', '55', 'City 17', '555555', 'Brazil')\n",
      "2022-01-10 17:31:44,800 INFO sqlalchemy.engine.Engine INSERT INTO user (name, subtitle, e_mail, address_id, \"VAT_number\", business_name) VALUES (?, ?, ?, ?, ?, ?)\n",
      "2022-01-10 17:31:44,801 INFO sqlalchemy.engine.Engine [generated in 0.00038s] ('Harry Tuttle', 'Heating Engineer', 'harry@tuttle.com', 1, None, 'Heating Engineer at Your Service')\n",
      "2022-01-10 17:31:44,801 INFO sqlalchemy.engine.Engine COMMIT\n"
     ]
    }
   ],
   "source": [
    "with the_app.get_session() as session:\n",
    "    session.add(my_user)\n",
    "    session.commit()"
   ]
  },
  {
   "cell_type": "code",
   "execution_count": 8,
   "metadata": {},
   "outputs": [
    {
     "name": "stdout",
     "output_type": "stream",
     "text": [
      "2022-01-10 17:31:44,825 INFO sqlalchemy.engine.Engine BEGIN (implicit)\n",
      "2022-01-10 17:31:44,826 INFO sqlalchemy.engine.Engine SELECT address.id, address.street, address.number, address.city, address.zip_code, address.country \n",
      "FROM address\n",
      "2022-01-10 17:31:44,826 INFO sqlalchemy.engine.Engine [no key 0.00021s] ()\n",
      "2022-01-10 17:31:44,827 INFO sqlalchemy.engine.Engine ROLLBACK\n"
     ]
    },
    {
     "name": "stderr",
     "output_type": "stream",
     "text": [
      "/Users/cls/miniforge3/envs/tuttle/lib/python3.9/site-packages/sqlmodel/orm/session.py:60: SAWarning: Class SelectOfScalar will not make use of SQL compilation caching as it does not set the 'inherit_cache' attribute to ``True``.  This can have significant performance implications including some performance degradations in comparison to prior SQLAlchemy versions.  Set this attribute to True if this object can make use of the cache key generated by the superclass.  Alternatively, this attribute may be set to False which will disable this warning. (Background on this error at: https://sqlalche.me/e/14/cprf)\n",
      "  results = super().execute(\n"
     ]
    },
    {
     "data": {
      "text/plain": [
       "[Address(street='Main Street', id=1, city='City 17', country='Brazil', number='55', zip_code='555555')]"
      ]
     },
     "execution_count": 8,
     "metadata": {},
     "output_type": "execute_result"
    }
   ],
   "source": [
    "with the_app.get_session() as session:\n",
    "    addresses = session.exec(\n",
    "        sqlmodel.select(tuttle.model.Address)\n",
    "    ).all()\n",
    "addresses"
   ]
  },
  {
   "cell_type": "code",
   "execution_count": 9,
   "metadata": {},
   "outputs": [
    {
     "data": {
      "text/plain": [
       "PosixPath('/Users/cls/.tuttle/tuttle.db')"
      ]
     },
     "execution_count": 9,
     "metadata": {},
     "output_type": "execute_result"
    }
   ],
   "source": [
    "the_app.db_path"
   ]
  },
  {
   "cell_type": "code",
   "execution_count": 10,
   "metadata": {},
   "outputs": [
    {
     "name": "stdout",
     "output_type": "stream",
     "text": [
      "2022-01-10 17:31:44,873 INFO sqlalchemy.engine.Engine BEGIN (implicit)\n",
      "2022-01-10 17:31:44,873 INFO sqlalchemy.engine.Engine PRAGMA main.table_info(\"address\")\n",
      "2022-01-10 17:31:44,874 INFO sqlalchemy.engine.Engine [raw sql] ()\n",
      "2022-01-10 17:31:44,874 INFO sqlalchemy.engine.Engine PRAGMA temp.table_info(\"address\")\n",
      "2022-01-10 17:31:44,875 INFO sqlalchemy.engine.Engine [raw sql] ()\n",
      "2022-01-10 17:31:44,875 INFO sqlalchemy.engine.Engine PRAGMA main.table_info(\"user\")\n",
      "2022-01-10 17:31:44,875 INFO sqlalchemy.engine.Engine [raw sql] ()\n",
      "2022-01-10 17:31:44,876 INFO sqlalchemy.engine.Engine PRAGMA temp.table_info(\"user\")\n",
      "2022-01-10 17:31:44,877 INFO sqlalchemy.engine.Engine [raw sql] ()\n",
      "2022-01-10 17:31:44,877 INFO sqlalchemy.engine.Engine PRAGMA main.table_info(\"bank\")\n",
      "2022-01-10 17:31:44,878 INFO sqlalchemy.engine.Engine [raw sql] ()\n",
      "2022-01-10 17:31:44,878 INFO sqlalchemy.engine.Engine PRAGMA temp.table_info(\"bank\")\n",
      "2022-01-10 17:31:44,879 INFO sqlalchemy.engine.Engine [raw sql] ()\n",
      "2022-01-10 17:31:44,879 INFO sqlalchemy.engine.Engine PRAGMA main.table_info(\"bankaccount\")\n",
      "2022-01-10 17:31:44,879 INFO sqlalchemy.engine.Engine [raw sql] ()\n",
      "2022-01-10 17:31:44,879 INFO sqlalchemy.engine.Engine PRAGMA temp.table_info(\"bankaccount\")\n",
      "2022-01-10 17:31:44,880 INFO sqlalchemy.engine.Engine [raw sql] ()\n",
      "2022-01-10 17:31:44,880 INFO sqlalchemy.engine.Engine PRAGMA main.table_info(\"contact\")\n",
      "2022-01-10 17:31:44,880 INFO sqlalchemy.engine.Engine [raw sql] ()\n",
      "2022-01-10 17:31:44,881 INFO sqlalchemy.engine.Engine PRAGMA temp.table_info(\"contact\")\n",
      "2022-01-10 17:31:44,881 INFO sqlalchemy.engine.Engine [raw sql] ()\n",
      "2022-01-10 17:31:44,881 INFO sqlalchemy.engine.Engine PRAGMA main.table_info(\"client\")\n",
      "2022-01-10 17:31:44,882 INFO sqlalchemy.engine.Engine [raw sql] ()\n",
      "2022-01-10 17:31:44,883 INFO sqlalchemy.engine.Engine PRAGMA temp.table_info(\"client\")\n",
      "2022-01-10 17:31:44,883 INFO sqlalchemy.engine.Engine [raw sql] ()\n",
      "2022-01-10 17:31:44,884 INFO sqlalchemy.engine.Engine PRAGMA main.table_info(\"rate\")\n",
      "2022-01-10 17:31:44,884 INFO sqlalchemy.engine.Engine [raw sql] ()\n",
      "2022-01-10 17:31:44,884 INFO sqlalchemy.engine.Engine PRAGMA temp.table_info(\"rate\")\n",
      "2022-01-10 17:31:44,885 INFO sqlalchemy.engine.Engine [raw sql] ()\n",
      "2022-01-10 17:31:44,885 INFO sqlalchemy.engine.Engine PRAGMA main.table_info(\"contract\")\n",
      "2022-01-10 17:31:44,885 INFO sqlalchemy.engine.Engine [raw sql] ()\n",
      "2022-01-10 17:31:44,885 INFO sqlalchemy.engine.Engine PRAGMA temp.table_info(\"contract\")\n",
      "2022-01-10 17:31:44,886 INFO sqlalchemy.engine.Engine [raw sql] ()\n",
      "2022-01-10 17:31:44,886 INFO sqlalchemy.engine.Engine PRAGMA main.table_info(\"project\")\n",
      "2022-01-10 17:31:44,886 INFO sqlalchemy.engine.Engine [raw sql] ()\n",
      "2022-01-10 17:31:44,886 INFO sqlalchemy.engine.Engine PRAGMA temp.table_info(\"project\")\n",
      "2022-01-10 17:31:44,886 INFO sqlalchemy.engine.Engine [raw sql] ()\n",
      "2022-01-10 17:31:44,887 INFO sqlalchemy.engine.Engine PRAGMA main.table_info(\"timesheet\")\n",
      "2022-01-10 17:31:44,887 INFO sqlalchemy.engine.Engine [raw sql] ()\n",
      "2022-01-10 17:31:44,887 INFO sqlalchemy.engine.Engine PRAGMA temp.table_info(\"timesheet\")\n",
      "2022-01-10 17:31:44,887 INFO sqlalchemy.engine.Engine [raw sql] ()\n",
      "2022-01-10 17:31:44,888 INFO sqlalchemy.engine.Engine PRAGMA main.table_info(\"invoice\")\n",
      "2022-01-10 17:31:44,888 INFO sqlalchemy.engine.Engine [raw sql] ()\n",
      "2022-01-10 17:31:44,889 INFO sqlalchemy.engine.Engine PRAGMA temp.table_info(\"invoice\")\n",
      "2022-01-10 17:31:44,890 INFO sqlalchemy.engine.Engine [raw sql] ()\n",
      "2022-01-10 17:31:44,891 INFO sqlalchemy.engine.Engine PRAGMA main.table_info(\"invoiceitem\")\n",
      "2022-01-10 17:31:44,891 INFO sqlalchemy.engine.Engine [raw sql] ()\n",
      "2022-01-10 17:31:44,892 INFO sqlalchemy.engine.Engine PRAGMA temp.table_info(\"invoiceitem\")\n",
      "2022-01-10 17:31:44,894 INFO sqlalchemy.engine.Engine [raw sql] ()\n",
      "2022-01-10 17:31:44,896 INFO sqlalchemy.engine.Engine \n",
      "CREATE TABLE address (\n",
      "\tid INTEGER, \n",
      "\tstreet VARCHAR NOT NULL, \n",
      "\tnumber VARCHAR NOT NULL, \n",
      "\tcity VARCHAR NOT NULL, \n",
      "\tzip_code VARCHAR NOT NULL, \n",
      "\tcountry VARCHAR NOT NULL, \n",
      "\tPRIMARY KEY (id)\n",
      ")\n",
      "\n",
      "\n",
      "2022-01-10 17:31:44,897 INFO sqlalchemy.engine.Engine [no key 0.00094s] ()\n",
      "2022-01-10 17:31:44,901 INFO sqlalchemy.engine.Engine \n",
      "CREATE TABLE bank (\n",
      "\tid INTEGER, \n",
      "\t\"BLZ\" VARCHAR NOT NULL, \n",
      "\tPRIMARY KEY (id)\n",
      ")\n",
      "\n",
      "\n",
      "2022-01-10 17:31:44,902 INFO sqlalchemy.engine.Engine [no key 0.00057s] ()\n",
      "2022-01-10 17:31:44,903 INFO sqlalchemy.engine.Engine \n",
      "CREATE TABLE bankaccount (\n",
      "\tid INTEGER, \n",
      "\tname VARCHAR NOT NULL, \n",
      "\t\"IBAN\" VARCHAR NOT NULL, \n",
      "\t\"BIC\" VARCHAR NOT NULL, \n",
      "\tusername VARCHAR NOT NULL, \n",
      "\tPRIMARY KEY (id)\n",
      ")\n",
      "\n",
      "\n",
      "2022-01-10 17:31:44,904 INFO sqlalchemy.engine.Engine [no key 0.00052s] ()\n",
      "2022-01-10 17:31:44,905 INFO sqlalchemy.engine.Engine \n",
      "CREATE TABLE contact (\n",
      "\tid INTEGER, \n",
      "\tname VARCHAR NOT NULL, \n",
      "\te_mail VARCHAR, \n",
      "\tPRIMARY KEY (id)\n",
      ")\n",
      "\n",
      "\n",
      "2022-01-10 17:31:44,905 INFO sqlalchemy.engine.Engine [no key 0.00032s] ()\n",
      "2022-01-10 17:31:44,908 INFO sqlalchemy.engine.Engine \n",
      "CREATE TABLE rate (\n",
      "\tcycle VARCHAR(10), \n",
      "\tid INTEGER, \n",
      "\tamount NUMERIC NOT NULL, \n",
      "\tPRIMARY KEY (id)\n",
      ")\n",
      "\n",
      "\n",
      "2022-01-10 17:31:44,909 INFO sqlalchemy.engine.Engine [no key 0.00155s] ()\n",
      "2022-01-10 17:31:44,911 INFO sqlalchemy.engine.Engine \n",
      "CREATE TABLE user (\n",
      "\tid INTEGER, \n",
      "\tname VARCHAR NOT NULL, \n",
      "\tsubtitle VARCHAR NOT NULL, \n",
      "\te_mail VARCHAR NOT NULL, \n",
      "\taddress_id INTEGER, \n",
      "\t\"VAT_number\" VARCHAR, \n",
      "\tbusiness_name VARCHAR, \n",
      "\tPRIMARY KEY (id), \n",
      "\tFOREIGN KEY(address_id) REFERENCES address (id)\n",
      ")\n",
      "\n",
      "\n",
      "2022-01-10 17:31:44,911 INFO sqlalchemy.engine.Engine [no key 0.00038s] ()\n",
      "2022-01-10 17:31:44,913 INFO sqlalchemy.engine.Engine \n",
      "CREATE TABLE client (\n",
      "\tid INTEGER, \n",
      "\tname VARCHAR NOT NULL, \n",
      "\tinvoicing_contact_id INTEGER, \n",
      "\tPRIMARY KEY (id), \n",
      "\tFOREIGN KEY(invoicing_contact_id) REFERENCES contact (id)\n",
      ")\n",
      "\n",
      "\n",
      "2022-01-10 17:31:44,913 INFO sqlalchemy.engine.Engine [no key 0.00025s] ()\n",
      "2022-01-10 17:31:44,914 INFO sqlalchemy.engine.Engine \n",
      "CREATE TABLE contract (\n",
      "\tid INTEGER, \n",
      "\ttitle VARCHAR NOT NULL, \n",
      "\tdate DATETIME NOT NULL, \n",
      "\tclient_id INTEGER, \n",
      "\trate_id INTEGER, \n",
      "\tPRIMARY KEY (id), \n",
      "\tFOREIGN KEY(client_id) REFERENCES client (id), \n",
      "\tFOREIGN KEY(rate_id) REFERENCES rate (id)\n",
      ")\n",
      "\n",
      "\n",
      "2022-01-10 17:31:44,915 INFO sqlalchemy.engine.Engine [no key 0.00037s] ()\n",
      "2022-01-10 17:31:44,916 INFO sqlalchemy.engine.Engine \n",
      "CREATE TABLE project (\n",
      "\tid INTEGER, \n",
      "\tname VARCHAR NOT NULL, \n",
      "\tstart_date DATETIME NOT NULL, \n",
      "\tend_date DATETIME NOT NULL, \n",
      "\tcontract_id INTEGER, \n",
      "\tvolume INTEGER, \n",
      "\tPRIMARY KEY (id), \n",
      "\tFOREIGN KEY(contract_id) REFERENCES contract (id)\n",
      ")\n",
      "\n",
      "\n",
      "2022-01-10 17:31:44,916 INFO sqlalchemy.engine.Engine [no key 0.00030s] ()\n",
      "2022-01-10 17:31:44,917 INFO sqlalchemy.engine.Engine \n",
      "CREATE TABLE timesheet (\n",
      "\tid INTEGER, \n",
      "\tproject_id INTEGER, \n",
      "\tPRIMARY KEY (id), \n",
      "\tFOREIGN KEY(project_id) REFERENCES project (id)\n",
      ")\n",
      "\n",
      "\n",
      "2022-01-10 17:31:44,918 INFO sqlalchemy.engine.Engine [no key 0.00031s] ()\n",
      "2022-01-10 17:31:44,919 INFO sqlalchemy.engine.Engine \n",
      "CREATE TABLE invoice (\n",
      "\tid INTEGER, \n",
      "\ttimesheet_id INTEGER, \n",
      "\tcontract_id INTEGER, \n",
      "\tdate DATE NOT NULL, \n",
      "\tdue_date DATE NOT NULL, \n",
      "\tsent_date DATE NOT NULL, \n",
      "\tsent BOOLEAN NOT NULL, \n",
      "\tpaid BOOLEAN NOT NULL, \n",
      "\tcancelled BOOLEAN NOT NULL, \n",
      "\ttotal NUMERIC NOT NULL, \n",
      "\t\"VAT_total\" NUMERIC NOT NULL, \n",
      "\tPRIMARY KEY (id), \n",
      "\tFOREIGN KEY(timesheet_id) REFERENCES timesheet (id), \n",
      "\tFOREIGN KEY(contract_id) REFERENCES contract (id)\n",
      ")\n",
      "\n",
      "\n",
      "2022-01-10 17:31:44,919 INFO sqlalchemy.engine.Engine [no key 0.00023s] ()\n",
      "2022-01-10 17:31:44,920 INFO sqlalchemy.engine.Engine \n",
      "CREATE TABLE invoiceitem (\n",
      "\tid INTEGER, \n",
      "\tinvoice_id INTEGER, \n",
      "\tamount INTEGER NOT NULL, \n",
      "\ttext VARCHAR NOT NULL, \n",
      "\tunit VARCHAR NOT NULL, \n",
      "\tunit_price INTEGER NOT NULL, \n",
      "\t\"VAT_rate\" FLOAT NOT NULL, \n",
      "\tPRIMARY KEY (id), \n",
      "\tFOREIGN KEY(invoice_id) REFERENCES invoice (id)\n",
      ")\n",
      "\n",
      "\n",
      "2022-01-10 17:31:44,920 INFO sqlalchemy.engine.Engine [no key 0.00026s] ()\n",
      "2022-01-10 17:31:44,922 INFO sqlalchemy.engine.Engine COMMIT\n"
     ]
    }
   ],
   "source": [
    "the_app.clear_database()"
   ]
  },
  {
   "cell_type": "code",
   "execution_count": null,
   "metadata": {},
   "outputs": [],
   "source": [
    "the_app.get_user()"
   ]
  }
 ],
 "metadata": {
  "interpreter": {
   "hash": "1b2a14e316f8528313aca7083ad4a819e30957812d4a6b2b5fed00540ac717aa"
  },
  "kernelspec": {
   "display_name": "Python 3.9.7 64-bit ('tuttle': conda)",
   "language": "python",
   "name": "python3"
  },
  "language_info": {
   "codemirror_mode": {
    "name": "ipython",
    "version": 3
   },
   "file_extension": ".py",
   "mimetype": "text/x-python",
   "name": "python",
   "nbconvert_exporter": "python",
   "pygments_lexer": "ipython3",
   "version": "3.9.7"
  },
  "orig_nbformat": 4
 },
 "nbformat": 4,
 "nbformat_minor": 2
}
