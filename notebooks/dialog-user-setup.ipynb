{
 "cells": [
  {
   "cell_type": "markdown",
   "metadata": {},
   "source": [
    "# Dialog: User Setup"
   ]
  },
  {
   "cell_type": "markdown",
   "metadata": {},
   "source": [
    "## Preamble"
   ]
  },
  {
   "cell_type": "code",
   "execution_count": 1,
   "metadata": {},
   "outputs": [],
   "source": [
    "import sqlmodel"
   ]
  },
  {
   "cell_type": "code",
   "execution_count": 2,
   "metadata": {},
   "outputs": [
    {
     "name": "stdout",
     "output_type": "stream",
     "text": [
      "2022-01-10 17:35:29,896 INFO sqlalchemy.engine.Engine BEGIN (implicit)\n",
      "2022-01-10 17:35:29,896 INFO sqlalchemy.engine.Engine PRAGMA main.table_info(\"address\")\n",
      "2022-01-10 17:35:29,896 INFO sqlalchemy.engine.Engine [raw sql] ()\n",
      "2022-01-10 17:35:29,897 INFO sqlalchemy.engine.Engine PRAGMA main.table_info(\"user\")\n",
      "2022-01-10 17:35:29,897 INFO sqlalchemy.engine.Engine [raw sql] ()\n",
      "2022-01-10 17:35:29,897 INFO sqlalchemy.engine.Engine PRAGMA main.table_info(\"bank\")\n",
      "2022-01-10 17:35:29,898 INFO sqlalchemy.engine.Engine [raw sql] ()\n",
      "2022-01-10 17:35:29,898 INFO sqlalchemy.engine.Engine PRAGMA main.table_info(\"bankaccount\")\n",
      "2022-01-10 17:35:29,898 INFO sqlalchemy.engine.Engine [raw sql] ()\n",
      "2022-01-10 17:35:29,899 INFO sqlalchemy.engine.Engine PRAGMA main.table_info(\"contact\")\n",
      "2022-01-10 17:35:29,899 INFO sqlalchemy.engine.Engine [raw sql] ()\n",
      "2022-01-10 17:35:29,900 INFO sqlalchemy.engine.Engine PRAGMA main.table_info(\"client\")\n",
      "2022-01-10 17:35:29,900 INFO sqlalchemy.engine.Engine [raw sql] ()\n",
      "2022-01-10 17:35:29,900 INFO sqlalchemy.engine.Engine PRAGMA main.table_info(\"rate\")\n",
      "2022-01-10 17:35:29,900 INFO sqlalchemy.engine.Engine [raw sql] ()\n",
      "2022-01-10 17:35:29,901 INFO sqlalchemy.engine.Engine PRAGMA main.table_info(\"contract\")\n",
      "2022-01-10 17:35:29,901 INFO sqlalchemy.engine.Engine [raw sql] ()\n",
      "2022-01-10 17:35:29,901 INFO sqlalchemy.engine.Engine PRAGMA main.table_info(\"project\")\n",
      "2022-01-10 17:35:29,902 INFO sqlalchemy.engine.Engine [raw sql] ()\n",
      "2022-01-10 17:35:29,902 INFO sqlalchemy.engine.Engine PRAGMA main.table_info(\"timesheet\")\n",
      "2022-01-10 17:35:29,902 INFO sqlalchemy.engine.Engine [raw sql] ()\n",
      "2022-01-10 17:35:29,903 INFO sqlalchemy.engine.Engine PRAGMA main.table_info(\"invoice\")\n",
      "2022-01-10 17:35:29,903 INFO sqlalchemy.engine.Engine [raw sql] ()\n",
      "2022-01-10 17:35:29,903 INFO sqlalchemy.engine.Engine PRAGMA main.table_info(\"invoiceitem\")\n",
      "2022-01-10 17:35:29,903 INFO sqlalchemy.engine.Engine [raw sql] ()\n",
      "2022-01-10 17:35:29,904 INFO sqlalchemy.engine.Engine COMMIT\n"
     ]
    }
   ],
   "source": [
    "import tuttle"
   ]
  },
  {
   "cell_type": "code",
   "execution_count": 3,
   "metadata": {},
   "outputs": [],
   "source": [
    "from tuttle.app import the_app"
   ]
  },
  {
   "cell_type": "markdown",
   "metadata": {},
   "source": [
    "## Dialog"
   ]
  },
  {
   "cell_type": "markdown",
   "metadata": {},
   "source": [
    "Welcome to Tuttle. You are a freelancer looking to simplify planning for your freelance business. Let's get you set up."
   ]
  },
  {
   "cell_type": "code",
   "execution_count": 4,
   "metadata": {},
   "outputs": [
    {
     "name": "stdout",
     "output_type": "stream",
     "text": [
      "2022-01-10 17:35:29,990 INFO sqlalchemy.engine.Engine BEGIN (implicit)\n",
      "2022-01-10 17:35:29,991 INFO sqlalchemy.engine.Engine PRAGMA main.table_info(\"address\")\n",
      "2022-01-10 17:35:29,991 INFO sqlalchemy.engine.Engine [raw sql] ()\n",
      "2022-01-10 17:35:29,991 INFO sqlalchemy.engine.Engine PRAGMA temp.table_info(\"address\")\n",
      "2022-01-10 17:35:29,991 INFO sqlalchemy.engine.Engine [raw sql] ()\n",
      "2022-01-10 17:35:29,992 INFO sqlalchemy.engine.Engine PRAGMA main.table_info(\"user\")\n",
      "2022-01-10 17:35:29,992 INFO sqlalchemy.engine.Engine [raw sql] ()\n",
      "2022-01-10 17:35:29,992 INFO sqlalchemy.engine.Engine PRAGMA temp.table_info(\"user\")\n",
      "2022-01-10 17:35:29,993 INFO sqlalchemy.engine.Engine [raw sql] ()\n",
      "2022-01-10 17:35:29,993 INFO sqlalchemy.engine.Engine PRAGMA main.table_info(\"bank\")\n",
      "2022-01-10 17:35:29,993 INFO sqlalchemy.engine.Engine [raw sql] ()\n",
      "2022-01-10 17:35:29,994 INFO sqlalchemy.engine.Engine PRAGMA temp.table_info(\"bank\")\n",
      "2022-01-10 17:35:29,994 INFO sqlalchemy.engine.Engine [raw sql] ()\n",
      "2022-01-10 17:35:29,994 INFO sqlalchemy.engine.Engine PRAGMA main.table_info(\"bankaccount\")\n",
      "2022-01-10 17:35:29,994 INFO sqlalchemy.engine.Engine [raw sql] ()\n",
      "2022-01-10 17:35:29,995 INFO sqlalchemy.engine.Engine PRAGMA temp.table_info(\"bankaccount\")\n",
      "2022-01-10 17:35:29,995 INFO sqlalchemy.engine.Engine [raw sql] ()\n",
      "2022-01-10 17:35:29,995 INFO sqlalchemy.engine.Engine PRAGMA main.table_info(\"contact\")\n",
      "2022-01-10 17:35:29,995 INFO sqlalchemy.engine.Engine [raw sql] ()\n",
      "2022-01-10 17:35:29,996 INFO sqlalchemy.engine.Engine PRAGMA temp.table_info(\"contact\")\n",
      "2022-01-10 17:35:29,996 INFO sqlalchemy.engine.Engine [raw sql] ()\n",
      "2022-01-10 17:35:29,996 INFO sqlalchemy.engine.Engine PRAGMA main.table_info(\"client\")\n",
      "2022-01-10 17:35:29,996 INFO sqlalchemy.engine.Engine [raw sql] ()\n",
      "2022-01-10 17:35:29,997 INFO sqlalchemy.engine.Engine PRAGMA temp.table_info(\"client\")\n",
      "2022-01-10 17:35:29,997 INFO sqlalchemy.engine.Engine [raw sql] ()\n",
      "2022-01-10 17:35:29,997 INFO sqlalchemy.engine.Engine PRAGMA main.table_info(\"rate\")\n",
      "2022-01-10 17:35:29,997 INFO sqlalchemy.engine.Engine [raw sql] ()\n",
      "2022-01-10 17:35:29,997 INFO sqlalchemy.engine.Engine PRAGMA temp.table_info(\"rate\")\n",
      "2022-01-10 17:35:29,998 INFO sqlalchemy.engine.Engine [raw sql] ()\n",
      "2022-01-10 17:35:29,998 INFO sqlalchemy.engine.Engine PRAGMA main.table_info(\"contract\")\n",
      "2022-01-10 17:35:29,998 INFO sqlalchemy.engine.Engine [raw sql] ()\n",
      "2022-01-10 17:35:29,998 INFO sqlalchemy.engine.Engine PRAGMA temp.table_info(\"contract\")\n",
      "2022-01-10 17:35:29,998 INFO sqlalchemy.engine.Engine [raw sql] ()\n",
      "2022-01-10 17:35:29,999 INFO sqlalchemy.engine.Engine PRAGMA main.table_info(\"project\")\n",
      "2022-01-10 17:35:29,999 INFO sqlalchemy.engine.Engine [raw sql] ()\n",
      "2022-01-10 17:35:29,999 INFO sqlalchemy.engine.Engine PRAGMA temp.table_info(\"project\")\n",
      "2022-01-10 17:35:29,999 INFO sqlalchemy.engine.Engine [raw sql] ()\n",
      "2022-01-10 17:35:30,000 INFO sqlalchemy.engine.Engine PRAGMA main.table_info(\"timesheet\")\n",
      "2022-01-10 17:35:30,000 INFO sqlalchemy.engine.Engine [raw sql] ()\n",
      "2022-01-10 17:35:30,000 INFO sqlalchemy.engine.Engine PRAGMA temp.table_info(\"timesheet\")\n",
      "2022-01-10 17:35:30,000 INFO sqlalchemy.engine.Engine [raw sql] ()\n",
      "2022-01-10 17:35:30,001 INFO sqlalchemy.engine.Engine PRAGMA main.table_info(\"invoice\")\n",
      "2022-01-10 17:35:30,002 INFO sqlalchemy.engine.Engine [raw sql] ()\n",
      "2022-01-10 17:35:30,003 INFO sqlalchemy.engine.Engine PRAGMA temp.table_info(\"invoice\")\n",
      "2022-01-10 17:35:30,003 INFO sqlalchemy.engine.Engine [raw sql] ()\n",
      "2022-01-10 17:35:30,003 INFO sqlalchemy.engine.Engine PRAGMA main.table_info(\"invoiceitem\")\n",
      "2022-01-10 17:35:30,004 INFO sqlalchemy.engine.Engine [raw sql] ()\n",
      "2022-01-10 17:35:30,004 INFO sqlalchemy.engine.Engine PRAGMA temp.table_info(\"invoiceitem\")\n",
      "2022-01-10 17:35:30,004 INFO sqlalchemy.engine.Engine [raw sql] ()\n",
      "2022-01-10 17:35:30,005 INFO sqlalchemy.engine.Engine \n",
      "CREATE TABLE address (\n",
      "\tid INTEGER, \n",
      "\tstreet VARCHAR NOT NULL, \n",
      "\tnumber VARCHAR NOT NULL, \n",
      "\tcity VARCHAR NOT NULL, \n",
      "\tzip_code VARCHAR NOT NULL, \n",
      "\tcountry VARCHAR NOT NULL, \n",
      "\tPRIMARY KEY (id)\n",
      ")\n",
      "\n",
      "\n",
      "2022-01-10 17:35:30,005 INFO sqlalchemy.engine.Engine [no key 0.00032s] ()\n",
      "2022-01-10 17:35:30,006 INFO sqlalchemy.engine.Engine \n",
      "CREATE TABLE bank (\n",
      "\tid INTEGER, \n",
      "\t\"BLZ\" VARCHAR NOT NULL, \n",
      "\tPRIMARY KEY (id)\n",
      ")\n",
      "\n",
      "\n",
      "2022-01-10 17:35:30,007 INFO sqlalchemy.engine.Engine [no key 0.00023s] ()\n",
      "2022-01-10 17:35:30,008 INFO sqlalchemy.engine.Engine \n",
      "CREATE TABLE bankaccount (\n",
      "\tid INTEGER, \n",
      "\tname VARCHAR NOT NULL, \n",
      "\t\"IBAN\" VARCHAR NOT NULL, \n",
      "\t\"BIC\" VARCHAR NOT NULL, \n",
      "\tusername VARCHAR NOT NULL, \n",
      "\tPRIMARY KEY (id)\n",
      ")\n",
      "\n",
      "\n",
      "2022-01-10 17:35:30,009 INFO sqlalchemy.engine.Engine [no key 0.00028s] ()\n",
      "2022-01-10 17:35:30,009 INFO sqlalchemy.engine.Engine \n",
      "CREATE TABLE contact (\n",
      "\tid INTEGER, \n",
      "\tname VARCHAR NOT NULL, \n",
      "\te_mail VARCHAR, \n",
      "\tPRIMARY KEY (id)\n",
      ")\n",
      "\n",
      "\n",
      "2022-01-10 17:35:30,010 INFO sqlalchemy.engine.Engine [no key 0.00017s] ()\n",
      "2022-01-10 17:35:30,010 INFO sqlalchemy.engine.Engine \n",
      "CREATE TABLE rate (\n",
      "\tcycle VARCHAR(10), \n",
      "\tid INTEGER, \n",
      "\tamount NUMERIC NOT NULL, \n",
      "\tPRIMARY KEY (id)\n",
      ")\n",
      "\n",
      "\n",
      "2022-01-10 17:35:30,010 INFO sqlalchemy.engine.Engine [no key 0.00018s] ()\n",
      "2022-01-10 17:35:30,011 INFO sqlalchemy.engine.Engine \n",
      "CREATE TABLE user (\n",
      "\tid INTEGER, \n",
      "\tname VARCHAR NOT NULL, \n",
      "\tsubtitle VARCHAR NOT NULL, \n",
      "\te_mail VARCHAR NOT NULL, \n",
      "\taddress_id INTEGER, \n",
      "\t\"VAT_number\" VARCHAR, \n",
      "\tbusiness_name VARCHAR, \n",
      "\tPRIMARY KEY (id), \n",
      "\tFOREIGN KEY(address_id) REFERENCES address (id)\n",
      ")\n",
      "\n",
      "\n",
      "2022-01-10 17:35:30,012 INFO sqlalchemy.engine.Engine [no key 0.00051s] ()\n",
      "2022-01-10 17:35:30,013 INFO sqlalchemy.engine.Engine \n",
      "CREATE TABLE client (\n",
      "\tid INTEGER, \n",
      "\tname VARCHAR NOT NULL, \n",
      "\tinvoicing_contact_id INTEGER, \n",
      "\tPRIMARY KEY (id), \n",
      "\tFOREIGN KEY(invoicing_contact_id) REFERENCES contact (id)\n",
      ")\n",
      "\n",
      "\n",
      "2022-01-10 17:35:30,014 INFO sqlalchemy.engine.Engine [no key 0.00048s] ()\n",
      "2022-01-10 17:35:30,015 INFO sqlalchemy.engine.Engine \n",
      "CREATE TABLE contract (\n",
      "\tid INTEGER, \n",
      "\ttitle VARCHAR NOT NULL, \n",
      "\tdate DATETIME NOT NULL, \n",
      "\tclient_id INTEGER, \n",
      "\trate_id INTEGER, \n",
      "\tPRIMARY KEY (id), \n",
      "\tFOREIGN KEY(client_id) REFERENCES client (id), \n",
      "\tFOREIGN KEY(rate_id) REFERENCES rate (id)\n",
      ")\n",
      "\n",
      "\n",
      "2022-01-10 17:35:30,015 INFO sqlalchemy.engine.Engine [no key 0.00038s] ()\n",
      "2022-01-10 17:35:30,016 INFO sqlalchemy.engine.Engine \n",
      "CREATE TABLE project (\n",
      "\tid INTEGER, \n",
      "\tname VARCHAR NOT NULL, \n",
      "\tstart_date DATETIME NOT NULL, \n",
      "\tend_date DATETIME NOT NULL, \n",
      "\tcontract_id INTEGER, \n",
      "\tvolume INTEGER, \n",
      "\tPRIMARY KEY (id), \n",
      "\tFOREIGN KEY(contract_id) REFERENCES contract (id)\n",
      ")\n",
      "\n",
      "\n",
      "2022-01-10 17:35:30,017 INFO sqlalchemy.engine.Engine [no key 0.00027s] ()\n",
      "2022-01-10 17:35:30,017 INFO sqlalchemy.engine.Engine \n",
      "CREATE TABLE timesheet (\n",
      "\tid INTEGER, \n",
      "\tproject_id INTEGER, \n",
      "\tPRIMARY KEY (id), \n",
      "\tFOREIGN KEY(project_id) REFERENCES project (id)\n",
      ")\n",
      "\n",
      "\n",
      "2022-01-10 17:35:30,018 INFO sqlalchemy.engine.Engine [no key 0.00021s] ()\n",
      "2022-01-10 17:35:30,019 INFO sqlalchemy.engine.Engine \n",
      "CREATE TABLE invoice (\n",
      "\tid INTEGER, \n",
      "\ttimesheet_id INTEGER, \n",
      "\tcontract_id INTEGER, \n",
      "\tdate DATE NOT NULL, \n",
      "\tdue_date DATE NOT NULL, \n",
      "\tsent_date DATE NOT NULL, \n",
      "\tsent BOOLEAN NOT NULL, \n",
      "\tpaid BOOLEAN NOT NULL, \n",
      "\tcancelled BOOLEAN NOT NULL, \n",
      "\ttotal NUMERIC NOT NULL, \n",
      "\t\"VAT_total\" NUMERIC NOT NULL, \n",
      "\tPRIMARY KEY (id), \n",
      "\tFOREIGN KEY(timesheet_id) REFERENCES timesheet (id), \n",
      "\tFOREIGN KEY(contract_id) REFERENCES contract (id)\n",
      ")\n",
      "\n",
      "\n",
      "2022-01-10 17:35:30,019 INFO sqlalchemy.engine.Engine [no key 0.00026s] ()\n",
      "2022-01-10 17:35:30,020 INFO sqlalchemy.engine.Engine \n",
      "CREATE TABLE invoiceitem (\n",
      "\tid INTEGER, \n",
      "\tinvoice_id INTEGER, \n",
      "\tamount INTEGER NOT NULL, \n",
      "\ttext VARCHAR NOT NULL, \n",
      "\tunit VARCHAR NOT NULL, \n",
      "\tunit_price INTEGER NOT NULL, \n",
      "\t\"VAT_rate\" FLOAT NOT NULL, \n",
      "\tPRIMARY KEY (id), \n",
      "\tFOREIGN KEY(invoice_id) REFERENCES invoice (id)\n",
      ")\n",
      "\n",
      "\n",
      "2022-01-10 17:35:30,020 INFO sqlalchemy.engine.Engine [no key 0.00052s] ()\n",
      "2022-01-10 17:35:30,022 INFO sqlalchemy.engine.Engine COMMIT\n"
     ]
    }
   ],
   "source": [
    "the_app.clear_database()"
   ]
  },
  {
   "cell_type": "code",
   "execution_count": 5,
   "metadata": {},
   "outputs": [],
   "source": [
    "my_address = tuttle.model.Address(\n",
    "    street=\"Main Street\",\n",
    "    number=\"55\",\n",
    "    city=\"City 17\",\n",
    "    zip_code=\"555555\",\n",
    "    country=\"Brazil\",\n",
    ")"
   ]
  },
  {
   "cell_type": "code",
   "execution_count": 6,
   "metadata": {},
   "outputs": [
    {
     "data": {
      "text/plain": [
       "Address(id=None, street='Main Street', number='55', city='City 17', zip_code='555555', country='Brazil')"
      ]
     },
     "execution_count": 6,
     "metadata": {},
     "output_type": "execute_result"
    }
   ],
   "source": [
    "my_address"
   ]
  },
  {
   "cell_type": "code",
   "execution_count": 7,
   "metadata": {},
   "outputs": [],
   "source": [
    "my_user = tuttle.model.User(\n",
    "    name=\"Harry Tuttle\",\n",
    "    subtitle=\"Heating Engineer\",\n",
    "    business_name=\"Heating Engineer at Your Service\",\n",
    "    e_mail=\"harry@tuttle.com\",\n",
    "    address=my_address\n",
    ")"
   ]
  },
  {
   "cell_type": "code",
   "execution_count": 8,
   "metadata": {},
   "outputs": [
    {
     "name": "stdout",
     "output_type": "stream",
     "text": [
      "2022-01-10 17:35:30,217 INFO sqlalchemy.engine.Engine BEGIN (implicit)\n",
      "2022-01-10 17:35:30,218 INFO sqlalchemy.engine.Engine INSERT INTO address (street, number, city, zip_code, country) VALUES (?, ?, ?, ?, ?)\n",
      "2022-01-10 17:35:30,219 INFO sqlalchemy.engine.Engine [generated in 0.00034s] ('Main Street', '55', 'City 17', '555555', 'Brazil')\n",
      "2022-01-10 17:35:30,220 INFO sqlalchemy.engine.Engine INSERT INTO user (name, subtitle, e_mail, address_id, \"VAT_number\", business_name) VALUES (?, ?, ?, ?, ?, ?)\n",
      "2022-01-10 17:35:30,220 INFO sqlalchemy.engine.Engine [generated in 0.00048s] ('Harry Tuttle', 'Heating Engineer', 'harry@tuttle.com', 1, None, 'Heating Engineer at Your Service')\n",
      "2022-01-10 17:35:30,221 INFO sqlalchemy.engine.Engine COMMIT\n"
     ]
    }
   ],
   "source": [
    "with the_app.get_session() as session:\n",
    "    session.add(my_user)\n",
    "    session.commit()"
   ]
  },
  {
   "cell_type": "code",
   "execution_count": 9,
   "metadata": {},
   "outputs": [
    {
     "name": "stdout",
     "output_type": "stream",
     "text": [
      "2022-01-10 17:35:30,254 INFO sqlalchemy.engine.Engine BEGIN (implicit)\n",
      "2022-01-10 17:35:30,255 INFO sqlalchemy.engine.Engine SELECT address.id, address.street, address.number, address.city, address.zip_code, address.country \n",
      "FROM address\n",
      "2022-01-10 17:35:30,255 INFO sqlalchemy.engine.Engine [no key 0.00026s] ()\n",
      "2022-01-10 17:35:30,256 INFO sqlalchemy.engine.Engine ROLLBACK\n"
     ]
    },
    {
     "name": "stderr",
     "output_type": "stream",
     "text": [
      "/Users/cls/miniforge3/envs/tuttle/lib/python3.9/site-packages/sqlmodel/orm/session.py:60: SAWarning: Class SelectOfScalar will not make use of SQL compilation caching as it does not set the 'inherit_cache' attribute to ``True``.  This can have significant performance implications including some performance degradations in comparison to prior SQLAlchemy versions.  Set this attribute to True if this object can make use of the cache key generated by the superclass.  Alternatively, this attribute may be set to False which will disable this warning. (Background on this error at: https://sqlalche.me/e/14/cprf)\n",
      "  results = super().execute(\n"
     ]
    },
    {
     "data": {
      "text/plain": [
       "[Address(street='Main Street', id=1, city='City 17', country='Brazil', number='55', zip_code='555555')]"
      ]
     },
     "execution_count": 9,
     "metadata": {},
     "output_type": "execute_result"
    }
   ],
   "source": [
    "with the_app.get_session() as session:\n",
    "    addresses = session.exec(\n",
    "        sqlmodel.select(tuttle.model.Address)\n",
    "    ).all()\n",
    "addresses"
   ]
  },
  {
   "cell_type": "code",
   "execution_count": 10,
   "metadata": {},
   "outputs": [
    {
     "data": {
      "text/plain": [
       "PosixPath('/Users/cls/.tuttle/tuttle.db')"
      ]
     },
     "execution_count": 10,
     "metadata": {},
     "output_type": "execute_result"
    }
   ],
   "source": [
    "the_app.db_path"
   ]
  },
  {
   "cell_type": "code",
   "execution_count": 12,
   "metadata": {},
   "outputs": [
    {
     "name": "stdout",
     "output_type": "stream",
     "text": [
      "2022-01-10 17:36:02,713 INFO sqlalchemy.engine.Engine BEGIN (implicit)\n",
      "2022-01-10 17:36:02,714 INFO sqlalchemy.engine.Engine SELECT user.id, user.name, user.subtitle, user.e_mail, user.address_id, user.\"VAT_number\", user.business_name \n",
      "FROM user\n",
      "2022-01-10 17:36:02,714 INFO sqlalchemy.engine.Engine [no key 0.00039s] ()\n",
      "2022-01-10 17:36:02,715 INFO sqlalchemy.engine.Engine ROLLBACK\n"
     ]
    }
   ],
   "source": [
    "current_user = the_app.get_user()"
   ]
  },
  {
   "cell_type": "code",
   "execution_count": 13,
   "metadata": {},
   "outputs": [
    {
     "data": {
      "text/plain": [
       "User(id=1, address_id=1, business_name='Heating Engineer at Your Service', name='Harry Tuttle', e_mail='harry@tuttle.com', subtitle='Heating Engineer', VAT_number=None)"
      ]
     },
     "execution_count": 13,
     "metadata": {},
     "output_type": "execute_result"
    }
   ],
   "source": [
    "current_user"
   ]
  },
  {
   "cell_type": "code",
   "execution_count": null,
   "metadata": {},
   "outputs": [],
   "source": []
  }
 ],
 "metadata": {
  "interpreter": {
   "hash": "1b2a14e316f8528313aca7083ad4a819e30957812d4a6b2b5fed00540ac717aa"
  },
  "kernelspec": {
   "display_name": "Python 3.9.7 64-bit ('tuttle': conda)",
   "language": "python",
   "name": "python3"
  },
  "language_info": {
   "codemirror_mode": {
    "name": "ipython",
    "version": 3
   },
   "file_extension": ".py",
   "mimetype": "text/x-python",
   "name": "python",
   "nbconvert_exporter": "python",
   "pygments_lexer": "ipython3",
   "version": "3.9.7"
  },
  "orig_nbformat": 4
 },
 "nbformat": 4,
 "nbformat_minor": 2
}
