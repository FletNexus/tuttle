{
 "cells": [
  {
   "cell_type": "markdown",
   "id": "81042137-e430-44fb-940e-5b51dad46a57",
   "metadata": {},
   "source": [
    "# Dev: Create Calendars"
   ]
  },
  {
   "cell_type": "markdown",
   "id": "bb37a0ae-a240-492c-bed2-8ebb5abb6280",
   "metadata": {},
   "source": [
    "## Preamble"
   ]
  },
  {
   "cell_type": "code",
   "execution_count": 1,
   "id": "504e39b7-69cd-4916-b663-62322c411cb3",
   "metadata": {},
   "outputs": [],
   "source": [
    "from pathlib import Path"
   ]
  },
  {
   "cell_type": "code",
   "execution_count": 2,
   "id": "9bf2854a-34a7-4df5-850a-81e3ecfcf116",
   "metadata": {},
   "outputs": [],
   "source": [
    "import pandas"
   ]
  },
  {
   "cell_type": "code",
   "execution_count": 3,
   "id": "ff7dc0cd-ffb7-41bb-bc50-89fc5b37e691",
   "metadata": {},
   "outputs": [],
   "source": [
    "import datetime"
   ]
  },
  {
   "cell_type": "markdown",
   "id": "d533c4db-350b-47cc-8751-cce15de8ba72",
   "metadata": {},
   "source": [
    "## Workflow"
   ]
  },
  {
   "cell_type": "code",
   "execution_count": 4,
   "id": "fb108e8d-4d5e-4119-8de7-c75c51a1cffe",
   "metadata": {},
   "outputs": [],
   "source": [
    "from ics import Calendar"
   ]
  },
  {
   "cell_type": "code",
   "execution_count": 5,
   "id": "b9c3b5cc-12ec-418b-a4b4-67e099139ee0",
   "metadata": {},
   "outputs": [
    {
     "ename": "FileNotFoundError",
     "evalue": "[Errno 2] No such file or directory: '../Data/Private/TimeTracking.ics'",
     "output_type": "error",
     "traceback": [
      "\u001b[0;31m---------------------------------------------------------------------------\u001b[0m",
      "\u001b[0;31mFileNotFoundError\u001b[0m                         Traceback (most recent call last)",
      "\u001b[0;32m/var/folders/pl/9s2ysv_92pn6_2w7j2t40mh00000gn/T/ipykernel_27042/3384437949.py\u001b[0m in \u001b[0;36m<module>\u001b[0;34m\u001b[0m\n\u001b[0;32m----> 1\u001b[0;31m \u001b[0;32mwith\u001b[0m \u001b[0mopen\u001b[0m\u001b[0;34m(\u001b[0m\u001b[0mPath\u001b[0m\u001b[0;34m(\u001b[0m\u001b[0;34m\"../Data/Private/TimeTracking.ics\"\u001b[0m\u001b[0;34m)\u001b[0m\u001b[0;34m,\u001b[0m \u001b[0;34m\"r\"\u001b[0m\u001b[0;34m)\u001b[0m \u001b[0;32mas\u001b[0m \u001b[0mcal_file\u001b[0m\u001b[0;34m:\u001b[0m\u001b[0;34m\u001b[0m\u001b[0;34m\u001b[0m\u001b[0m\n\u001b[0m\u001b[1;32m      2\u001b[0m     \u001b[0mcal\u001b[0m \u001b[0;34m=\u001b[0m \u001b[0mCalendar\u001b[0m\u001b[0;34m(\u001b[0m\u001b[0mcal_file\u001b[0m\u001b[0;34m.\u001b[0m\u001b[0mread\u001b[0m\u001b[0;34m(\u001b[0m\u001b[0;34m)\u001b[0m\u001b[0;34m)\u001b[0m\u001b[0;34m\u001b[0m\u001b[0;34m\u001b[0m\u001b[0m\n",
      "\u001b[0;31mFileNotFoundError\u001b[0m: [Errno 2] No such file or directory: '../Data/Private/TimeTracking.ics'"
     ]
    }
   ],
   "source": [
    "with open(Path(\"../Data/Private/TimeTracking.ics\"), \"r\") as cal_file:\n",
    "    cal = Calendar(cal_file.read())"
   ]
  },
  {
   "cell_type": "code",
   "execution_count": null,
   "id": "33ffad64-1b6e-4ac2-9a4d-23c957c07a73",
   "metadata": {},
   "outputs": [],
   "source": [
    "def calendar_to_data(cal: Calendar) -> pandas.DataFrame:\n",
    "    \"\"\"Convert ics Calendar to pandas DataFrame\"\"\"\n",
    "    event_data = pandas.DataFrame(\n",
    "        [\n",
    "            (\n",
    "                event.name,\n",
    "                pandas.to_datetime(event.begin.datetime),\n",
    "                pandas.to_datetime(event.end.datetime),\n",
    "            ) for event in cal.events\n",
    "        ],\n",
    "        columns=[\"name\", \"begin\", \"end\"],\n",
    "    )\n",
    "    return event_data\n",
    "        "
   ]
  },
  {
   "cell_type": "code",
   "execution_count": null,
   "id": "417cbe6d-1d7e-4cf3-b062-0f1e612c1556",
   "metadata": {},
   "outputs": [],
   "source": [
    "event_data = calendar_to_data(cal)\n",
    "event_data"
   ]
  },
  {
   "cell_type": "code",
   "execution_count": null,
   "id": "f50072a1-25fa-41e0-9fcf-4395cffc6cd7",
   "metadata": {},
   "outputs": [],
   "source": [
    "event_data[\"duration\"] = event_data[\"end\"] - event_data[\"begin\"]"
   ]
  },
  {
   "cell_type": "code",
   "execution_count": null,
   "id": "86450d5b-9786-47bc-a2ef-af63427ffbf3",
   "metadata": {},
   "outputs": [],
   "source": [
    "event_data.groupby(\"name\").agg({\"duration\": \"sum\"})"
   ]
  },
  {
   "cell_type": "code",
   "execution_count": null,
   "id": "fa2edc94-038e-442d-9c70-94951ea62703",
   "metadata": {},
   "outputs": [],
   "source": []
  }
 ],
 "metadata": {
  "interpreter": {
   "hash": "245356aabaad9db07c2ec0a0bfe6d5648af2e3dea7c98e4784de5cc7340d65f1"
  },
  "kernelspec": {
   "display_name": "tuttle",
   "language": "python",
   "name": "python3"
  },
  "language_info": {
   "codemirror_mode": {
    "name": "ipython",
    "version": 3
   },
   "file_extension": ".py",
   "mimetype": "text/x-python",
   "name": "python",
   "nbconvert_exporter": "python",
   "pygments_lexer": "ipython3",
   "version": "3.9.7"
  }
 },
 "nbformat": 4,
 "nbformat_minor": 5
}
