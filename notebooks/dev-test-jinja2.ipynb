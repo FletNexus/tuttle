{
 "cells": [
  {
   "cell_type": "markdown",
   "metadata": {},
   "source": [
    "# Test: jinja2 & pdfkit"
   ]
  },
  {
   "cell_type": "markdown",
   "metadata": {},
   "source": [
    "## Preamble"
   ]
  },
  {
   "cell_type": "code",
   "execution_count": 1,
   "metadata": {},
   "outputs": [],
   "source": [
    "from IPython import display"
   ]
  },
  {
   "cell_type": "code",
   "execution_count": 2,
   "metadata": {},
   "outputs": [],
   "source": [
    "import jinja2\n"
   ]
  },
  {
   "cell_type": "code",
   "execution_count": 3,
   "metadata": {},
   "outputs": [],
   "source": [
    "import pdfkit\n",
    "import pathlib"
   ]
  },
  {
   "cell_type": "code",
   "execution_count": 4,
   "metadata": {},
   "outputs": [],
   "source": [
    "env = jinja2.Environment(loader=jinja2.FileSystemLoader('../templates/invoice'))\n",
    "invoice_template = env.get_template(\"invoice.html\")"
   ]
  },
  {
   "cell_type": "code",
   "execution_count": 5,
   "metadata": {},
   "outputs": [
    {
     "data": {
      "text/plain": [
       "<Template 'invoice.html'>"
      ]
     },
     "execution_count": 5,
     "metadata": {},
     "output_type": "execute_result"
    }
   ],
   "source": [
    "invoice_template"
   ]
  },
  {
   "cell_type": "code",
   "execution_count": 6,
   "metadata": {},
   "outputs": [],
   "source": [
    "invoice_html = invoice_template.render(\n",
    "    invoice_number=\"2022-01-10-01\",\n",
    "    total=1000\n",
    ")"
   ]
  },
  {
   "cell_type": "code",
   "execution_count": null,
   "metadata": {},
   "outputs": [],
   "source": []
  },
  {
   "cell_type": "code",
   "execution_count": 7,
   "metadata": {},
   "outputs": [
    {
     "data": {
      "text/html": [
       "<html>\n",
       "<head>\n",
       "    <meta charset=\"utf-8\">\n",
       "    <meta name=\"description\" content=\"Invoice demo sample\">\n",
       "    <meta name=\"pdfkit-page-size\" content=\"Legal\"/>\n",
       "    <meta name=\"pdfkit-orientation\" content=\"Portrait\"/>\n",
       "    <link href=\"invoice.css\" media=\"print\" rel=\"stylesheet\">\n",
       "    \n",
       "    <title>Invoice</title>\n",
       "</head>\n",
       "\n",
       "<body>\n",
       "  <h1>Invoice No. 2022-01-10-01</h1>\n",
       "\n",
       "  <aside>\n",
       "    <address id=\"from\">\n",
       "      WeasyPrint\n",
       "      26 rue Emile Decorps\n",
       "      69100 Villeurbanne\n",
       "      France\n",
       "    </address>\n",
       "\n",
       "    <address id=\"to\">\n",
       "      Our awesome developers\n",
       "      From all around the world\n",
       "      Earth\n",
       "    </address>\n",
       "  </aside>\n",
       "\n",
       "  <dl id=\"informations\">\n",
       "    <dt>Invoice number</dt>\n",
       "    <dd>12345</dd>\n",
       "    <dt>Date</dt>\n",
       "    <dd>March 31, 2018</dd>\n",
       "  </dl>\n",
       "\n",
       "  <table>\n",
       "    <thead>\n",
       "      <tr>\n",
       "        <th>Description</th>\n",
       "        <th>Price</th>\n",
       "        <th>Quantity</th>\n",
       "        <th>Subtotal</th>\n",
       "      </tr>\n",
       "    </thead>\n",
       "    <tbody>\n",
       "      <tr>\n",
       "        <td>Website design</td>\n",
       "        <td>€34.20</td>\n",
       "        <td>100</td>\n",
       "        <td>€3,420.00</td>\n",
       "      </tr>\n",
       "      <tr>\n",
       "        <td>Website development</td>\n",
       "        <td>€45.50</td>\n",
       "        <td>100</td>\n",
       "        <td>€4,550.00</td>\n",
       "      </tr>\n",
       "      <tr>\n",
       "        <td>Website integration</td>\n",
       "        <td>€25.75</td>\n",
       "        <td>100</td>\n",
       "        <td>€2,575.00</td>\n",
       "      </tr>\n",
       "    </tbody>\n",
       "  </table>\n",
       "\n",
       "  <table id=\"total\">\n",
       "    <thead>\n",
       "      <tr>\n",
       "        <th>Due by</th>\n",
       "        <th>Account number</th>\n",
       "        <th>Total due</th>\n",
       "      </tr>\n",
       "    </thead>\n",
       "    <tbody>\n",
       "      <tr>\n",
       "        <td>May 10, 2018</td>\n",
       "        <td>132 456 789 012</td>\n",
       "        <td>€ 1000</td>\n",
       "      </tr>\n",
       "    </tbody>\n",
       "  </table>\n",
       "</body>\n",
       "</html>"
      ],
      "text/plain": [
       "<IPython.core.display.HTML object>"
      ]
     },
     "execution_count": 7,
     "metadata": {},
     "output_type": "execute_result"
    }
   ],
   "source": [
    "display.HTML(invoice_html)"
   ]
  },
  {
   "cell_type": "markdown",
   "metadata": {},
   "source": []
  },
  {
   "cell_type": "markdown",
   "metadata": {},
   "source": [
    "## pdfkit"
   ]
  },
  {
   "cell_type": "code",
   "execution_count": 8,
   "metadata": {},
   "outputs": [],
   "source": [
    "pdfkit_options = {\n",
    "    \"enable-local-file-access\": None,\n",
    "    \"page-size\":\"A4\",\n",
    "}"
   ]
  },
  {
   "cell_type": "code",
   "execution_count": 9,
   "metadata": {},
   "outputs": [],
   "source": [
    "css_path = pathlib.Path(\"../templates/invoice/invoice.css\").resolve()"
   ]
  },
  {
   "cell_type": "code",
   "execution_count": 10,
   "metadata": {},
   "outputs": [
    {
     "data": {
      "text/plain": [
       "True"
      ]
     },
     "execution_count": 10,
     "metadata": {},
     "output_type": "execute_result"
    }
   ],
   "source": [
    "pdfkit.from_string(\n",
    "    invoice_html, \n",
    "    '/Users/cls/Downloads/invoice_test_a4.pdf',\n",
    "    options=pdfkit_options,\n",
    "    css=css_path\n",
    ")"
   ]
  },
  {
   "cell_type": "code",
   "execution_count": 11,
   "metadata": {},
   "outputs": [
    {
     "data": {
      "text/plain": [
       "True"
      ]
     },
     "execution_count": 11,
     "metadata": {},
     "output_type": "execute_result"
    }
   ],
   "source": [
    "body = \"\"\"\n",
    "    <html>\n",
    "      <head>\n",
    "        <meta name=\"pdfkit-page-size\" content=\"A4\"/>\n",
    "        <meta name=\"pdfkit-orientation\" content=\"Portrait\"/>\n",
    "      </head>\n",
    "      Hello World!\n",
    "      </html>\n",
    "    \"\"\"\n",
    "\n",
    "pdfkit.from_string(body, \"tmp/pdfkit.pdf\")"
   ]
  },
  {
   "cell_type": "code",
   "execution_count": null,
   "metadata": {},
   "outputs": [],
   "source": []
  },
  {
   "cell_type": "code",
   "execution_count": null,
   "metadata": {},
   "outputs": [],
   "source": []
  },
  {
   "cell_type": "code",
   "execution_count": null,
   "metadata": {},
   "outputs": [],
   "source": []
  }
 ],
 "metadata": {
  "interpreter": {
   "hash": "1b2a14e316f8528313aca7083ad4a819e30957812d4a6b2b5fed00540ac717aa"
  },
  "kernelspec": {
   "display_name": "tuttle",
   "language": "python",
   "name": "ex"
  },
  "language_info": {
   "codemirror_mode": {
    "name": "ipython",
    "version": 3
   },
   "file_extension": ".py",
   "mimetype": "text/x-python",
   "name": "python",
   "nbconvert_exporter": "python",
   "pygments_lexer": "ipython3",
   "version": "3.9.7"
  }
 },
 "nbformat": 4,
 "nbformat_minor": 4
}
