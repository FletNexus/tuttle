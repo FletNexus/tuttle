{
 "cells": [
  {
   "cell_type": "code",
   "execution_count": 1,
   "metadata": {},
   "outputs": [],
   "source": [
    "from tuttle import os_functions"
   ]
  },
  {
   "cell_type": "code",
   "execution_count": 2,
   "metadata": {},
   "outputs": [
    {
     "name": "stderr",
     "output_type": "stream",
     "text": [
      "message_attachment = 0\n"
     ]
    }
   ],
   "source": [
    "os_functions.compose_email_in_app(\n",
    "    recipient=\"mail@clstaudt.me\",\n",
    "    subject=\"Test\",\n",
    "    body=\"Test\",\n",
    "    attachment_path=\"/Users/cls/Stack/monalisa.jpeg\"\n",
    ")"
   ]
  },
  {
   "cell_type": "code",
   "execution_count": null,
   "metadata": {},
   "outputs": [],
   "source": []
  }
 ],
 "metadata": {
  "kernelspec": {
   "display_name": "Python 3.10.5 ('tuttle-flet')",
   "language": "python",
   "name": "python3"
  },
  "language_info": {
   "codemirror_mode": {
    "name": "ipython",
    "version": 3
   },
   "file_extension": ".py",
   "mimetype": "text/x-python",
   "name": "python",
   "nbconvert_exporter": "python",
   "pygments_lexer": "ipython3",
   "version": "3.10.5"
  },
  "orig_nbformat": 4,
  "vscode": {
   "interpreter": {
    "hash": "5727a89f8f4826e6ce3fb9da18a08727b274ba76880924157270e222bba4a1ac"
   }
  }
 },
 "nbformat": 4,
 "nbformat_minor": 2
}
